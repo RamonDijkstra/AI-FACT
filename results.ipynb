{
 "cells": [
  {
   "cell_type": "markdown",
   "metadata": {},
   "source": [
    "# Result notebook of the experiments"
   ]
  },
  {
   "cell_type": "markdown",
   "metadata": {},
   "source": [
    "### Classification Results\n",
    "\n",
    "Run the below cells to load the best trained version of the models and observe their classification rate on the test set of the dataset they were trained on. "
   ]
  },
  {
   "cell_type": "code",
   "execution_count": 37,
   "metadata": {},
   "outputs": [],
   "source": [
    "### library imports\n",
    "\n",
    "import os\n",
    "from os import listdir\n",
    "from os.path import isfile, join\n",
    "\n",
    "# pytorch imports\n",
    "import torch\n",
    "import torch.nn as nn\n",
    "import torch.nn.functional as F\n",
    "import torch.optim as optim\n",
    "import pytorch_lightning as pl\n",
    "from pytorch_lightning.callbacks import ModelCheckpoint\n",
    "\n",
    "\n",
    "# import models\n",
    "from models.lenet.lenet import *\n",
    "from models.lenet.complex_lenet import *\n",
    "from models.resnet.resnet import *\n",
    "from models.resnet.complex_resnet import *\n",
    "from models.vgg16.vgg16 import *\n",
    "from models.vgg16.complex_vgg16 import *"
   ]
  },
  {
   "cell_type": "code",
   "execution_count": 2,
   "metadata": {},
   "outputs": [],
   "source": [
    "### Load the Datasets\n",
    "\n",
    "# import dataloaders\n",
    "from dataloaders.cifar10_loader import load_data as load_cifar10_data\n",
    "from dataloaders.cifar100_loader import load_data as load_cifar100_data\n",
    "from dataloaders.cub2011_loader import load_data as load_cub200_data\n",
    "\n",
    "### List the models we used\n",
    "model_dict = {}\n",
    "model_dict['LeNet'] = LeNet\n",
    "model_dict['Complex_LeNet'] = ComplexLeNet\n",
    "model_dict['ResNet-110'] = ResNet\n",
    "model_dict['ResNet-56'] = ResNet\n",
    "model_dict['Complex_ResNet-56'] = ComplexResNet\n",
    "model_dict['Complex_ResNet-110'] = ComplexResNet\n",
    "model_dict['VGG-16'] = VGG16\n",
    "model_dict['Complex_VGG-16'] = ComplexVGG16\n",
    "\n",
    "# initialize our dataset dictionary\n",
    "dataset_dict = {}\n",
    "dataset_dict['CIFAR-10'] = load_cifar10_data\n",
    "dataset_dict['CIFAR-100'] = load_cifar100_data\n",
    "dataset_dict['CUB-200'] = load_cub200_data\n",
    "\n"
   ]
  },
  {
   "cell_type": "code",
   "execution_count": 3,
   "metadata": {},
   "outputs": [],
   "source": [
    "# Function for loading dataset\n",
    "\n",
    "def load_data(dataset='CIFAR-10', batch_size=256, num_workers=0):\n",
    "    \"\"\"\n",
    "    Function for loading a dataset based on the given command line arguments.\n",
    "\n",
    "    Inputs:\n",
    "        dataset - String indicating the dataset to use. Default = 'CIFAR-10'\n",
    "        batch_size - Int indicating the size of the mini batches. Default = 256\n",
    "        num_workers - Int indicating the number of workers to use in the\n",
    "            dataloader. Default = 0 (truly deterministic)\n",
    "    \"\"\"\n",
    "\n",
    "    # load the dataset if possible\n",
    "    if dataset in dataset_dict:\n",
    "        return dataset_dict[dataset](batch_size, num_workers)\n",
    "    # alert the user if the given dataset does not exist\n",
    "    else:\n",
    "        assert False, \"Unknown dataset name \\\"%s\\\". Available datasets are: %s\" % (dataset, str(dataset_dict.keys()))"
   ]
  },
  {
   "cell_type": "code",
   "execution_count": 4,
   "metadata": {},
   "outputs": [],
   "source": [
    "##Function for initializing models\n",
    "def initialize_model(model='Complex_LeNet', num_classes=10, lr=3e-4, k=2):\n",
    "    \"\"\"\n",
    "    Function for initializing a model based on the given command line arguments.\n",
    "\n",
    "    Inputs:\n",
    "        model - String indicating the model to use. Default = 'Complex_LeNet'\n",
    "        num_classes - Int indicating the number of classes. Default = 10\n",
    "        lr - Float indicating the optimizer learning rate. Default = 3e-4\n",
    "        k - Level of anonimity. k-1 fake features are generated\n",
    "            to train the discriminator. Default = 2\n",
    "    \"\"\"\n",
    "\n",
    "    # initialize the model if possible\n",
    "    if model == \"Complex_ResNet-110\" or model == \"ResNet-110\":\n",
    "        return model_dict[model](num_classes, k, lr, num_blocks = [37,36,36])\n",
    "    elif model == \"Complex_ResNet-56\" or model == \"ResNet-56\":\n",
    "        return model_dict[model](num_classes, k, lr, num_blocks = [19,18,18])\n",
    "    elif model in model_dict:\n",
    "        return model_dict[model](num_classes, k, lr)\n",
    "    # alert the user if the given model does not exist\n",
    "    else:\n",
    "        assert False, \"Unknown model name \\\"%s\\\". Available models are: %s\" % (model, str(model_dict.keys()))\n",
    "        \n",
    "#Initialize dictionairy for results per model\n",
    "resultDict = {}"
   ]
  },
  {
   "cell_type": "markdown",
   "metadata": {},
   "source": [
    "### LeNet"
   ]
  },
  {
   "cell_type": "code",
   "execution_count": 5,
   "metadata": {},
   "outputs": [
    {
     "name": "stdout",
     "output_type": "stream",
     "text": [
      "----- MODEL SUMMARY -----\n",
      "Model: LeNet\n",
      "Dataset: Cifar-10\n",
      "Epochs: 3\n",
      "K value: 2\n",
      "Learning rate: 1e3 \n",
      "Batch size: 512\n",
      "-------------------------\n",
      "Files already downloaded and verified\n",
      "Files already downloaded and verified\n"
     ]
    },
    {
     "name": "stderr",
     "output_type": "stream",
     "text": [
      "GPU available: True, used: True\n",
      "TPU available: False, using: 0 TPU cores\n",
      "LOCAL_RANK: 0 - CUDA_VISIBLE_DEVICES: [0]\n"
     ]
    },
    {
     "name": "stdout",
     "output_type": "stream",
     "text": [
      "Loading model..\n",
      "Model successfully loaded\n",
      "Testing model..\n"
     ]
    },
    {
     "data": {
      "application/vnd.jupyter.widget-view+json": {
       "model_id": "fef2ed66c100480e98c1350e72aef476",
       "version_major": 2,
       "version_minor": 0
      },
      "text/plain": [
       "HBox(children=(HTML(value='Testing'), FloatProgress(value=1.0, bar_style='info', layout=Layout(flex='2'), max=…"
      ]
     },
     "metadata": {},
     "output_type": "display_data"
    },
    {
     "name": "stdout",
     "output_type": "stream",
     "text": [
      "--------------------------------------------------------------------------------\n",
      "DATALOADER:0 TEST RESULTS\n",
      "{'test_acc': tensor(0.6300, device='cuda:0'),\n",
      " 'test_loss': tensor(1.1013, device='cuda:0')}\n",
      "--------------------------------------------------------------------------------\n",
      "\n",
      "Testing successfull\n"
     ]
    }
   ],
   "source": [
    "# print the most important arguments given by the user\n",
    "print('----- MODEL SUMMARY -----')\n",
    "print('Model: LeNet')\n",
    "print('Dataset: Cifar-10')\n",
    "print('Epochs: ' + str(3)) ## AANVULLEN\n",
    "print('K value: 2')\n",
    "print('Learning rate: 1e3 ')\n",
    "print('Batch size: 512')\n",
    "print('-------------------------')\n",
    "\n",
    "    # load the data from the dataloader\n",
    "num_classes, trainloader, valloader, testloader = load_data(\n",
    "       'CIFAR-10', 512, 0\n",
    "    )\n",
    "trainer = pl.Trainer(\n",
    "                        gpus=1 if torch.cuda.is_available() else 0,\n",
    "                        max_epochs=1000,\n",
    "                        progress_bar_refresh_rate=1)\n",
    "\n",
    "# seed for reproducability\n",
    "pl.seed_everything(42)\n",
    "\n",
    "    # initialize the model\n",
    "device = torch.device(\"cuda:0\" if torch.cuda.is_available() else \"cpu\")\n",
    "model = initialize_model('LeNet', num_classes, 1e-3, 2)\n",
    "\n",
    "   \n",
    "# load the saved model\n",
    "print('Loading model..')\n",
    "model.load_state_dict(torch.load('./saved_models/LeNet_save'))\n",
    "print('Model successfully loaded')\n",
    "print('Testing model..')\n",
    "out = trainer.test(model=model, test_dataloaders=testloader)\n",
    "print('Testing successfull')\n",
    "\n",
    "resultDict['LeNet'] = out[0]"
   ]
  },
  {
   "cell_type": "markdown",
   "metadata": {},
   "source": [
    "### Complex LeNet"
   ]
  },
  {
   "cell_type": "code",
   "execution_count": 6,
   "metadata": {},
   "outputs": [
    {
     "name": "stdout",
     "output_type": "stream",
     "text": [
      "----- MODEL SUMMARY -----\n",
      "Model: Complex LeNet\n",
      "Dataset: Cifar-10\n",
      "K value: 2\n",
      "Learning rate: 1e3 \n",
      "Batch size: 512\n",
      "-------------------------\n",
      "Files already downloaded and verified\n",
      "Files already downloaded and verified\n"
     ]
    },
    {
     "name": "stderr",
     "output_type": "stream",
     "text": [
      "GPU available: True, used: True\n",
      "TPU available: False, using: 0 TPU cores\n",
      "LOCAL_RANK: 0 - CUDA_VISIBLE_DEVICES: [0]\n"
     ]
    },
    {
     "name": "stdout",
     "output_type": "stream",
     "text": [
      "Loading model..\n",
      "Model successfully loaded\n",
      "Testing model..\n"
     ]
    },
    {
     "data": {
      "application/vnd.jupyter.widget-view+json": {
       "model_id": "f2dc68520d3f4c1fa632e89284e057e6",
       "version_major": 2,
       "version_minor": 0
      },
      "text/plain": [
       "HBox(children=(HTML(value='Testing'), FloatProgress(value=1.0, bar_style='info', layout=Layout(flex='2'), max=…"
      ]
     },
     "metadata": {},
     "output_type": "display_data"
    },
    {
     "name": "stdout",
     "output_type": "stream",
     "text": [
      "--------------------------------------------------------------------------------\n",
      "DATALOADER:0 TEST RESULTS\n",
      "{'test_acc': tensor(0.5044, device='cuda:0'),\n",
      " 'test_generator_loss': tensor(0.3604, device='cuda:0'),\n",
      " 'test_model_loss': tensor(1.4021, device='cuda:0'),\n",
      " 'test_total-loss': tensor(1.7625, device='cuda:0')}\n",
      "--------------------------------------------------------------------------------\n",
      "\n",
      "Testing successfull\n"
     ]
    }
   ],
   "source": [
    "# print the most important arguments given by the user\n",
    "print('----- MODEL SUMMARY -----')\n",
    "print('Model: Complex LeNet')\n",
    "print('Dataset: Cifar-10')\n",
    "print('K value: 2')\n",
    "print('Learning rate: 1e3 ')\n",
    "print('Batch size: 512')\n",
    "print('-------------------------')\n",
    "\n",
    "    # load the data from the dataloader\n",
    "num_classes, trainloader, valloader, testloader = load_data(\n",
    "       'CIFAR-10', 512, 0\n",
    "    )\n",
    "trainer = pl.Trainer(\n",
    "                        gpus=1 if torch.cuda.is_available() else 0,\n",
    "                        max_epochs=1000,\n",
    "                        progress_bar_refresh_rate=1)\n",
    "\n",
    "# seed for reproducability\n",
    "pl.seed_everything(42)\n",
    "\n",
    "    # initialize the model\n",
    "device = torch.device(\"cuda:0\" if torch.cuda.is_available() else \"cpu\")\n",
    "model = initialize_model('Complex_LeNet', num_classes, 1e-3, 2)\n",
    "\n",
    "   \n",
    "# load the saved model\n",
    "print('Loading model..')\n",
    "model.load_state_dict(torch.load('./saved_models/Complex_LeNet_save'))\n",
    "print('Model successfully loaded')\n",
    "print('Testing model..')\n",
    "out = trainer.test(model=model, test_dataloaders=testloader)\n",
    "print('Testing successfull')\n",
    "\n",
    "resultDict['Complex_LeNet'] = out[0]"
   ]
  },
  {
   "cell_type": "markdown",
   "metadata": {},
   "source": [
    "### ResNet-56"
   ]
  },
  {
   "cell_type": "code",
   "execution_count": 7,
   "metadata": {},
   "outputs": [
    {
     "name": "stdout",
     "output_type": "stream",
     "text": [
      "----- MODEL SUMMARY -----\n",
      "Model: ResNet-56\n",
      "Dataset: Cifar-100\n",
      "K value: 2\n",
      "Learning rate: 1e3 \n",
      "Batch size: 512\n",
      "-------------------------\n",
      "Files already downloaded and verified\n",
      "Files already downloaded and verified\n"
     ]
    },
    {
     "name": "stderr",
     "output_type": "stream",
     "text": [
      "GPU available: True, used: True\n",
      "TPU available: False, using: 0 TPU cores\n",
      "LOCAL_RANK: 0 - CUDA_VISIBLE_DEVICES: [0]\n"
     ]
    },
    {
     "name": "stdout",
     "output_type": "stream",
     "text": [
      "Loading model..\n",
      "Model successfully loaded\n",
      "Testing model..\n"
     ]
    },
    {
     "data": {
      "application/vnd.jupyter.widget-view+json": {
       "model_id": "9268f5bfc409406a8515f09e57164d7c",
       "version_major": 2,
       "version_minor": 0
      },
      "text/plain": [
       "HBox(children=(HTML(value='Testing'), FloatProgress(value=1.0, bar_style='info', layout=Layout(flex='2'), max=…"
      ]
     },
     "metadata": {},
     "output_type": "display_data"
    },
    {
     "name": "stdout",
     "output_type": "stream",
     "text": [
      "--------------------------------------------------------------------------------\n",
      "DATALOADER:0 TEST RESULTS\n",
      "{'test_acc': tensor(0.2952, device='cuda:0'),\n",
      " 'test_loss': tensor(3.1712, device='cuda:0')}\n",
      "--------------------------------------------------------------------------------\n",
      "\n",
      "Testing successfull\n"
     ]
    }
   ],
   "source": [
    "# print the most important arguments given by the user\n",
    "print('----- MODEL SUMMARY -----')\n",
    "print('Model: ResNet-56')\n",
    "print('Dataset: Cifar-100')\n",
    "print('K value: 2')\n",
    "print('Learning rate: 1e3 ')\n",
    "print('Batch size: 512')\n",
    "print('-------------------------')\n",
    "\n",
    "    # load the data from the dataloader\n",
    "num_classes, trainloader, valloader, testloader = load_data(\n",
    "       'CIFAR-100', 512, 0\n",
    "    )\n",
    "trainer = pl.Trainer(\n",
    "                        gpus=1 if torch.cuda.is_available() else 0,\n",
    "                        max_epochs=1000,\n",
    "                        progress_bar_refresh_rate=1)\n",
    "\n",
    "# seed for reproducability\n",
    "pl.seed_everything(42)\n",
    "\n",
    "    # initialize the model\n",
    "device = torch.device(\"cuda:0\" if torch.cuda.is_available() else \"cpu\")\n",
    "model = initialize_model('ResNet-56', num_classes, 1e-3, 2)\n",
    "\n",
    "   \n",
    "# load the saved model\n",
    "print('Loading model..')\n",
    "model.load_state_dict(torch.load('./saved_models/ResNet-56_save'))\n",
    "print('Model successfully loaded')\n",
    "print('Testing model..')\n",
    "out = trainer.test(model=model, test_dataloaders=testloader)\n",
    "print('Testing successfull')\n",
    "\n",
    "resultDict['ResNet-56'] = out[0]"
   ]
  },
  {
   "cell_type": "markdown",
   "metadata": {},
   "source": [
    "### Complex ResNet-56"
   ]
  },
  {
   "cell_type": "code",
   "execution_count": 8,
   "metadata": {},
   "outputs": [
    {
     "name": "stdout",
     "output_type": "stream",
     "text": [
      "----- MODEL SUMMARY -----\n",
      "Model: Complex ResNet-56\n",
      "Dataset: Cifar-100\n",
      "K value: 2\n",
      "Learning rate: 1e3 \n",
      "Batch size: 512\n",
      "-------------------------\n",
      "Files already downloaded and verified\n",
      "Files already downloaded and verified\n"
     ]
    },
    {
     "name": "stderr",
     "output_type": "stream",
     "text": [
      "GPU available: True, used: True\n",
      "TPU available: False, using: 0 TPU cores\n",
      "LOCAL_RANK: 0 - CUDA_VISIBLE_DEVICES: [0]\n"
     ]
    },
    {
     "name": "stdout",
     "output_type": "stream",
     "text": [
      "Loading model..\n",
      "Model successfully loaded\n",
      "Testing model..\n"
     ]
    },
    {
     "data": {
      "application/vnd.jupyter.widget-view+json": {
       "model_id": "b2428c39dd774cac8acb665c67170a10",
       "version_major": 2,
       "version_minor": 0
      },
      "text/plain": [
       "HBox(children=(HTML(value='Testing'), FloatProgress(value=1.0, bar_style='info', layout=Layout(flex='2'), max=…"
      ]
     },
     "metadata": {},
     "output_type": "display_data"
    },
    {
     "name": "stdout",
     "output_type": "stream",
     "text": [
      "--------------------------------------------------------------------------------\n",
      "DATALOADER:0 TEST RESULTS\n",
      "{'test_acc': tensor(0.1500, device='cuda:0'),\n",
      " 'test_generator_loss': tensor(0.4614, device='cuda:0'),\n",
      " 'test_model_loss': tensor(3.6868, device='cuda:0'),\n",
      " 'test_total-loss': tensor(4.1482, device='cuda:0')}\n",
      "--------------------------------------------------------------------------------\n",
      "\n",
      "Testing successfull\n"
     ]
    }
   ],
   "source": [
    "# print the most important arguments given by the user\n",
    "print('----- MODEL SUMMARY -----')\n",
    "print('Model: Complex ResNet-56')\n",
    "print('Dataset: Cifar-100')\n",
    "print('K value: 2')\n",
    "print('Learning rate: 1e3 ')\n",
    "print('Batch size: 512')\n",
    "print('-------------------------')\n",
    "\n",
    "    # load the data from the dataloader\n",
    "num_classes, trainloader, valloader, testloader = load_data(\n",
    "       'CIFAR-100', 512, 0\n",
    "    )\n",
    "trainer = pl.Trainer(\n",
    "                        gpus=1 if torch.cuda.is_available() else 0,\n",
    "                        max_epochs=1000,\n",
    "                        progress_bar_refresh_rate=1)\n",
    "\n",
    "# seed for reproducability\n",
    "pl.seed_everything(42)\n",
    "\n",
    "    # initialize the model\n",
    "device = torch.device(\"cuda:0\" if torch.cuda.is_available() else \"cpu\")\n",
    "model = initialize_model('Complex_ResNet-56', num_classes, 1e-3, 2)\n",
    "\n",
    "   \n",
    "# load the saved model\n",
    "print('Loading model..')\n",
    "model.load_state_dict(torch.load('./saved_models/Complex_ResNet-56_save'))\n",
    "print('Model successfully loaded')\n",
    "print('Testing model..')\n",
    "out = trainer.test(model=model, test_dataloaders=testloader)\n",
    "print('Testing successfull')\n",
    "\n",
    "resultDict['Complex_ResNet-56'] = out[0]"
   ]
  },
  {
   "cell_type": "markdown",
   "metadata": {},
   "source": [
    "### ResNet-110"
   ]
  },
  {
   "cell_type": "code",
   "execution_count": 9,
   "metadata": {},
   "outputs": [
    {
     "name": "stdout",
     "output_type": "stream",
     "text": [
      "----- MODEL SUMMARY -----\n",
      "Model: ResNet-110\n",
      "Dataset: Cifar-100\n",
      "K value: 2\n",
      "Learning rate: 1e3 \n",
      "Batch size: 512\n",
      "-------------------------\n",
      "Files already downloaded and verified\n",
      "Files already downloaded and verified\n"
     ]
    },
    {
     "name": "stderr",
     "output_type": "stream",
     "text": [
      "GPU available: True, used: True\n",
      "TPU available: False, using: 0 TPU cores\n",
      "LOCAL_RANK: 0 - CUDA_VISIBLE_DEVICES: [0]\n"
     ]
    },
    {
     "name": "stdout",
     "output_type": "stream",
     "text": [
      "Loading model..\n",
      "Model successfully loaded\n",
      "Testing model..\n"
     ]
    },
    {
     "data": {
      "application/vnd.jupyter.widget-view+json": {
       "model_id": "bdad0e67dc094eea951a1bb3abdc13c6",
       "version_major": 2,
       "version_minor": 0
      },
      "text/plain": [
       "HBox(children=(HTML(value='Testing'), FloatProgress(value=1.0, bar_style='info', layout=Layout(flex='2'), max=…"
      ]
     },
     "metadata": {},
     "output_type": "display_data"
    },
    {
     "name": "stdout",
     "output_type": "stream",
     "text": [
      "--------------------------------------------------------------------------------\n",
      "DATALOADER:0 TEST RESULTS\n",
      "{'test_acc': tensor(0.2700, device='cuda:0'),\n",
      " 'test_loss': tensor(3.0797, device='cuda:0')}\n",
      "--------------------------------------------------------------------------------\n",
      "\n",
      "Testing successfull\n"
     ]
    }
   ],
   "source": [
    "# print the most important arguments given by the user\n",
    "print('----- MODEL SUMMARY -----')\n",
    "print('Model: ResNet-110')\n",
    "print('Dataset: Cifar-100')\n",
    "print('K value: 2')\n",
    "print('Learning rate: 1e3 ')\n",
    "print('Batch size: 512')\n",
    "print('-------------------------')\n",
    "\n",
    "    # load the data from the dataloader\n",
    "num_classes, trainloader, valloader, testloader = load_data(\n",
    "       'CIFAR-100', 512, 0\n",
    "    )\n",
    "trainer = pl.Trainer(\n",
    "                        gpus=1 if torch.cuda.is_available() else 0,\n",
    "                        max_epochs=1000,\n",
    "                        progress_bar_refresh_rate=1)\n",
    "\n",
    "# seed for reproducability\n",
    "pl.seed_everything(42)\n",
    "\n",
    "    # initialize the model\n",
    "device = torch.device(\"cuda:0\" if torch.cuda.is_available() else \"cpu\")\n",
    "model = initialize_model('ResNet-110', num_classes, 1e-3, 2)\n",
    "\n",
    "   \n",
    "# load the saved model\n",
    "print('Loading model..')\n",
    "model.load_state_dict(torch.load('./saved_models/ResNet-110_save'))\n",
    "print('Model successfully loaded')\n",
    "print('Testing model..')\n",
    "out = trainer.test(model=model, test_dataloaders=testloader)\n",
    "print('Testing successfull')\n",
    "\n",
    "resultDict['ResNet-110'] = out[0]"
   ]
  },
  {
   "cell_type": "markdown",
   "metadata": {},
   "source": [
    "### Complex ResNet-110"
   ]
  },
  {
   "cell_type": "code",
   "execution_count": 10,
   "metadata": {},
   "outputs": [
    {
     "name": "stdout",
     "output_type": "stream",
     "text": [
      "----- MODEL SUMMARY -----\n",
      "Model: Complex ResNet-110\n",
      "Dataset: Cifar-100\n",
      "K value: 2\n",
      "Learning rate: 1e3 \n",
      "Batch size: 512\n",
      "-------------------------\n",
      "Files already downloaded and verified\n",
      "Files already downloaded and verified\n"
     ]
    },
    {
     "name": "stderr",
     "output_type": "stream",
     "text": [
      "GPU available: True, used: True\n",
      "TPU available: False, using: 0 TPU cores\n",
      "LOCAL_RANK: 0 - CUDA_VISIBLE_DEVICES: [0]\n"
     ]
    },
    {
     "name": "stdout",
     "output_type": "stream",
     "text": [
      "Loading model..\n",
      "Model successfully loaded\n",
      "Testing model..\n"
     ]
    },
    {
     "data": {
      "application/vnd.jupyter.widget-view+json": {
       "model_id": "b2839ef054d443b18cfa5275ae97ab19",
       "version_major": 2,
       "version_minor": 0
      },
      "text/plain": [
       "HBox(children=(HTML(value='Testing'), FloatProgress(value=1.0, bar_style='info', layout=Layout(flex='2'), max=…"
      ]
     },
     "metadata": {},
     "output_type": "display_data"
    },
    {
     "name": "stdout",
     "output_type": "stream",
     "text": [
      "--------------------------------------------------------------------------------\n",
      "DATALOADER:0 TEST RESULTS\n",
      "{'test_acc': tensor(0.1112, device='cuda:0'),\n",
      " 'test_generator_loss': tensor(0.4549, device='cuda:0'),\n",
      " 'test_model_loss': tensor(3.9579, device='cuda:0'),\n",
      " 'test_total-loss': tensor(4.4129, device='cuda:0')}\n",
      "--------------------------------------------------------------------------------\n",
      "\n",
      "Testing successfull\n"
     ]
    }
   ],
   "source": [
    "# print the most important arguments given by the user\n",
    "print('----- MODEL SUMMARY -----')\n",
    "print('Model: Complex ResNet-110')\n",
    "print('Dataset: Cifar-100')\n",
    "print('K value: 2')\n",
    "print('Learning rate: 1e3 ')\n",
    "print('Batch size: 512')\n",
    "print('-------------------------')\n",
    "\n",
    "    # load the data from the dataloader\n",
    "num_classes, trainloader, valloader, testloader = load_data(\n",
    "       'CIFAR-100', 512, 0\n",
    "    )\n",
    "trainer = pl.Trainer(\n",
    "                        gpus=1 if torch.cuda.is_available() else 0,\n",
    "                        max_epochs=1000,\n",
    "                        progress_bar_refresh_rate=1)\n",
    "\n",
    "# seed for reproducability\n",
    "pl.seed_everything(42)\n",
    "\n",
    "    # initialize the model\n",
    "device = torch.device(\"cuda:0\" if torch.cuda.is_available() else \"cpu\")\n",
    "model = initialize_model('Complex_ResNet-110', num_classes, 1e-3, 2)\n",
    "\n",
    "   \n",
    "# load the saved model\n",
    "print('Loading model..')\n",
    "model.load_state_dict(torch.load('./saved_models/Complex_ResNet-110_save'))\n",
    "print('Model successfully loaded')\n",
    "print('Testing model..')\n",
    "out = trainer.test(model=model, test_dataloaders=testloader)\n",
    "print('Testing successfull')\n",
    "\n",
    "resultDict['Complex_ResNet-110'] = out[0]"
   ]
  },
  {
   "cell_type": "markdown",
   "metadata": {},
   "source": [
    "### VGG-16"
   ]
  },
  {
   "cell_type": "code",
   "execution_count": 11,
   "metadata": {},
   "outputs": [
    {
     "name": "stdout",
     "output_type": "stream",
     "text": [
      "----- MODEL SUMMARY -----\n",
      "Model: VGG-16\n",
      "Dataset: CUB-200\n",
      "K value: 2\n",
      "Learning rate: 1e3 \n",
      "Batch size: 256\n",
      "-------------------------\n"
     ]
    },
    {
     "name": "stderr",
     "output_type": "stream",
     "text": [
      "GPU available: True, used: True\n",
      "TPU available: False, using: 0 TPU cores\n",
      "LOCAL_RANK: 0 - CUDA_VISIBLE_DEVICES: [0]\n"
     ]
    },
    {
     "name": "stdout",
     "output_type": "stream",
     "text": [
      "Loading model..\n",
      "Model successfully loaded\n",
      "Testing model..\n"
     ]
    },
    {
     "data": {
      "application/vnd.jupyter.widget-view+json": {
       "model_id": "c363a59df77841529c3b3a558a22f8ff",
       "version_major": 2,
       "version_minor": 0
      },
      "text/plain": [
       "HBox(children=(HTML(value='Testing'), FloatProgress(value=1.0, bar_style='info', layout=Layout(flex='2'), max=…"
      ]
     },
     "metadata": {},
     "output_type": "display_data"
    },
    {
     "name": "stdout",
     "output_type": "stream",
     "text": [
      "--------------------------------------------------------------------------------\n",
      "DATALOADER:0 TEST RESULTS\n",
      "{'test_acc': tensor(0.7614, device='cuda:0'),\n",
      " 'test_loss': tensor(2.5681, device='cuda:0')}\n",
      "--------------------------------------------------------------------------------\n",
      "\n",
      "Testing successfull\n"
     ]
    }
   ],
   "source": [
    "# print the most important arguments given by the user\n",
    "print('----- MODEL SUMMARY -----')\n",
    "print('Model: VGG-16')\n",
    "print('Dataset: CUB-200')\n",
    "print('K value: 2')\n",
    "print('Learning rate: 1e3 ')\n",
    "print('Batch size: 256')\n",
    "print('-------------------------')\n",
    "\n",
    "    # load the data from the dataloader\n",
    "num_classes, trainloader, valloader, testloader = load_data(\n",
    "       'CUB-200', 64, 0\n",
    "    )\n",
    "\n",
    "trainer = pl.Trainer(\n",
    "                        gpus=1 if torch.cuda.is_available() else 0,\n",
    "                        max_epochs=1000,\n",
    "                        progress_bar_refresh_rate=1)\n",
    "\n",
    "# seed for reproducability\n",
    "pl.seed_everything(42)\n",
    "\n",
    "    # initialize the model\n",
    "device = torch.device(\"cuda:0\" if torch.cuda.is_available() else \"cpu\")\n",
    "model = initialize_model('VGG-16', num_classes, 1e-3, 2)\n",
    "\n",
    "   \n",
    "# load the saved model\n",
    "print('Loading model..')\n",
    "model.load_state_dict(torch.load('./saved_models/VGG-16_save'))\n",
    "print('Model successfully loaded')\n",
    "print('Testing model..')\n",
    "out = trainer.test(model=model, test_dataloaders=testloader)\n",
    "print('Testing successfull')\n",
    "\n",
    "resultDict['VGG-16'] = out[0]"
   ]
  },
  {
   "cell_type": "markdown",
   "metadata": {},
   "source": [
    "### Complex VGG-16"
   ]
  },
  {
   "cell_type": "code",
   "execution_count": 12,
   "metadata": {},
   "outputs": [
    {
     "name": "stdout",
     "output_type": "stream",
     "text": [
      "----- MODEL SUMMARY -----\n",
      "Model: Complex VGG-16\n",
      "Dataset: CUB-200\n",
      "K value: 2\n",
      "Learning rate: 1e3 \n",
      "Batch size: 256\n",
      "-------------------------\n"
     ]
    },
    {
     "name": "stderr",
     "output_type": "stream",
     "text": [
      "GPU available: True, used: True\n",
      "TPU available: False, using: 0 TPU cores\n",
      "LOCAL_RANK: 0 - CUDA_VISIBLE_DEVICES: [0]\n"
     ]
    },
    {
     "name": "stdout",
     "output_type": "stream",
     "text": [
      "Loading model..\n",
      "Model successfully loaded\n",
      "Testing model..\n"
     ]
    },
    {
     "data": {
      "application/vnd.jupyter.widget-view+json": {
       "model_id": "cba67a2fdd35499a82846272f682a29e",
       "version_major": 2,
       "version_minor": 0
      },
      "text/plain": [
       "HBox(children=(HTML(value='Testing'), FloatProgress(value=1.0, bar_style='info', layout=Layout(flex='2'), max=…"
      ]
     },
     "metadata": {},
     "output_type": "display_data"
    },
    {
     "name": "stdout",
     "output_type": "stream",
     "text": [
      "--------------------------------------------------------------------------------\n",
      "DATALOADER:0 TEST RESULTS\n",
      "{'test_acc': tensor(0.0062, device='cuda:0'),\n",
      " 'test_generator_loss': tensor(0.4775, device='cuda:0'),\n",
      " 'test_model_loss': tensor(5.3035, device='cuda:0'),\n",
      " 'test_total-loss': tensor(5.7809, device='cuda:0')}\n",
      "--------------------------------------------------------------------------------\n",
      "\n",
      "Testing successfull\n"
     ]
    }
   ],
   "source": [
    "# print the most important arguments given by the user\n",
    "print('----- MODEL SUMMARY -----')\n",
    "print('Model: Complex VGG-16')\n",
    "print('Dataset: CUB-200')\n",
    "print('K value: 2')\n",
    "print('Learning rate: 1e3 ')\n",
    "print('Batch size: 256')\n",
    "print('-------------------------')\n",
    "\n",
    "    # load the data from the dataloader\n",
    "num_classes, trainloader, valloader, testloader = load_data(\n",
    "       'CUB-200', 64, 0\n",
    "    )\n",
    "trainer = pl.Trainer(\n",
    "                        gpus=1 if torch.cuda.is_available() else 0,\n",
    "                        max_epochs=1000,\n",
    "                        progress_bar_refresh_rate=1)\n",
    "\n",
    "# seed for reproducability\n",
    "pl.seed_everything(42)\n",
    "\n",
    "    # initialize the model\n",
    "device = torch.device(\"cuda:0\" if torch.cuda.is_available() else \"cpu\")\n",
    "model = initialize_model('Complex_VGG-16', num_classes, 1e-3, 2)\n",
    "\n",
    "   \n",
    "# load the saved model\n",
    "print('Loading model..')\n",
    "model.load_state_dict(torch.load('./saved_models/Complex_VGG-16_save'))\n",
    "print('Model successfully loaded')\n",
    "print('Testing model..')\n",
    "out = trainer.test(model=model, test_dataloaders=testloader)\n",
    "print('Testing successfull')\n",
    "\n",
    "resultDict['Complex_VGG-16'] = out[0]"
   ]
  },
  {
   "cell_type": "markdown",
   "metadata": {},
   "source": [
    "### Summary of the classification errors"
   ]
  },
  {
   "cell_type": "code",
   "execution_count": 36,
   "metadata": {},
   "outputs": [
    {
     "name": "stdout",
     "output_type": "stream",
     "text": [
      "Classification error rates\n",
      "Model name \t Dataset \t Original DNN \t \t Complex DNN\n",
      "LeNet \t \t CIFAR-10\t\t0.37\t\t\t0.496\n",
      "ResNet-56   \t CIFAR-100\t\t0.705\t\t\t0.85\n",
      "ResNet-110 \t CIFAR-100\t\t0.73\t\t\t0.889\n",
      "VGG-16 \t  \t CUB-200\t\t0.239\t\t\t0.994\n"
     ]
    }
   ],
   "source": [
    "print('Classification error rates')\n",
    "print('Model name \\t Dataset \\t Original DNN \\t \\t Complex DNN')\n",
    "print('LeNet \\t \\t CIFAR-10'+ '\\t' + '\\t' + str(round(1-resultDict['LeNet']['test_acc'],3)) + '\\t' + '\\t' + '\\t' + str(round(1-resultDict['Complex_LeNet']['test_acc'],3)))\n",
    "print('ResNet-56   \\t CIFAR-100' + '\\t' + '\\t'+ str(round(1-resultDict['ResNet-56']['test_acc'],3)) + '\\t' + '\\t' + '\\t' + str(round(1-resultDict['Complex_ResNet-56']['test_acc'],3)))\n",
    "print('ResNet-110 \\t CIFAR-100' +  '\\t' + '\\t'+ str(round(1-resultDict['ResNet-110']['test_acc'],3)) + '\\t' + '\\t' + '\\t' + str(round(1-resultDict['Complex_ResNet-110']['test_acc'],3)))\n",
    "print('VGG-16 \\t  \\t CUB-200' +   '\\t' + '\\t'+ str(round(1-resultDict['VGG-16']['test_acc'],3)) + '\\t' + '\\t' + '\\t' + str(round(1-resultDict['Complex_VGG-16']['test_acc'],3)))"
   ]
  },
  {
   "cell_type": "markdown",
   "metadata": {},
   "source": [
    "# Atacker results"
   ]
  },
  {
   "cell_type": "markdown",
   "metadata": {},
   "source": [
    "Run the below cells to observe the reconstruction errors for the respective models when data is intercepted by the attacker, both for the original models and for the model with obfuscated features."
   ]
  },
  {
   "cell_type": "code",
   "execution_count": 14,
   "metadata": {},
   "outputs": [],
   "source": [
    "#Import for attacker\n",
    "\n",
    "from models.attackers.inversion_attacker_2 import *\n",
    "\n",
    "\n",
    "# Initialize a dictionary for the attacker results\n",
    "attackerDict = {}\n",
    "\n"
   ]
  },
  {
   "cell_type": "markdown",
   "metadata": {},
   "source": [
    "### LeNet"
   ]
  },
  {
   "cell_type": "code",
   "execution_count": 19,
   "metadata": {},
   "outputs": [
    {
     "name": "stdout",
     "output_type": "stream",
     "text": [
      "Files already downloaded and verified\n",
      "Files already downloaded and verified\n"
     ]
    },
    {
     "name": "stderr",
     "output_type": "stream",
     "text": [
      "GPU available: True, used: True\n",
      "TPU available: False, using: 0 TPU cores\n",
      "LOCAL_RANK: 0 - CUDA_VISIBLE_DEVICES: [0]\n"
     ]
    },
    {
     "name": "stdout",
     "output_type": "stream",
     "text": [
      "Loading attacker model..\n",
      "Attacker model successfully loaded\n",
      "Testing attacker model..\n"
     ]
    },
    {
     "data": {
      "application/vnd.jupyter.widget-view+json": {
       "model_id": "e0c71d1717674909a3a0d670f885cffd",
       "version_major": 2,
       "version_minor": 0
      },
      "text/plain": [
       "HBox(children=(HTML(value='Testing'), FloatProgress(value=1.0, bar_style='info', layout=Layout(flex='2'), max=…"
      ]
     },
     "metadata": {},
     "output_type": "display_data"
    },
    {
     "name": "stdout",
     "output_type": "stream",
     "text": [
      "--------------------------------------------------------------------------------\n",
      "DATALOADER:0 TEST RESULTS\n",
      "{'Non-obfuscated - reconstruction_error': tensor(0.2278, device='cuda:0'),\n",
      " 'Obfuscated - reconstruction_error': tensor(0.4435, device='cuda:0')}\n",
      "--------------------------------------------------------------------------------\n",
      "\n",
      "Testing successfull\n"
     ]
    }
   ],
   "source": [
    "classes, trainloader, valloader, testloader = load_data(\n",
    "        'CIFAR-10', 128, 0\n",
    "    )\n",
    "\n",
    "trainer = pl.Trainer(\n",
    "                    gpus=1 if torch.cuda.is_available() else 0,\n",
    "                    max_epochs=1000,\n",
    "                    progress_bar_refresh_rate=1)\n",
    "\n",
    "# seed for reproducability\n",
    "pl.seed_everything(42)\n",
    "\n",
    "device = torch.device(\"cuda:0\" if torch.cuda.is_available() else \"cpu\")\n",
    "\n",
    "gan_model = initialize_model('Complex_LeNet', 10, 1e-3, 2)\n",
    "gan_model.load_state_dict(torch.load('./saved_models/Complex_LeNet_save'))\n",
    "generator = gan_model.encoder.generator\n",
    "conv = gan_model.encoder.generator.encoding_layer\n",
    "\n",
    "model = UNet(generator=generator, num_channels=3,enc_chs=(6,64,128,256,512), lr=1e-3, encoding_layer=conv)\n",
    "\n",
    "print('Loading attacker model..')\n",
    "model.load_state_dict(torch.load('./saved_attackers/Complex_LeNetAttacker_save'))\n",
    "print('Attacker model successfully loaded')\n",
    "print('Testing attacker model..')\n",
    "out = trainer.test(model=model, test_dataloaders=testloader)\n",
    "print('Testing successfull')\n",
    "\n",
    "attackerDict['LeNet'] = out[0]"
   ]
  },
  {
   "cell_type": "markdown",
   "metadata": {},
   "source": [
    "### ResNet-56"
   ]
  },
  {
   "cell_type": "code",
   "execution_count": 18,
   "metadata": {},
   "outputs": [
    {
     "name": "stdout",
     "output_type": "stream",
     "text": [
      "Files already downloaded and verified\n",
      "Files already downloaded and verified\n"
     ]
    },
    {
     "name": "stderr",
     "output_type": "stream",
     "text": [
      "GPU available: True, used: True\n",
      "TPU available: False, using: 0 TPU cores\n",
      "LOCAL_RANK: 0 - CUDA_VISIBLE_DEVICES: [0]\n"
     ]
    },
    {
     "name": "stdout",
     "output_type": "stream",
     "text": [
      "Loading attacker model..\n",
      "Attacker model successfully loaded\n",
      "Testing attacker model..\n"
     ]
    },
    {
     "data": {
      "application/vnd.jupyter.widget-view+json": {
       "model_id": "42a48278befa4c9f9618ee0180a0cdb5",
       "version_major": 2,
       "version_minor": 0
      },
      "text/plain": [
       "HBox(children=(HTML(value='Testing'), FloatProgress(value=1.0, bar_style='info', layout=Layout(flex='2'), max=…"
      ]
     },
     "metadata": {},
     "output_type": "display_data"
    },
    {
     "name": "stdout",
     "output_type": "stream",
     "text": [
      "--------------------------------------------------------------------------------\n",
      "DATALOADER:0 TEST RESULTS\n",
      "{'Non-obfuscated - reconstruction_error': tensor(0.2052, device='cuda:0'),\n",
      " 'Obfuscated - reconstruction_error': tensor(0.3709, device='cuda:0')}\n",
      "--------------------------------------------------------------------------------\n",
      "\n",
      "Testing successfull\n"
     ]
    }
   ],
   "source": [
    "classes, trainloader, valloader, testloader = load_data(\n",
    "        'CIFAR-100', 128, 0\n",
    "    )\n",
    "\n",
    "trainer = pl.Trainer(\n",
    "                    gpus=1 if torch.cuda.is_available() else 0,\n",
    "                    max_epochs=1000,\n",
    "                    progress_bar_refresh_rate=1)\n",
    "\n",
    "# seed for reproducability\n",
    "pl.seed_everything(42)\n",
    "\n",
    "device = torch.device(\"cuda:0\" if torch.cuda.is_available() else \"cpu\")\n",
    "\n",
    "gan_model = initialize_model('Complex_ResNet-56', 100, 1e-3, 2)\n",
    "gan_model.load_state_dict(torch.load('./saved_models/Complex_ResNet-56_save'))\n",
    "generator = gan_model.encoder.generator\n",
    "conv = gan_model.encoder.generator.encoding_layer\n",
    "\n",
    "model = UNet(generator=generator, enc_chs=(16,64,128,256,512), num_channels=3, lr=1e-3, encoding_layer=conv)\n",
    "\n",
    "print('Loading attacker model..')\n",
    "model.load_state_dict(torch.load('./saved_attackers/Complex_ResNet-56Attacker_save'))\n",
    "print('Attacker model successfully loaded')\n",
    "print('Testing attacker model..')\n",
    "out = trainer.test(model=model, test_dataloaders=testloader)\n",
    "print('Testing successfull')\n",
    "\n",
    "attackerDict['ResNet-56'] = out[0]"
   ]
  },
  {
   "cell_type": "markdown",
   "metadata": {},
   "source": [
    "### ResNet-110"
   ]
  },
  {
   "cell_type": "code",
   "execution_count": 20,
   "metadata": {},
   "outputs": [
    {
     "name": "stdout",
     "output_type": "stream",
     "text": [
      "Files already downloaded and verified\n",
      "Files already downloaded and verified\n"
     ]
    },
    {
     "name": "stderr",
     "output_type": "stream",
     "text": [
      "GPU available: True, used: True\n",
      "TPU available: False, using: 0 TPU cores\n",
      "LOCAL_RANK: 0 - CUDA_VISIBLE_DEVICES: [0]\n"
     ]
    },
    {
     "name": "stdout",
     "output_type": "stream",
     "text": [
      "Loading attacker model..\n",
      "Attacker model successfully loaded\n",
      "Testing attacker model..\n"
     ]
    },
    {
     "data": {
      "application/vnd.jupyter.widget-view+json": {
       "model_id": "a448d2a92a52459d81e439781b487a70",
       "version_major": 2,
       "version_minor": 0
      },
      "text/plain": [
       "HBox(children=(HTML(value='Testing'), FloatProgress(value=1.0, bar_style='info', layout=Layout(flex='2'), max=…"
      ]
     },
     "metadata": {},
     "output_type": "display_data"
    },
    {
     "name": "stdout",
     "output_type": "stream",
     "text": [
      "--------------------------------------------------------------------------------\n",
      "DATALOADER:0 TEST RESULTS\n",
      "{'Non-obfuscated - reconstruction_error': tensor(0.2257, device='cuda:0'),\n",
      " 'Obfuscated - reconstruction_error': tensor(0.3219, device='cuda:0')}\n",
      "--------------------------------------------------------------------------------\n",
      "\n",
      "Testing successfull\n"
     ]
    }
   ],
   "source": [
    "classes, trainloader, valloader, testloader = load_data(\n",
    "        'CIFAR-100', 128, 0\n",
    "    )\n",
    "\n",
    "trainer = pl.Trainer(\n",
    "                    gpus=1 if torch.cuda.is_available() else 0,\n",
    "                    max_epochs=1000,\n",
    "                    progress_bar_refresh_rate=1)\n",
    "\n",
    "# seed for reproducability\n",
    "pl.seed_everything(42)\n",
    "\n",
    "device = torch.device(\"cuda:0\" if torch.cuda.is_available() else \"cpu\")\n",
    "\n",
    "gan_model = initialize_model('Complex_ResNet-110', 100, 1e-3, 2)\n",
    "gan_model.load_state_dict(torch.load('./saved_models/Complex_ResNet-110_save'))\n",
    "generator = gan_model.encoder.generator\n",
    "conv = gan_model.encoder.generator.encoding_layer\n",
    "\n",
    "model = UNet(generator=generator,enc_chs=(16,64,128,256,512),  num_channels=3, lr=1e-3, encoding_layer=conv)\n",
    "\n",
    "print('Loading attacker model..')\n",
    "model.load_state_dict(torch.load('./saved_attackers/Complex_ResNet-110Attacker_save'))\n",
    "print('Attacker model successfully loaded')\n",
    "print('Testing attacker model..')\n",
    "out = trainer.test(model=model, test_dataloaders=testloader)\n",
    "print('Testing successfull')\n",
    "\n",
    "attackerDict['ResNet-110'] = out[0]"
   ]
  },
  {
   "cell_type": "markdown",
   "metadata": {},
   "source": [
    "### VGG-16"
   ]
  },
  {
   "cell_type": "code",
   "execution_count": null,
   "metadata": {},
   "outputs": [],
   "source": [
    "classes, trainloader, valloader, testloader = load_data(\n",
    "        'CUB-200', 128, 0\n",
    "    )\n",
    "\n",
    "trainer = pl.Trainer(\n",
    "                    gpus=1 if torch.cuda.is_available() else 0,\n",
    "                    max_epochs=1000,\n",
    "                    progress_bar_refresh_rate=1)\n",
    "\n",
    "# seed for reproducability\n",
    "pl.seed_everything(42)\n",
    "\n",
    "device = torch.device(\"cuda:0\" if torch.cuda.is_available() else \"cpu\")\n",
    "\n",
    "gan_model = initialize_model('Complex_VGG-16', num_classes, 1e-3, 2)\n",
    "gan_model.load_state_dict(torch.load('./attacker_models/Complex_VGG-16_save'))\n",
    "generator = gan_model.encoder.generator\n",
    "conv = gan_model.encoder.generator.encoding_layer\n",
    "\n",
    "model = UNet(generator=generator, enc_chs=(16,64,128,256,512), num_channels=3, lr=1e-3, encoding_layer=conv)\n",
    "\n",
    "print('Loading attacker model..')\n",
    "model.load_state_dict(torch.load('./saved_attackers/(Complex)VGG-16Attacker_save'))\n",
    "print('Attacker model successfully loaded')\n",
    "print('Testing attacker model..')\n",
    "out = trainer.test(model=model, test_dataloaders=testloader)\n",
    "print('Testing successfull')\n",
    "\n",
    "attackerDict['VGG-16'] = out[0]"
   ]
  },
  {
   "cell_type": "markdown",
   "metadata": {},
   "source": [
    "### Summary of the attacker results"
   ]
  },
  {
   "cell_type": "code",
   "execution_count": 38,
   "metadata": {},
   "outputs": [
    {
     "name": "stdout",
     "output_type": "stream",
     "text": [
      "Reconstruction errors\n",
      "Model name \t Original DNN \t \t Complex DNN\n",
      "LeNet\t\t\t0.228\t\t\t0.443\n",
      "ResNet-56\t\t0.205\t\t\t0.371\n",
      "ResNet-110\t\t0.226\t\t\t0.322\n"
     ]
    },
    {
     "ename": "KeyError",
     "evalue": "'VGG-16'",
     "output_type": "error",
     "traceback": [
      "\u001b[1;31m---------------------------------------------------------------------------\u001b[0m",
      "\u001b[1;31mKeyError\u001b[0m                                  Traceback (most recent call last)",
      "\u001b[1;32m<ipython-input-38-0ec3322a9724>\u001b[0m in \u001b[0;36m<module>\u001b[1;34m\u001b[0m\n\u001b[0;32m      4\u001b[0m \u001b[0mprint\u001b[0m\u001b[1;33m(\u001b[0m\u001b[1;34m'ResNet-56'\u001b[0m\u001b[1;33m+\u001b[0m  \u001b[1;34m'\\t'\u001b[0m \u001b[1;33m+\u001b[0m \u001b[1;34m'\\t'\u001b[0m\u001b[1;33m+\u001b[0m \u001b[0mstr\u001b[0m\u001b[1;33m(\u001b[0m\u001b[0mround\u001b[0m\u001b[1;33m(\u001b[0m\u001b[0mattackerDict\u001b[0m\u001b[1;33m[\u001b[0m\u001b[1;34m'ResNet-56'\u001b[0m\u001b[1;33m]\u001b[0m\u001b[1;33m[\u001b[0m\u001b[1;34m'Non-obfuscated - reconstruction_error'\u001b[0m\u001b[1;33m]\u001b[0m\u001b[1;33m,\u001b[0m\u001b[1;36m3\u001b[0m\u001b[1;33m)\u001b[0m\u001b[1;33m)\u001b[0m \u001b[1;33m+\u001b[0m \u001b[1;34m'\\t'\u001b[0m \u001b[1;33m+\u001b[0m \u001b[1;34m'\\t'\u001b[0m \u001b[1;33m+\u001b[0m \u001b[1;34m'\\t'\u001b[0m \u001b[1;33m+\u001b[0m \u001b[0mstr\u001b[0m\u001b[1;33m(\u001b[0m\u001b[0mround\u001b[0m\u001b[1;33m(\u001b[0m\u001b[0mattackerDict\u001b[0m\u001b[1;33m[\u001b[0m\u001b[1;34m'ResNet-56'\u001b[0m\u001b[1;33m]\u001b[0m\u001b[1;33m[\u001b[0m\u001b[1;34m'Obfuscated - reconstruction_error'\u001b[0m\u001b[1;33m]\u001b[0m\u001b[1;33m,\u001b[0m\u001b[1;36m3\u001b[0m\u001b[1;33m)\u001b[0m\u001b[1;33m)\u001b[0m\u001b[1;33m)\u001b[0m\u001b[1;33m\u001b[0m\u001b[1;33m\u001b[0m\u001b[0m\n\u001b[0;32m      5\u001b[0m \u001b[0mprint\u001b[0m\u001b[1;33m(\u001b[0m\u001b[1;34m'ResNet-110'\u001b[0m\u001b[1;33m+\u001b[0m  \u001b[1;34m'\\t'\u001b[0m \u001b[1;33m+\u001b[0m \u001b[1;34m'\\t'\u001b[0m\u001b[1;33m+\u001b[0m \u001b[0mstr\u001b[0m\u001b[1;33m(\u001b[0m\u001b[0mround\u001b[0m\u001b[1;33m(\u001b[0m\u001b[0mattackerDict\u001b[0m\u001b[1;33m[\u001b[0m\u001b[1;34m'ResNet-110'\u001b[0m\u001b[1;33m]\u001b[0m\u001b[1;33m[\u001b[0m\u001b[1;34m'Non-obfuscated - reconstruction_error'\u001b[0m\u001b[1;33m]\u001b[0m\u001b[1;33m,\u001b[0m\u001b[1;36m3\u001b[0m\u001b[1;33m)\u001b[0m\u001b[1;33m)\u001b[0m \u001b[1;33m+\u001b[0m \u001b[1;34m'\\t'\u001b[0m \u001b[1;33m+\u001b[0m \u001b[1;34m'\\t'\u001b[0m \u001b[1;33m+\u001b[0m \u001b[1;34m'\\t'\u001b[0m \u001b[1;33m+\u001b[0m \u001b[0mstr\u001b[0m\u001b[1;33m(\u001b[0m\u001b[0mround\u001b[0m\u001b[1;33m(\u001b[0m\u001b[0mattackerDict\u001b[0m\u001b[1;33m[\u001b[0m\u001b[1;34m'ResNet-110'\u001b[0m\u001b[1;33m]\u001b[0m\u001b[1;33m[\u001b[0m\u001b[1;34m'Obfuscated - reconstruction_error'\u001b[0m\u001b[1;33m]\u001b[0m\u001b[1;33m,\u001b[0m\u001b[1;36m3\u001b[0m\u001b[1;33m)\u001b[0m\u001b[1;33m)\u001b[0m\u001b[1;33m)\u001b[0m\u001b[1;33m\u001b[0m\u001b[1;33m\u001b[0m\u001b[0m\n\u001b[1;32m----> 6\u001b[1;33m \u001b[0mprint\u001b[0m\u001b[1;33m(\u001b[0m\u001b[1;34m'VGG-16'\u001b[0m\u001b[1;33m+\u001b[0m  \u001b[1;34m'\\t'\u001b[0m \u001b[1;33m+\u001b[0m \u001b[1;34m'\\t'\u001b[0m\u001b[1;33m+\u001b[0m \u001b[0mstr\u001b[0m\u001b[1;33m(\u001b[0m\u001b[0mround\u001b[0m\u001b[1;33m(\u001b[0m\u001b[0mattackerDict\u001b[0m\u001b[1;33m[\u001b[0m\u001b[1;34m'VGG-16'\u001b[0m\u001b[1;33m]\u001b[0m\u001b[1;33m[\u001b[0m\u001b[1;34m'Non-obfuscated - reconstruction_error'\u001b[0m\u001b[1;33m]\u001b[0m\u001b[1;33m,\u001b[0m\u001b[1;36m3\u001b[0m\u001b[1;33m)\u001b[0m\u001b[1;33m)\u001b[0m \u001b[1;33m+\u001b[0m \u001b[1;34m'\\t'\u001b[0m \u001b[1;33m+\u001b[0m \u001b[1;34m'\\t'\u001b[0m \u001b[1;33m+\u001b[0m \u001b[1;34m'\\t'\u001b[0m \u001b[1;33m+\u001b[0m \u001b[0mstr\u001b[0m\u001b[1;33m(\u001b[0m\u001b[0mround\u001b[0m\u001b[1;33m(\u001b[0m\u001b[0mattackerDict\u001b[0m\u001b[1;33m[\u001b[0m\u001b[1;34m'ResNet-110'\u001b[0m\u001b[1;33m]\u001b[0m\u001b[1;33m[\u001b[0m\u001b[1;34m'Obfuscated - reconstruction_error'\u001b[0m\u001b[1;33m]\u001b[0m\u001b[1;33m,\u001b[0m\u001b[1;36m3\u001b[0m\u001b[1;33m)\u001b[0m\u001b[1;33m)\u001b[0m\u001b[1;33m)\u001b[0m\u001b[1;33m\u001b[0m\u001b[1;33m\u001b[0m\u001b[0m\n\u001b[0m",
      "\u001b[1;31mKeyError\u001b[0m: 'VGG-16'"
     ]
    }
   ],
   "source": [
    "print('Reconstruction errors')\n",
    "print('Model name \\t Original DNN \\t \\t Complex DNN')\n",
    "print('LeNet'+  '\\t'+ '\\t' + '\\t' + str(round(attackerDict['LeNet']['Non-obfuscated - reconstruction_error'],3)) + '\\t' + '\\t' + '\\t' + str(round(attackerDict['LeNet']['Obfuscated - reconstruction_error'],3)))\n",
    "print('ResNet-56'+  '\\t' + '\\t'+ str(round(attackerDict['ResNet-56']['Non-obfuscated - reconstruction_error'],3)) + '\\t' + '\\t' + '\\t' + str(round(attackerDict['ResNet-56']['Obfuscated - reconstruction_error'],3)))\n",
    "print('ResNet-110'+  '\\t' + '\\t'+ str(round(attackerDict['ResNet-110']['Non-obfuscated - reconstruction_error'],3)) + '\\t' + '\\t' + '\\t' + str(round(attackerDict['ResNet-110']['Obfuscated - reconstruction_error'],3)))\n",
    "print('VGG-16'+  '\\t' + '\\t'+ str(round(attackerDict['VGG-16']['Non-obfuscated - reconstruction_error'],3)) + '\\t' + '\\t' + '\\t' + str(round(attackerDict['ResNet-110']['Obfuscated - reconstruction_error'],3)))"
   ]
  }
 ],
 "metadata": {
  "celltoolbar": "Raw Cell Format",
  "kernelspec": {
   "display_name": "Python 3",
   "language": "python",
   "name": "python3"
  },
  "language_info": {
   "codemirror_mode": {
    "name": "ipython",
    "version": 3
   },
   "file_extension": ".py",
   "mimetype": "text/x-python",
   "name": "python",
   "nbconvert_exporter": "python",
   "pygments_lexer": "ipython3",
   "version": "3.8.6"
  }
 },
 "nbformat": 4,
 "nbformat_minor": 4
}
