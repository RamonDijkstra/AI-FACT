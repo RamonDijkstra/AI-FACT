{
 "cells": [
  {
   "cell_type": "markdown",
   "metadata": {},
   "source": [
    "# Result notebook of the experiments"
   ]
  },
  {
   "cell_type": "markdown",
   "metadata": {},
   "source": [
    "### Classification Results\n",
    "\n",
    "Run the below cells to load the best trained version of the models and observe their classification rate on the test set of the dataset they were trained on. "
   ]
  },
  {
   "cell_type": "code",
   "execution_count": 26,
   "metadata": {},
   "outputs": [],
   "source": [
    "### library imports\n",
    "\n",
    "import os\n",
    "from os import listdir\n",
    "from os.path import isfile, join\n",
    "\n",
    "# pytorch imports\n",
    "import torch\n",
    "import torch.nn as nn\n",
    "import torch.nn.functional as F\n",
    "import torch.optim as optim\n",
    "import pytorch_lightning as pl\n",
    "from pytorch_lightning.callbacks import ModelCheckpoint\n",
    "\n",
    "\n",
    "# import models\n",
    "from models.lenet.lenet import *\n",
    "from models.lenet.complex_lenet import *\n",
    "from models.resnet.resnet import *\n",
    "from models.resnet.complex_resnet import *\n",
    "from models.vgg16.vgg16 import *\n",
    "from models.vgg16.complex_vgg16 import *"
   ]
  },
  {
   "cell_type": "code",
   "execution_count": 27,
   "metadata": {},
   "outputs": [],
   "source": [
    "### Load the Datasets\n",
    "\n",
    "# import dataloaders\n",
    "from dataloaders.cifar10_loader import load_data as load_cifar10_data\n",
    "from dataloaders.cifar100_loader import load_data as load_cifar100_data\n",
    "from dataloaders.cub2011_loader import load_data as load_cub200_data\n",
    "\n",
    "### List the models we used\n",
    "model_dict = {}\n",
    "model_dict['LeNet'] = LeNet\n",
    "model_dict['Complex_LeNet'] = ComplexLeNet\n",
    "model_dict['ResNet-110'] = ResNet\n",
    "model_dict['ResNet-56'] = ResNet\n",
    "model_dict['Complex_ResNet-56'] = ComplexResNet\n",
    "model_dict['Complex_ResNet-110'] = ComplexResNet\n",
    "model_dict['VGG-16'] = VGG16\n",
    "model_dict['Complex_VGG-16'] = ComplexVGG16\n",
    "\n",
    "# initialize our dataset dictionary\n",
    "dataset_dict = {}\n",
    "dataset_dict['CIFAR-10'] = load_cifar10_data\n",
    "dataset_dict['CIFAR-100'] = load_cifar100_data\n",
    "dataset_dict['CUB-200'] = load_cub200_data\n",
    "\n"
   ]
  },
  {
   "cell_type": "code",
   "execution_count": 9,
   "metadata": {},
   "outputs": [],
   "source": [
    "# Function for loading dataset\n",
    "\n",
    "def load_data(dataset='CIFAR-10', batch_size=256, num_workers=0):\n",
    "    \"\"\"\n",
    "    Function for loading a dataset based on the given command line arguments.\n",
    "\n",
    "    Inputs:\n",
    "        dataset - String indicating the dataset to use. Default = 'CIFAR-10'\n",
    "        batch_size - Int indicating the size of the mini batches. Default = 256\n",
    "        num_workers - Int indicating the number of workers to use in the\n",
    "            dataloader. Default = 0 (truly deterministic)\n",
    "    \"\"\"\n",
    "\n",
    "    # load the dataset if possible\n",
    "    if dataset in dataset_dict:\n",
    "        return dataset_dict[dataset](batch_size, num_workers)\n",
    "    # alert the user if the given dataset does not exist\n",
    "    else:\n",
    "        assert False, \"Unknown dataset name \\\"%s\\\". Available datasets are: %s\" % (dataset, str(dataset_dict.keys()))"
   ]
  },
  {
   "cell_type": "code",
   "execution_count": 10,
   "metadata": {},
   "outputs": [],
   "source": [
    "##Function for initializing models\n",
    "def initialize_model(model='Complex_LeNet', num_classes=10, lr=3e-4, k=2):\n",
    "    \"\"\"\n",
    "    Function for initializing a model based on the given command line arguments.\n",
    "\n",
    "    Inputs:\n",
    "        model - String indicating the model to use. Default = 'Complex_LeNet'\n",
    "        num_classes - Int indicating the number of classes. Default = 10\n",
    "        lr - Float indicating the optimizer learning rate. Default = 3e-4\n",
    "        k - Level of anonimity. k-1 fake features are generated\n",
    "            to train the discriminator. Default = 2\n",
    "    \"\"\"\n",
    "\n",
    "    # initialize the model if possible\n",
    "    if model == \"Complex_ResNet-110\" or model == \"ResNet-110\":\n",
    "        return model_dict[model](num_classes, k, lr, num_blocks = [37,36,36])\n",
    "    elif model == \"Complex_ResNet-56\" or model == \"ResNet-56\":\n",
    "        return model_dict[model](num_classes, k, lr, num_blocks = [19,18,18])\n",
    "    elif model in model_dict:\n",
    "        return model_dict[model](num_classes, k, lr)\n",
    "    # alert the user if the given model does not exist\n",
    "    else:\n",
    "        assert False, \"Unknown model name \\\"%s\\\". Available models are: %s\" % (model, str(model_dict.keys()))\n",
    "        \n",
    "#Initialize dictionairy for results per model\n",
    "resultDict = {}"
   ]
  },
  {
   "cell_type": "markdown",
   "metadata": {},
   "source": [
    "### LeNet"
   ]
  },
  {
   "cell_type": "code",
   "execution_count": 28,
   "metadata": {},
   "outputs": [
    {
     "name": "stdout",
     "output_type": "stream",
     "text": [
      "----- MODEL SUMMARY -----\n",
      "Model: LeNet\n",
      "Dataset: Cifar-10\n",
      "Epochs: 3\n",
      "K value: 2\n",
      "Learning rate: 1e3 \n",
      "Batch size: 512\n",
      "-------------------------\n",
      "Files already downloaded and verified\n",
      "Files already downloaded and verified\n"
     ]
    },
    {
     "name": "stderr",
     "output_type": "stream",
     "text": [
      "GPU available: True, used: True\n",
      "TPU available: False, using: 0 TPU cores\n",
      "LOCAL_RANK: 0 - CUDA_VISIBLE_DEVICES: [0]\n"
     ]
    },
    {
     "name": "stdout",
     "output_type": "stream",
     "text": [
      "Loading model..\n",
      "Model successfully loaded\n",
      "Testing model..\n"
     ]
    },
    {
     "data": {
      "application/vnd.jupyter.widget-view+json": {
       "model_id": "59de213eb8694dd8be7092e58558726d",
       "version_major": 2,
       "version_minor": 0
      },
      "text/plain": [
       "HBox(children=(HTML(value='Testing'), FloatProgress(value=1.0, bar_style='info', layout=Layout(flex='2'), max=…"
      ]
     },
     "metadata": {},
     "output_type": "display_data"
    },
    {
     "ename": "RuntimeError",
     "evalue": "CUDA out of memory. Tried to allocate 20.00 MiB (GPU 0; 4.00 GiB total capacity; 1.16 GiB already allocated; 0 bytes free; 1.16 GiB reserved in total by PyTorch)",
     "output_type": "error",
     "traceback": [
      "\u001b[1;31m---------------------------------------------------------------------------\u001b[0m",
      "\u001b[1;31mRuntimeError\u001b[0m                              Traceback (most recent call last)",
      "\u001b[1;32m<ipython-input-28-45aa24f3ac7f>\u001b[0m in \u001b[0;36m<module>\u001b[1;34m\u001b[0m\n\u001b[0;32m     31\u001b[0m \u001b[0mprint\u001b[0m\u001b[1;33m(\u001b[0m\u001b[1;34m'Model successfully loaded'\u001b[0m\u001b[1;33m)\u001b[0m\u001b[1;33m\u001b[0m\u001b[1;33m\u001b[0m\u001b[0m\n\u001b[0;32m     32\u001b[0m \u001b[0mprint\u001b[0m\u001b[1;33m(\u001b[0m\u001b[1;34m'Testing model..'\u001b[0m\u001b[1;33m)\u001b[0m\u001b[1;33m\u001b[0m\u001b[1;33m\u001b[0m\u001b[0m\n\u001b[1;32m---> 33\u001b[1;33m \u001b[0mout\u001b[0m \u001b[1;33m=\u001b[0m \u001b[0mtrainer\u001b[0m\u001b[1;33m.\u001b[0m\u001b[0mtest\u001b[0m\u001b[1;33m(\u001b[0m\u001b[0mmodel\u001b[0m\u001b[1;33m=\u001b[0m\u001b[0mmodel\u001b[0m\u001b[1;33m,\u001b[0m \u001b[0mtest_dataloaders\u001b[0m\u001b[1;33m=\u001b[0m\u001b[0mtestloader\u001b[0m\u001b[1;33m)\u001b[0m\u001b[1;33m\u001b[0m\u001b[1;33m\u001b[0m\u001b[0m\n\u001b[0m\u001b[0;32m     34\u001b[0m \u001b[0mprint\u001b[0m\u001b[1;33m(\u001b[0m\u001b[1;34m'Testing successfull'\u001b[0m\u001b[1;33m)\u001b[0m\u001b[1;33m\u001b[0m\u001b[1;33m\u001b[0m\u001b[0m\n\u001b[0;32m     35\u001b[0m \u001b[1;33m\u001b[0m\u001b[0m\n",
      "\u001b[1;32m~\\Anaconda3\\envs\\FACT_AI\\lib\\site-packages\\pytorch_lightning\\trainer\\trainer.py\u001b[0m in \u001b[0;36mtest\u001b[1;34m(self, model, test_dataloaders, ckpt_path, verbose, datamodule)\u001b[0m\n\u001b[0;32m    705\u001b[0m \u001b[1;33m\u001b[0m\u001b[0m\n\u001b[0;32m    706\u001b[0m         \u001b[1;32mif\u001b[0m \u001b[0mmodel\u001b[0m \u001b[1;32mis\u001b[0m \u001b[1;32mnot\u001b[0m \u001b[1;32mNone\u001b[0m\u001b[1;33m:\u001b[0m\u001b[1;33m\u001b[0m\u001b[1;33m\u001b[0m\u001b[0m\n\u001b[1;32m--> 707\u001b[1;33m             \u001b[0mresults\u001b[0m \u001b[1;33m=\u001b[0m \u001b[0mself\u001b[0m\u001b[1;33m.\u001b[0m\u001b[0m__test_given_model\u001b[0m\u001b[1;33m(\u001b[0m\u001b[0mmodel\u001b[0m\u001b[1;33m,\u001b[0m \u001b[0mtest_dataloaders\u001b[0m\u001b[1;33m)\u001b[0m\u001b[1;33m\u001b[0m\u001b[1;33m\u001b[0m\u001b[0m\n\u001b[0m\u001b[0;32m    708\u001b[0m         \u001b[1;32melse\u001b[0m\u001b[1;33m:\u001b[0m\u001b[1;33m\u001b[0m\u001b[1;33m\u001b[0m\u001b[0m\n\u001b[0;32m    709\u001b[0m             \u001b[0mresults\u001b[0m \u001b[1;33m=\u001b[0m \u001b[0mself\u001b[0m\u001b[1;33m.\u001b[0m\u001b[0m__test_using_best_weights\u001b[0m\u001b[1;33m(\u001b[0m\u001b[0mckpt_path\u001b[0m\u001b[1;33m,\u001b[0m \u001b[0mtest_dataloaders\u001b[0m\u001b[1;33m)\u001b[0m\u001b[1;33m\u001b[0m\u001b[1;33m\u001b[0m\u001b[0m\n",
      "\u001b[1;32m~\\Anaconda3\\envs\\FACT_AI\\lib\\site-packages\\pytorch_lightning\\trainer\\trainer.py\u001b[0m in \u001b[0;36m__test_given_model\u001b[1;34m(self, model, test_dataloaders)\u001b[0m\n\u001b[0;32m    770\u001b[0m         \u001b[0mself\u001b[0m\u001b[1;33m.\u001b[0m\u001b[0mtesting\u001b[0m \u001b[1;33m=\u001b[0m \u001b[1;32mTrue\u001b[0m\u001b[1;33m\u001b[0m\u001b[1;33m\u001b[0m\u001b[0m\n\u001b[0;32m    771\u001b[0m         \u001b[0mself\u001b[0m\u001b[1;33m.\u001b[0m\u001b[0mmodel\u001b[0m \u001b[1;33m=\u001b[0m \u001b[0mmodel\u001b[0m\u001b[1;33m\u001b[0m\u001b[1;33m\u001b[0m\u001b[0m\n\u001b[1;32m--> 772\u001b[1;33m         \u001b[0mresults\u001b[0m \u001b[1;33m=\u001b[0m \u001b[0mself\u001b[0m\u001b[1;33m.\u001b[0m\u001b[0mfit\u001b[0m\u001b[1;33m(\u001b[0m\u001b[0mmodel\u001b[0m\u001b[1;33m)\u001b[0m\u001b[1;33m\u001b[0m\u001b[1;33m\u001b[0m\u001b[0m\n\u001b[0m\u001b[0;32m    773\u001b[0m         \u001b[0mself\u001b[0m\u001b[1;33m.\u001b[0m\u001b[0mtesting\u001b[0m \u001b[1;33m=\u001b[0m \u001b[1;32mFalse\u001b[0m\u001b[1;33m\u001b[0m\u001b[1;33m\u001b[0m\u001b[0m\n\u001b[0;32m    774\u001b[0m \u001b[1;33m\u001b[0m\u001b[0m\n",
      "\u001b[1;32m~\\Anaconda3\\envs\\FACT_AI\\lib\\site-packages\\pytorch_lightning\\trainer\\trainer.py\u001b[0m in \u001b[0;36mfit\u001b[1;34m(self, model, train_dataloader, val_dataloaders, datamodule)\u001b[0m\n\u001b[0;32m    437\u001b[0m         \u001b[0mself\u001b[0m\u001b[1;33m.\u001b[0m\u001b[0mcall_hook\u001b[0m\u001b[1;33m(\u001b[0m\u001b[1;34m'on_fit_start'\u001b[0m\u001b[1;33m)\u001b[0m\u001b[1;33m\u001b[0m\u001b[1;33m\u001b[0m\u001b[0m\n\u001b[0;32m    438\u001b[0m \u001b[1;33m\u001b[0m\u001b[0m\n\u001b[1;32m--> 439\u001b[1;33m         \u001b[0mresults\u001b[0m \u001b[1;33m=\u001b[0m \u001b[0mself\u001b[0m\u001b[1;33m.\u001b[0m\u001b[0maccelerator_backend\u001b[0m\u001b[1;33m.\u001b[0m\u001b[0mtrain\u001b[0m\u001b[1;33m(\u001b[0m\u001b[1;33m)\u001b[0m\u001b[1;33m\u001b[0m\u001b[1;33m\u001b[0m\u001b[0m\n\u001b[0m\u001b[0;32m    440\u001b[0m         \u001b[0mself\u001b[0m\u001b[1;33m.\u001b[0m\u001b[0maccelerator_backend\u001b[0m\u001b[1;33m.\u001b[0m\u001b[0mteardown\u001b[0m\u001b[1;33m(\u001b[0m\u001b[1;33m)\u001b[0m\u001b[1;33m\u001b[0m\u001b[1;33m\u001b[0m\u001b[0m\n\u001b[0;32m    441\u001b[0m \u001b[1;33m\u001b[0m\u001b[0m\n",
      "\u001b[1;32m~\\Anaconda3\\envs\\FACT_AI\\lib\\site-packages\\pytorch_lightning\\accelerators\\gpu_accelerator.py\u001b[0m in \u001b[0;36mtrain\u001b[1;34m(self)\u001b[0m\n\u001b[0;32m     52\u001b[0m \u001b[1;33m\u001b[0m\u001b[0m\n\u001b[0;32m     53\u001b[0m         \u001b[1;31m# train or test\u001b[0m\u001b[1;33m\u001b[0m\u001b[1;33m\u001b[0m\u001b[1;33m\u001b[0m\u001b[0m\n\u001b[1;32m---> 54\u001b[1;33m         \u001b[0mresults\u001b[0m \u001b[1;33m=\u001b[0m \u001b[0mself\u001b[0m\u001b[1;33m.\u001b[0m\u001b[0mtrain_or_test\u001b[0m\u001b[1;33m(\u001b[0m\u001b[1;33m)\u001b[0m\u001b[1;33m\u001b[0m\u001b[1;33m\u001b[0m\u001b[0m\n\u001b[0m\u001b[0;32m     55\u001b[0m         \u001b[1;32mreturn\u001b[0m \u001b[0mresults\u001b[0m\u001b[1;33m\u001b[0m\u001b[1;33m\u001b[0m\u001b[0m\n\u001b[0;32m     56\u001b[0m \u001b[1;33m\u001b[0m\u001b[0m\n",
      "\u001b[1;32m~\\Anaconda3\\envs\\FACT_AI\\lib\\site-packages\\pytorch_lightning\\accelerators\\accelerator.py\u001b[0m in \u001b[0;36mtrain_or_test\u001b[1;34m(self)\u001b[0m\n\u001b[0;32m     62\u001b[0m     \u001b[1;32mdef\u001b[0m \u001b[0mtrain_or_test\u001b[0m\u001b[1;33m(\u001b[0m\u001b[0mself\u001b[0m\u001b[1;33m)\u001b[0m\u001b[1;33m:\u001b[0m\u001b[1;33m\u001b[0m\u001b[1;33m\u001b[0m\u001b[0m\n\u001b[0;32m     63\u001b[0m         \u001b[1;32mif\u001b[0m \u001b[0mself\u001b[0m\u001b[1;33m.\u001b[0m\u001b[0mtrainer\u001b[0m\u001b[1;33m.\u001b[0m\u001b[0mtesting\u001b[0m\u001b[1;33m:\u001b[0m\u001b[1;33m\u001b[0m\u001b[1;33m\u001b[0m\u001b[0m\n\u001b[1;32m---> 64\u001b[1;33m             \u001b[0mresults\u001b[0m \u001b[1;33m=\u001b[0m \u001b[0mself\u001b[0m\u001b[1;33m.\u001b[0m\u001b[0mtrainer\u001b[0m\u001b[1;33m.\u001b[0m\u001b[0mrun_test\u001b[0m\u001b[1;33m(\u001b[0m\u001b[1;33m)\u001b[0m\u001b[1;33m\u001b[0m\u001b[1;33m\u001b[0m\u001b[0m\n\u001b[0m\u001b[0;32m     65\u001b[0m         \u001b[1;32melse\u001b[0m\u001b[1;33m:\u001b[0m\u001b[1;33m\u001b[0m\u001b[1;33m\u001b[0m\u001b[0m\n\u001b[0;32m     66\u001b[0m             \u001b[0mresults\u001b[0m \u001b[1;33m=\u001b[0m \u001b[0mself\u001b[0m\u001b[1;33m.\u001b[0m\u001b[0mtrainer\u001b[0m\u001b[1;33m.\u001b[0m\u001b[0mtrain\u001b[0m\u001b[1;33m(\u001b[0m\u001b[1;33m)\u001b[0m\u001b[1;33m\u001b[0m\u001b[1;33m\u001b[0m\u001b[0m\n",
      "\u001b[1;32m~\\Anaconda3\\envs\\FACT_AI\\lib\\site-packages\\pytorch_lightning\\trainer\\trainer.py\u001b[0m in \u001b[0;36mrun_test\u001b[1;34m(self)\u001b[0m\n\u001b[0;32m    614\u001b[0m         \u001b[1;31m# only load test dataloader for testing\u001b[0m\u001b[1;33m\u001b[0m\u001b[1;33m\u001b[0m\u001b[1;33m\u001b[0m\u001b[0m\n\u001b[0;32m    615\u001b[0m         \u001b[1;31m# self.reset_test_dataloader(ref_model)\u001b[0m\u001b[1;33m\u001b[0m\u001b[1;33m\u001b[0m\u001b[1;33m\u001b[0m\u001b[0m\n\u001b[1;32m--> 616\u001b[1;33m         \u001b[0meval_loop_results\u001b[0m\u001b[1;33m,\u001b[0m \u001b[0m_\u001b[0m \u001b[1;33m=\u001b[0m \u001b[0mself\u001b[0m\u001b[1;33m.\u001b[0m\u001b[0mrun_evaluation\u001b[0m\u001b[1;33m(\u001b[0m\u001b[0mtest_mode\u001b[0m\u001b[1;33m=\u001b[0m\u001b[1;32mTrue\u001b[0m\u001b[1;33m)\u001b[0m\u001b[1;33m\u001b[0m\u001b[1;33m\u001b[0m\u001b[0m\n\u001b[0m\u001b[0;32m    617\u001b[0m \u001b[1;33m\u001b[0m\u001b[0m\n\u001b[0;32m    618\u001b[0m         \u001b[1;32mif\u001b[0m \u001b[0mlen\u001b[0m\u001b[1;33m(\u001b[0m\u001b[0meval_loop_results\u001b[0m\u001b[1;33m)\u001b[0m \u001b[1;33m==\u001b[0m \u001b[1;36m0\u001b[0m\u001b[1;33m:\u001b[0m\u001b[1;33m\u001b[0m\u001b[1;33m\u001b[0m\u001b[0m\n",
      "\u001b[1;32m~\\Anaconda3\\envs\\FACT_AI\\lib\\site-packages\\pytorch_lightning\\trainer\\trainer.py\u001b[0m in \u001b[0;36mrun_evaluation\u001b[1;34m(self, test_mode, max_batches)\u001b[0m\n\u001b[0;32m    565\u001b[0m \u001b[1;33m\u001b[0m\u001b[0m\n\u001b[0;32m    566\u001b[0m                 \u001b[1;31m# lightning module methods\u001b[0m\u001b[1;33m\u001b[0m\u001b[1;33m\u001b[0m\u001b[1;33m\u001b[0m\u001b[0m\n\u001b[1;32m--> 567\u001b[1;33m                 \u001b[0moutput\u001b[0m \u001b[1;33m=\u001b[0m \u001b[0mself\u001b[0m\u001b[1;33m.\u001b[0m\u001b[0mevaluation_loop\u001b[0m\u001b[1;33m.\u001b[0m\u001b[0mevaluation_step\u001b[0m\u001b[1;33m(\u001b[0m\u001b[0mtest_mode\u001b[0m\u001b[1;33m,\u001b[0m \u001b[0mbatch\u001b[0m\u001b[1;33m,\u001b[0m \u001b[0mbatch_idx\u001b[0m\u001b[1;33m,\u001b[0m \u001b[0mdataloader_idx\u001b[0m\u001b[1;33m)\u001b[0m\u001b[1;33m\u001b[0m\u001b[1;33m\u001b[0m\u001b[0m\n\u001b[0m\u001b[0;32m    568\u001b[0m                 \u001b[0moutput\u001b[0m \u001b[1;33m=\u001b[0m \u001b[0mself\u001b[0m\u001b[1;33m.\u001b[0m\u001b[0mevaluation_loop\u001b[0m\u001b[1;33m.\u001b[0m\u001b[0mevaluation_step_end\u001b[0m\u001b[1;33m(\u001b[0m\u001b[0moutput\u001b[0m\u001b[1;33m)\u001b[0m\u001b[1;33m\u001b[0m\u001b[1;33m\u001b[0m\u001b[0m\n\u001b[0;32m    569\u001b[0m \u001b[1;33m\u001b[0m\u001b[0m\n",
      "\u001b[1;32m~\\Anaconda3\\envs\\FACT_AI\\lib\\site-packages\\pytorch_lightning\\trainer\\evaluation_loop.py\u001b[0m in \u001b[0;36mevaluation_step\u001b[1;34m(self, test_mode, batch, batch_idx, dataloader_idx)\u001b[0m\n\u001b[0;32m    167\u001b[0m         \u001b[1;31m# run actual test step\u001b[0m\u001b[1;33m\u001b[0m\u001b[1;33m\u001b[0m\u001b[1;33m\u001b[0m\u001b[0m\n\u001b[0;32m    168\u001b[0m         \u001b[1;32mif\u001b[0m \u001b[0mself\u001b[0m\u001b[1;33m.\u001b[0m\u001b[0mtesting\u001b[0m\u001b[1;33m:\u001b[0m\u001b[1;33m\u001b[0m\u001b[1;33m\u001b[0m\u001b[0m\n\u001b[1;32m--> 169\u001b[1;33m             \u001b[0moutput\u001b[0m \u001b[1;33m=\u001b[0m \u001b[0mself\u001b[0m\u001b[1;33m.\u001b[0m\u001b[0mtrainer\u001b[0m\u001b[1;33m.\u001b[0m\u001b[0maccelerator_backend\u001b[0m\u001b[1;33m.\u001b[0m\u001b[0mtest_step\u001b[0m\u001b[1;33m(\u001b[0m\u001b[0margs\u001b[0m\u001b[1;33m)\u001b[0m\u001b[1;33m\u001b[0m\u001b[1;33m\u001b[0m\u001b[0m\n\u001b[0m\u001b[0;32m    170\u001b[0m         \u001b[1;32melse\u001b[0m\u001b[1;33m:\u001b[0m\u001b[1;33m\u001b[0m\u001b[1;33m\u001b[0m\u001b[0m\n\u001b[0;32m    171\u001b[0m             \u001b[0moutput\u001b[0m \u001b[1;33m=\u001b[0m \u001b[0mself\u001b[0m\u001b[1;33m.\u001b[0m\u001b[0mtrainer\u001b[0m\u001b[1;33m.\u001b[0m\u001b[0maccelerator_backend\u001b[0m\u001b[1;33m.\u001b[0m\u001b[0mvalidation_step\u001b[0m\u001b[1;33m(\u001b[0m\u001b[0margs\u001b[0m\u001b[1;33m)\u001b[0m\u001b[1;33m\u001b[0m\u001b[1;33m\u001b[0m\u001b[0m\n",
      "\u001b[1;32m~\\Anaconda3\\envs\\FACT_AI\\lib\\site-packages\\pytorch_lightning\\accelerators\\gpu_accelerator.py\u001b[0m in \u001b[0;36mtest_step\u001b[1;34m(self, args)\u001b[0m\n\u001b[0;32m     92\u001b[0m                 \u001b[0moutput\u001b[0m \u001b[1;33m=\u001b[0m \u001b[0mself\u001b[0m\u001b[1;33m.\u001b[0m\u001b[0m__test_step\u001b[0m\u001b[1;33m(\u001b[0m\u001b[0margs\u001b[0m\u001b[1;33m)\u001b[0m\u001b[1;33m\u001b[0m\u001b[1;33m\u001b[0m\u001b[0m\n\u001b[0;32m     93\u001b[0m         \u001b[1;32melse\u001b[0m\u001b[1;33m:\u001b[0m\u001b[1;33m\u001b[0m\u001b[1;33m\u001b[0m\u001b[0m\n\u001b[1;32m---> 94\u001b[1;33m             \u001b[0moutput\u001b[0m \u001b[1;33m=\u001b[0m \u001b[0mself\u001b[0m\u001b[1;33m.\u001b[0m\u001b[0m__test_step\u001b[0m\u001b[1;33m(\u001b[0m\u001b[0margs\u001b[0m\u001b[1;33m)\u001b[0m\u001b[1;33m\u001b[0m\u001b[1;33m\u001b[0m\u001b[0m\n\u001b[0m\u001b[0;32m     95\u001b[0m \u001b[1;33m\u001b[0m\u001b[0m\n\u001b[0;32m     96\u001b[0m         \u001b[1;32mreturn\u001b[0m \u001b[0moutput\u001b[0m\u001b[1;33m\u001b[0m\u001b[1;33m\u001b[0m\u001b[0m\n",
      "\u001b[1;32m~\\Anaconda3\\envs\\FACT_AI\\lib\\site-packages\\pytorch_lightning\\accelerators\\gpu_accelerator.py\u001b[0m in \u001b[0;36m__test_step\u001b[1;34m(self, args)\u001b[0m\n\u001b[0;32m     98\u001b[0m     \u001b[1;32mdef\u001b[0m \u001b[0m__test_step\u001b[0m\u001b[1;33m(\u001b[0m\u001b[0mself\u001b[0m\u001b[1;33m,\u001b[0m \u001b[0margs\u001b[0m\u001b[1;33m)\u001b[0m\u001b[1;33m:\u001b[0m\u001b[1;33m\u001b[0m\u001b[1;33m\u001b[0m\u001b[0m\n\u001b[0;32m     99\u001b[0m         \u001b[0mbatch\u001b[0m \u001b[1;33m=\u001b[0m \u001b[0margs\u001b[0m\u001b[1;33m[\u001b[0m\u001b[1;36m0\u001b[0m\u001b[1;33m]\u001b[0m\u001b[1;33m\u001b[0m\u001b[1;33m\u001b[0m\u001b[0m\n\u001b[1;32m--> 100\u001b[1;33m         \u001b[0mbatch\u001b[0m \u001b[1;33m=\u001b[0m \u001b[0mself\u001b[0m\u001b[1;33m.\u001b[0m\u001b[0mto_device\u001b[0m\u001b[1;33m(\u001b[0m\u001b[0mbatch\u001b[0m\u001b[1;33m)\u001b[0m\u001b[1;33m\u001b[0m\u001b[1;33m\u001b[0m\u001b[0m\n\u001b[0m\u001b[0;32m    101\u001b[0m         \u001b[0margs\u001b[0m\u001b[1;33m[\u001b[0m\u001b[1;36m0\u001b[0m\u001b[1;33m]\u001b[0m \u001b[1;33m=\u001b[0m \u001b[0mbatch\u001b[0m\u001b[1;33m\u001b[0m\u001b[1;33m\u001b[0m\u001b[0m\n\u001b[0;32m    102\u001b[0m         \u001b[0moutput\u001b[0m \u001b[1;33m=\u001b[0m \u001b[0mself\u001b[0m\u001b[1;33m.\u001b[0m\u001b[0mtrainer\u001b[0m\u001b[1;33m.\u001b[0m\u001b[0mmodel\u001b[0m\u001b[1;33m.\u001b[0m\u001b[0mtest_step\u001b[0m\u001b[1;33m(\u001b[0m\u001b[1;33m*\u001b[0m\u001b[0margs\u001b[0m\u001b[1;33m)\u001b[0m\u001b[1;33m\u001b[0m\u001b[1;33m\u001b[0m\u001b[0m\n",
      "\u001b[1;32m~\\Anaconda3\\envs\\FACT_AI\\lib\\site-packages\\pytorch_lightning\\accelerators\\gpu_accelerator.py\u001b[0m in \u001b[0;36mto_device\u001b[1;34m(self, batch)\u001b[0m\n\u001b[0;32m    111\u001b[0m         \u001b[1;31m# be referenced from and if there are multiple optimizers the batch will\u001b[0m\u001b[1;33m\u001b[0m\u001b[1;33m\u001b[0m\u001b[1;33m\u001b[0m\u001b[0m\n\u001b[0;32m    112\u001b[0m         \u001b[1;31m# wind up copying it to the same device repeatedly.\u001b[0m\u001b[1;33m\u001b[0m\u001b[1;33m\u001b[0m\u001b[1;33m\u001b[0m\u001b[0m\n\u001b[1;32m--> 113\u001b[1;33m         \u001b[1;32mreturn\u001b[0m \u001b[0mself\u001b[0m\u001b[1;33m.\u001b[0m\u001b[0mbatch_to_device\u001b[0m\u001b[1;33m(\u001b[0m\u001b[0mbatch\u001b[0m\u001b[1;33m,\u001b[0m \u001b[0mgpu_id\u001b[0m\u001b[1;33m)\u001b[0m\u001b[1;33m\u001b[0m\u001b[1;33m\u001b[0m\u001b[0m\n\u001b[0m",
      "\u001b[1;32m~\\Anaconda3\\envs\\FACT_AI\\lib\\site-packages\\pytorch_lightning\\accelerators\\accelerator.py\u001b[0m in \u001b[0;36mbatch_to_device\u001b[1;34m(self, batch, device)\u001b[0m\n\u001b[0;32m     70\u001b[0m         \u001b[0mmodel\u001b[0m \u001b[1;33m=\u001b[0m \u001b[0mself\u001b[0m\u001b[1;33m.\u001b[0m\u001b[0mtrainer\u001b[0m\u001b[1;33m.\u001b[0m\u001b[0mget_model\u001b[0m\u001b[1;33m(\u001b[0m\u001b[1;33m)\u001b[0m\u001b[1;33m\u001b[0m\u001b[1;33m\u001b[0m\u001b[0m\n\u001b[0;32m     71\u001b[0m         \u001b[1;32mif\u001b[0m \u001b[0mmodel\u001b[0m \u001b[1;32mis\u001b[0m \u001b[1;32mnot\u001b[0m \u001b[1;32mNone\u001b[0m\u001b[1;33m:\u001b[0m\u001b[1;33m\u001b[0m\u001b[1;33m\u001b[0m\u001b[0m\n\u001b[1;32m---> 72\u001b[1;33m             \u001b[1;32mreturn\u001b[0m \u001b[0mmodel\u001b[0m\u001b[1;33m.\u001b[0m\u001b[0mtransfer_batch_to_device\u001b[0m\u001b[1;33m(\u001b[0m\u001b[0mbatch\u001b[0m\u001b[1;33m,\u001b[0m \u001b[0mdevice\u001b[0m\u001b[1;33m)\u001b[0m\u001b[1;33m\u001b[0m\u001b[1;33m\u001b[0m\u001b[0m\n\u001b[0m\u001b[0;32m     73\u001b[0m         \u001b[1;32mreturn\u001b[0m \u001b[0mmove_data_to_device\u001b[0m\u001b[1;33m(\u001b[0m\u001b[0mbatch\u001b[0m\u001b[1;33m,\u001b[0m \u001b[0mdevice\u001b[0m\u001b[1;33m)\u001b[0m\u001b[1;33m\u001b[0m\u001b[1;33m\u001b[0m\u001b[0m\n\u001b[0;32m     74\u001b[0m \u001b[1;33m\u001b[0m\u001b[0m\n",
      "\u001b[1;32m~\\Anaconda3\\envs\\FACT_AI\\lib\\site-packages\\pytorch_lightning\\core\\hooks.py\u001b[0m in \u001b[0;36mtransfer_batch_to_device\u001b[1;34m(self, batch, device)\u001b[0m\n\u001b[0;32m    553\u001b[0m             \u001b[1;33m-\u001b[0m \u001b[1;33m:\u001b[0m\u001b[0mfunc\u001b[0m\u001b[1;33m:\u001b[0m\u001b[0;31m`\u001b[0m\u001b[1;33m~\u001b[0m\u001b[0mpytorch_lightning\u001b[0m\u001b[1;33m.\u001b[0m\u001b[0mutilities\u001b[0m\u001b[1;33m.\u001b[0m\u001b[0mapply_func\u001b[0m\u001b[1;33m.\u001b[0m\u001b[0mapply_to_collection\u001b[0m\u001b[0;31m`\u001b[0m\u001b[1;33m\u001b[0m\u001b[1;33m\u001b[0m\u001b[0m\n\u001b[0;32m    554\u001b[0m         \"\"\"\n\u001b[1;32m--> 555\u001b[1;33m         \u001b[1;32mreturn\u001b[0m \u001b[0mmove_data_to_device\u001b[0m\u001b[1;33m(\u001b[0m\u001b[0mbatch\u001b[0m\u001b[1;33m,\u001b[0m \u001b[0mdevice\u001b[0m\u001b[1;33m)\u001b[0m\u001b[1;33m\u001b[0m\u001b[1;33m\u001b[0m\u001b[0m\n\u001b[0m\u001b[0;32m    556\u001b[0m \u001b[1;33m\u001b[0m\u001b[0m\n\u001b[0;32m    557\u001b[0m \u001b[1;33m\u001b[0m\u001b[0m\n",
      "\u001b[1;32m~\\Anaconda3\\envs\\FACT_AI\\lib\\site-packages\\pytorch_lightning\\utilities\\apply_func.py\u001b[0m in \u001b[0;36mmove_data_to_device\u001b[1;34m(batch, device)\u001b[0m\n\u001b[0;32m    123\u001b[0m \u001b[1;33m\u001b[0m\u001b[0m\n\u001b[0;32m    124\u001b[0m     \u001b[0mdtype\u001b[0m \u001b[1;33m=\u001b[0m \u001b[1;33m(\u001b[0m\u001b[0mTransferableDataType\u001b[0m\u001b[1;33m,\u001b[0m \u001b[0mBatch\u001b[0m\u001b[1;33m)\u001b[0m \u001b[1;32mif\u001b[0m \u001b[0mTORCHTEXT_AVAILABLE\u001b[0m \u001b[1;32melse\u001b[0m \u001b[0mTransferableDataType\u001b[0m\u001b[1;33m\u001b[0m\u001b[1;33m\u001b[0m\u001b[0m\n\u001b[1;32m--> 125\u001b[1;33m     \u001b[1;32mreturn\u001b[0m \u001b[0mapply_to_collection\u001b[0m\u001b[1;33m(\u001b[0m\u001b[0mbatch\u001b[0m\u001b[1;33m,\u001b[0m \u001b[0mdtype\u001b[0m\u001b[1;33m=\u001b[0m\u001b[0mdtype\u001b[0m\u001b[1;33m,\u001b[0m \u001b[0mfunction\u001b[0m\u001b[1;33m=\u001b[0m\u001b[0mbatch_to\u001b[0m\u001b[1;33m)\u001b[0m\u001b[1;33m\u001b[0m\u001b[1;33m\u001b[0m\u001b[0m\n\u001b[0m",
      "\u001b[1;32m~\\Anaconda3\\envs\\FACT_AI\\lib\\site-packages\\pytorch_lightning\\utilities\\apply_func.py\u001b[0m in \u001b[0;36mapply_to_collection\u001b[1;34m(data, dtype, function, *args, **kwargs)\u001b[0m\n\u001b[0;32m     56\u001b[0m         \u001b[1;32mreturn\u001b[0m \u001b[0melem_type\u001b[0m\u001b[1;33m(\u001b[0m\u001b[1;33m*\u001b[0m\u001b[1;33m(\u001b[0m\u001b[0mapply_to_collection\u001b[0m\u001b[1;33m(\u001b[0m\u001b[0md\u001b[0m\u001b[1;33m,\u001b[0m \u001b[0mdtype\u001b[0m\u001b[1;33m,\u001b[0m \u001b[0mfunction\u001b[0m\u001b[1;33m,\u001b[0m \u001b[1;33m*\u001b[0m\u001b[0margs\u001b[0m\u001b[1;33m,\u001b[0m \u001b[1;33m**\u001b[0m\u001b[0mkwargs\u001b[0m\u001b[1;33m)\u001b[0m \u001b[1;32mfor\u001b[0m \u001b[0md\u001b[0m \u001b[1;32min\u001b[0m \u001b[0mdata\u001b[0m\u001b[1;33m)\u001b[0m\u001b[1;33m)\u001b[0m\u001b[1;33m\u001b[0m\u001b[1;33m\u001b[0m\u001b[0m\n\u001b[0;32m     57\u001b[0m     \u001b[1;32melif\u001b[0m \u001b[0misinstance\u001b[0m\u001b[1;33m(\u001b[0m\u001b[0mdata\u001b[0m\u001b[1;33m,\u001b[0m \u001b[0mSequence\u001b[0m\u001b[1;33m)\u001b[0m \u001b[1;32mand\u001b[0m \u001b[1;32mnot\u001b[0m \u001b[0misinstance\u001b[0m\u001b[1;33m(\u001b[0m\u001b[0mdata\u001b[0m\u001b[1;33m,\u001b[0m \u001b[0mstr\u001b[0m\u001b[1;33m)\u001b[0m\u001b[1;33m:\u001b[0m\u001b[1;33m\u001b[0m\u001b[1;33m\u001b[0m\u001b[0m\n\u001b[1;32m---> 58\u001b[1;33m         \u001b[1;32mreturn\u001b[0m \u001b[0melem_type\u001b[0m\u001b[1;33m(\u001b[0m\u001b[1;33m[\u001b[0m\u001b[0mapply_to_collection\u001b[0m\u001b[1;33m(\u001b[0m\u001b[0md\u001b[0m\u001b[1;33m,\u001b[0m \u001b[0mdtype\u001b[0m\u001b[1;33m,\u001b[0m \u001b[0mfunction\u001b[0m\u001b[1;33m,\u001b[0m \u001b[1;33m*\u001b[0m\u001b[0margs\u001b[0m\u001b[1;33m,\u001b[0m \u001b[1;33m**\u001b[0m\u001b[0mkwargs\u001b[0m\u001b[1;33m)\u001b[0m \u001b[1;32mfor\u001b[0m \u001b[0md\u001b[0m \u001b[1;32min\u001b[0m \u001b[0mdata\u001b[0m\u001b[1;33m]\u001b[0m\u001b[1;33m)\u001b[0m\u001b[1;33m\u001b[0m\u001b[1;33m\u001b[0m\u001b[0m\n\u001b[0m\u001b[0;32m     59\u001b[0m \u001b[1;33m\u001b[0m\u001b[0m\n\u001b[0;32m     60\u001b[0m     \u001b[1;31m# data is neither of dtype, nor a collection\u001b[0m\u001b[1;33m\u001b[0m\u001b[1;33m\u001b[0m\u001b[1;33m\u001b[0m\u001b[0m\n",
      "\u001b[1;32m~\\Anaconda3\\envs\\FACT_AI\\lib\\site-packages\\pytorch_lightning\\utilities\\apply_func.py\u001b[0m in \u001b[0;36m<listcomp>\u001b[1;34m(.0)\u001b[0m\n\u001b[0;32m     56\u001b[0m         \u001b[1;32mreturn\u001b[0m \u001b[0melem_type\u001b[0m\u001b[1;33m(\u001b[0m\u001b[1;33m*\u001b[0m\u001b[1;33m(\u001b[0m\u001b[0mapply_to_collection\u001b[0m\u001b[1;33m(\u001b[0m\u001b[0md\u001b[0m\u001b[1;33m,\u001b[0m \u001b[0mdtype\u001b[0m\u001b[1;33m,\u001b[0m \u001b[0mfunction\u001b[0m\u001b[1;33m,\u001b[0m \u001b[1;33m*\u001b[0m\u001b[0margs\u001b[0m\u001b[1;33m,\u001b[0m \u001b[1;33m**\u001b[0m\u001b[0mkwargs\u001b[0m\u001b[1;33m)\u001b[0m \u001b[1;32mfor\u001b[0m \u001b[0md\u001b[0m \u001b[1;32min\u001b[0m \u001b[0mdata\u001b[0m\u001b[1;33m)\u001b[0m\u001b[1;33m)\u001b[0m\u001b[1;33m\u001b[0m\u001b[1;33m\u001b[0m\u001b[0m\n\u001b[0;32m     57\u001b[0m     \u001b[1;32melif\u001b[0m \u001b[0misinstance\u001b[0m\u001b[1;33m(\u001b[0m\u001b[0mdata\u001b[0m\u001b[1;33m,\u001b[0m \u001b[0mSequence\u001b[0m\u001b[1;33m)\u001b[0m \u001b[1;32mand\u001b[0m \u001b[1;32mnot\u001b[0m \u001b[0misinstance\u001b[0m\u001b[1;33m(\u001b[0m\u001b[0mdata\u001b[0m\u001b[1;33m,\u001b[0m \u001b[0mstr\u001b[0m\u001b[1;33m)\u001b[0m\u001b[1;33m:\u001b[0m\u001b[1;33m\u001b[0m\u001b[1;33m\u001b[0m\u001b[0m\n\u001b[1;32m---> 58\u001b[1;33m         \u001b[1;32mreturn\u001b[0m \u001b[0melem_type\u001b[0m\u001b[1;33m(\u001b[0m\u001b[1;33m[\u001b[0m\u001b[0mapply_to_collection\u001b[0m\u001b[1;33m(\u001b[0m\u001b[0md\u001b[0m\u001b[1;33m,\u001b[0m \u001b[0mdtype\u001b[0m\u001b[1;33m,\u001b[0m \u001b[0mfunction\u001b[0m\u001b[1;33m,\u001b[0m \u001b[1;33m*\u001b[0m\u001b[0margs\u001b[0m\u001b[1;33m,\u001b[0m \u001b[1;33m**\u001b[0m\u001b[0mkwargs\u001b[0m\u001b[1;33m)\u001b[0m \u001b[1;32mfor\u001b[0m \u001b[0md\u001b[0m \u001b[1;32min\u001b[0m \u001b[0mdata\u001b[0m\u001b[1;33m]\u001b[0m\u001b[1;33m)\u001b[0m\u001b[1;33m\u001b[0m\u001b[1;33m\u001b[0m\u001b[0m\n\u001b[0m\u001b[0;32m     59\u001b[0m \u001b[1;33m\u001b[0m\u001b[0m\n\u001b[0;32m     60\u001b[0m     \u001b[1;31m# data is neither of dtype, nor a collection\u001b[0m\u001b[1;33m\u001b[0m\u001b[1;33m\u001b[0m\u001b[1;33m\u001b[0m\u001b[0m\n",
      "\u001b[1;32m~\\Anaconda3\\envs\\FACT_AI\\lib\\site-packages\\pytorch_lightning\\utilities\\apply_func.py\u001b[0m in \u001b[0;36mapply_to_collection\u001b[1;34m(data, dtype, function, *args, **kwargs)\u001b[0m\n\u001b[0;32m     47\u001b[0m     \u001b[1;31m# Breaking condition\u001b[0m\u001b[1;33m\u001b[0m\u001b[1;33m\u001b[0m\u001b[1;33m\u001b[0m\u001b[0m\n\u001b[0;32m     48\u001b[0m     \u001b[1;32mif\u001b[0m \u001b[0misinstance\u001b[0m\u001b[1;33m(\u001b[0m\u001b[0mdata\u001b[0m\u001b[1;33m,\u001b[0m \u001b[0mdtype\u001b[0m\u001b[1;33m)\u001b[0m\u001b[1;33m:\u001b[0m\u001b[1;33m\u001b[0m\u001b[1;33m\u001b[0m\u001b[0m\n\u001b[1;32m---> 49\u001b[1;33m         \u001b[1;32mreturn\u001b[0m \u001b[0mfunction\u001b[0m\u001b[1;33m(\u001b[0m\u001b[0mdata\u001b[0m\u001b[1;33m,\u001b[0m \u001b[1;33m*\u001b[0m\u001b[0margs\u001b[0m\u001b[1;33m,\u001b[0m \u001b[1;33m**\u001b[0m\u001b[0mkwargs\u001b[0m\u001b[1;33m)\u001b[0m\u001b[1;33m\u001b[0m\u001b[1;33m\u001b[0m\u001b[0m\n\u001b[0m\u001b[0;32m     50\u001b[0m \u001b[1;33m\u001b[0m\u001b[0m\n\u001b[0;32m     51\u001b[0m     \u001b[1;31m# Recursively apply to collection items\u001b[0m\u001b[1;33m\u001b[0m\u001b[1;33m\u001b[0m\u001b[1;33m\u001b[0m\u001b[0m\n",
      "\u001b[1;32m~\\Anaconda3\\envs\\FACT_AI\\lib\\site-packages\\pytorch_lightning\\utilities\\apply_func.py\u001b[0m in \u001b[0;36mbatch_to\u001b[1;34m(data)\u001b[0m\n\u001b[0;32m    120\u001b[0m \u001b[1;33m\u001b[0m\u001b[0m\n\u001b[0;32m    121\u001b[0m         \u001b[0mkwargs\u001b[0m \u001b[1;33m=\u001b[0m \u001b[0mdict\u001b[0m\u001b[1;33m(\u001b[0m\u001b[0mnon_blocking\u001b[0m\u001b[1;33m=\u001b[0m\u001b[1;32mTrue\u001b[0m\u001b[1;33m)\u001b[0m \u001b[1;32mif\u001b[0m \u001b[0misinstance\u001b[0m\u001b[1;33m(\u001b[0m\u001b[0mdata\u001b[0m\u001b[1;33m,\u001b[0m \u001b[0mtorch\u001b[0m\u001b[1;33m.\u001b[0m\u001b[0mTensor\u001b[0m\u001b[1;33m)\u001b[0m \u001b[1;32melse\u001b[0m \u001b[1;33m{\u001b[0m\u001b[1;33m}\u001b[0m\u001b[1;33m\u001b[0m\u001b[1;33m\u001b[0m\u001b[0m\n\u001b[1;32m--> 122\u001b[1;33m         \u001b[1;32mreturn\u001b[0m \u001b[0mdata\u001b[0m\u001b[1;33m.\u001b[0m\u001b[0mto\u001b[0m\u001b[1;33m(\u001b[0m\u001b[0mdevice\u001b[0m\u001b[1;33m,\u001b[0m \u001b[1;33m**\u001b[0m\u001b[0mkwargs\u001b[0m\u001b[1;33m)\u001b[0m\u001b[1;33m\u001b[0m\u001b[1;33m\u001b[0m\u001b[0m\n\u001b[0m\u001b[0;32m    123\u001b[0m \u001b[1;33m\u001b[0m\u001b[0m\n\u001b[0;32m    124\u001b[0m     \u001b[0mdtype\u001b[0m \u001b[1;33m=\u001b[0m \u001b[1;33m(\u001b[0m\u001b[0mTransferableDataType\u001b[0m\u001b[1;33m,\u001b[0m \u001b[0mBatch\u001b[0m\u001b[1;33m)\u001b[0m \u001b[1;32mif\u001b[0m \u001b[0mTORCHTEXT_AVAILABLE\u001b[0m \u001b[1;32melse\u001b[0m \u001b[0mTransferableDataType\u001b[0m\u001b[1;33m\u001b[0m\u001b[1;33m\u001b[0m\u001b[0m\n",
      "\u001b[1;31mRuntimeError\u001b[0m: CUDA out of memory. Tried to allocate 20.00 MiB (GPU 0; 4.00 GiB total capacity; 1.16 GiB already allocated; 0 bytes free; 1.16 GiB reserved in total by PyTorch)"
     ]
    }
   ],
   "source": [
    "# print the most important arguments given by the user\n",
    "print('----- MODEL SUMMARY -----')\n",
    "print('Model: LeNet')\n",
    "print('Dataset: Cifar-10')\n",
    "print('Epochs: ' + str(3)) ## AANVULLEN\n",
    "print('K value: 2')\n",
    "print('Learning rate: 1e3 ')\n",
    "print('Batch size: 512')\n",
    "print('-------------------------')\n",
    "\n",
    "    # load the data from the dataloader\n",
    "num_classes, trainloader, valloader, testloader = load_data(\n",
    "       'CIFAR-10', 512, 0\n",
    "    )\n",
    "trainer = pl.Trainer(\n",
    "                        gpus=1 if torch.cuda.is_available() else 0,\n",
    "                        max_epochs=1000,\n",
    "                        progress_bar_refresh_rate=1)\n",
    "\n",
    "# seed for reproducability\n",
    "pl.seed_everything(42)\n",
    "\n",
    "    # initialize the model\n",
    "device = torch.device(\"cuda:0\" if torch.cuda.is_available() else \"cpu\")\n",
    "model = initialize_model('LeNet', num_classes, 1e-3, 2)\n",
    "\n",
    "   \n",
    "# load the saved model\n",
    "print('Loading model..')\n",
    "model.load_state_dict(torch.load('./saved_models/LeNet_save'))\n",
    "print('Model successfully loaded')\n",
    "print('Testing model..')\n",
    "out = trainer.test(model=model, test_dataloaders=testloader)\n",
    "print('Testing successfull')\n",
    "\n",
    "resultDict['LeNet'] = out[0]"
   ]
  },
  {
   "cell_type": "markdown",
   "metadata": {},
   "source": [
    "### Complex LeNet"
   ]
  },
  {
   "cell_type": "code",
   "execution_count": 12,
   "metadata": {},
   "outputs": [
    {
     "name": "stdout",
     "output_type": "stream",
     "text": [
      "----- MODEL SUMMARY -----\n",
      "Model: Complex LeNet\n",
      "Dataset: Cifar-10\n",
      "K value: 2\n",
      "Learning rate: 1e3 \n",
      "Batch size: 512\n",
      "-------------------------\n",
      "Files already downloaded and verified\n",
      "Files already downloaded and verified\n"
     ]
    },
    {
     "name": "stderr",
     "output_type": "stream",
     "text": [
      "GPU available: True, used: True\n",
      "TPU available: False, using: 0 TPU cores\n",
      "LOCAL_RANK: 0 - CUDA_VISIBLE_DEVICES: [0]\n"
     ]
    },
    {
     "name": "stdout",
     "output_type": "stream",
     "text": [
      "Loading model..\n",
      "Model successfully loaded\n",
      "Testing model..\n"
     ]
    },
    {
     "data": {
      "application/vnd.jupyter.widget-view+json": {
       "model_id": "14512433f4624b93880c1b2947860ca1",
       "version_major": 2,
       "version_minor": 0
      },
      "text/plain": [
       "HBox(children=(HTML(value='Testing'), FloatProgress(value=1.0, bar_style='info', layout=Layout(flex='2'), max=…"
      ]
     },
     "metadata": {},
     "output_type": "display_data"
    },
    {
     "name": "stdout",
     "output_type": "stream",
     "text": [
      "--------------------------------------------------------------------------------\n",
      "DATALOADER:0 TEST RESULTS\n",
      "{'test_acc': tensor(0.2314, device='cuda:0'),\n",
      " 'test_generator_loss': tensor(0.3460, device='cuda:0'),\n",
      " 'test_model_loss': tensor(3.3280, device='cuda:0'),\n",
      " 'test_total-loss': tensor(3.6740, device='cuda:0')}\n",
      "--------------------------------------------------------------------------------\n",
      "\n",
      "Testing successfull\n"
     ]
    }
   ],
   "source": [
    "# print the most important arguments given by the user\n",
    "print('----- MODEL SUMMARY -----')\n",
    "print('Model: Complex LeNet')\n",
    "print('Dataset: Cifar-10')\n",
    "print('K value: 2')\n",
    "print('Learning rate: 1e3 ')\n",
    "print('Batch size: 512')\n",
    "print('-------------------------')\n",
    "\n",
    "    # load the data from the dataloader\n",
    "num_classes, trainloader, valloader, testloader = load_data(\n",
    "       'CIFAR-10', 512, 0\n",
    "    )\n",
    "trainer = pl.Trainer(\n",
    "                        gpus=1 if torch.cuda.is_available() else 0,\n",
    "                        max_epochs=1000,\n",
    "                        progress_bar_refresh_rate=1)\n",
    "\n",
    "# seed for reproducability\n",
    "pl.seed_everything(42)\n",
    "\n",
    "    # initialize the model\n",
    "device = torch.device(\"cuda:0\" if torch.cuda.is_available() else \"cpu\")\n",
    "model = initialize_model('Complex_LeNet', num_classes, 1e-3, 2)\n",
    "\n",
    "   \n",
    "# load the saved model\n",
    "print('Loading model..')\n",
    "model.load_state_dict(torch.load('./saved_models/Complex_LeNet_save'))\n",
    "print('Model successfully loaded')\n",
    "print('Testing model..')\n",
    "out = trainer.test(model=model, test_dataloaders=testloader)\n",
    "print('Testing successfull')\n",
    "\n",
    "resultDict['Complex_LeNet'] = out[0]"
   ]
  },
  {
   "cell_type": "markdown",
   "metadata": {},
   "source": [
    "### ResNet-56"
   ]
  },
  {
   "cell_type": "code",
   "execution_count": 13,
   "metadata": {},
   "outputs": [
    {
     "name": "stdout",
     "output_type": "stream",
     "text": [
      "----- MODEL SUMMARY -----\n",
      "Model: ResNet-56\n",
      "Dataset: Cifar-100\n",
      "K value: 2\n",
      "Learning rate: 1e3 \n",
      "Batch size: 512\n",
      "-------------------------\n",
      "Files already downloaded and verified\n",
      "Files already downloaded and verified\n"
     ]
    },
    {
     "name": "stderr",
     "output_type": "stream",
     "text": [
      "GPU available: True, used: True\n",
      "TPU available: False, using: 0 TPU cores\n",
      "LOCAL_RANK: 0 - CUDA_VISIBLE_DEVICES: [0]\n"
     ]
    },
    {
     "name": "stdout",
     "output_type": "stream",
     "text": [
      "Loading model..\n",
      "Model successfully loaded\n",
      "Testing model..\n"
     ]
    },
    {
     "data": {
      "application/vnd.jupyter.widget-view+json": {
       "model_id": "48a7b02b9a084ff3aeeb26b59c037aec",
       "version_major": 2,
       "version_minor": 0
      },
      "text/plain": [
       "HBox(children=(HTML(value='Testing'), FloatProgress(value=1.0, bar_style='info', layout=Layout(flex='2'), max=…"
      ]
     },
     "metadata": {},
     "output_type": "display_data"
    },
    {
     "name": "stdout",
     "output_type": "stream",
     "text": [
      "--------------------------------------------------------------------------------\n",
      "DATALOADER:0 TEST RESULTS\n",
      "{'test_acc': tensor(0.2952, device='cuda:0'),\n",
      " 'test_loss': tensor(3.1712, device='cuda:0')}\n",
      "--------------------------------------------------------------------------------\n",
      "\n",
      "Testing successfull\n"
     ]
    }
   ],
   "source": [
    "# print the most important arguments given by the user\n",
    "print('----- MODEL SUMMARY -----')\n",
    "print('Model: ResNet-56')\n",
    "print('Dataset: Cifar-100')\n",
    "print('K value: 2')\n",
    "print('Learning rate: 1e3 ')\n",
    "print('Batch size: 512')\n",
    "print('-------------------------')\n",
    "\n",
    "    # load the data from the dataloader\n",
    "num_classes, trainloader, valloader, testloader = load_data(\n",
    "       'CIFAR-100', 512, 0\n",
    "    )\n",
    "trainer = pl.Trainer(\n",
    "                        gpus=1 if torch.cuda.is_available() else 0,\n",
    "                        max_epochs=1000,\n",
    "                        progress_bar_refresh_rate=1)\n",
    "\n",
    "# seed for reproducability\n",
    "pl.seed_everything(42)\n",
    "\n",
    "    # initialize the model\n",
    "device = torch.device(\"cuda:0\" if torch.cuda.is_available() else \"cpu\")\n",
    "model = initialize_model('ResNet-56', num_classes, 1e-3, 2)\n",
    "\n",
    "   \n",
    "# load the saved model\n",
    "print('Loading model..')\n",
    "model.load_state_dict(torch.load('./saved_models/ResNet-56_save'))\n",
    "print('Model successfully loaded')\n",
    "print('Testing model..')\n",
    "out = trainer.test(model=model, test_dataloaders=testloader)\n",
    "print('Testing successfull')\n",
    "\n",
    "resultDict['ResNet-56'] = out[0]"
   ]
  },
  {
   "cell_type": "markdown",
   "metadata": {},
   "source": [
    "### Complex ResNet-56"
   ]
  },
  {
   "cell_type": "code",
   "execution_count": 14,
   "metadata": {},
   "outputs": [
    {
     "name": "stdout",
     "output_type": "stream",
     "text": [
      "----- MODEL SUMMARY -----\n",
      "Model: Complex ResNet-56\n",
      "Dataset: Cifar-100\n",
      "K value: 2\n",
      "Learning rate: 1e3 \n",
      "Batch size: 512\n",
      "-------------------------\n",
      "Files already downloaded and verified\n",
      "Files already downloaded and verified\n"
     ]
    },
    {
     "name": "stderr",
     "output_type": "stream",
     "text": [
      "GPU available: True, used: True\n",
      "TPU available: False, using: 0 TPU cores\n",
      "LOCAL_RANK: 0 - CUDA_VISIBLE_DEVICES: [0]\n"
     ]
    },
    {
     "name": "stdout",
     "output_type": "stream",
     "text": [
      "Loading model..\n",
      "Model successfully loaded\n",
      "Testing model..\n"
     ]
    },
    {
     "data": {
      "application/vnd.jupyter.widget-view+json": {
       "model_id": "8d1e9c975d9e44e3abbc8e931827e7c4",
       "version_major": 2,
       "version_minor": 0
      },
      "text/plain": [
       "HBox(children=(HTML(value='Testing'), FloatProgress(value=1.0, bar_style='info', layout=Layout(flex='2'), max=…"
      ]
     },
     "metadata": {},
     "output_type": "display_data"
    },
    {
     "name": "stdout",
     "output_type": "stream",
     "text": [
      "--------------------------------------------------------------------------------\n",
      "DATALOADER:0 TEST RESULTS\n",
      "{'test_acc': tensor(0.1500, device='cuda:0'),\n",
      " 'test_generator_loss': tensor(0.4614, device='cuda:0'),\n",
      " 'test_model_loss': tensor(3.6868, device='cuda:0'),\n",
      " 'test_total-loss': tensor(4.1482, device='cuda:0')}\n",
      "--------------------------------------------------------------------------------\n",
      "\n",
      "Testing successfull\n"
     ]
    }
   ],
   "source": [
    "# print the most important arguments given by the user\n",
    "print('----- MODEL SUMMARY -----')\n",
    "print('Model: Complex ResNet-56')\n",
    "print('Dataset: Cifar-100')\n",
    "print('K value: 2')\n",
    "print('Learning rate: 1e3 ')\n",
    "print('Batch size: 512')\n",
    "print('-------------------------')\n",
    "\n",
    "    # load the data from the dataloader\n",
    "num_classes, trainloader, valloader, testloader = load_data(\n",
    "       'CIFAR-100', 512, 0\n",
    "    )\n",
    "trainer = pl.Trainer(\n",
    "                        gpus=1 if torch.cuda.is_available() else 0,\n",
    "                        max_epochs=1000,\n",
    "                        progress_bar_refresh_rate=1)\n",
    "\n",
    "# seed for reproducability\n",
    "pl.seed_everything(42)\n",
    "\n",
    "    # initialize the model\n",
    "device = torch.device(\"cuda:0\" if torch.cuda.is_available() else \"cpu\")\n",
    "model = initialize_model('Complex_ResNet-56', num_classes, 1e-3, 2)\n",
    "\n",
    "   \n",
    "# load the saved model\n",
    "print('Loading model..')\n",
    "model.load_state_dict(torch.load('./saved_models/Complex_ResNet-56_save'))\n",
    "print('Model successfully loaded')\n",
    "print('Testing model..')\n",
    "out = trainer.test(model=model, test_dataloaders=testloader)\n",
    "print('Testing successfull')\n",
    "\n",
    "resultDict['Complex_ResNet-56'] = out[0]"
   ]
  },
  {
   "cell_type": "markdown",
   "metadata": {},
   "source": [
    "### ResNet-110"
   ]
  },
  {
   "cell_type": "code",
   "execution_count": 15,
   "metadata": {},
   "outputs": [
    {
     "name": "stdout",
     "output_type": "stream",
     "text": [
      "----- MODEL SUMMARY -----\n",
      "Model: ResNet-110\n",
      "Dataset: Cifar-100\n",
      "K value: 2\n",
      "Learning rate: 1e3 \n",
      "Batch size: 512\n",
      "-------------------------\n",
      "Files already downloaded and verified\n",
      "Files already downloaded and verified\n"
     ]
    },
    {
     "name": "stderr",
     "output_type": "stream",
     "text": [
      "GPU available: True, used: True\n",
      "TPU available: False, using: 0 TPU cores\n",
      "LOCAL_RANK: 0 - CUDA_VISIBLE_DEVICES: [0]\n"
     ]
    },
    {
     "name": "stdout",
     "output_type": "stream",
     "text": [
      "Loading model..\n",
      "Model successfully loaded\n",
      "Testing model..\n"
     ]
    },
    {
     "data": {
      "application/vnd.jupyter.widget-view+json": {
       "model_id": "1ae223f905fe4b65b52b87f48002efbe",
       "version_major": 2,
       "version_minor": 0
      },
      "text/plain": [
       "HBox(children=(HTML(value='Testing'), FloatProgress(value=1.0, bar_style='info', layout=Layout(flex='2'), max=…"
      ]
     },
     "metadata": {},
     "output_type": "display_data"
    },
    {
     "name": "stdout",
     "output_type": "stream",
     "text": [
      "--------------------------------------------------------------------------------\n",
      "DATALOADER:0 TEST RESULTS\n",
      "{'test_acc': tensor(0.2700, device='cuda:0'),\n",
      " 'test_loss': tensor(3.0797, device='cuda:0')}\n",
      "--------------------------------------------------------------------------------\n",
      "\n",
      "Testing successfull\n"
     ]
    }
   ],
   "source": [
    "# print the most important arguments given by the user\n",
    "print('----- MODEL SUMMARY -----')\n",
    "print('Model: ResNet-110')\n",
    "print('Dataset: Cifar-100')\n",
    "print('K value: 2')\n",
    "print('Learning rate: 1e3 ')\n",
    "print('Batch size: 512')\n",
    "print('-------------------------')\n",
    "\n",
    "    # load the data from the dataloader\n",
    "num_classes, trainloader, valloader, testloader = load_data(\n",
    "       'CIFAR-100', 512, 0\n",
    "    )\n",
    "trainer = pl.Trainer(\n",
    "                        gpus=1 if torch.cuda.is_available() else 0,\n",
    "                        max_epochs=1000,\n",
    "                        progress_bar_refresh_rate=1)\n",
    "\n",
    "# seed for reproducability\n",
    "pl.seed_everything(42)\n",
    "\n",
    "    # initialize the model\n",
    "device = torch.device(\"cuda:0\" if torch.cuda.is_available() else \"cpu\")\n",
    "model = initialize_model('ResNet-110', num_classes, 1e-3, 2)\n",
    "\n",
    "   \n",
    "# load the saved model\n",
    "print('Loading model..')\n",
    "model.load_state_dict(torch.load('./saved_models/ResNet-110_save'))\n",
    "print('Model successfully loaded')\n",
    "print('Testing model..')\n",
    "out = trainer.test(model=model, test_dataloaders=testloader)\n",
    "print('Testing successfull')\n",
    "\n",
    "resultDict['ResNet-110'] = out[0]"
   ]
  },
  {
   "cell_type": "markdown",
   "metadata": {},
   "source": [
    "### Complex ResNet-110"
   ]
  },
  {
   "cell_type": "code",
   "execution_count": 16,
   "metadata": {},
   "outputs": [
    {
     "name": "stdout",
     "output_type": "stream",
     "text": [
      "----- MODEL SUMMARY -----\n",
      "Model: Complex ResNet-110\n",
      "Dataset: Cifar-100\n",
      "K value: 2\n",
      "Learning rate: 1e3 \n",
      "Batch size: 512\n",
      "-------------------------\n",
      "Files already downloaded and verified\n",
      "Files already downloaded and verified\n"
     ]
    },
    {
     "name": "stderr",
     "output_type": "stream",
     "text": [
      "GPU available: True, used: True\n",
      "TPU available: False, using: 0 TPU cores\n",
      "LOCAL_RANK: 0 - CUDA_VISIBLE_DEVICES: [0]\n"
     ]
    },
    {
     "name": "stdout",
     "output_type": "stream",
     "text": [
      "Loading model..\n",
      "Model successfully loaded\n",
      "Testing model..\n"
     ]
    },
    {
     "data": {
      "application/vnd.jupyter.widget-view+json": {
       "model_id": "10257f9861a74461a3bddb6832a78a63",
       "version_major": 2,
       "version_minor": 0
      },
      "text/plain": [
       "HBox(children=(HTML(value='Testing'), FloatProgress(value=1.0, bar_style='info', layout=Layout(flex='2'), max=…"
      ]
     },
     "metadata": {},
     "output_type": "display_data"
    },
    {
     "name": "stdout",
     "output_type": "stream",
     "text": [
      "--------------------------------------------------------------------------------\n",
      "DATALOADER:0 TEST RESULTS\n",
      "{'test_acc': tensor(0.1112, device='cuda:0'),\n",
      " 'test_generator_loss': tensor(0.4549, device='cuda:0'),\n",
      " 'test_model_loss': tensor(3.9579, device='cuda:0'),\n",
      " 'test_total-loss': tensor(4.4129, device='cuda:0')}\n",
      "--------------------------------------------------------------------------------\n",
      "\n",
      "Testing successfull\n"
     ]
    }
   ],
   "source": [
    "# print the most important arguments given by the user\n",
    "print('----- MODEL SUMMARY -----')\n",
    "print('Model: Complex ResNet-110')\n",
    "print('Dataset: Cifar-100')\n",
    "print('K value: 2')\n",
    "print('Learning rate: 1e3 ')\n",
    "print('Batch size: 512')\n",
    "print('-------------------------')\n",
    "\n",
    "    # load the data from the dataloader\n",
    "num_classes, trainloader, valloader, testloader = load_data(\n",
    "       'CIFAR-100', 512, 0\n",
    "    )\n",
    "trainer = pl.Trainer(\n",
    "                        gpus=1 if torch.cuda.is_available() else 0,\n",
    "                        max_epochs=1000,\n",
    "                        progress_bar_refresh_rate=1)\n",
    "\n",
    "# seed for reproducability\n",
    "pl.seed_everything(42)\n",
    "\n",
    "    # initialize the model\n",
    "device = torch.device(\"cuda:0\" if torch.cuda.is_available() else \"cpu\")\n",
    "model = initialize_model('Complex_ResNet-110', num_classes, 1e-3, 2)\n",
    "\n",
    "   \n",
    "# load the saved model\n",
    "print('Loading model..')\n",
    "model.load_state_dict(torch.load('./saved_models/Complex_ResNet-110_save'))\n",
    "print('Model successfully loaded')\n",
    "print('Testing model..')\n",
    "out = trainer.test(model=model, test_dataloaders=testloader)\n",
    "print('Testing successfull')\n",
    "\n",
    "resultDict['Complex_ResNet-110'] = out[0]"
   ]
  },
  {
   "cell_type": "markdown",
   "metadata": {},
   "source": [
    "### VGG-16"
   ]
  },
  {
   "cell_type": "code",
   "execution_count": 17,
   "metadata": {},
   "outputs": [
    {
     "name": "stdout",
     "output_type": "stream",
     "text": [
      "----- MODEL SUMMARY -----\n",
      "Model: VGG-16\n",
      "Dataset: CUB-200\n",
      "K value: 2\n",
      "Learning rate: 1e3 \n",
      "Batch size: 256\n",
      "-------------------------\n"
     ]
    },
    {
     "name": "stderr",
     "output_type": "stream",
     "text": [
      "GPU available: True, used: True\n",
      "TPU available: False, using: 0 TPU cores\n",
      "LOCAL_RANK: 0 - CUDA_VISIBLE_DEVICES: [0]\n"
     ]
    },
    {
     "name": "stdout",
     "output_type": "stream",
     "text": [
      "Loading model..\n",
      "Model successfully loaded\n",
      "Testing model..\n"
     ]
    },
    {
     "data": {
      "application/vnd.jupyter.widget-view+json": {
       "model_id": "ebc6192fdb8b43518d599e7a711709ce",
       "version_major": 2,
       "version_minor": 0
      },
      "text/plain": [
       "HBox(children=(HTML(value='Testing'), FloatProgress(value=1.0, bar_style='info', layout=Layout(flex='2'), max=…"
      ]
     },
     "metadata": {},
     "output_type": "display_data"
    },
    {
     "name": "stdout",
     "output_type": "stream",
     "text": [
      "--------------------------------------------------------------------------------\n",
      "DATALOADER:0 TEST RESULTS\n",
      "{'test_acc': tensor(0.7614, device='cuda:0'),\n",
      " 'test_loss': tensor(2.5681, device='cuda:0')}\n",
      "--------------------------------------------------------------------------------\n",
      "\n",
      "Testing successfull\n"
     ]
    }
   ],
   "source": [
    "# print the most important arguments given by the user\n",
    "print('----- MODEL SUMMARY -----')\n",
    "print('Model: VGG-16')\n",
    "print('Dataset: CUB-200')\n",
    "print('K value: 2')\n",
    "print('Learning rate: 1e3 ')\n",
    "print('Batch size: 256')\n",
    "print('-------------------------')\n",
    "\n",
    "    # load the data from the dataloader\n",
    "num_classes, trainloader, valloader, testloader = load_data(\n",
    "       'CUB-200', 64, 0\n",
    "    )\n",
    "\n",
    "trainer = pl.Trainer(\n",
    "                        gpus=1 if torch.cuda.is_available() else 0,\n",
    "                        max_epochs=1000,\n",
    "                        progress_bar_refresh_rate=1)\n",
    "\n",
    "# seed for reproducability\n",
    "pl.seed_everything(42)\n",
    "\n",
    "    # initialize the model\n",
    "device = torch.device(\"cuda:0\" if torch.cuda.is_available() else \"cpu\")\n",
    "model = initialize_model('VGG-16', num_classes, 1e-3, 2)\n",
    "\n",
    "   \n",
    "# load the saved model\n",
    "print('Loading model..')\n",
    "model.load_state_dict(torch.load('./saved_models/VGG-16_save'))\n",
    "print('Model successfully loaded')\n",
    "print('Testing model..')\n",
    "out = trainer.test(model=model, test_dataloaders=testloader)\n",
    "print('Testing successfull')\n",
    "\n",
    "resultDict['VGG-16'] = out[0]"
   ]
  },
  {
   "cell_type": "markdown",
   "metadata": {},
   "source": [
    "### Complex VGG-16"
   ]
  },
  {
   "cell_type": "code",
   "execution_count": 19,
   "metadata": {},
   "outputs": [
    {
     "name": "stdout",
     "output_type": "stream",
     "text": [
      "----- MODEL SUMMARY -----\n",
      "Model: Complex VGG-16\n",
      "Dataset: CUB-200\n",
      "K value: 2\n",
      "Learning rate: 1e3 \n",
      "Batch size: 256\n",
      "-------------------------\n"
     ]
    },
    {
     "name": "stderr",
     "output_type": "stream",
     "text": [
      "GPU available: True, used: True\n",
      "TPU available: False, using: 0 TPU cores\n",
      "LOCAL_RANK: 0 - CUDA_VISIBLE_DEVICES: [0]\n"
     ]
    },
    {
     "name": "stdout",
     "output_type": "stream",
     "text": [
      "Loading model..\n",
      "Model successfully loaded\n",
      "Testing model..\n"
     ]
    },
    {
     "data": {
      "application/vnd.jupyter.widget-view+json": {
       "model_id": "a8a774ce7f19410ca38783c52cf80d06",
       "version_major": 2,
       "version_minor": 0
      },
      "text/plain": [
       "HBox(children=(HTML(value='Testing'), FloatProgress(value=1.0, bar_style='info', layout=Layout(flex='2'), max=…"
      ]
     },
     "metadata": {},
     "output_type": "display_data"
    },
    {
     "ename": "RuntimeError",
     "evalue": "CUDA out of memory. Tried to allocate 98.00 MiB (GPU 0; 4.00 GiB total capacity; 1.07 GiB already allocated; 47.01 MiB free; 1.16 GiB reserved in total by PyTorch)",
     "output_type": "error",
     "traceback": [
      "\u001b[1;31m---------------------------------------------------------------------------\u001b[0m",
      "\u001b[1;31mRuntimeError\u001b[0m                              Traceback (most recent call last)",
      "\u001b[1;32m<ipython-input-19-4389da916c0b>\u001b[0m in \u001b[0;36m<module>\u001b[1;34m\u001b[0m\n\u001b[0;32m     30\u001b[0m \u001b[0mprint\u001b[0m\u001b[1;33m(\u001b[0m\u001b[1;34m'Model successfully loaded'\u001b[0m\u001b[1;33m)\u001b[0m\u001b[1;33m\u001b[0m\u001b[1;33m\u001b[0m\u001b[0m\n\u001b[0;32m     31\u001b[0m \u001b[0mprint\u001b[0m\u001b[1;33m(\u001b[0m\u001b[1;34m'Testing model..'\u001b[0m\u001b[1;33m)\u001b[0m\u001b[1;33m\u001b[0m\u001b[1;33m\u001b[0m\u001b[0m\n\u001b[1;32m---> 32\u001b[1;33m \u001b[0mout\u001b[0m \u001b[1;33m=\u001b[0m \u001b[0mtrainer\u001b[0m\u001b[1;33m.\u001b[0m\u001b[0mtest\u001b[0m\u001b[1;33m(\u001b[0m\u001b[0mmodel\u001b[0m\u001b[1;33m=\u001b[0m\u001b[0mmodel\u001b[0m\u001b[1;33m,\u001b[0m \u001b[0mtest_dataloaders\u001b[0m\u001b[1;33m=\u001b[0m\u001b[0mtestloader\u001b[0m\u001b[1;33m)\u001b[0m\u001b[1;33m\u001b[0m\u001b[1;33m\u001b[0m\u001b[0m\n\u001b[0m\u001b[0;32m     33\u001b[0m \u001b[0mprint\u001b[0m\u001b[1;33m(\u001b[0m\u001b[1;34m'Testing successfull'\u001b[0m\u001b[1;33m)\u001b[0m\u001b[1;33m\u001b[0m\u001b[1;33m\u001b[0m\u001b[0m\n\u001b[0;32m     34\u001b[0m \u001b[1;33m\u001b[0m\u001b[0m\n",
      "\u001b[1;32m~\\Anaconda3\\envs\\FACT_AI\\lib\\site-packages\\pytorch_lightning\\trainer\\trainer.py\u001b[0m in \u001b[0;36mtest\u001b[1;34m(self, model, test_dataloaders, ckpt_path, verbose, datamodule)\u001b[0m\n\u001b[0;32m    705\u001b[0m \u001b[1;33m\u001b[0m\u001b[0m\n\u001b[0;32m    706\u001b[0m         \u001b[1;32mif\u001b[0m \u001b[0mmodel\u001b[0m \u001b[1;32mis\u001b[0m \u001b[1;32mnot\u001b[0m \u001b[1;32mNone\u001b[0m\u001b[1;33m:\u001b[0m\u001b[1;33m\u001b[0m\u001b[1;33m\u001b[0m\u001b[0m\n\u001b[1;32m--> 707\u001b[1;33m             \u001b[0mresults\u001b[0m \u001b[1;33m=\u001b[0m \u001b[0mself\u001b[0m\u001b[1;33m.\u001b[0m\u001b[0m__test_given_model\u001b[0m\u001b[1;33m(\u001b[0m\u001b[0mmodel\u001b[0m\u001b[1;33m,\u001b[0m \u001b[0mtest_dataloaders\u001b[0m\u001b[1;33m)\u001b[0m\u001b[1;33m\u001b[0m\u001b[1;33m\u001b[0m\u001b[0m\n\u001b[0m\u001b[0;32m    708\u001b[0m         \u001b[1;32melse\u001b[0m\u001b[1;33m:\u001b[0m\u001b[1;33m\u001b[0m\u001b[1;33m\u001b[0m\u001b[0m\n\u001b[0;32m    709\u001b[0m             \u001b[0mresults\u001b[0m \u001b[1;33m=\u001b[0m \u001b[0mself\u001b[0m\u001b[1;33m.\u001b[0m\u001b[0m__test_using_best_weights\u001b[0m\u001b[1;33m(\u001b[0m\u001b[0mckpt_path\u001b[0m\u001b[1;33m,\u001b[0m \u001b[0mtest_dataloaders\u001b[0m\u001b[1;33m)\u001b[0m\u001b[1;33m\u001b[0m\u001b[1;33m\u001b[0m\u001b[0m\n",
      "\u001b[1;32m~\\Anaconda3\\envs\\FACT_AI\\lib\\site-packages\\pytorch_lightning\\trainer\\trainer.py\u001b[0m in \u001b[0;36m__test_given_model\u001b[1;34m(self, model, test_dataloaders)\u001b[0m\n\u001b[0;32m    770\u001b[0m         \u001b[0mself\u001b[0m\u001b[1;33m.\u001b[0m\u001b[0mtesting\u001b[0m \u001b[1;33m=\u001b[0m \u001b[1;32mTrue\u001b[0m\u001b[1;33m\u001b[0m\u001b[1;33m\u001b[0m\u001b[0m\n\u001b[0;32m    771\u001b[0m         \u001b[0mself\u001b[0m\u001b[1;33m.\u001b[0m\u001b[0mmodel\u001b[0m \u001b[1;33m=\u001b[0m \u001b[0mmodel\u001b[0m\u001b[1;33m\u001b[0m\u001b[1;33m\u001b[0m\u001b[0m\n\u001b[1;32m--> 772\u001b[1;33m         \u001b[0mresults\u001b[0m \u001b[1;33m=\u001b[0m \u001b[0mself\u001b[0m\u001b[1;33m.\u001b[0m\u001b[0mfit\u001b[0m\u001b[1;33m(\u001b[0m\u001b[0mmodel\u001b[0m\u001b[1;33m)\u001b[0m\u001b[1;33m\u001b[0m\u001b[1;33m\u001b[0m\u001b[0m\n\u001b[0m\u001b[0;32m    773\u001b[0m         \u001b[0mself\u001b[0m\u001b[1;33m.\u001b[0m\u001b[0mtesting\u001b[0m \u001b[1;33m=\u001b[0m \u001b[1;32mFalse\u001b[0m\u001b[1;33m\u001b[0m\u001b[1;33m\u001b[0m\u001b[0m\n\u001b[0;32m    774\u001b[0m \u001b[1;33m\u001b[0m\u001b[0m\n",
      "\u001b[1;32m~\\Anaconda3\\envs\\FACT_AI\\lib\\site-packages\\pytorch_lightning\\trainer\\trainer.py\u001b[0m in \u001b[0;36mfit\u001b[1;34m(self, model, train_dataloader, val_dataloaders, datamodule)\u001b[0m\n\u001b[0;32m    437\u001b[0m         \u001b[0mself\u001b[0m\u001b[1;33m.\u001b[0m\u001b[0mcall_hook\u001b[0m\u001b[1;33m(\u001b[0m\u001b[1;34m'on_fit_start'\u001b[0m\u001b[1;33m)\u001b[0m\u001b[1;33m\u001b[0m\u001b[1;33m\u001b[0m\u001b[0m\n\u001b[0;32m    438\u001b[0m \u001b[1;33m\u001b[0m\u001b[0m\n\u001b[1;32m--> 439\u001b[1;33m         \u001b[0mresults\u001b[0m \u001b[1;33m=\u001b[0m \u001b[0mself\u001b[0m\u001b[1;33m.\u001b[0m\u001b[0maccelerator_backend\u001b[0m\u001b[1;33m.\u001b[0m\u001b[0mtrain\u001b[0m\u001b[1;33m(\u001b[0m\u001b[1;33m)\u001b[0m\u001b[1;33m\u001b[0m\u001b[1;33m\u001b[0m\u001b[0m\n\u001b[0m\u001b[0;32m    440\u001b[0m         \u001b[0mself\u001b[0m\u001b[1;33m.\u001b[0m\u001b[0maccelerator_backend\u001b[0m\u001b[1;33m.\u001b[0m\u001b[0mteardown\u001b[0m\u001b[1;33m(\u001b[0m\u001b[1;33m)\u001b[0m\u001b[1;33m\u001b[0m\u001b[1;33m\u001b[0m\u001b[0m\n\u001b[0;32m    441\u001b[0m \u001b[1;33m\u001b[0m\u001b[0m\n",
      "\u001b[1;32m~\\Anaconda3\\envs\\FACT_AI\\lib\\site-packages\\pytorch_lightning\\accelerators\\gpu_accelerator.py\u001b[0m in \u001b[0;36mtrain\u001b[1;34m(self)\u001b[0m\n\u001b[0;32m     52\u001b[0m \u001b[1;33m\u001b[0m\u001b[0m\n\u001b[0;32m     53\u001b[0m         \u001b[1;31m# train or test\u001b[0m\u001b[1;33m\u001b[0m\u001b[1;33m\u001b[0m\u001b[1;33m\u001b[0m\u001b[0m\n\u001b[1;32m---> 54\u001b[1;33m         \u001b[0mresults\u001b[0m \u001b[1;33m=\u001b[0m \u001b[0mself\u001b[0m\u001b[1;33m.\u001b[0m\u001b[0mtrain_or_test\u001b[0m\u001b[1;33m(\u001b[0m\u001b[1;33m)\u001b[0m\u001b[1;33m\u001b[0m\u001b[1;33m\u001b[0m\u001b[0m\n\u001b[0m\u001b[0;32m     55\u001b[0m         \u001b[1;32mreturn\u001b[0m \u001b[0mresults\u001b[0m\u001b[1;33m\u001b[0m\u001b[1;33m\u001b[0m\u001b[0m\n\u001b[0;32m     56\u001b[0m \u001b[1;33m\u001b[0m\u001b[0m\n",
      "\u001b[1;32m~\\Anaconda3\\envs\\FACT_AI\\lib\\site-packages\\pytorch_lightning\\accelerators\\accelerator.py\u001b[0m in \u001b[0;36mtrain_or_test\u001b[1;34m(self)\u001b[0m\n\u001b[0;32m     62\u001b[0m     \u001b[1;32mdef\u001b[0m \u001b[0mtrain_or_test\u001b[0m\u001b[1;33m(\u001b[0m\u001b[0mself\u001b[0m\u001b[1;33m)\u001b[0m\u001b[1;33m:\u001b[0m\u001b[1;33m\u001b[0m\u001b[1;33m\u001b[0m\u001b[0m\n\u001b[0;32m     63\u001b[0m         \u001b[1;32mif\u001b[0m \u001b[0mself\u001b[0m\u001b[1;33m.\u001b[0m\u001b[0mtrainer\u001b[0m\u001b[1;33m.\u001b[0m\u001b[0mtesting\u001b[0m\u001b[1;33m:\u001b[0m\u001b[1;33m\u001b[0m\u001b[1;33m\u001b[0m\u001b[0m\n\u001b[1;32m---> 64\u001b[1;33m             \u001b[0mresults\u001b[0m \u001b[1;33m=\u001b[0m \u001b[0mself\u001b[0m\u001b[1;33m.\u001b[0m\u001b[0mtrainer\u001b[0m\u001b[1;33m.\u001b[0m\u001b[0mrun_test\u001b[0m\u001b[1;33m(\u001b[0m\u001b[1;33m)\u001b[0m\u001b[1;33m\u001b[0m\u001b[1;33m\u001b[0m\u001b[0m\n\u001b[0m\u001b[0;32m     65\u001b[0m         \u001b[1;32melse\u001b[0m\u001b[1;33m:\u001b[0m\u001b[1;33m\u001b[0m\u001b[1;33m\u001b[0m\u001b[0m\n\u001b[0;32m     66\u001b[0m             \u001b[0mresults\u001b[0m \u001b[1;33m=\u001b[0m \u001b[0mself\u001b[0m\u001b[1;33m.\u001b[0m\u001b[0mtrainer\u001b[0m\u001b[1;33m.\u001b[0m\u001b[0mtrain\u001b[0m\u001b[1;33m(\u001b[0m\u001b[1;33m)\u001b[0m\u001b[1;33m\u001b[0m\u001b[1;33m\u001b[0m\u001b[0m\n",
      "\u001b[1;32m~\\Anaconda3\\envs\\FACT_AI\\lib\\site-packages\\pytorch_lightning\\trainer\\trainer.py\u001b[0m in \u001b[0;36mrun_test\u001b[1;34m(self)\u001b[0m\n\u001b[0;32m    614\u001b[0m         \u001b[1;31m# only load test dataloader for testing\u001b[0m\u001b[1;33m\u001b[0m\u001b[1;33m\u001b[0m\u001b[1;33m\u001b[0m\u001b[0m\n\u001b[0;32m    615\u001b[0m         \u001b[1;31m# self.reset_test_dataloader(ref_model)\u001b[0m\u001b[1;33m\u001b[0m\u001b[1;33m\u001b[0m\u001b[1;33m\u001b[0m\u001b[0m\n\u001b[1;32m--> 616\u001b[1;33m         \u001b[0meval_loop_results\u001b[0m\u001b[1;33m,\u001b[0m \u001b[0m_\u001b[0m \u001b[1;33m=\u001b[0m \u001b[0mself\u001b[0m\u001b[1;33m.\u001b[0m\u001b[0mrun_evaluation\u001b[0m\u001b[1;33m(\u001b[0m\u001b[0mtest_mode\u001b[0m\u001b[1;33m=\u001b[0m\u001b[1;32mTrue\u001b[0m\u001b[1;33m)\u001b[0m\u001b[1;33m\u001b[0m\u001b[1;33m\u001b[0m\u001b[0m\n\u001b[0m\u001b[0;32m    617\u001b[0m \u001b[1;33m\u001b[0m\u001b[0m\n\u001b[0;32m    618\u001b[0m         \u001b[1;32mif\u001b[0m \u001b[0mlen\u001b[0m\u001b[1;33m(\u001b[0m\u001b[0meval_loop_results\u001b[0m\u001b[1;33m)\u001b[0m \u001b[1;33m==\u001b[0m \u001b[1;36m0\u001b[0m\u001b[1;33m:\u001b[0m\u001b[1;33m\u001b[0m\u001b[1;33m\u001b[0m\u001b[0m\n",
      "\u001b[1;32m~\\Anaconda3\\envs\\FACT_AI\\lib\\site-packages\\pytorch_lightning\\trainer\\trainer.py\u001b[0m in \u001b[0;36mrun_evaluation\u001b[1;34m(self, test_mode, max_batches)\u001b[0m\n\u001b[0;32m    565\u001b[0m \u001b[1;33m\u001b[0m\u001b[0m\n\u001b[0;32m    566\u001b[0m                 \u001b[1;31m# lightning module methods\u001b[0m\u001b[1;33m\u001b[0m\u001b[1;33m\u001b[0m\u001b[1;33m\u001b[0m\u001b[0m\n\u001b[1;32m--> 567\u001b[1;33m                 \u001b[0moutput\u001b[0m \u001b[1;33m=\u001b[0m \u001b[0mself\u001b[0m\u001b[1;33m.\u001b[0m\u001b[0mevaluation_loop\u001b[0m\u001b[1;33m.\u001b[0m\u001b[0mevaluation_step\u001b[0m\u001b[1;33m(\u001b[0m\u001b[0mtest_mode\u001b[0m\u001b[1;33m,\u001b[0m \u001b[0mbatch\u001b[0m\u001b[1;33m,\u001b[0m \u001b[0mbatch_idx\u001b[0m\u001b[1;33m,\u001b[0m \u001b[0mdataloader_idx\u001b[0m\u001b[1;33m)\u001b[0m\u001b[1;33m\u001b[0m\u001b[1;33m\u001b[0m\u001b[0m\n\u001b[0m\u001b[0;32m    568\u001b[0m                 \u001b[0moutput\u001b[0m \u001b[1;33m=\u001b[0m \u001b[0mself\u001b[0m\u001b[1;33m.\u001b[0m\u001b[0mevaluation_loop\u001b[0m\u001b[1;33m.\u001b[0m\u001b[0mevaluation_step_end\u001b[0m\u001b[1;33m(\u001b[0m\u001b[0moutput\u001b[0m\u001b[1;33m)\u001b[0m\u001b[1;33m\u001b[0m\u001b[1;33m\u001b[0m\u001b[0m\n\u001b[0;32m    569\u001b[0m \u001b[1;33m\u001b[0m\u001b[0m\n",
      "\u001b[1;32m~\\Anaconda3\\envs\\FACT_AI\\lib\\site-packages\\pytorch_lightning\\trainer\\evaluation_loop.py\u001b[0m in \u001b[0;36mevaluation_step\u001b[1;34m(self, test_mode, batch, batch_idx, dataloader_idx)\u001b[0m\n\u001b[0;32m    167\u001b[0m         \u001b[1;31m# run actual test step\u001b[0m\u001b[1;33m\u001b[0m\u001b[1;33m\u001b[0m\u001b[1;33m\u001b[0m\u001b[0m\n\u001b[0;32m    168\u001b[0m         \u001b[1;32mif\u001b[0m \u001b[0mself\u001b[0m\u001b[1;33m.\u001b[0m\u001b[0mtesting\u001b[0m\u001b[1;33m:\u001b[0m\u001b[1;33m\u001b[0m\u001b[1;33m\u001b[0m\u001b[0m\n\u001b[1;32m--> 169\u001b[1;33m             \u001b[0moutput\u001b[0m \u001b[1;33m=\u001b[0m \u001b[0mself\u001b[0m\u001b[1;33m.\u001b[0m\u001b[0mtrainer\u001b[0m\u001b[1;33m.\u001b[0m\u001b[0maccelerator_backend\u001b[0m\u001b[1;33m.\u001b[0m\u001b[0mtest_step\u001b[0m\u001b[1;33m(\u001b[0m\u001b[0margs\u001b[0m\u001b[1;33m)\u001b[0m\u001b[1;33m\u001b[0m\u001b[1;33m\u001b[0m\u001b[0m\n\u001b[0m\u001b[0;32m    170\u001b[0m         \u001b[1;32melse\u001b[0m\u001b[1;33m:\u001b[0m\u001b[1;33m\u001b[0m\u001b[1;33m\u001b[0m\u001b[0m\n\u001b[0;32m    171\u001b[0m             \u001b[0moutput\u001b[0m \u001b[1;33m=\u001b[0m \u001b[0mself\u001b[0m\u001b[1;33m.\u001b[0m\u001b[0mtrainer\u001b[0m\u001b[1;33m.\u001b[0m\u001b[0maccelerator_backend\u001b[0m\u001b[1;33m.\u001b[0m\u001b[0mvalidation_step\u001b[0m\u001b[1;33m(\u001b[0m\u001b[0margs\u001b[0m\u001b[1;33m)\u001b[0m\u001b[1;33m\u001b[0m\u001b[1;33m\u001b[0m\u001b[0m\n",
      "\u001b[1;32m~\\Anaconda3\\envs\\FACT_AI\\lib\\site-packages\\pytorch_lightning\\accelerators\\gpu_accelerator.py\u001b[0m in \u001b[0;36mtest_step\u001b[1;34m(self, args)\u001b[0m\n\u001b[0;32m     92\u001b[0m                 \u001b[0moutput\u001b[0m \u001b[1;33m=\u001b[0m \u001b[0mself\u001b[0m\u001b[1;33m.\u001b[0m\u001b[0m__test_step\u001b[0m\u001b[1;33m(\u001b[0m\u001b[0margs\u001b[0m\u001b[1;33m)\u001b[0m\u001b[1;33m\u001b[0m\u001b[1;33m\u001b[0m\u001b[0m\n\u001b[0;32m     93\u001b[0m         \u001b[1;32melse\u001b[0m\u001b[1;33m:\u001b[0m\u001b[1;33m\u001b[0m\u001b[1;33m\u001b[0m\u001b[0m\n\u001b[1;32m---> 94\u001b[1;33m             \u001b[0moutput\u001b[0m \u001b[1;33m=\u001b[0m \u001b[0mself\u001b[0m\u001b[1;33m.\u001b[0m\u001b[0m__test_step\u001b[0m\u001b[1;33m(\u001b[0m\u001b[0margs\u001b[0m\u001b[1;33m)\u001b[0m\u001b[1;33m\u001b[0m\u001b[1;33m\u001b[0m\u001b[0m\n\u001b[0m\u001b[0;32m     95\u001b[0m \u001b[1;33m\u001b[0m\u001b[0m\n\u001b[0;32m     96\u001b[0m         \u001b[1;32mreturn\u001b[0m \u001b[0moutput\u001b[0m\u001b[1;33m\u001b[0m\u001b[1;33m\u001b[0m\u001b[0m\n",
      "\u001b[1;32m~\\Anaconda3\\envs\\FACT_AI\\lib\\site-packages\\pytorch_lightning\\accelerators\\gpu_accelerator.py\u001b[0m in \u001b[0;36m__test_step\u001b[1;34m(self, args)\u001b[0m\n\u001b[0;32m    100\u001b[0m         \u001b[0mbatch\u001b[0m \u001b[1;33m=\u001b[0m \u001b[0mself\u001b[0m\u001b[1;33m.\u001b[0m\u001b[0mto_device\u001b[0m\u001b[1;33m(\u001b[0m\u001b[0mbatch\u001b[0m\u001b[1;33m)\u001b[0m\u001b[1;33m\u001b[0m\u001b[1;33m\u001b[0m\u001b[0m\n\u001b[0;32m    101\u001b[0m         \u001b[0margs\u001b[0m\u001b[1;33m[\u001b[0m\u001b[1;36m0\u001b[0m\u001b[1;33m]\u001b[0m \u001b[1;33m=\u001b[0m \u001b[0mbatch\u001b[0m\u001b[1;33m\u001b[0m\u001b[1;33m\u001b[0m\u001b[0m\n\u001b[1;32m--> 102\u001b[1;33m         \u001b[0moutput\u001b[0m \u001b[1;33m=\u001b[0m \u001b[0mself\u001b[0m\u001b[1;33m.\u001b[0m\u001b[0mtrainer\u001b[0m\u001b[1;33m.\u001b[0m\u001b[0mmodel\u001b[0m\u001b[1;33m.\u001b[0m\u001b[0mtest_step\u001b[0m\u001b[1;33m(\u001b[0m\u001b[1;33m*\u001b[0m\u001b[0margs\u001b[0m\u001b[1;33m)\u001b[0m\u001b[1;33m\u001b[0m\u001b[1;33m\u001b[0m\u001b[0m\n\u001b[0m\u001b[0;32m    103\u001b[0m         \u001b[1;32mreturn\u001b[0m \u001b[0moutput\u001b[0m\u001b[1;33m\u001b[0m\u001b[1;33m\u001b[0m\u001b[0m\n\u001b[0;32m    104\u001b[0m \u001b[1;33m\u001b[0m\u001b[0m\n",
      "\u001b[1;32m~\\OneDrive - UvA\\Jaar 1\\FACT\\Git\\AI-FACT\\models\\vgg16\\complex_vgg16.py\u001b[0m in \u001b[0;36mtest_step\u001b[1;34m(self, batch, batch_idx)\u001b[0m\n\u001b[0;32m    247\u001b[0m \u001b[1;33m\u001b[0m\u001b[0m\n\u001b[0;32m    248\u001b[0m         \u001b[1;31m# run the image batch through the encoder (generator and discriminator)\u001b[0m\u001b[1;33m\u001b[0m\u001b[1;33m\u001b[0m\u001b[1;33m\u001b[0m\u001b[0m\n\u001b[1;32m--> 249\u001b[1;33m         \u001b[0mgan_loss\u001b[0m\u001b[1;33m,\u001b[0m \u001b[0mout\u001b[0m\u001b[1;33m,\u001b[0m \u001b[0mthetas\u001b[0m \u001b[1;33m=\u001b[0m \u001b[0mself\u001b[0m\u001b[1;33m.\u001b[0m\u001b[0mencoder\u001b[0m\u001b[1;33m(\u001b[0m\u001b[0mx\u001b[0m\u001b[1;33m,\u001b[0m \u001b[1;32mFalse\u001b[0m\u001b[1;33m)\u001b[0m\u001b[1;33m\u001b[0m\u001b[1;33m\u001b[0m\u001b[0m\n\u001b[0m\u001b[0;32m    250\u001b[0m \u001b[1;33m\u001b[0m\u001b[0m\n\u001b[0;32m    251\u001b[0m         \u001b[1;31m# send the encoded feature to the processing unit\u001b[0m\u001b[1;33m\u001b[0m\u001b[1;33m\u001b[0m\u001b[1;33m\u001b[0m\u001b[0m\n",
      "\u001b[1;32m~\\Anaconda3\\envs\\FACT_AI\\lib\\site-packages\\torch\\nn\\modules\\module.py\u001b[0m in \u001b[0;36m_call_impl\u001b[1;34m(self, *input, **kwargs)\u001b[0m\n\u001b[0;32m    725\u001b[0m             \u001b[0mresult\u001b[0m \u001b[1;33m=\u001b[0m \u001b[0mself\u001b[0m\u001b[1;33m.\u001b[0m\u001b[0m_slow_forward\u001b[0m\u001b[1;33m(\u001b[0m\u001b[1;33m*\u001b[0m\u001b[0minput\u001b[0m\u001b[1;33m,\u001b[0m \u001b[1;33m**\u001b[0m\u001b[0mkwargs\u001b[0m\u001b[1;33m)\u001b[0m\u001b[1;33m\u001b[0m\u001b[1;33m\u001b[0m\u001b[0m\n\u001b[0;32m    726\u001b[0m         \u001b[1;32melse\u001b[0m\u001b[1;33m:\u001b[0m\u001b[1;33m\u001b[0m\u001b[1;33m\u001b[0m\u001b[0m\n\u001b[1;32m--> 727\u001b[1;33m             \u001b[0mresult\u001b[0m \u001b[1;33m=\u001b[0m \u001b[0mself\u001b[0m\u001b[1;33m.\u001b[0m\u001b[0mforward\u001b[0m\u001b[1;33m(\u001b[0m\u001b[1;33m*\u001b[0m\u001b[0minput\u001b[0m\u001b[1;33m,\u001b[0m \u001b[1;33m**\u001b[0m\u001b[0mkwargs\u001b[0m\u001b[1;33m)\u001b[0m\u001b[1;33m\u001b[0m\u001b[1;33m\u001b[0m\u001b[0m\n\u001b[0m\u001b[0;32m    728\u001b[0m         for hook in itertools.chain(\n\u001b[0;32m    729\u001b[0m                 \u001b[0m_global_forward_hooks\u001b[0m\u001b[1;33m.\u001b[0m\u001b[0mvalues\u001b[0m\u001b[1;33m(\u001b[0m\u001b[1;33m)\u001b[0m\u001b[1;33m,\u001b[0m\u001b[1;33m\u001b[0m\u001b[1;33m\u001b[0m\u001b[0m\n",
      "\u001b[1;32m~\\OneDrive - UvA\\Jaar 1\\FACT\\Git\\AI-FACT\\models\\encoder\\GAN.py\u001b[0m in \u001b[0;36mforward\u001b[1;34m(self, image_batch, optimizer_idx)\u001b[0m\n\u001b[0;32m     88\u001b[0m             \u001b[0mloss\u001b[0m\u001b[1;33m,\u001b[0m \u001b[0mx\u001b[0m\u001b[1;33m,\u001b[0m \u001b[0mthetas\u001b[0m \u001b[1;33m=\u001b[0m \u001b[0mself\u001b[0m\u001b[1;33m.\u001b[0m\u001b[0mdiscriminator_step\u001b[0m\u001b[1;33m(\u001b[0m\u001b[0mimage_batch\u001b[0m\u001b[1;33m)\u001b[0m\u001b[1;33m\u001b[0m\u001b[1;33m\u001b[0m\u001b[0m\n\u001b[0;32m     89\u001b[0m         \u001b[1;32melse\u001b[0m\u001b[1;33m:\u001b[0m\u001b[1;33m\u001b[0m\u001b[1;33m\u001b[0m\u001b[0m\n\u001b[1;32m---> 90\u001b[1;33m             \u001b[0mloss\u001b[0m\u001b[1;33m,\u001b[0m \u001b[0mx\u001b[0m\u001b[1;33m,\u001b[0m \u001b[0mthetas\u001b[0m \u001b[1;33m=\u001b[0m \u001b[0mself\u001b[0m\u001b[1;33m.\u001b[0m\u001b[0mgenerator_step\u001b[0m\u001b[1;33m(\u001b[0m\u001b[0mimage_batch\u001b[0m\u001b[1;33m)\u001b[0m\u001b[1;33m\u001b[0m\u001b[1;33m\u001b[0m\u001b[0m\n\u001b[0m\u001b[0;32m     91\u001b[0m \u001b[1;33m\u001b[0m\u001b[0m\n\u001b[0;32m     92\u001b[0m         \u001b[1;31m# return the loss, real encoded feature and real angles\u001b[0m\u001b[1;33m\u001b[0m\u001b[1;33m\u001b[0m\u001b[1;33m\u001b[0m\u001b[0m\n",
      "\u001b[1;32m~\\OneDrive - UvA\\Jaar 1\\FACT\\Git\\AI-FACT\\models\\encoder\\GAN.py\u001b[0m in \u001b[0;36mgenerator_step\u001b[1;34m(self, image_batch)\u001b[0m\n\u001b[0;32m    107\u001b[0m         \u001b[1;31m# encode the convolved images using the generator\u001b[0m\u001b[1;33m\u001b[0m\u001b[1;33m\u001b[0m\u001b[1;33m\u001b[0m\u001b[0m\n\u001b[0;32m    108\u001b[0m         \u001b[1;32mwith\u001b[0m \u001b[0mtorch\u001b[0m\u001b[1;33m.\u001b[0m\u001b[0mno_grad\u001b[0m\u001b[1;33m(\u001b[0m\u001b[1;33m)\u001b[0m\u001b[1;33m:\u001b[0m\u001b[1;33m\u001b[0m\u001b[1;33m\u001b[0m\u001b[0m\n\u001b[1;32m--> 109\u001b[1;33m             \u001b[0ma\u001b[0m\u001b[1;33m,\u001b[0m \u001b[0mx\u001b[0m\u001b[1;33m,\u001b[0m \u001b[0mthetas\u001b[0m\u001b[1;33m,\u001b[0m \u001b[0mfake_x\u001b[0m\u001b[1;33m,\u001b[0m \u001b[0mdelta_thetas\u001b[0m \u001b[1;33m=\u001b[0m \u001b[0mself\u001b[0m\u001b[1;33m.\u001b[0m\u001b[0mgenerator\u001b[0m\u001b[1;33m(\u001b[0m\u001b[0mimage_batch\u001b[0m\u001b[1;33m)\u001b[0m\u001b[1;33m\u001b[0m\u001b[1;33m\u001b[0m\u001b[0m\n\u001b[0m\u001b[0;32m    110\u001b[0m \u001b[1;33m\u001b[0m\u001b[0m\n\u001b[0;32m    111\u001b[0m         \u001b[1;31m# create labels for the fake features\u001b[0m\u001b[1;33m\u001b[0m\u001b[1;33m\u001b[0m\u001b[1;33m\u001b[0m\u001b[0m\n",
      "\u001b[1;32m~\\Anaconda3\\envs\\FACT_AI\\lib\\site-packages\\torch\\nn\\modules\\module.py\u001b[0m in \u001b[0;36m_call_impl\u001b[1;34m(self, *input, **kwargs)\u001b[0m\n\u001b[0;32m    725\u001b[0m             \u001b[0mresult\u001b[0m \u001b[1;33m=\u001b[0m \u001b[0mself\u001b[0m\u001b[1;33m.\u001b[0m\u001b[0m_slow_forward\u001b[0m\u001b[1;33m(\u001b[0m\u001b[1;33m*\u001b[0m\u001b[0minput\u001b[0m\u001b[1;33m,\u001b[0m \u001b[1;33m**\u001b[0m\u001b[0mkwargs\u001b[0m\u001b[1;33m)\u001b[0m\u001b[1;33m\u001b[0m\u001b[1;33m\u001b[0m\u001b[0m\n\u001b[0;32m    726\u001b[0m         \u001b[1;32melse\u001b[0m\u001b[1;33m:\u001b[0m\u001b[1;33m\u001b[0m\u001b[1;33m\u001b[0m\u001b[0m\n\u001b[1;32m--> 727\u001b[1;33m             \u001b[0mresult\u001b[0m \u001b[1;33m=\u001b[0m \u001b[0mself\u001b[0m\u001b[1;33m.\u001b[0m\u001b[0mforward\u001b[0m\u001b[1;33m(\u001b[0m\u001b[1;33m*\u001b[0m\u001b[0minput\u001b[0m\u001b[1;33m,\u001b[0m \u001b[1;33m**\u001b[0m\u001b[0mkwargs\u001b[0m\u001b[1;33m)\u001b[0m\u001b[1;33m\u001b[0m\u001b[1;33m\u001b[0m\u001b[0m\n\u001b[0m\u001b[0;32m    728\u001b[0m         for hook in itertools.chain(\n\u001b[0;32m    729\u001b[0m                 \u001b[0m_global_forward_hooks\u001b[0m\u001b[1;33m.\u001b[0m\u001b[0mvalues\u001b[0m\u001b[1;33m(\u001b[0m\u001b[1;33m)\u001b[0m\u001b[1;33m,\u001b[0m\u001b[1;33m\u001b[0m\u001b[1;33m\u001b[0m\u001b[0m\n",
      "\u001b[1;32m~\\OneDrive - UvA\\Jaar 1\\FACT\\Git\\AI-FACT\\models\\encoder\\GAN.py\u001b[0m in \u001b[0;36mforward\u001b[1;34m(self, image_batch)\u001b[0m\n\u001b[0;32m    207\u001b[0m \u001b[1;33m\u001b[0m\u001b[0m\n\u001b[0;32m    208\u001b[0m         \u001b[1;31m# apply the encoding layer on the input\u001b[0m\u001b[1;33m\u001b[0m\u001b[1;33m\u001b[0m\u001b[1;33m\u001b[0m\u001b[0m\n\u001b[1;32m--> 209\u001b[1;33m         \u001b[0ma\u001b[0m \u001b[1;33m=\u001b[0m \u001b[0mself\u001b[0m\u001b[1;33m.\u001b[0m\u001b[0mencoding_layer\u001b[0m\u001b[1;33m(\u001b[0m\u001b[0mimage_batch\u001b[0m\u001b[1;33m)\u001b[0m\u001b[1;33m.\u001b[0m\u001b[0mto\u001b[0m\u001b[1;33m(\u001b[0m\u001b[0mself\u001b[0m\u001b[1;33m.\u001b[0m\u001b[0mdevice\u001b[0m\u001b[1;33m)\u001b[0m\u001b[1;33m\u001b[0m\u001b[1;33m\u001b[0m\u001b[0m\n\u001b[0m\u001b[0;32m    210\u001b[0m \u001b[1;33m\u001b[0m\u001b[0m\n\u001b[0;32m    211\u001b[0m         \u001b[1;31m# save the image dimensions for later use\u001b[0m\u001b[1;33m\u001b[0m\u001b[1;33m\u001b[0m\u001b[1;33m\u001b[0m\u001b[0m\n",
      "\u001b[1;32m~\\Anaconda3\\envs\\FACT_AI\\lib\\site-packages\\torch\\nn\\modules\\module.py\u001b[0m in \u001b[0;36m_call_impl\u001b[1;34m(self, *input, **kwargs)\u001b[0m\n\u001b[0;32m    725\u001b[0m             \u001b[0mresult\u001b[0m \u001b[1;33m=\u001b[0m \u001b[0mself\u001b[0m\u001b[1;33m.\u001b[0m\u001b[0m_slow_forward\u001b[0m\u001b[1;33m(\u001b[0m\u001b[1;33m*\u001b[0m\u001b[0minput\u001b[0m\u001b[1;33m,\u001b[0m \u001b[1;33m**\u001b[0m\u001b[0mkwargs\u001b[0m\u001b[1;33m)\u001b[0m\u001b[1;33m\u001b[0m\u001b[1;33m\u001b[0m\u001b[0m\n\u001b[0;32m    726\u001b[0m         \u001b[1;32melse\u001b[0m\u001b[1;33m:\u001b[0m\u001b[1;33m\u001b[0m\u001b[1;33m\u001b[0m\u001b[0m\n\u001b[1;32m--> 727\u001b[1;33m             \u001b[0mresult\u001b[0m \u001b[1;33m=\u001b[0m \u001b[0mself\u001b[0m\u001b[1;33m.\u001b[0m\u001b[0mforward\u001b[0m\u001b[1;33m(\u001b[0m\u001b[1;33m*\u001b[0m\u001b[0minput\u001b[0m\u001b[1;33m,\u001b[0m \u001b[1;33m**\u001b[0m\u001b[0mkwargs\u001b[0m\u001b[1;33m)\u001b[0m\u001b[1;33m\u001b[0m\u001b[1;33m\u001b[0m\u001b[0m\n\u001b[0m\u001b[0;32m    728\u001b[0m         for hook in itertools.chain(\n\u001b[0;32m    729\u001b[0m                 \u001b[0m_global_forward_hooks\u001b[0m\u001b[1;33m.\u001b[0m\u001b[0mvalues\u001b[0m\u001b[1;33m(\u001b[0m\u001b[1;33m)\u001b[0m\u001b[1;33m,\u001b[0m\u001b[1;33m\u001b[0m\u001b[1;33m\u001b[0m\u001b[0m\n",
      "\u001b[1;32m~\\Anaconda3\\envs\\FACT_AI\\lib\\site-packages\\torch\\nn\\modules\\container.py\u001b[0m in \u001b[0;36mforward\u001b[1;34m(self, input)\u001b[0m\n\u001b[0;32m    115\u001b[0m     \u001b[1;32mdef\u001b[0m \u001b[0mforward\u001b[0m\u001b[1;33m(\u001b[0m\u001b[0mself\u001b[0m\u001b[1;33m,\u001b[0m \u001b[0minput\u001b[0m\u001b[1;33m)\u001b[0m\u001b[1;33m:\u001b[0m\u001b[1;33m\u001b[0m\u001b[1;33m\u001b[0m\u001b[0m\n\u001b[0;32m    116\u001b[0m         \u001b[1;32mfor\u001b[0m \u001b[0mmodule\u001b[0m \u001b[1;32min\u001b[0m \u001b[0mself\u001b[0m\u001b[1;33m:\u001b[0m\u001b[1;33m\u001b[0m\u001b[1;33m\u001b[0m\u001b[0m\n\u001b[1;32m--> 117\u001b[1;33m             \u001b[0minput\u001b[0m \u001b[1;33m=\u001b[0m \u001b[0mmodule\u001b[0m\u001b[1;33m(\u001b[0m\u001b[0minput\u001b[0m\u001b[1;33m)\u001b[0m\u001b[1;33m\u001b[0m\u001b[1;33m\u001b[0m\u001b[0m\n\u001b[0m\u001b[0;32m    118\u001b[0m         \u001b[1;32mreturn\u001b[0m \u001b[0minput\u001b[0m\u001b[1;33m\u001b[0m\u001b[1;33m\u001b[0m\u001b[0m\n\u001b[0;32m    119\u001b[0m \u001b[1;33m\u001b[0m\u001b[0m\n",
      "\u001b[1;32m~\\Anaconda3\\envs\\FACT_AI\\lib\\site-packages\\torch\\nn\\modules\\module.py\u001b[0m in \u001b[0;36m_call_impl\u001b[1;34m(self, *input, **kwargs)\u001b[0m\n\u001b[0;32m    725\u001b[0m             \u001b[0mresult\u001b[0m \u001b[1;33m=\u001b[0m \u001b[0mself\u001b[0m\u001b[1;33m.\u001b[0m\u001b[0m_slow_forward\u001b[0m\u001b[1;33m(\u001b[0m\u001b[1;33m*\u001b[0m\u001b[0minput\u001b[0m\u001b[1;33m,\u001b[0m \u001b[1;33m**\u001b[0m\u001b[0mkwargs\u001b[0m\u001b[1;33m)\u001b[0m\u001b[1;33m\u001b[0m\u001b[1;33m\u001b[0m\u001b[0m\n\u001b[0;32m    726\u001b[0m         \u001b[1;32melse\u001b[0m\u001b[1;33m:\u001b[0m\u001b[1;33m\u001b[0m\u001b[1;33m\u001b[0m\u001b[0m\n\u001b[1;32m--> 727\u001b[1;33m             \u001b[0mresult\u001b[0m \u001b[1;33m=\u001b[0m \u001b[0mself\u001b[0m\u001b[1;33m.\u001b[0m\u001b[0mforward\u001b[0m\u001b[1;33m(\u001b[0m\u001b[1;33m*\u001b[0m\u001b[0minput\u001b[0m\u001b[1;33m,\u001b[0m \u001b[1;33m**\u001b[0m\u001b[0mkwargs\u001b[0m\u001b[1;33m)\u001b[0m\u001b[1;33m\u001b[0m\u001b[1;33m\u001b[0m\u001b[0m\n\u001b[0m\u001b[0;32m    728\u001b[0m         for hook in itertools.chain(\n\u001b[0;32m    729\u001b[0m                 \u001b[0m_global_forward_hooks\u001b[0m\u001b[1;33m.\u001b[0m\u001b[0mvalues\u001b[0m\u001b[1;33m(\u001b[0m\u001b[1;33m)\u001b[0m\u001b[1;33m,\u001b[0m\u001b[1;33m\u001b[0m\u001b[1;33m\u001b[0m\u001b[0m\n",
      "\u001b[1;32m~\\Anaconda3\\envs\\FACT_AI\\lib\\site-packages\\torch\\nn\\modules\\conv.py\u001b[0m in \u001b[0;36mforward\u001b[1;34m(self, input)\u001b[0m\n\u001b[0;32m    421\u001b[0m \u001b[1;33m\u001b[0m\u001b[0m\n\u001b[0;32m    422\u001b[0m     \u001b[1;32mdef\u001b[0m \u001b[0mforward\u001b[0m\u001b[1;33m(\u001b[0m\u001b[0mself\u001b[0m\u001b[1;33m,\u001b[0m \u001b[0minput\u001b[0m\u001b[1;33m:\u001b[0m \u001b[0mTensor\u001b[0m\u001b[1;33m)\u001b[0m \u001b[1;33m->\u001b[0m \u001b[0mTensor\u001b[0m\u001b[1;33m:\u001b[0m\u001b[1;33m\u001b[0m\u001b[1;33m\u001b[0m\u001b[0m\n\u001b[1;32m--> 423\u001b[1;33m         \u001b[1;32mreturn\u001b[0m \u001b[0mself\u001b[0m\u001b[1;33m.\u001b[0m\u001b[0m_conv_forward\u001b[0m\u001b[1;33m(\u001b[0m\u001b[0minput\u001b[0m\u001b[1;33m,\u001b[0m \u001b[0mself\u001b[0m\u001b[1;33m.\u001b[0m\u001b[0mweight\u001b[0m\u001b[1;33m)\u001b[0m\u001b[1;33m\u001b[0m\u001b[1;33m\u001b[0m\u001b[0m\n\u001b[0m\u001b[0;32m    424\u001b[0m \u001b[1;33m\u001b[0m\u001b[0m\n\u001b[0;32m    425\u001b[0m \u001b[1;32mclass\u001b[0m \u001b[0mConv3d\u001b[0m\u001b[1;33m(\u001b[0m\u001b[0m_ConvNd\u001b[0m\u001b[1;33m)\u001b[0m\u001b[1;33m:\u001b[0m\u001b[1;33m\u001b[0m\u001b[1;33m\u001b[0m\u001b[0m\n",
      "\u001b[1;32m~\\Anaconda3\\envs\\FACT_AI\\lib\\site-packages\\torch\\nn\\modules\\conv.py\u001b[0m in \u001b[0;36m_conv_forward\u001b[1;34m(self, input, weight)\u001b[0m\n\u001b[0;32m    417\u001b[0m                             \u001b[0mweight\u001b[0m\u001b[1;33m,\u001b[0m \u001b[0mself\u001b[0m\u001b[1;33m.\u001b[0m\u001b[0mbias\u001b[0m\u001b[1;33m,\u001b[0m \u001b[0mself\u001b[0m\u001b[1;33m.\u001b[0m\u001b[0mstride\u001b[0m\u001b[1;33m,\u001b[0m\u001b[1;33m\u001b[0m\u001b[1;33m\u001b[0m\u001b[0m\n\u001b[0;32m    418\u001b[0m                             _pair(0), self.dilation, self.groups)\n\u001b[1;32m--> 419\u001b[1;33m         return F.conv2d(input, weight, self.bias, self.stride,\n\u001b[0m\u001b[0;32m    420\u001b[0m                         self.padding, self.dilation, self.groups)\n\u001b[0;32m    421\u001b[0m \u001b[1;33m\u001b[0m\u001b[0m\n",
      "\u001b[1;31mRuntimeError\u001b[0m: CUDA out of memory. Tried to allocate 98.00 MiB (GPU 0; 4.00 GiB total capacity; 1.07 GiB already allocated; 47.01 MiB free; 1.16 GiB reserved in total by PyTorch)"
     ]
    }
   ],
   "source": [
    "# print the most important arguments given by the user\n",
    "print('----- MODEL SUMMARY -----')\n",
    "print('Model: Complex VGG-16')\n",
    "print('Dataset: CUB-200')\n",
    "print('K value: 2')\n",
    "print('Learning rate: 1e3 ')\n",
    "print('Batch size: 256')\n",
    "print('-------------------------')\n",
    "\n",
    "    # load the data from the dataloader\n",
    "num_classes, trainloader, valloader, testloader = load_data(\n",
    "       'CUB-200', 64, 0\n",
    "    )\n",
    "trainer = pl.Trainer(\n",
    "                        gpus=1 if torch.cuda.is_available() else 0,\n",
    "                        max_epochs=1000,\n",
    "                        progress_bar_refresh_rate=1)\n",
    "\n",
    "# seed for reproducability\n",
    "pl.seed_everything(42)\n",
    "\n",
    "    # initialize the model\n",
    "device = torch.device(\"cuda:0\" if torch.cuda.is_available() else \"cpu\")\n",
    "model = initialize_model('Complex_VGG-16', num_classes, 1e-3, 2)\n",
    "\n",
    "   \n",
    "# load the saved model\n",
    "print('Loading model..')\n",
    "model.load_state_dict(torch.load('./saved_models/Complex_VGG-16_save'))\n",
    "print('Model successfully loaded')\n",
    "print('Testing model..')\n",
    "out = trainer.test(model=model, test_dataloaders=testloader)\n",
    "print('Testing successfull')\n",
    "\n",
    "resultDict['Complex_VGG-16'] = out[0]"
   ]
  },
  {
   "cell_type": "markdown",
   "metadata": {},
   "source": [
    "### Summary of the classification errors"
   ]
  },
  {
   "cell_type": "code",
   "execution_count": null,
   "metadata": {},
   "outputs": [],
   "source": [
    "print('Classification errors')\n",
    "print('Model name \\t Original DNN \\t \\t Complex DNN')\n",
    "print('LeNet'+  '\\t'+ '\\t' + '\\t' + str(round(1-resultDict['LeNet']['test_acc'],3)) + '\\t' + '\\t' + '\\t' + str(round(1-resultDict['Complex_LeNet']['test_acc'],3)))\n",
    "print('ResNet-56'+  '\\t' + '\\t'+ str(round(1-resultDict['ResNet-56']['test_acc'],3)) + '\\t' + '\\t' + '\\t' + str(round(1-resultDict['Complex_ResNet-56']['test_acc'],3)))\n",
    "print('ResNet-110'+  '\\t' + '\\t'+ str(round(1-resultDict['ResNet-110']['test_acc'],3)) + '\\t' + '\\t' + '\\t' + str(round(1-resultDict['Complex_ResNet-110']['test_acc'],3)))\n",
    "print('VGG-16'+  '\\t' + '\\t'+ str(round(1-resultDict['VGG-16']['test_acc'],3)) + '\\t' + '\\t' + '\\t' + str(round(1-resultDict['Complex_VGG-16']['test_acc'],3)))"
   ]
  },
  {
   "cell_type": "markdown",
   "metadata": {},
   "source": [
    "# Atacker results"
   ]
  },
  {
   "cell_type": "markdown",
   "metadata": {},
   "source": [
    "Run the below cells to observe the reconstruction errors for the respective models when data is intercepted by the attacker, both for the original models and for the model with obfuscated features."
   ]
  },
  {
   "cell_type": "code",
   "execution_count": 33,
   "metadata": {},
   "outputs": [],
   "source": [
    "#Import for attacker\n",
    "\n",
    "from models.attackers.inversion_attacker_2 import *\n",
    "\n",
    "\n",
    "# Initialize a dictionary for the attacker results\n",
    "attackerDict = {}\n",
    "\n"
   ]
  },
  {
   "cell_type": "markdown",
   "metadata": {},
   "source": [
    "### LeNet"
   ]
  },
  {
   "cell_type": "code",
   "execution_count": 36,
   "metadata": {},
   "outputs": [
    {
     "name": "stdout",
     "output_type": "stream",
     "text": [
      "Files already downloaded and verified\n",
      "Files already downloaded and verified\n"
     ]
    },
    {
     "name": "stderr",
     "output_type": "stream",
     "text": [
      "GPU available: True, used: True\n",
      "TPU available: False, using: 0 TPU cores\n",
      "LOCAL_RANK: 0 - CUDA_VISIBLE_DEVICES: [0]\n"
     ]
    },
    {
     "name": "stdout",
     "output_type": "stream",
     "text": [
      "Loading attacker model..\n"
     ]
    },
    {
     "ename": "RuntimeError",
     "evalue": "Error(s) in loading state_dict for UNet:\n\tMissing key(s) in state_dict: \"encoding_layer.weight\", \"encoding_layer.bias\". \n\tUnexpected key(s) in state_dict: \"change_channels.weight\", \"change_channels.bias\". ",
     "output_type": "error",
     "traceback": [
      "\u001b[1;31m---------------------------------------------------------------------------\u001b[0m",
      "\u001b[1;31mRuntimeError\u001b[0m                              Traceback (most recent call last)",
      "\u001b[1;32m<ipython-input-36-d61868ccd082>\u001b[0m in \u001b[0;36m<module>\u001b[1;34m\u001b[0m\n\u001b[0;32m     21\u001b[0m \u001b[1;33m\u001b[0m\u001b[0m\n\u001b[0;32m     22\u001b[0m \u001b[0mprint\u001b[0m\u001b[1;33m(\u001b[0m\u001b[1;34m'Loading attacker model..'\u001b[0m\u001b[1;33m)\u001b[0m\u001b[1;33m\u001b[0m\u001b[1;33m\u001b[0m\u001b[0m\n\u001b[1;32m---> 23\u001b[1;33m \u001b[0mmodel\u001b[0m\u001b[1;33m.\u001b[0m\u001b[0mload_state_dict\u001b[0m\u001b[1;33m(\u001b[0m\u001b[0mtorch\u001b[0m\u001b[1;33m.\u001b[0m\u001b[0mload\u001b[0m\u001b[1;33m(\u001b[0m\u001b[1;34m'./saved_models/Complex_ LeNetAttacker_save'\u001b[0m\u001b[1;33m)\u001b[0m\u001b[1;33m)\u001b[0m\u001b[1;33m\u001b[0m\u001b[1;33m\u001b[0m\u001b[0m\n\u001b[0m\u001b[0;32m     24\u001b[0m \u001b[0mprint\u001b[0m\u001b[1;33m(\u001b[0m\u001b[1;34m'Attacker model successfully loaded'\u001b[0m\u001b[1;33m)\u001b[0m\u001b[1;33m\u001b[0m\u001b[1;33m\u001b[0m\u001b[0m\n\u001b[0;32m     25\u001b[0m \u001b[0mprint\u001b[0m\u001b[1;33m(\u001b[0m\u001b[1;34m'Testing attacker model..'\u001b[0m\u001b[1;33m)\u001b[0m\u001b[1;33m\u001b[0m\u001b[1;33m\u001b[0m\u001b[0m\n",
      "\u001b[1;32m~\\Anaconda3\\envs\\FACT_AI\\lib\\site-packages\\torch\\nn\\modules\\module.py\u001b[0m in \u001b[0;36mload_state_dict\u001b[1;34m(self, state_dict, strict)\u001b[0m\n\u001b[0;32m   1049\u001b[0m \u001b[1;33m\u001b[0m\u001b[0m\n\u001b[0;32m   1050\u001b[0m         \u001b[1;32mif\u001b[0m \u001b[0mlen\u001b[0m\u001b[1;33m(\u001b[0m\u001b[0merror_msgs\u001b[0m\u001b[1;33m)\u001b[0m \u001b[1;33m>\u001b[0m \u001b[1;36m0\u001b[0m\u001b[1;33m:\u001b[0m\u001b[1;33m\u001b[0m\u001b[1;33m\u001b[0m\u001b[0m\n\u001b[1;32m-> 1051\u001b[1;33m             raise RuntimeError('Error(s) in loading state_dict for {}:\\n\\t{}'.format(\n\u001b[0m\u001b[0;32m   1052\u001b[0m                                self.__class__.__name__, \"\\n\\t\".join(error_msgs)))\n\u001b[0;32m   1053\u001b[0m         \u001b[1;32mreturn\u001b[0m \u001b[0m_IncompatibleKeys\u001b[0m\u001b[1;33m(\u001b[0m\u001b[0mmissing_keys\u001b[0m\u001b[1;33m,\u001b[0m \u001b[0munexpected_keys\u001b[0m\u001b[1;33m)\u001b[0m\u001b[1;33m\u001b[0m\u001b[1;33m\u001b[0m\u001b[0m\n",
      "\u001b[1;31mRuntimeError\u001b[0m: Error(s) in loading state_dict for UNet:\n\tMissing key(s) in state_dict: \"encoding_layer.weight\", \"encoding_layer.bias\". \n\tUnexpected key(s) in state_dict: \"change_channels.weight\", \"change_channels.bias\". "
     ]
    }
   ],
   "source": [
    "classes, trainloader, valloader, testloader = load_data(\n",
    "        'CIFAR-10', 128, 0\n",
    "    )\n",
    "\n",
    "trainer = pl.Trainer(\n",
    "                    gpus=1 if torch.cuda.is_available() else 0,\n",
    "                    max_epochs=1000,\n",
    "                    progress_bar_refresh_rate=1)\n",
    "\n",
    "# seed for reproducability\n",
    "pl.seed_everything(42)\n",
    "\n",
    "device = torch.device(\"cuda:0\" if torch.cuda.is_available() else \"cpu\")\n",
    "\n",
    "gan_model = initialize_model('Complex_LeNet', 10, 1e-3, 2)\n",
    "gan_model.load_state_dict(torch.load('./saved_models/Complex_LeNet_save'))\n",
    "generator = gan_model.encoder.generator\n",
    "conv = gan_model.encoder.generator.encoding_layer\n",
    "\n",
    "model = UNet(generator=generator, num_channels=3,enc_chs=(6,64,128,256,512), lr=1e-3, encoding_layer=conv)\n",
    "\n",
    "print('Loading attacker model..')\n",
    "model.load_state_dict(torch.load('./saved_models/Complex_ LeNetAttacker_save'))\n",
    "print('Attacker model successfully loaded')\n",
    "print('Testing attacker model..')\n",
    "out = trainer.test(model=model, test_dataloaders=testloader)\n",
    "print('Testing successfull')\n",
    "\n",
    "attackerDict['LeNet'] = out[0]"
   ]
  },
  {
   "cell_type": "markdown",
   "metadata": {},
   "source": [
    "### ResNet-56"
   ]
  },
  {
   "cell_type": "code",
   "execution_count": 35,
   "metadata": {},
   "outputs": [
    {
     "name": "stdout",
     "output_type": "stream",
     "text": [
      "Files already downloaded and verified\n",
      "Files already downloaded and verified\n"
     ]
    },
    {
     "name": "stderr",
     "output_type": "stream",
     "text": [
      "GPU available: True, used: True\n",
      "TPU available: False, using: 0 TPU cores\n",
      "LOCAL_RANK: 0 - CUDA_VISIBLE_DEVICES: [0]\n"
     ]
    },
    {
     "name": "stdout",
     "output_type": "stream",
     "text": [
      "Loading attacker model..\n"
     ]
    },
    {
     "ename": "RuntimeError",
     "evalue": "Error(s) in loading state_dict for UNet:\n\tMissing key(s) in state_dict: \"encoding_layer.0.weight\", \"encoding_layer.1.weight\", \"encoding_layer.1.bias\", \"encoding_layer.1.running_mean\", \"encoding_layer.1.running_var\", \"encoding_layer.3.net.0.weight\", \"encoding_layer.3.net.1.weight\", \"encoding_layer.3.net.1.bias\", \"encoding_layer.3.net.1.running_mean\", \"encoding_layer.3.net.1.running_var\", \"encoding_layer.3.net.3.weight\", \"encoding_layer.3.net.4.weight\", \"encoding_layer.3.net.4.bias\", \"encoding_layer.3.net.4.running_mean\", \"encoding_layer.3.net.4.running_var\", \"encoding_layer.3.downsample.weight\", \"encoding_layer.3.downsample.bias\", \"encoding_layer.4.net.0.weight\", \"encoding_layer.4.net.1.weight\", \"encoding_layer.4.net.1.bias\", \"encoding_layer.4.net.1.running_mean\", \"encoding_layer.4.net.1.running_var\", \"encoding_layer.4.net.3.weight\", \"encoding_layer.4.net.4.weight\", \"encoding_layer.4.net.4.bias\", \"encoding_layer.4.net.4.running_mean\", \"encoding_layer.4.net.4.running_var\", \"encoding_layer.5.net.0.weight\", \"encoding_layer.5.net.1.weight\", \"encoding_layer.5.net.1.bias\", \"encoding_layer.5.net.1.running_mean\", \"encoding_layer.5.net.1.running_var\", \"encoding_layer.5.net.3.weight\", \"encoding_layer.5.net.4.weight\", \"encoding_layer.5.net.4.bias\", \"encoding_layer.5.net.4.running_mean\", \"encoding_layer.5.net.4.running_var\", \"encoding_layer.6.net.0.weight\", \"encoding_layer.6.net.1.weight\", \"encoding_layer.6.net.1.bias\", \"encoding_layer.6.net.1.running_mean\", \"encoding_layer.6.net.1.running_var\", \"encoding_layer.6.net.3.weight\", \"encoding_layer.6.net.4.weight\", \"encoding_layer.6.net.4.bias\", \"encoding_layer.6.net.4.running_mean\", \"encoding_layer.6.net.4.running_var\", \"encoding_layer.7.net.0.weight\", \"encoding_layer.7.net.1.weight\", \"encoding_layer.7.net.1.bias\", \"encoding_layer.7.net.1.running_mean\", \"encoding_layer.7.net.1.running_var\", \"encoding_layer.7.net.3.weight\", \"encoding_layer.7.net.4.weight\", \"encoding_layer.7.net.4.bias\", \"encoding_layer.7.net.4.running_mean\", \"encoding_layer.7.net.4.running_var\", \"encoding_layer.8.net.0.weight\", \"encoding_layer.8.net.1.weight\", \"encoding_layer.8.net.1.bias\", \"encoding_layer.8.net.1.running_mean\", \"encoding_layer.8.net.1.running_var\", \"encoding_layer.8.net.3.weight\", \"encoding_layer.8.net.4.weight\", \"encoding_layer.8.net.4.bias\", \"encoding_layer.8.net.4.running_mean\", \"encoding_layer.8.net.4.running_var\", \"encoding_layer.9.net.0.weight\", \"encoding_layer.9.net.1.weight\", \"encoding_layer.9.net.1.bias\", \"encoding_layer.9.net.1.running_mean\", \"encoding_layer.9.net.1.running_var\", \"encoding_layer.9.net.3.weight\", \"encoding_layer.9.net.4.weight\", \"encoding_layer.9.net.4.bias\", \"encoding_layer.9.net.4.running_mean\", \"encoding_layer.9.net.4.running_var\", \"encoding_layer.10.net.0.weight\", \"encoding_layer.10.net.1.weight\", \"encoding_layer.10.net.1.bias\", \"encoding_layer.10.net.1.running_mean\", \"encoding_layer.10.net.1.running_var\", \"encoding_layer.10.net.3.weight\", \"encoding_layer.10.net.4.weight\", \"encoding_layer.10.net.4.bias\", \"encoding_layer.10.net.4.running_mean\", \"encoding_layer.10.net.4.running_var\", \"encoding_layer.11.net.0.weight\", \"encoding_layer.11.net.1.weight\", \"encoding_layer.11.net.1.bias\", \"encoding_layer.11.net.1.running_mean\", \"encoding_layer.11.net.1.running_var\", \"encoding_layer.11.net.3.weight\", \"encoding_layer.11.net.4.weight\", \"encoding_layer.11.net.4.bias\", \"encoding_layer.11.net.4.running_mean\", \"encoding_layer.11.net.4.running_var\", \"encoding_layer.12.net.0.weight\", \"encoding_layer.12.net.1.weight\", \"encoding_layer.12.net.1.bias\", \"encoding_layer.12.net.1.running_mean\", \"encoding_layer.12.net.1.running_var\", \"encoding_layer.12.net.3.weight\", \"encoding_layer.12.net.4.weight\", \"encoding_layer.12.net.4.bias\", \"encoding_layer.12.net.4.running_mean\", \"encoding_layer.12.net.4.running_var\", \"encoding_layer.13.net.0.weight\", \"encoding_layer.13.net.1.weight\", \"encoding_layer.13.net.1.bias\", \"encoding_layer.13.net.1.running_mean\", \"encoding_layer.13.net.1.running_var\", \"encoding_layer.13.net.3.weight\", \"encoding_layer.13.net.4.weight\", \"encoding_layer.13.net.4.bias\", \"encoding_layer.13.net.4.running_mean\", \"encoding_layer.13.net.4.running_var\", \"encoding_layer.14.net.0.weight\", \"encoding_layer.14.net.1.weight\", \"encoding_layer.14.net.1.bias\", \"encoding_layer.14.net.1.running_mean\", \"encoding_layer.14.net.1.running_var\", \"encoding_layer.14.net.3.weight\", \"encoding_layer.14.net.4.weight\", \"encoding_layer.14.net.4.bias\", \"encoding_layer.14.net.4.running_mean\", \"encoding_layer.14.net.4.running_var\", \"encoding_layer.15.net.0.weight\", \"encoding_layer.15.net.1.weight\", \"encoding_layer.15.net.1.bias\", \"encoding_layer.15.net.1.running_mean\", \"encoding_layer.15.net.1.running_var\", \"encoding_layer.15.net.3.weight\", \"encoding_layer.15.net.4.weight\", \"encoding_layer.15.net.4.bias\", \"encoding_layer.15.net.4.running_mean\", \"encoding_layer.15.net.4.running_var\", \"encoding_layer.16.net.0.weight\", \"encoding_layer.16.net.1.weight\", \"encoding_layer.16.net.1.bias\", \"encoding_layer.16.net.1.running_mean\", \"encoding_layer.16.net.1.running_var\", \"encoding_layer.16.net.3.weight\", \"encoding_layer.16.net.4.weight\", \"encoding_layer.16.net.4.bias\", \"encoding_layer.16.net.4.running_mean\", \"encoding_layer.16.net.4.running_var\", \"encoding_layer.17.net.0.weight\", \"encoding_layer.17.net.1.weight\", \"encoding_layer.17.net.1.bias\", \"encoding_layer.17.net.1.running_mean\", \"encoding_layer.17.net.1.running_var\", \"encoding_layer.17.net.3.weight\", \"encoding_layer.17.net.4.weight\", \"encoding_layer.17.net.4.bias\", \"encoding_layer.17.net.4.running_mean\", \"encoding_layer.17.net.4.running_var\", \"encoding_layer.18.net.0.weight\", \"encoding_layer.18.net.1.weight\", \"encoding_layer.18.net.1.bias\", \"encoding_layer.18.net.1.running_mean\", \"encoding_layer.18.net.1.running_var\", \"encoding_layer.18.net.3.weight\", \"encoding_layer.18.net.4.weight\", \"encoding_layer.18.net.4.bias\", \"encoding_layer.18.net.4.running_mean\", \"encoding_layer.18.net.4.running_var\", \"encoding_layer.19.net.0.weight\", \"encoding_layer.19.net.1.weight\", \"encoding_layer.19.net.1.bias\", \"encoding_layer.19.net.1.running_mean\", \"encoding_layer.19.net.1.running_var\", \"encoding_layer.19.net.3.weight\", \"encoding_layer.19.net.4.weight\", \"encoding_layer.19.net.4.bias\", \"encoding_layer.19.net.4.running_mean\", \"encoding_layer.19.net.4.running_var\", \"encoding_layer.20.net.0.weight\", \"encoding_layer.20.net.1.weight\", \"encoding_layer.20.net.1.bias\", \"encoding_layer.20.net.1.running_mean\", \"encoding_layer.20.net.1.running_var\", \"encoding_layer.20.net.3.weight\", \"encoding_layer.20.net.4.weight\", \"encoding_layer.20.net.4.bias\", \"encoding_layer.20.net.4.running_mean\", \"encoding_layer.20.net.4.running_var\", \"encoding_layer.21.net.0.weight\", \"encoding_layer.21.net.1.weight\", \"encoding_layer.21.net.1.bias\", \"encoding_layer.21.net.1.running_mean\", \"encoding_layer.21.net.1.running_var\", \"encoding_layer.21.net.3.weight\", \"encoding_layer.21.net.4.weight\", \"encoding_layer.21.net.4.bias\", \"encoding_layer.21.net.4.running_mean\", \"encoding_layer.21.net.4.running_var\". \n\tUnexpected key(s) in state_dict: \"change_channels.0.weight\", \"change_channels.1.weight\", \"change_channels.1.bias\", \"change_channels.1.running_mean\", \"change_channels.1.running_var\", \"change_channels.1.num_batches_tracked\", \"change_channels.3.net.0.weight\", \"change_channels.3.net.1.weight\", \"change_channels.3.net.1.bias\", \"change_channels.3.net.1.running_mean\", \"change_channels.3.net.1.running_var\", \"change_channels.3.net.1.num_batches_tracked\", \"change_channels.3.net.3.weight\", \"change_channels.3.net.4.weight\", \"change_channels.3.net.4.bias\", \"change_channels.3.net.4.running_mean\", \"change_channels.3.net.4.running_var\", \"change_channels.3.net.4.num_batches_tracked\", \"change_channels.3.downsample.weight\", \"change_channels.3.downsample.bias\", \"change_channels.4.net.0.weight\", \"change_channels.4.net.1.weight\", \"change_channels.4.net.1.bias\", \"change_channels.4.net.1.running_mean\", \"change_channels.4.net.1.running_var\", \"change_channels.4.net.1.num_batches_tracked\", \"change_channels.4.net.3.weight\", \"change_channels.4.net.4.weight\", \"change_channels.4.net.4.bias\", \"change_channels.4.net.4.running_mean\", \"change_channels.4.net.4.running_var\", \"change_channels.4.net.4.num_batches_tracked\", \"change_channels.5.net.0.weight\", \"change_channels.5.net.1.weight\", \"change_channels.5.net.1.bias\", \"change_channels.5.net.1.running_mean\", \"change_channels.5.net.1.running_var\", \"change_channels.5.net.1.num_batches_tracked\", \"change_channels.5.net.3.weight\", \"change_channels.5.net.4.weight\", \"change_channels.5.net.4.bias\", \"change_channels.5.net.4.running_mean\", \"change_channels.5.net.4.running_var\", \"change_channels.5.net.4.num_batches_tracked\", \"change_channels.6.net.0.weight\", \"change_channels.6.net.1.weight\", \"change_channels.6.net.1.bias\", \"change_channels.6.net.1.running_mean\", \"change_channels.6.net.1.running_var\", \"change_channels.6.net.1.num_batches_tracked\", \"change_channels.6.net.3.weight\", \"change_channels.6.net.4.weight\", \"change_channels.6.net.4.bias\", \"change_channels.6.net.4.running_mean\", \"change_channels.6.net.4.running_var\", \"change_channels.6.net.4.num_batches_tracked\", \"change_channels.7.net.0.weight\", \"change_channels.7.net.1.weight\", \"change_channels.7.net.1.bias\", \"change_channels.7.net.1.running_mean\", \"change_channels.7.net.1.running_var\", \"change_channels.7.net.1.num_batches_tracked\", \"change_channels.7.net.3.weight\", \"change_channels.7.net.4.weight\", \"change_channels.7.net.4.bias\", \"change_channels.7.net.4.running_mean\", \"change_channels.7.net.4.running_var\", \"change_channels.7.net.4.num_batches_tracked\", \"change_channels.8.net.0.weight\", \"change_channels.8.net.1.weight\", \"change_channels.8.net.1.bias\", \"change_channels.8.net.1.running_mean\", \"change_channels.8.net.1.running_var\", \"change_channels.8.net.1.num_batches_tracked\", \"change_channels.8.net.3.weight\", \"change_channels.8.net.4.weight\", \"change_channels.8.net.4.bias\", \"change_channels.8.net.4.running_mean\", \"change_channels.8.net.4.running_var\", \"change_channels.8.net.4.num_batches_tracked\", \"change_channels.9.net.0.weight\", \"change_channels.9.net.1.weight\", \"change_channels.9.net.1.bias\", \"change_channels.9.net.1.running_mean\", \"change_channels.9.net.1.running_var\", \"change_channels.9.net.1.num_batches_tracked\", \"change_channels.9.net.3.weight\", \"change_channels.9.net.4.weight\", \"change_channels.9.net.4.bias\", \"change_channels.9.net.4.running_mean\", \"change_channels.9.net.4.running_var\", \"change_channels.9.net.4.num_batches_tracked\", \"change_channels.10.net.0.weight\", \"change_channels.10.net.1.weight\", \"change_channels.10.net.1.bias\", \"change_channels.10.net.1.running_mean\", \"change_channels.10.net.1.running_var\", \"change_channels.10.net.1.num_batches_tracked\", \"change_channels.10.net.3.weight\", \"change_channels.10.net.4.weight\", \"change_channels.10.net.4.bias\", \"change_channels.10.net.4.running_mean\", \"change_channels.10.net.4.running_var\", \"change_channels.10.net.4.num_batches_tracked\", \"change_channels.11.net.0.weight\", \"change_channels.11.net.1.weight\", \"change_channels.11.net.1.bias\", \"change_channels.11.net.1.running_mean\", \"change_channels.11.net.1.running_var\", \"change_channels.11.net.1.num_batches_tracked\", \"change_channels.11.net.3.weight\", \"change_channels.11.net.4.weight\", \"change_channels.11.net.4.bias\", \"change_channels.11.net.4.running_mean\", \"change_channels.11.net.4.running_var\", \"change_channels.11.net.4.num_batches_tracked\", \"change_channels.12.net.0.weight\", \"change_channels.12.net.1.weight\", \"change_channels.12.net.1.bias\", \"change_channels.12.net.1.running_mean\", \"change_channels.12.net.1.running_var\", \"change_channels.12.net.1.num_batches_tracked\", \"change_channels.12.net.3.weight\", \"change_channels.12.net.4.weight\", \"change_channels.12.net.4.bias\", \"change_channels.12.net.4.running_mean\", \"change_channels.12.net.4.running_var\", \"change_channels.12.net.4.num_batches_tracked\", \"change_channels.13.net.0.weight\", \"change_channels.13.net.1.weight\", \"change_channels.13.net.1.bias\", \"change_channels.13.net.1.running_mean\", \"change_channels.13.net.1.running_var\", \"change_channels.13.net.1.num_batches_tracked\", \"change_channels.13.net.3.weight\", \"change_channels.13.net.4.weight\", \"change_channels.13.net.4.bias\", \"change_channels.13.net.4.running_mean\", \"change_channels.13.net.4.running_var\", \"change_channels.13.net.4.num_batches_tracked\", \"change_channels.14.net.0.weight\", \"change_channels.14.net.1.weight\", \"change_channels.14.net.1.bias\", \"change_channels.14.net.1.running_mean\", \"change_channels.14.net.1.running_var\", \"change_channels.14.net.1.num_batches_tracked\", \"change_channels.14.net.3.weight\", \"change_channels.14.net.4.weight\", \"change_channels.14.net.4.bias\", \"change_channels.14.net.4.running_mean\", \"change_channels.14.net.4.running_var\", \"change_channels.14.net.4.num_batches_tracked\", \"change_channels.15.net.0.weight\", \"change_channels.15.net.1.weight\", \"change_channels.15.net.1.bias\", \"change_channels.15.net.1.running_mean\", \"change_channels.15.net.1.running_var\", \"change_channels.15.net.1.num_batches_tracked\", \"change_channels.15.net.3.weight\", \"change_channels.15.net.4.weight\", \"change_channels.15.net.4.bias\", \"change_channels.15.net.4.running_mean\", \"change_channels.15.net.4.running_var\", \"change_channels.15.net.4.num_batches_tracked\", \"change_channels.16.net.0.weight\", \"change_channels.16.net.1.weight\", \"change_channels.16.net.1.bias\", \"change_channels.16.net.1.running_mean\", \"change_channels.16.net.1.running_var\", \"change_channels.16.net.1.num_batches_tracked\", \"change_channels.16.net.3.weight\", \"change_channels.16.net.4.weight\", \"change_channels.16.net.4.bias\", \"change_channels.16.net.4.running_mean\", \"change_channels.16.net.4.running_var\", \"change_channels.16.net.4.num_batches_tracked\", \"change_channels.17.net.0.weight\", \"change_channels.17.net.1.weight\", \"change_channels.17.net.1.bias\", \"change_channels.17.net.1.running_mean\", \"change_channels.17.net.1.running_var\", \"change_channels.17.net.1.num_batches_tracked\", \"change_channels.17.net.3.weight\", \"change_channels.17.net.4.weight\", \"change_channels.17.net.4.bias\", \"change_channels.17.net.4.running_mean\", \"change_channels.17.net.4.running_var\", \"change_channels.17.net.4.num_batches_tracked\", \"change_channels.18.net.0.weight\", \"change_channels.18.net.1.weight\", \"change_channels.18.net.1.bias\", \"change_channels.18.net.1.running_mean\", \"change_channels.18.net.1.running_var\", \"change_channels.18.net.1.num_batches_tracked\", \"change_channels.18.net.3.weight\", \"change_channels.18.net.4.weight\", \"change_channels.18.net.4.bias\", \"change_channels.18.net.4.running_mean\", \"change_channels.18.net.4.running_var\", \"change_channels.18.net.4.num_batches_tracked\", \"change_channels.19.net.0.weight\", \"change_channels.19.net.1.weight\", \"change_channels.19.net.1.bias\", \"change_channels.19.net.1.running_mean\", \"change_channels.19.net.1.running_var\", \"change_channels.19.net.1.num_batches_tracked\", \"change_channels.19.net.3.weight\", \"change_channels.19.net.4.weight\", \"change_channels.19.net.4.bias\", \"change_channels.19.net.4.running_mean\", \"change_channels.19.net.4.running_var\", \"change_channels.19.net.4.num_batches_tracked\", \"change_channels.20.net.0.weight\", \"change_channels.20.net.1.weight\", \"change_channels.20.net.1.bias\", \"change_channels.20.net.1.running_mean\", \"change_channels.20.net.1.running_var\", \"change_channels.20.net.1.num_batches_tracked\", \"change_channels.20.net.3.weight\", \"change_channels.20.net.4.weight\", \"change_channels.20.net.4.bias\", \"change_channels.20.net.4.running_mean\", \"change_channels.20.net.4.running_var\", \"change_channels.20.net.4.num_batches_tracked\", \"change_channels.21.net.0.weight\", \"change_channels.21.net.1.weight\", \"change_channels.21.net.1.bias\", \"change_channels.21.net.1.running_mean\", \"change_channels.21.net.1.running_var\", \"change_channels.21.net.1.num_batches_tracked\", \"change_channels.21.net.3.weight\", \"change_channels.21.net.4.weight\", \"change_channels.21.net.4.bias\", \"change_channels.21.net.4.running_mean\", \"change_channels.21.net.4.running_var\", \"change_channels.21.net.4.num_batches_tracked\". ",
     "output_type": "error",
     "traceback": [
      "\u001b[1;31m---------------------------------------------------------------------------\u001b[0m",
      "\u001b[1;31mRuntimeError\u001b[0m                              Traceback (most recent call last)",
      "\u001b[1;32m<ipython-input-35-7f9b2e499768>\u001b[0m in \u001b[0;36m<module>\u001b[1;34m\u001b[0m\n\u001b[0;32m     21\u001b[0m \u001b[1;33m\u001b[0m\u001b[0m\n\u001b[0;32m     22\u001b[0m \u001b[0mprint\u001b[0m\u001b[1;33m(\u001b[0m\u001b[1;34m'Loading attacker model..'\u001b[0m\u001b[1;33m)\u001b[0m\u001b[1;33m\u001b[0m\u001b[1;33m\u001b[0m\u001b[0m\n\u001b[1;32m---> 23\u001b[1;33m \u001b[0mmodel\u001b[0m\u001b[1;33m.\u001b[0m\u001b[0mload_state_dict\u001b[0m\u001b[1;33m(\u001b[0m\u001b[0mtorch\u001b[0m\u001b[1;33m.\u001b[0m\u001b[0mload\u001b[0m\u001b[1;33m(\u001b[0m\u001b[1;34m'./saved_models/Complex_ResNet-56Attacker_save'\u001b[0m\u001b[1;33m)\u001b[0m\u001b[1;33m)\u001b[0m\u001b[1;33m\u001b[0m\u001b[1;33m\u001b[0m\u001b[0m\n\u001b[0m\u001b[0;32m     24\u001b[0m \u001b[0mprint\u001b[0m\u001b[1;33m(\u001b[0m\u001b[1;34m'Attacker model successfully loaded'\u001b[0m\u001b[1;33m)\u001b[0m\u001b[1;33m\u001b[0m\u001b[1;33m\u001b[0m\u001b[0m\n\u001b[0;32m     25\u001b[0m \u001b[0mprint\u001b[0m\u001b[1;33m(\u001b[0m\u001b[1;34m'Testing attacker model..'\u001b[0m\u001b[1;33m)\u001b[0m\u001b[1;33m\u001b[0m\u001b[1;33m\u001b[0m\u001b[0m\n",
      "\u001b[1;32m~\\Anaconda3\\envs\\FACT_AI\\lib\\site-packages\\torch\\nn\\modules\\module.py\u001b[0m in \u001b[0;36mload_state_dict\u001b[1;34m(self, state_dict, strict)\u001b[0m\n\u001b[0;32m   1049\u001b[0m \u001b[1;33m\u001b[0m\u001b[0m\n\u001b[0;32m   1050\u001b[0m         \u001b[1;32mif\u001b[0m \u001b[0mlen\u001b[0m\u001b[1;33m(\u001b[0m\u001b[0merror_msgs\u001b[0m\u001b[1;33m)\u001b[0m \u001b[1;33m>\u001b[0m \u001b[1;36m0\u001b[0m\u001b[1;33m:\u001b[0m\u001b[1;33m\u001b[0m\u001b[1;33m\u001b[0m\u001b[0m\n\u001b[1;32m-> 1051\u001b[1;33m             raise RuntimeError('Error(s) in loading state_dict for {}:\\n\\t{}'.format(\n\u001b[0m\u001b[0;32m   1052\u001b[0m                                self.__class__.__name__, \"\\n\\t\".join(error_msgs)))\n\u001b[0;32m   1053\u001b[0m         \u001b[1;32mreturn\u001b[0m \u001b[0m_IncompatibleKeys\u001b[0m\u001b[1;33m(\u001b[0m\u001b[0mmissing_keys\u001b[0m\u001b[1;33m,\u001b[0m \u001b[0munexpected_keys\u001b[0m\u001b[1;33m)\u001b[0m\u001b[1;33m\u001b[0m\u001b[1;33m\u001b[0m\u001b[0m\n",
      "\u001b[1;31mRuntimeError\u001b[0m: Error(s) in loading state_dict for UNet:\n\tMissing key(s) in state_dict: \"encoding_layer.0.weight\", \"encoding_layer.1.weight\", \"encoding_layer.1.bias\", \"encoding_layer.1.running_mean\", \"encoding_layer.1.running_var\", \"encoding_layer.3.net.0.weight\", \"encoding_layer.3.net.1.weight\", \"encoding_layer.3.net.1.bias\", \"encoding_layer.3.net.1.running_mean\", \"encoding_layer.3.net.1.running_var\", \"encoding_layer.3.net.3.weight\", \"encoding_layer.3.net.4.weight\", \"encoding_layer.3.net.4.bias\", \"encoding_layer.3.net.4.running_mean\", \"encoding_layer.3.net.4.running_var\", \"encoding_layer.3.downsample.weight\", \"encoding_layer.3.downsample.bias\", \"encoding_layer.4.net.0.weight\", \"encoding_layer.4.net.1.weight\", \"encoding_layer.4.net.1.bias\", \"encoding_layer.4.net.1.running_mean\", \"encoding_layer.4.net.1.running_var\", \"encoding_layer.4.net.3.weight\", \"encoding_layer.4.net.4.weight\", \"encoding_layer.4.net.4.bias\", \"encoding_layer.4.net.4.running_mean\", \"encoding_layer.4.net.4.running_var\", \"encoding_layer.5.net.0.weight\", \"encoding_layer.5.net.1.weight\", \"encoding_layer.5.net.1.bias\", \"encoding_layer.5.net.1.running_mean\", \"encoding_layer.5.net.1.running_var\", \"encoding_layer.5.net.3.weight\", \"encoding_layer.5.net.4.weight\", \"encoding_layer.5.net.4.bias\", \"encoding_layer.5.net.4.running_mean\", \"encoding_layer.5.net.4.running_var\", \"encoding_layer.6.net.0.weight\", \"encoding_layer.6.net.1.weight\", \"encoding_layer.6.net.1.bias\", \"encoding_layer.6.net.1.running_mean\", \"encoding_layer.6.net.1.running_var\", \"encoding_layer.6.net.3.weight\", \"encoding_layer.6.net.4.weight\", \"encoding_layer.6.net.4.bias\", \"encoding_layer.6.net.4.running_mean\", \"encoding_layer.6.net.4.running_var\", \"encoding_layer.7.net.0.weight\", \"encoding_layer.7.net.1.weight\", \"encoding_layer.7.net.1.bias\", \"encoding_layer.7.net.1.running_mean\", \"encoding_layer.7.net.1.running_var\", \"encoding_layer.7.net.3.weight\", \"encoding_layer.7.net.4.weight\", \"encoding_layer.7.net.4.bias\", \"encoding_layer.7.net.4.running_mean\", \"encoding_layer.7.net.4.running_var\", \"encoding_layer.8.net.0.weight\", \"encoding_layer.8.net.1.weight\", \"encoding_layer.8.net.1.bias\", \"encoding_layer.8.net.1.running_mean\", \"encoding_layer.8.net.1.running_var\", \"encoding_layer.8.net.3.weight\", \"encoding_layer.8.net.4.weight\", \"encoding_layer.8.net.4.bias\", \"encoding_layer.8.net.4.running_mean\", \"encoding_layer.8.net.4.running_var\", \"encoding_layer.9.net.0.weight\", \"encoding_layer.9.net.1.weight\", \"encoding_layer.9.net.1.bias\", \"encoding_layer.9.net.1.running_mean\", \"encoding_layer.9.net.1.running_var\", \"encoding_layer.9.net.3.weight\", \"encoding_layer.9.net.4.weight\", \"encoding_layer.9.net.4.bias\", \"encoding_layer.9.net.4.running_mean\", \"encoding_layer.9.net.4.running_var\", \"encoding_layer.10.net.0.weight\", \"encoding_layer.10.net.1.weight\", \"encoding_layer.10.net.1.bias\", \"encoding_layer.10.net.1.running_mean\", \"encoding_layer.10.net.1.running_var\", \"encoding_layer.10.net.3.weight\", \"encoding_layer.10.net.4.weight\", \"encoding_layer.10.net.4.bias\", \"encoding_layer.10.net.4.running_mean\", \"encoding_layer.10.net.4.running_var\", \"encoding_layer.11.net.0.weight\", \"encoding_layer.11.net.1.weight\", \"encoding_layer.11.net.1.bias\", \"encoding_layer.11.net.1.running_mean\", \"encoding_layer.11.net.1.running_var\", \"encoding_layer.11.net.3.weight\", \"encoding_layer.11.net.4.weight\", \"encoding_layer.11.net.4.bias\", \"encoding_layer.11.net.4.running_mean\", \"encoding_layer.11.net.4.running_var\", \"encoding_layer.12.net.0.weight\", \"encoding_layer.12.net.1.weight\", \"encoding_layer.12.net.1.bias\", \"encoding_layer.12.net.1.running_mean\", \"encoding_layer.12.net.1.running_var\", \"encoding_layer.12.net.3.weight\", \"encoding_layer.12.net.4.weight\", \"encoding_layer.12.net.4.bias\", \"encoding_layer.12.net.4.running_mean\", \"encoding_layer.12.net.4.running_var\", \"encoding_layer.13.net.0.weight\", \"encoding_layer.13.net.1.weight\", \"encoding_layer.13.net.1.bias\", \"encoding_layer.13.net.1.running_mean\", \"encoding_layer.13.net.1.running_var\", \"encoding_layer.13.net.3.weight\", \"encoding_layer.13.net.4.weight\", \"encoding_layer.13.net.4.bias\", \"encoding_layer.13.net.4.running_mean\", \"encoding_layer.13.net.4.running_var\", \"encoding_layer.14.net.0.weight\", \"encoding_layer.14.net.1.weight\", \"encoding_layer.14.net.1.bias\", \"encoding_layer.14.net.1.running_mean\", \"encoding_layer.14.net.1.running_var\", \"encoding_layer.14.net.3.weight\", \"encoding_layer.14.net.4.weight\", \"encoding_layer.14.net.4.bias\", \"encoding_layer.14.net.4.running_mean\", \"encoding_layer.14.net.4.running_var\", \"encoding_layer.15.net.0.weight\", \"encoding_layer.15.net.1.weight\", \"encoding_layer.15.net.1.bias\", \"encoding_layer.15.net.1.running_mean\", \"encoding_layer.15.net.1.running_var\", \"encoding_layer.15.net.3.weight\", \"encoding_layer.15.net.4.weight\", \"encoding_layer.15.net.4.bias\", \"encoding_layer.15.net.4.running_mean\", \"encoding_layer.15.net.4.running_var\", \"encoding_layer.16.net.0.weight\", \"encoding_layer.16.net.1.weight\", \"encoding_layer.16.net.1.bias\", \"encoding_layer.16.net.1.running_mean\", \"encoding_layer.16.net.1.running_var\", \"encoding_layer.16.net.3.weight\", \"encoding_layer.16.net.4.weight\", \"encoding_layer.16.net.4.bias\", \"encoding_layer.16.net.4.running_mean\", \"encoding_layer.16.net.4.running_var\", \"encoding_layer.17.net.0.weight\", \"encoding_layer.17.net.1.weight\", \"encoding_layer.17.net.1.bias\", \"encoding_layer.17.net.1.running_mean\", \"encoding_layer.17.net.1.running_var\", \"encoding_layer.17.net.3.weight\", \"encoding_layer.17.net.4.weight\", \"encoding_layer.17.net.4.bias\", \"encoding_layer.17.net.4.running_mean\", \"encoding_layer.17.net.4.running_var\", \"encoding_layer.18.net.0.weight\", \"encoding_layer.18.net.1.weight\", \"encoding_layer.18.net.1.bias\", \"encoding_layer.18.net.1.running_mean\", \"encoding_layer.18.net.1.running_var\", \"encoding_layer.18.net.3.weight\", \"encoding_layer.18.net.4.weight\", \"encoding_layer.18.net.4.bias\", \"encoding_layer.18.net.4.running_mean\", \"encoding_layer.18.net.4.running_var\", \"encoding_layer.19.net.0.weight\", \"encoding_layer.19.net.1.weight\", \"encoding_layer.19.net.1.bias\", \"encoding_layer.19.net.1.running_mean\", \"encoding_layer.19.net.1.running_var\", \"encoding_layer.19.net.3.weight\", \"encoding_layer.19.net.4.weight\", \"encoding_layer.19.net.4.bias\", \"encoding_layer.19.net.4.running_mean\", \"encoding_layer.19.net.4.running_var\", \"encoding_layer.20.net.0.weight\", \"encoding_layer.20.net.1.weight\", \"encoding_layer.20.net.1.bias\", \"encoding_layer.20.net.1.running_mean\", \"encoding_layer.20.net.1.running_var\", \"encoding_layer.20.net.3.weight\", \"encoding_layer.20.net.4.weight\", \"encoding_layer.20.net.4.bias\", \"encoding_layer.20.net.4.running_mean\", \"encoding_layer.20.net.4.running_var\", \"encoding_layer.21.net.0.weight\", \"encoding_layer.21.net.1.weight\", \"encoding_layer.21.net.1.bias\", \"encoding_layer.21.net.1.running_mean\", \"encoding_layer.21.net.1.running_var\", \"encoding_layer.21.net.3.weight\", \"encoding_layer.21.net.4.weight\", \"encoding_layer.21.net.4.bias\", \"encoding_layer.21.net.4.running_mean\", \"encoding_layer.21.net.4.running_var\". \n\tUnexpected key(s) in state_dict: \"change_channels.0.weight\", \"change_channels.1.weight\", \"change_channels.1.bias\", \"change_channels.1.running_mean\", \"change_channels.1.running_var\", \"change_channels.1.num_batches_tracked\", \"change_channels.3.net.0.weight\", \"change_channels.3.net.1.weight\", \"change_channels.3.net.1.bias\", \"change_channels.3.net.1.running_mean\", \"change_channels.3.net.1.running_var\", \"change_channels.3.net.1.num_batches_tracked\", \"change_channels.3.net.3.weight\", \"change_channels.3.net.4.weight\", \"change_channels.3.net.4.bias\", \"change_channels.3.net.4.running_mean\", \"change_channels.3.net.4.running_var\", \"change_channels.3.net.4.num_batches_tracked\", \"change_channels.3.downsample.weight\", \"change_channels.3.downsample.bias\", \"change_channels.4.net.0.weight\", \"change_channels.4.net.1.weight\", \"change_channels.4.net.1.bias\", \"change_channels.4.net.1.running_mean\", \"change_channels.4.net.1.running_var\", \"change_channels.4.net.1.num_batches_tracked\", \"change_channels.4.net.3.weight\", \"change_channels.4.net.4.weight\", \"change_channels.4.net.4.bias\", \"change_channels.4.net.4.running_mean\", \"change_channels.4.net.4.running_var\", \"change_channels.4.net.4.num_batches_tracked\", \"change_channels.5.net.0.weight\", \"change_channels.5.net.1.weight\", \"change_channels.5.net.1.bias\", \"change_channels.5.net.1.running_mean\", \"change_channels.5.net.1.running_var\", \"change_channels.5.net.1.num_batches_tracked\", \"change_channels.5.net.3.weight\", \"change_channels.5.net.4.weight\", \"change_channels.5.net.4.bias\", \"change_channels.5.net.4.running_mean\", \"change_channels.5.net.4.running_var\", \"change_channels.5.net.4.num_batches_tracked\", \"change_channels.6.net.0.weight\", \"change_channels.6.net.1.weight\", \"change_channels.6.net.1.bias\", \"change_channels.6.net.1.running_mean\", \"change_channels.6.net.1.running_var\", \"change_channels.6.net.1.num_batches_tracked\", \"change_channels.6.net.3.weight\", \"change_channels.6.net.4.weight\", \"change_channels.6.net.4.bias\", \"change_channels.6.net.4.running_mean\", \"change_channels.6.net.4.running_var\", \"change_channels.6.net.4.num_batches_tracked\", \"change_channels.7.net.0.weight\", \"change_channels.7.net.1.weight\", \"change_channels.7.net.1.bias\", \"change_channels.7.net.1.running_mean\", \"change_channels.7.net.1.running_var\", \"change_channels.7.net.1.num_batches_tracked\", \"change_channels.7.net.3.weight\", \"change_channels.7.net.4.weight\", \"change_channels.7.net.4.bias\", \"change_channels.7.net.4.running_mean\", \"change_channels.7.net.4.running_var\", \"change_channels.7.net.4.num_batches_tracked\", \"change_channels.8.net.0.weight\", \"change_channels.8.net.1.weight\", \"change_channels.8.net.1.bias\", \"change_channels.8.net.1.running_mean\", \"change_channels.8.net.1.running_var\", \"change_channels.8.net.1.num_batches_tracked\", \"change_channels.8.net.3.weight\", \"change_channels.8.net.4.weight\", \"change_channels.8.net.4.bias\", \"change_channels.8.net.4.running_mean\", \"change_channels.8.net.4.running_var\", \"change_channels.8.net.4.num_batches_tracked\", \"change_channels.9.net.0.weight\", \"change_channels.9.net.1.weight\", \"change_channels.9.net.1.bias\", \"change_channels.9.net.1.running_mean\", \"change_channels.9.net.1.running_var\", \"change_channels.9.net.1.num_batches_tracked\", \"change_channels.9.net.3.weight\", \"change_channels.9.net.4.weight\", \"change_channels.9.net.4.bias\", \"change_channels.9.net.4.running_mean\", \"change_channels.9.net.4.running_var\", \"change_channels.9.net.4.num_batches_tracked\", \"change_channels.10.net.0.weight\", \"change_channels.10.net.1.weight\", \"change_channels.10.net.1.bias\", \"change_channels.10.net.1.running_mean\", \"change_channels.10.net.1.running_var\", \"change_channels.10.net.1.num_batches_tracked\", \"change_channels.10.net.3.weight\", \"change_channels.10.net.4.weight\", \"change_channels.10.net.4.bias\", \"change_channels.10.net.4.running_mean\", \"change_channels.10.net.4.running_var\", \"change_channels.10.net.4.num_batches_tracked\", \"change_channels.11.net.0.weight\", \"change_channels.11.net.1.weight\", \"change_channels.11.net.1.bias\", \"change_channels.11.net.1.running_mean\", \"change_channels.11.net.1.running_var\", \"change_channels.11.net.1.num_batches_tracked\", \"change_channels.11.net.3.weight\", \"change_channels.11.net.4.weight\", \"change_channels.11.net.4.bias\", \"change_channels.11.net.4.running_mean\", \"change_channels.11.net.4.running_var\", \"change_channels.11.net.4.num_batches_tracked\", \"change_channels.12.net.0.weight\", \"change_channels.12.net.1.weight\", \"change_channels.12.net.1.bias\", \"change_channels.12.net.1.running_mean\", \"change_channels.12.net.1.running_var\", \"change_channels.12.net.1.num_batches_tracked\", \"change_channels.12.net.3.weight\", \"change_channels.12.net.4.weight\", \"change_channels.12.net.4.bias\", \"change_channels.12.net.4.running_mean\", \"change_channels.12.net.4.running_var\", \"change_channels.12.net.4.num_batches_tracked\", \"change_channels.13.net.0.weight\", \"change_channels.13.net.1.weight\", \"change_channels.13.net.1.bias\", \"change_channels.13.net.1.running_mean\", \"change_channels.13.net.1.running_var\", \"change_channels.13.net.1.num_batches_tracked\", \"change_channels.13.net.3.weight\", \"change_channels.13.net.4.weight\", \"change_channels.13.net.4.bias\", \"change_channels.13.net.4.running_mean\", \"change_channels.13.net.4.running_var\", \"change_channels.13.net.4.num_batches_tracked\", \"change_channels.14.net.0.weight\", \"change_channels.14.net.1.weight\", \"change_channels.14.net.1.bias\", \"change_channels.14.net.1.running_mean\", \"change_channels.14.net.1.running_var\", \"change_channels.14.net.1.num_batches_tracked\", \"change_channels.14.net.3.weight\", \"change_channels.14.net.4.weight\", \"change_channels.14.net.4.bias\", \"change_channels.14.net.4.running_mean\", \"change_channels.14.net.4.running_var\", \"change_channels.14.net.4.num_batches_tracked\", \"change_channels.15.net.0.weight\", \"change_channels.15.net.1.weight\", \"change_channels.15.net.1.bias\", \"change_channels.15.net.1.running_mean\", \"change_channels.15.net.1.running_var\", \"change_channels.15.net.1.num_batches_tracked\", \"change_channels.15.net.3.weight\", \"change_channels.15.net.4.weight\", \"change_channels.15.net.4.bias\", \"change_channels.15.net.4.running_mean\", \"change_channels.15.net.4.running_var\", \"change_channels.15.net.4.num_batches_tracked\", \"change_channels.16.net.0.weight\", \"change_channels.16.net.1.weight\", \"change_channels.16.net.1.bias\", \"change_channels.16.net.1.running_mean\", \"change_channels.16.net.1.running_var\", \"change_channels.16.net.1.num_batches_tracked\", \"change_channels.16.net.3.weight\", \"change_channels.16.net.4.weight\", \"change_channels.16.net.4.bias\", \"change_channels.16.net.4.running_mean\", \"change_channels.16.net.4.running_var\", \"change_channels.16.net.4.num_batches_tracked\", \"change_channels.17.net.0.weight\", \"change_channels.17.net.1.weight\", \"change_channels.17.net.1.bias\", \"change_channels.17.net.1.running_mean\", \"change_channels.17.net.1.running_var\", \"change_channels.17.net.1.num_batches_tracked\", \"change_channels.17.net.3.weight\", \"change_channels.17.net.4.weight\", \"change_channels.17.net.4.bias\", \"change_channels.17.net.4.running_mean\", \"change_channels.17.net.4.running_var\", \"change_channels.17.net.4.num_batches_tracked\", \"change_channels.18.net.0.weight\", \"change_channels.18.net.1.weight\", \"change_channels.18.net.1.bias\", \"change_channels.18.net.1.running_mean\", \"change_channels.18.net.1.running_var\", \"change_channels.18.net.1.num_batches_tracked\", \"change_channels.18.net.3.weight\", \"change_channels.18.net.4.weight\", \"change_channels.18.net.4.bias\", \"change_channels.18.net.4.running_mean\", \"change_channels.18.net.4.running_var\", \"change_channels.18.net.4.num_batches_tracked\", \"change_channels.19.net.0.weight\", \"change_channels.19.net.1.weight\", \"change_channels.19.net.1.bias\", \"change_channels.19.net.1.running_mean\", \"change_channels.19.net.1.running_var\", \"change_channels.19.net.1.num_batches_tracked\", \"change_channels.19.net.3.weight\", \"change_channels.19.net.4.weight\", \"change_channels.19.net.4.bias\", \"change_channels.19.net.4.running_mean\", \"change_channels.19.net.4.running_var\", \"change_channels.19.net.4.num_batches_tracked\", \"change_channels.20.net.0.weight\", \"change_channels.20.net.1.weight\", \"change_channels.20.net.1.bias\", \"change_channels.20.net.1.running_mean\", \"change_channels.20.net.1.running_var\", \"change_channels.20.net.1.num_batches_tracked\", \"change_channels.20.net.3.weight\", \"change_channels.20.net.4.weight\", \"change_channels.20.net.4.bias\", \"change_channels.20.net.4.running_mean\", \"change_channels.20.net.4.running_var\", \"change_channels.20.net.4.num_batches_tracked\", \"change_channels.21.net.0.weight\", \"change_channels.21.net.1.weight\", \"change_channels.21.net.1.bias\", \"change_channels.21.net.1.running_mean\", \"change_channels.21.net.1.running_var\", \"change_channels.21.net.1.num_batches_tracked\", \"change_channels.21.net.3.weight\", \"change_channels.21.net.4.weight\", \"change_channels.21.net.4.bias\", \"change_channels.21.net.4.running_mean\", \"change_channels.21.net.4.running_var\", \"change_channels.21.net.4.num_batches_tracked\". "
     ]
    }
   ],
   "source": [
    "classes, trainloader, valloader, testloader = load_data(\n",
    "        'CIFAR-100', 128, 0\n",
    "    )\n",
    "\n",
    "trainer = pl.Trainer(\n",
    "                    gpus=1 if torch.cuda.is_available() else 0,\n",
    "                    max_epochs=1000,\n",
    "                    progress_bar_refresh_rate=1)\n",
    "\n",
    "# seed for reproducability\n",
    "pl.seed_everything(42)\n",
    "\n",
    "device = torch.device(\"cuda:0\" if torch.cuda.is_available() else \"cpu\")\n",
    "\n",
    "gan_model = initialize_model('Complex_ResNet-56', 100, 1e-3, 2)\n",
    "gan_model.load_state_dict(torch.load('./saved_models/Complex_ResNet-56_save'))\n",
    "generator = gan_model.encoder.generator\n",
    "conv = gan_model.encoder.generator.encoding_layer\n",
    "\n",
    "model = UNet(generator=generator, enc_chs=(16,64,128,256,512), num_channels=3, lr=1e-3, encoding_layer=conv)\n",
    "\n",
    "print('Loading attacker model..')\n",
    "model.load_state_dict(torch.load('./saved_models/Complex_ResNet-56Attacker_save'))\n",
    "print('Attacker model successfully loaded')\n",
    "print('Testing attacker model..')\n",
    "out = trainer.test(model=model, test_dataloaders=testloader)\n",
    "print('Testing successfull')\n",
    "\n",
    "attackerDict['ResNet-56'] = out[0]"
   ]
  },
  {
   "cell_type": "markdown",
   "metadata": {},
   "source": [
    "### ResNet-110"
   ]
  },
  {
   "cell_type": "code",
   "execution_count": 34,
   "metadata": {},
   "outputs": [
    {
     "name": "stdout",
     "output_type": "stream",
     "text": [
      "Files already downloaded and verified\n",
      "Files already downloaded and verified\n"
     ]
    },
    {
     "name": "stderr",
     "output_type": "stream",
     "text": [
      "GPU available: True, used: True\n",
      "TPU available: False, using: 0 TPU cores\n",
      "LOCAL_RANK: 0 - CUDA_VISIBLE_DEVICES: [0]\n"
     ]
    },
    {
     "name": "stdout",
     "output_type": "stream",
     "text": [
      "Loading attacker model..\n"
     ]
    },
    {
     "ename": "RuntimeError",
     "evalue": "Error(s) in loading state_dict for UNet:\n\tMissing key(s) in state_dict: \"encoding_layer.0.weight\", \"encoding_layer.1.weight\", \"encoding_layer.1.bias\", \"encoding_layer.1.running_mean\", \"encoding_layer.1.running_var\", \"encoding_layer.3.net.0.weight\", \"encoding_layer.3.net.1.weight\", \"encoding_layer.3.net.1.bias\", \"encoding_layer.3.net.1.running_mean\", \"encoding_layer.3.net.1.running_var\", \"encoding_layer.3.net.3.weight\", \"encoding_layer.3.net.4.weight\", \"encoding_layer.3.net.4.bias\", \"encoding_layer.3.net.4.running_mean\", \"encoding_layer.3.net.4.running_var\", \"encoding_layer.3.downsample.weight\", \"encoding_layer.3.downsample.bias\", \"encoding_layer.4.net.0.weight\", \"encoding_layer.4.net.1.weight\", \"encoding_layer.4.net.1.bias\", \"encoding_layer.4.net.1.running_mean\", \"encoding_layer.4.net.1.running_var\", \"encoding_layer.4.net.3.weight\", \"encoding_layer.4.net.4.weight\", \"encoding_layer.4.net.4.bias\", \"encoding_layer.4.net.4.running_mean\", \"encoding_layer.4.net.4.running_var\", \"encoding_layer.5.net.0.weight\", \"encoding_layer.5.net.1.weight\", \"encoding_layer.5.net.1.bias\", \"encoding_layer.5.net.1.running_mean\", \"encoding_layer.5.net.1.running_var\", \"encoding_layer.5.net.3.weight\", \"encoding_layer.5.net.4.weight\", \"encoding_layer.5.net.4.bias\", \"encoding_layer.5.net.4.running_mean\", \"encoding_layer.5.net.4.running_var\", \"encoding_layer.6.net.0.weight\", \"encoding_layer.6.net.1.weight\", \"encoding_layer.6.net.1.bias\", \"encoding_layer.6.net.1.running_mean\", \"encoding_layer.6.net.1.running_var\", \"encoding_layer.6.net.3.weight\", \"encoding_layer.6.net.4.weight\", \"encoding_layer.6.net.4.bias\", \"encoding_layer.6.net.4.running_mean\", \"encoding_layer.6.net.4.running_var\", \"encoding_layer.7.net.0.weight\", \"encoding_layer.7.net.1.weight\", \"encoding_layer.7.net.1.bias\", \"encoding_layer.7.net.1.running_mean\", \"encoding_layer.7.net.1.running_var\", \"encoding_layer.7.net.3.weight\", \"encoding_layer.7.net.4.weight\", \"encoding_layer.7.net.4.bias\", \"encoding_layer.7.net.4.running_mean\", \"encoding_layer.7.net.4.running_var\", \"encoding_layer.8.net.0.weight\", \"encoding_layer.8.net.1.weight\", \"encoding_layer.8.net.1.bias\", \"encoding_layer.8.net.1.running_mean\", \"encoding_layer.8.net.1.running_var\", \"encoding_layer.8.net.3.weight\", \"encoding_layer.8.net.4.weight\", \"encoding_layer.8.net.4.bias\", \"encoding_layer.8.net.4.running_mean\", \"encoding_layer.8.net.4.running_var\", \"encoding_layer.9.net.0.weight\", \"encoding_layer.9.net.1.weight\", \"encoding_layer.9.net.1.bias\", \"encoding_layer.9.net.1.running_mean\", \"encoding_layer.9.net.1.running_var\", \"encoding_layer.9.net.3.weight\", \"encoding_layer.9.net.4.weight\", \"encoding_layer.9.net.4.bias\", \"encoding_layer.9.net.4.running_mean\", \"encoding_layer.9.net.4.running_var\", \"encoding_layer.10.net.0.weight\", \"encoding_layer.10.net.1.weight\", \"encoding_layer.10.net.1.bias\", \"encoding_layer.10.net.1.running_mean\", \"encoding_layer.10.net.1.running_var\", \"encoding_layer.10.net.3.weight\", \"encoding_layer.10.net.4.weight\", \"encoding_layer.10.net.4.bias\", \"encoding_layer.10.net.4.running_mean\", \"encoding_layer.10.net.4.running_var\", \"encoding_layer.11.net.0.weight\", \"encoding_layer.11.net.1.weight\", \"encoding_layer.11.net.1.bias\", \"encoding_layer.11.net.1.running_mean\", \"encoding_layer.11.net.1.running_var\", \"encoding_layer.11.net.3.weight\", \"encoding_layer.11.net.4.weight\", \"encoding_layer.11.net.4.bias\", \"encoding_layer.11.net.4.running_mean\", \"encoding_layer.11.net.4.running_var\", \"encoding_layer.12.net.0.weight\", \"encoding_layer.12.net.1.weight\", \"encoding_layer.12.net.1.bias\", \"encoding_layer.12.net.1.running_mean\", \"encoding_layer.12.net.1.running_var\", \"encoding_layer.12.net.3.weight\", \"encoding_layer.12.net.4.weight\", \"encoding_layer.12.net.4.bias\", \"encoding_layer.12.net.4.running_mean\", \"encoding_layer.12.net.4.running_var\", \"encoding_layer.13.net.0.weight\", \"encoding_layer.13.net.1.weight\", \"encoding_layer.13.net.1.bias\", \"encoding_layer.13.net.1.running_mean\", \"encoding_layer.13.net.1.running_var\", \"encoding_layer.13.net.3.weight\", \"encoding_layer.13.net.4.weight\", \"encoding_layer.13.net.4.bias\", \"encoding_layer.13.net.4.running_mean\", \"encoding_layer.13.net.4.running_var\", \"encoding_layer.14.net.0.weight\", \"encoding_layer.14.net.1.weight\", \"encoding_layer.14.net.1.bias\", \"encoding_layer.14.net.1.running_mean\", \"encoding_layer.14.net.1.running_var\", \"encoding_layer.14.net.3.weight\", \"encoding_layer.14.net.4.weight\", \"encoding_layer.14.net.4.bias\", \"encoding_layer.14.net.4.running_mean\", \"encoding_layer.14.net.4.running_var\", \"encoding_layer.15.net.0.weight\", \"encoding_layer.15.net.1.weight\", \"encoding_layer.15.net.1.bias\", \"encoding_layer.15.net.1.running_mean\", \"encoding_layer.15.net.1.running_var\", \"encoding_layer.15.net.3.weight\", \"encoding_layer.15.net.4.weight\", \"encoding_layer.15.net.4.bias\", \"encoding_layer.15.net.4.running_mean\", \"encoding_layer.15.net.4.running_var\", \"encoding_layer.16.net.0.weight\", \"encoding_layer.16.net.1.weight\", \"encoding_layer.16.net.1.bias\", \"encoding_layer.16.net.1.running_mean\", \"encoding_layer.16.net.1.running_var\", \"encoding_layer.16.net.3.weight\", \"encoding_layer.16.net.4.weight\", \"encoding_layer.16.net.4.bias\", \"encoding_layer.16.net.4.running_mean\", \"encoding_layer.16.net.4.running_var\", \"encoding_layer.17.net.0.weight\", \"encoding_layer.17.net.1.weight\", \"encoding_layer.17.net.1.bias\", \"encoding_layer.17.net.1.running_mean\", \"encoding_layer.17.net.1.running_var\", \"encoding_layer.17.net.3.weight\", \"encoding_layer.17.net.4.weight\", \"encoding_layer.17.net.4.bias\", \"encoding_layer.17.net.4.running_mean\", \"encoding_layer.17.net.4.running_var\", \"encoding_layer.18.net.0.weight\", \"encoding_layer.18.net.1.weight\", \"encoding_layer.18.net.1.bias\", \"encoding_layer.18.net.1.running_mean\", \"encoding_layer.18.net.1.running_var\", \"encoding_layer.18.net.3.weight\", \"encoding_layer.18.net.4.weight\", \"encoding_layer.18.net.4.bias\", \"encoding_layer.18.net.4.running_mean\", \"encoding_layer.18.net.4.running_var\", \"encoding_layer.19.net.0.weight\", \"encoding_layer.19.net.1.weight\", \"encoding_layer.19.net.1.bias\", \"encoding_layer.19.net.1.running_mean\", \"encoding_layer.19.net.1.running_var\", \"encoding_layer.19.net.3.weight\", \"encoding_layer.19.net.4.weight\", \"encoding_layer.19.net.4.bias\", \"encoding_layer.19.net.4.running_mean\", \"encoding_layer.19.net.4.running_var\", \"encoding_layer.20.net.0.weight\", \"encoding_layer.20.net.1.weight\", \"encoding_layer.20.net.1.bias\", \"encoding_layer.20.net.1.running_mean\", \"encoding_layer.20.net.1.running_var\", \"encoding_layer.20.net.3.weight\", \"encoding_layer.20.net.4.weight\", \"encoding_layer.20.net.4.bias\", \"encoding_layer.20.net.4.running_mean\", \"encoding_layer.20.net.4.running_var\", \"encoding_layer.21.net.0.weight\", \"encoding_layer.21.net.1.weight\", \"encoding_layer.21.net.1.bias\", \"encoding_layer.21.net.1.running_mean\", \"encoding_layer.21.net.1.running_var\", \"encoding_layer.21.net.3.weight\", \"encoding_layer.21.net.4.weight\", \"encoding_layer.21.net.4.bias\", \"encoding_layer.21.net.4.running_mean\", \"encoding_layer.21.net.4.running_var\", \"encoding_layer.22.net.0.weight\", \"encoding_layer.22.net.1.weight\", \"encoding_layer.22.net.1.bias\", \"encoding_layer.22.net.1.running_mean\", \"encoding_layer.22.net.1.running_var\", \"encoding_layer.22.net.3.weight\", \"encoding_layer.22.net.4.weight\", \"encoding_layer.22.net.4.bias\", \"encoding_layer.22.net.4.running_mean\", \"encoding_layer.22.net.4.running_var\", \"encoding_layer.23.net.0.weight\", \"encoding_layer.23.net.1.weight\", \"encoding_layer.23.net.1.bias\", \"encoding_layer.23.net.1.running_mean\", \"encoding_layer.23.net.1.running_var\", \"encoding_layer.23.net.3.weight\", \"encoding_layer.23.net.4.weight\", \"encoding_layer.23.net.4.bias\", \"encoding_layer.23.net.4.running_mean\", \"encoding_layer.23.net.4.running_var\", \"encoding_layer.24.net.0.weight\", \"encoding_layer.24.net.1.weight\", \"encoding_layer.24.net.1.bias\", \"encoding_layer.24.net.1.running_mean\", \"encoding_layer.24.net.1.running_var\", \"encoding_layer.24.net.3.weight\", \"encoding_layer.24.net.4.weight\", \"encoding_layer.24.net.4.bias\", \"encoding_layer.24.net.4.running_mean\", \"encoding_layer.24.net.4.running_var\", \"encoding_layer.25.net.0.weight\", \"encoding_layer.25.net.1.weight\", \"encoding_layer.25.net.1.bias\", \"encoding_layer.25.net.1.running_mean\", \"encoding_layer.25.net.1.running_var\", \"encoding_layer.25.net.3.weight\", \"encoding_layer.25.net.4.weight\", \"encoding_layer.25.net.4.bias\", \"encoding_layer.25.net.4.running_mean\", \"encoding_layer.25.net.4.running_var\", \"encoding_layer.26.net.0.weight\", \"encoding_layer.26.net.1.weight\", \"encoding_layer.26.net.1.bias\", \"encoding_layer.26.net.1.running_mean\", \"encoding_layer.26.net.1.running_var\", \"encoding_layer.26.net.3.weight\", \"encoding_layer.26.net.4.weight\", \"encoding_layer.26.net.4.bias\", \"encoding_layer.26.net.4.running_mean\", \"encoding_layer.26.net.4.running_var\", \"encoding_layer.27.net.0.weight\", \"encoding_layer.27.net.1.weight\", \"encoding_layer.27.net.1.bias\", \"encoding_layer.27.net.1.running_mean\", \"encoding_layer.27.net.1.running_var\", \"encoding_layer.27.net.3.weight\", \"encoding_layer.27.net.4.weight\", \"encoding_layer.27.net.4.bias\", \"encoding_layer.27.net.4.running_mean\", \"encoding_layer.27.net.4.running_var\", \"encoding_layer.28.net.0.weight\", \"encoding_layer.28.net.1.weight\", \"encoding_layer.28.net.1.bias\", \"encoding_layer.28.net.1.running_mean\", \"encoding_layer.28.net.1.running_var\", \"encoding_layer.28.net.3.weight\", \"encoding_layer.28.net.4.weight\", \"encoding_layer.28.net.4.bias\", \"encoding_layer.28.net.4.running_mean\", \"encoding_layer.28.net.4.running_var\", \"encoding_layer.29.net.0.weight\", \"encoding_layer.29.net.1.weight\", \"encoding_layer.29.net.1.bias\", \"encoding_layer.29.net.1.running_mean\", \"encoding_layer.29.net.1.running_var\", \"encoding_layer.29.net.3.weight\", \"encoding_layer.29.net.4.weight\", \"encoding_layer.29.net.4.bias\", \"encoding_layer.29.net.4.running_mean\", \"encoding_layer.29.net.4.running_var\", \"encoding_layer.30.net.0.weight\", \"encoding_layer.30.net.1.weight\", \"encoding_layer.30.net.1.bias\", \"encoding_layer.30.net.1.running_mean\", \"encoding_layer.30.net.1.running_var\", \"encoding_layer.30.net.3.weight\", \"encoding_layer.30.net.4.weight\", \"encoding_layer.30.net.4.bias\", \"encoding_layer.30.net.4.running_mean\", \"encoding_layer.30.net.4.running_var\", \"encoding_layer.31.net.0.weight\", \"encoding_layer.31.net.1.weight\", \"encoding_layer.31.net.1.bias\", \"encoding_layer.31.net.1.running_mean\", \"encoding_layer.31.net.1.running_var\", \"encoding_layer.31.net.3.weight\", \"encoding_layer.31.net.4.weight\", \"encoding_layer.31.net.4.bias\", \"encoding_layer.31.net.4.running_mean\", \"encoding_layer.31.net.4.running_var\", \"encoding_layer.32.net.0.weight\", \"encoding_layer.32.net.1.weight\", \"encoding_layer.32.net.1.bias\", \"encoding_layer.32.net.1.running_mean\", \"encoding_layer.32.net.1.running_var\", \"encoding_layer.32.net.3.weight\", \"encoding_layer.32.net.4.weight\", \"encoding_layer.32.net.4.bias\", \"encoding_layer.32.net.4.running_mean\", \"encoding_layer.32.net.4.running_var\", \"encoding_layer.33.net.0.weight\", \"encoding_layer.33.net.1.weight\", \"encoding_layer.33.net.1.bias\", \"encoding_layer.33.net.1.running_mean\", \"encoding_layer.33.net.1.running_var\", \"encoding_layer.33.net.3.weight\", \"encoding_layer.33.net.4.weight\", \"encoding_layer.33.net.4.bias\", \"encoding_layer.33.net.4.running_mean\", \"encoding_layer.33.net.4.running_var\", \"encoding_layer.34.net.0.weight\", \"encoding_layer.34.net.1.weight\", \"encoding_layer.34.net.1.bias\", \"encoding_layer.34.net.1.running_mean\", \"encoding_layer.34.net.1.running_var\", \"encoding_layer.34.net.3.weight\", \"encoding_layer.34.net.4.weight\", \"encoding_layer.34.net.4.bias\", \"encoding_layer.34.net.4.running_mean\", \"encoding_layer.34.net.4.running_var\", \"encoding_layer.35.net.0.weight\", \"encoding_layer.35.net.1.weight\", \"encoding_layer.35.net.1.bias\", \"encoding_layer.35.net.1.running_mean\", \"encoding_layer.35.net.1.running_var\", \"encoding_layer.35.net.3.weight\", \"encoding_layer.35.net.4.weight\", \"encoding_layer.35.net.4.bias\", \"encoding_layer.35.net.4.running_mean\", \"encoding_layer.35.net.4.running_var\", \"encoding_layer.36.net.0.weight\", \"encoding_layer.36.net.1.weight\", \"encoding_layer.36.net.1.bias\", \"encoding_layer.36.net.1.running_mean\", \"encoding_layer.36.net.1.running_var\", \"encoding_layer.36.net.3.weight\", \"encoding_layer.36.net.4.weight\", \"encoding_layer.36.net.4.bias\", \"encoding_layer.36.net.4.running_mean\", \"encoding_layer.36.net.4.running_var\", \"encoding_layer.37.net.0.weight\", \"encoding_layer.37.net.1.weight\", \"encoding_layer.37.net.1.bias\", \"encoding_layer.37.net.1.running_mean\", \"encoding_layer.37.net.1.running_var\", \"encoding_layer.37.net.3.weight\", \"encoding_layer.37.net.4.weight\", \"encoding_layer.37.net.4.bias\", \"encoding_layer.37.net.4.running_mean\", \"encoding_layer.37.net.4.running_var\", \"encoding_layer.38.net.0.weight\", \"encoding_layer.38.net.1.weight\", \"encoding_layer.38.net.1.bias\", \"encoding_layer.38.net.1.running_mean\", \"encoding_layer.38.net.1.running_var\", \"encoding_layer.38.net.3.weight\", \"encoding_layer.38.net.4.weight\", \"encoding_layer.38.net.4.bias\", \"encoding_layer.38.net.4.running_mean\", \"encoding_layer.38.net.4.running_var\", \"encoding_layer.39.net.0.weight\", \"encoding_layer.39.net.1.weight\", \"encoding_layer.39.net.1.bias\", \"encoding_layer.39.net.1.running_mean\", \"encoding_layer.39.net.1.running_var\", \"encoding_layer.39.net.3.weight\", \"encoding_layer.39.net.4.weight\", \"encoding_layer.39.net.4.bias\", \"encoding_layer.39.net.4.running_mean\", \"encoding_layer.39.net.4.running_var\". \n\tUnexpected key(s) in state_dict: \"change_channels.0.weight\", \"change_channels.1.weight\", \"change_channels.1.bias\", \"change_channels.1.running_mean\", \"change_channels.1.running_var\", \"change_channels.1.num_batches_tracked\", \"change_channels.3.net.0.weight\", \"change_channels.3.net.1.weight\", \"change_channels.3.net.1.bias\", \"change_channels.3.net.1.running_mean\", \"change_channels.3.net.1.running_var\", \"change_channels.3.net.1.num_batches_tracked\", \"change_channels.3.net.3.weight\", \"change_channels.3.net.4.weight\", \"change_channels.3.net.4.bias\", \"change_channels.3.net.4.running_mean\", \"change_channels.3.net.4.running_var\", \"change_channels.3.net.4.num_batches_tracked\", \"change_channels.3.downsample.weight\", \"change_channels.3.downsample.bias\", \"change_channels.4.net.0.weight\", \"change_channels.4.net.1.weight\", \"change_channels.4.net.1.bias\", \"change_channels.4.net.1.running_mean\", \"change_channels.4.net.1.running_var\", \"change_channels.4.net.1.num_batches_tracked\", \"change_channels.4.net.3.weight\", \"change_channels.4.net.4.weight\", \"change_channels.4.net.4.bias\", \"change_channels.4.net.4.running_mean\", \"change_channels.4.net.4.running_var\", \"change_channels.4.net.4.num_batches_tracked\", \"change_channels.5.net.0.weight\", \"change_channels.5.net.1.weight\", \"change_channels.5.net.1.bias\", \"change_channels.5.net.1.running_mean\", \"change_channels.5.net.1.running_var\", \"change_channels.5.net.1.num_batches_tracked\", \"change_channels.5.net.3.weight\", \"change_channels.5.net.4.weight\", \"change_channels.5.net.4.bias\", \"change_channels.5.net.4.running_mean\", \"change_channels.5.net.4.running_var\", \"change_channels.5.net.4.num_batches_tracked\", \"change_channels.6.net.0.weight\", \"change_channels.6.net.1.weight\", \"change_channels.6.net.1.bias\", \"change_channels.6.net.1.running_mean\", \"change_channels.6.net.1.running_var\", \"change_channels.6.net.1.num_batches_tracked\", \"change_channels.6.net.3.weight\", \"change_channels.6.net.4.weight\", \"change_channels.6.net.4.bias\", \"change_channels.6.net.4.running_mean\", \"change_channels.6.net.4.running_var\", \"change_channels.6.net.4.num_batches_tracked\", \"change_channels.7.net.0.weight\", \"change_channels.7.net.1.weight\", \"change_channels.7.net.1.bias\", \"change_channels.7.net.1.running_mean\", \"change_channels.7.net.1.running_var\", \"change_channels.7.net.1.num_batches_tracked\", \"change_channels.7.net.3.weight\", \"change_channels.7.net.4.weight\", \"change_channels.7.net.4.bias\", \"change_channels.7.net.4.running_mean\", \"change_channels.7.net.4.running_var\", \"change_channels.7.net.4.num_batches_tracked\", \"change_channels.8.net.0.weight\", \"change_channels.8.net.1.weight\", \"change_channels.8.net.1.bias\", \"change_channels.8.net.1.running_mean\", \"change_channels.8.net.1.running_var\", \"change_channels.8.net.1.num_batches_tracked\", \"change_channels.8.net.3.weight\", \"change_channels.8.net.4.weight\", \"change_channels.8.net.4.bias\", \"change_channels.8.net.4.running_mean\", \"change_channels.8.net.4.running_var\", \"change_channels.8.net.4.num_batches_tracked\", \"change_channels.9.net.0.weight\", \"change_channels.9.net.1.weight\", \"change_channels.9.net.1.bias\", \"change_channels.9.net.1.running_mean\", \"change_channels.9.net.1.running_var\", \"change_channels.9.net.1.num_batches_tracked\", \"change_channels.9.net.3.weight\", \"change_channels.9.net.4.weight\", \"change_channels.9.net.4.bias\", \"change_channels.9.net.4.running_mean\", \"change_channels.9.net.4.running_var\", \"change_channels.9.net.4.num_batches_tracked\", \"change_channels.10.net.0.weight\", \"change_channels.10.net.1.weight\", \"change_channels.10.net.1.bias\", \"change_channels.10.net.1.running_mean\", \"change_channels.10.net.1.running_var\", \"change_channels.10.net.1.num_batches_tracked\", \"change_channels.10.net.3.weight\", \"change_channels.10.net.4.weight\", \"change_channels.10.net.4.bias\", \"change_channels.10.net.4.running_mean\", \"change_channels.10.net.4.running_var\", \"change_channels.10.net.4.num_batches_tracked\", \"change_channels.11.net.0.weight\", \"change_channels.11.net.1.weight\", \"change_channels.11.net.1.bias\", \"change_channels.11.net.1.running_mean\", \"change_channels.11.net.1.running_var\", \"change_channels.11.net.1.num_batches_tracked\", \"change_channels.11.net.3.weight\", \"change_channels.11.net.4.weight\", \"change_channels.11.net.4.bias\", \"change_channels.11.net.4.running_mean\", \"change_channels.11.net.4.running_var\", \"change_channels.11.net.4.num_batches_tracked\", \"change_channels.12.net.0.weight\", \"change_channels.12.net.1.weight\", \"change_channels.12.net.1.bias\", \"change_channels.12.net.1.running_mean\", \"change_channels.12.net.1.running_var\", \"change_channels.12.net.1.num_batches_tracked\", \"change_channels.12.net.3.weight\", \"change_channels.12.net.4.weight\", \"change_channels.12.net.4.bias\", \"change_channels.12.net.4.running_mean\", \"change_channels.12.net.4.running_var\", \"change_channels.12.net.4.num_batches_tracked\", \"change_channels.13.net.0.weight\", \"change_channels.13.net.1.weight\", \"change_channels.13.net.1.bias\", \"change_channels.13.net.1.running_mean\", \"change_channels.13.net.1.running_var\", \"change_channels.13.net.1.num_batches_tracked\", \"change_channels.13.net.3.weight\", \"change_channels.13.net.4.weight\", \"change_channels.13.net.4.bias\", \"change_channels.13.net.4.running_mean\", \"change_channels.13.net.4.running_var\", \"change_channels.13.net.4.num_batches_tracked\", \"change_channels.14.net.0.weight\", \"change_channels.14.net.1.weight\", \"change_channels.14.net.1.bias\", \"change_channels.14.net.1.running_mean\", \"change_channels.14.net.1.running_var\", \"change_channels.14.net.1.num_batches_tracked\", \"change_channels.14.net.3.weight\", \"change_channels.14.net.4.weight\", \"change_channels.14.net.4.bias\", \"change_channels.14.net.4.running_mean\", \"change_channels.14.net.4.running_var\", \"change_channels.14.net.4.num_batches_tracked\", \"change_channels.15.net.0.weight\", \"change_channels.15.net.1.weight\", \"change_channels.15.net.1.bias\", \"change_channels.15.net.1.running_mean\", \"change_channels.15.net.1.running_var\", \"change_channels.15.net.1.num_batches_tracked\", \"change_channels.15.net.3.weight\", \"change_channels.15.net.4.weight\", \"change_channels.15.net.4.bias\", \"change_channels.15.net.4.running_mean\", \"change_channels.15.net.4.running_var\", \"change_channels.15.net.4.num_batches_tracked\", \"change_channels.16.net.0.weight\", \"change_channels.16.net.1.weight\", \"change_channels.16.net.1.bias\", \"change_channels.16.net.1.running_mean\", \"change_channels.16.net.1.running_var\", \"change_channels.16.net.1.num_batches_tracked\", \"change_channels.16.net.3.weight\", \"change_channels.16.net.4.weight\", \"change_channels.16.net.4.bias\", \"change_channels.16.net.4.running_mean\", \"change_channels.16.net.4.running_var\", \"change_channels.16.net.4.num_batches_tracked\", \"change_channels.17.net.0.weight\", \"change_channels.17.net.1.weight\", \"change_channels.17.net.1.bias\", \"change_channels.17.net.1.running_mean\", \"change_channels.17.net.1.running_var\", \"change_channels.17.net.1.num_batches_tracked\", \"change_channels.17.net.3.weight\", \"change_channels.17.net.4.weight\", \"change_channels.17.net.4.bias\", \"change_channels.17.net.4.running_mean\", \"change_channels.17.net.4.running_var\", \"change_channels.17.net.4.num_batches_tracked\", \"change_channels.18.net.0.weight\", \"change_channels.18.net.1.weight\", \"change_channels.18.net.1.bias\", \"change_channels.18.net.1.running_mean\", \"change_channels.18.net.1.running_var\", \"change_channels.18.net.1.num_batches_tracked\", \"change_channels.18.net.3.weight\", \"change_channels.18.net.4.weight\", \"change_channels.18.net.4.bias\", \"change_channels.18.net.4.running_mean\", \"change_channels.18.net.4.running_var\", \"change_channels.18.net.4.num_batches_tracked\", \"change_channels.19.net.0.weight\", \"change_channels.19.net.1.weight\", \"change_channels.19.net.1.bias\", \"change_channels.19.net.1.running_mean\", \"change_channels.19.net.1.running_var\", \"change_channels.19.net.1.num_batches_tracked\", \"change_channels.19.net.3.weight\", \"change_channels.19.net.4.weight\", \"change_channels.19.net.4.bias\", \"change_channels.19.net.4.running_mean\", \"change_channels.19.net.4.running_var\", \"change_channels.19.net.4.num_batches_tracked\", \"change_channels.20.net.0.weight\", \"change_channels.20.net.1.weight\", \"change_channels.20.net.1.bias\", \"change_channels.20.net.1.running_mean\", \"change_channels.20.net.1.running_var\", \"change_channels.20.net.1.num_batches_tracked\", \"change_channels.20.net.3.weight\", \"change_channels.20.net.4.weight\", \"change_channels.20.net.4.bias\", \"change_channels.20.net.4.running_mean\", \"change_channels.20.net.4.running_var\", \"change_channels.20.net.4.num_batches_tracked\", \"change_channels.21.net.0.weight\", \"change_channels.21.net.1.weight\", \"change_channels.21.net.1.bias\", \"change_channels.21.net.1.running_mean\", \"change_channels.21.net.1.running_var\", \"change_channels.21.net.1.num_batches_tracked\", \"change_channels.21.net.3.weight\", \"change_channels.21.net.4.weight\", \"change_channels.21.net.4.bias\", \"change_channels.21.net.4.running_mean\", \"change_channels.21.net.4.running_var\", \"change_channels.21.net.4.num_batches_tracked\", \"change_channels.22.net.0.weight\", \"change_channels.22.net.1.weight\", \"change_channels.22.net.1.bias\", \"change_channels.22.net.1.running_mean\", \"change_channels.22.net.1.running_var\", \"change_channels.22.net.1.num_batches_tracked\", \"change_channels.22.net.3.weight\", \"change_channels.22.net.4.weight\", \"change_channels.22.net.4.bias\", \"change_channels.22.net.4.running_mean\", \"change_channels.22.net.4.running_var\", \"change_channels.22.net.4.num_batches_tracked\", \"change_channels.23.net.0.weight\", \"change_channels.23.net.1.weight\", \"change_channels.23.net.1.bias\", \"change_channels.23.net.1.running_mean\", \"change_channels.23.net.1.running_var\", \"change_channels.23.net.1.num_batches_tracked\", \"change_channels.23.net.3.weight\", \"change_channels.23.net.4.weight\", \"change_channels.23.net.4.bias\", \"change_channels.23.net.4.running_mean\", \"change_channels.23.net.4.running_var\", \"change_channels.23.net.4.num_batches_tracked\", \"change_channels.24.net.0.weight\", \"change_channels.24.net.1.weight\", \"change_channels.24.net.1.bias\", \"change_channels.24.net.1.running_mean\", \"change_channels.24.net.1.running_var\", \"change_channels.24.net.1.num_batches_tracked\", \"change_channels.24.net.3.weight\", \"change_channels.24.net.4.weight\", \"change_channels.24.net.4.bias\", \"change_channels.24.net.4.running_mean\", \"change_channels.24.net.4.running_var\", \"change_channels.24.net.4.num_batches_tracked\", \"change_channels.25.net.0.weight\", \"change_channels.25.net.1.weight\", \"change_channels.25.net.1.bias\", \"change_channels.25.net.1.running_mean\", \"change_channels.25.net.1.running_var\", \"change_channels.25.net.1.num_batches_tracked\", \"change_channels.25.net.3.weight\", \"change_channels.25.net.4.weight\", \"change_channels.25.net.4.bias\", \"change_channels.25.net.4.running_mean\", \"change_channels.25.net.4.running_var\", \"change_channels.25.net.4.num_batches_tracked\", \"change_channels.26.net.0.weight\", \"change_channels.26.net.1.weight\", \"change_channels.26.net.1.bias\", \"change_channels.26.net.1.running_mean\", \"change_channels.26.net.1.running_var\", \"change_channels.26.net.1.num_batches_tracked\", \"change_channels.26.net.3.weight\", \"change_channels.26.net.4.weight\", \"change_channels.26.net.4.bias\", \"change_channels.26.net.4.running_mean\", \"change_channels.26.net.4.running_var\", \"change_channels.26.net.4.num_batches_tracked\", \"change_channels.27.net.0.weight\", \"change_channels.27.net.1.weight\", \"change_channels.27.net.1.bias\", \"change_channels.27.net.1.running_mean\", \"change_channels.27.net.1.running_var\", \"change_channels.27.net.1.num_batches_tracked\", \"change_channels.27.net.3.weight\", \"change_channels.27.net.4.weight\", \"change_channels.27.net.4.bias\", \"change_channels.27.net.4.running_mean\", \"change_channels.27.net.4.running_var\", \"change_channels.27.net.4.num_batches_tracked\", \"change_channels.28.net.0.weight\", \"change_channels.28.net.1.weight\", \"change_channels.28.net.1.bias\", \"change_channels.28.net.1.running_mean\", \"change_channels.28.net.1.running_var\", \"change_channels.28.net.1.num_batches_tracked\", \"change_channels.28.net.3.weight\", \"change_channels.28.net.4.weight\", \"change_channels.28.net.4.bias\", \"change_channels.28.net.4.running_mean\", \"change_channels.28.net.4.running_var\", \"change_channels.28.net.4.num_batches_tracked\", \"change_channels.29.net.0.weight\", \"change_channels.29.net.1.weight\", \"change_channels.29.net.1.bias\", \"change_channels.29.net.1.running_mean\", \"change_channels.29.net.1.running_var\", \"change_channels.29.net.1.num_batches_tracked\", \"change_channels.29.net.3.weight\", \"change_channels.29.net.4.weight\", \"change_channels.29.net.4.bias\", \"change_channels.29.net.4.running_mean\", \"change_channels.29.net.4.running_var\", \"change_channels.29.net.4.num_batches_tracked\", \"change_channels.30.net.0.weight\", \"change_channels.30.net.1.weight\", \"change_channels.30.net.1.bias\", \"change_channels.30.net.1.running_mean\", \"change_channels.30.net.1.running_var\", \"change_channels.30.net.1.num_batches_tracked\", \"change_channels.30.net.3.weight\", \"change_channels.30.net.4.weight\", \"change_channels.30.net.4.bias\", \"change_channels.30.net.4.running_mean\", \"change_channels.30.net.4.running_var\", \"change_channels.30.net.4.num_batches_tracked\", \"change_channels.31.net.0.weight\", \"change_channels.31.net.1.weight\", \"change_channels.31.net.1.bias\", \"change_channels.31.net.1.running_mean\", \"change_channels.31.net.1.running_var\", \"change_channels.31.net.1.num_batches_tracked\", \"change_channels.31.net.3.weight\", \"change_channels.31.net.4.weight\", \"change_channels.31.net.4.bias\", \"change_channels.31.net.4.running_mean\", \"change_channels.31.net.4.running_var\", \"change_channels.31.net.4.num_batches_tracked\", \"change_channels.32.net.0.weight\", \"change_channels.32.net.1.weight\", \"change_channels.32.net.1.bias\", \"change_channels.32.net.1.running_mean\", \"change_channels.32.net.1.running_var\", \"change_channels.32.net.1.num_batches_tracked\", \"change_channels.32.net.3.weight\", \"change_channels.32.net.4.weight\", \"change_channels.32.net.4.bias\", \"change_channels.32.net.4.running_mean\", \"change_channels.32.net.4.running_var\", \"change_channels.32.net.4.num_batches_tracked\", \"change_channels.33.net.0.weight\", \"change_channels.33.net.1.weight\", \"change_channels.33.net.1.bias\", \"change_channels.33.net.1.running_mean\", \"change_channels.33.net.1.running_var\", \"change_channels.33.net.1.num_batches_tracked\", \"change_channels.33.net.3.weight\", \"change_channels.33.net.4.weight\", \"change_channels.33.net.4.bias\", \"change_channels.33.net.4.running_mean\", \"change_channels.33.net.4.running_var\", \"change_channels.33.net.4.num_batches_tracked\", \"change_channels.34.net.0.weight\", \"change_channels.34.net.1.weight\", \"change_channels.34.net.1.bias\", \"change_channels.34.net.1.running_mean\", \"change_channels.34.net.1.running_var\", \"change_channels.34.net.1.num_batches_tracked\", \"change_channels.34.net.3.weight\", \"change_channels.34.net.4.weight\", \"change_channels.34.net.4.bias\", \"change_channels.34.net.4.running_mean\", \"change_channels.34.net.4.running_var\", \"change_channels.34.net.4.num_batches_tracked\", \"change_channels.35.net.0.weight\", \"change_channels.35.net.1.weight\", \"change_channels.35.net.1.bias\", \"change_channels.35.net.1.running_mean\", \"change_channels.35.net.1.running_var\", \"change_channels.35.net.1.num_batches_tracked\", \"change_channels.35.net.3.weight\", \"change_channels.35.net.4.weight\", \"change_channels.35.net.4.bias\", \"change_channels.35.net.4.running_mean\", \"change_channels.35.net.4.running_var\", \"change_channels.35.net.4.num_batches_tracked\", \"change_channels.36.net.0.weight\", \"change_channels.36.net.1.weight\", \"change_channels.36.net.1.bias\", \"change_channels.36.net.1.running_mean\", \"change_channels.36.net.1.running_var\", \"change_channels.36.net.1.num_batches_tracked\", \"change_channels.36.net.3.weight\", \"change_channels.36.net.4.weight\", \"change_channels.36.net.4.bias\", \"change_channels.36.net.4.running_mean\", \"change_channels.36.net.4.running_var\", \"change_channels.36.net.4.num_batches_tracked\", \"change_channels.37.net.0.weight\", \"change_channels.37.net.1.weight\", \"change_channels.37.net.1.bias\", \"change_channels.37.net.1.running_mean\", \"change_channels.37.net.1.running_var\", \"change_channels.37.net.1.num_batches_tracked\", \"change_channels.37.net.3.weight\", \"change_channels.37.net.4.weight\", \"change_channels.37.net.4.bias\", \"change_channels.37.net.4.running_mean\", \"change_channels.37.net.4.running_var\", \"change_channels.37.net.4.num_batches_tracked\", \"change_channels.38.net.0.weight\", \"change_channels.38.net.1.weight\", \"change_channels.38.net.1.bias\", \"change_channels.38.net.1.running_mean\", \"change_channels.38.net.1.running_var\", \"change_channels.38.net.1.num_batches_tracked\", \"change_channels.38.net.3.weight\", \"change_channels.38.net.4.weight\", \"change_channels.38.net.4.bias\", \"change_channels.38.net.4.running_mean\", \"change_channels.38.net.4.running_var\", \"change_channels.38.net.4.num_batches_tracked\", \"change_channels.39.net.0.weight\", \"change_channels.39.net.1.weight\", \"change_channels.39.net.1.bias\", \"change_channels.39.net.1.running_mean\", \"change_channels.39.net.1.running_var\", \"change_channels.39.net.1.num_batches_tracked\", \"change_channels.39.net.3.weight\", \"change_channels.39.net.4.weight\", \"change_channels.39.net.4.bias\", \"change_channels.39.net.4.running_mean\", \"change_channels.39.net.4.running_var\", \"change_channels.39.net.4.num_batches_tracked\". ",
     "output_type": "error",
     "traceback": [
      "\u001b[1;31m---------------------------------------------------------------------------\u001b[0m",
      "\u001b[1;31mRuntimeError\u001b[0m                              Traceback (most recent call last)",
      "\u001b[1;32m<ipython-input-34-bb94ebf01359>\u001b[0m in \u001b[0;36m<module>\u001b[1;34m\u001b[0m\n\u001b[0;32m     21\u001b[0m \u001b[1;33m\u001b[0m\u001b[0m\n\u001b[0;32m     22\u001b[0m \u001b[0mprint\u001b[0m\u001b[1;33m(\u001b[0m\u001b[1;34m'Loading attacker model..'\u001b[0m\u001b[1;33m)\u001b[0m\u001b[1;33m\u001b[0m\u001b[1;33m\u001b[0m\u001b[0m\n\u001b[1;32m---> 23\u001b[1;33m \u001b[0mmodel\u001b[0m\u001b[1;33m.\u001b[0m\u001b[0mload_state_dict\u001b[0m\u001b[1;33m(\u001b[0m\u001b[0mtorch\u001b[0m\u001b[1;33m.\u001b[0m\u001b[0mload\u001b[0m\u001b[1;33m(\u001b[0m\u001b[1;34m'./saved_models/Complex_ResNet-110Attacker_save'\u001b[0m\u001b[1;33m)\u001b[0m\u001b[1;33m)\u001b[0m\u001b[1;33m\u001b[0m\u001b[1;33m\u001b[0m\u001b[0m\n\u001b[0m\u001b[0;32m     24\u001b[0m \u001b[0mprint\u001b[0m\u001b[1;33m(\u001b[0m\u001b[1;34m'Attacker model successfully loaded'\u001b[0m\u001b[1;33m)\u001b[0m\u001b[1;33m\u001b[0m\u001b[1;33m\u001b[0m\u001b[0m\n\u001b[0;32m     25\u001b[0m \u001b[0mprint\u001b[0m\u001b[1;33m(\u001b[0m\u001b[1;34m'Testing attacker model..'\u001b[0m\u001b[1;33m)\u001b[0m\u001b[1;33m\u001b[0m\u001b[1;33m\u001b[0m\u001b[0m\n",
      "\u001b[1;32m~\\Anaconda3\\envs\\FACT_AI\\lib\\site-packages\\torch\\nn\\modules\\module.py\u001b[0m in \u001b[0;36mload_state_dict\u001b[1;34m(self, state_dict, strict)\u001b[0m\n\u001b[0;32m   1049\u001b[0m \u001b[1;33m\u001b[0m\u001b[0m\n\u001b[0;32m   1050\u001b[0m         \u001b[1;32mif\u001b[0m \u001b[0mlen\u001b[0m\u001b[1;33m(\u001b[0m\u001b[0merror_msgs\u001b[0m\u001b[1;33m)\u001b[0m \u001b[1;33m>\u001b[0m \u001b[1;36m0\u001b[0m\u001b[1;33m:\u001b[0m\u001b[1;33m\u001b[0m\u001b[1;33m\u001b[0m\u001b[0m\n\u001b[1;32m-> 1051\u001b[1;33m             raise RuntimeError('Error(s) in loading state_dict for {}:\\n\\t{}'.format(\n\u001b[0m\u001b[0;32m   1052\u001b[0m                                self.__class__.__name__, \"\\n\\t\".join(error_msgs)))\n\u001b[0;32m   1053\u001b[0m         \u001b[1;32mreturn\u001b[0m \u001b[0m_IncompatibleKeys\u001b[0m\u001b[1;33m(\u001b[0m\u001b[0mmissing_keys\u001b[0m\u001b[1;33m,\u001b[0m \u001b[0munexpected_keys\u001b[0m\u001b[1;33m)\u001b[0m\u001b[1;33m\u001b[0m\u001b[1;33m\u001b[0m\u001b[0m\n",
      "\u001b[1;31mRuntimeError\u001b[0m: Error(s) in loading state_dict for UNet:\n\tMissing key(s) in state_dict: \"encoding_layer.0.weight\", \"encoding_layer.1.weight\", \"encoding_layer.1.bias\", \"encoding_layer.1.running_mean\", \"encoding_layer.1.running_var\", \"encoding_layer.3.net.0.weight\", \"encoding_layer.3.net.1.weight\", \"encoding_layer.3.net.1.bias\", \"encoding_layer.3.net.1.running_mean\", \"encoding_layer.3.net.1.running_var\", \"encoding_layer.3.net.3.weight\", \"encoding_layer.3.net.4.weight\", \"encoding_layer.3.net.4.bias\", \"encoding_layer.3.net.4.running_mean\", \"encoding_layer.3.net.4.running_var\", \"encoding_layer.3.downsample.weight\", \"encoding_layer.3.downsample.bias\", \"encoding_layer.4.net.0.weight\", \"encoding_layer.4.net.1.weight\", \"encoding_layer.4.net.1.bias\", \"encoding_layer.4.net.1.running_mean\", \"encoding_layer.4.net.1.running_var\", \"encoding_layer.4.net.3.weight\", \"encoding_layer.4.net.4.weight\", \"encoding_layer.4.net.4.bias\", \"encoding_layer.4.net.4.running_mean\", \"encoding_layer.4.net.4.running_var\", \"encoding_layer.5.net.0.weight\", \"encoding_layer.5.net.1.weight\", \"encoding_layer.5.net.1.bias\", \"encoding_layer.5.net.1.running_mean\", \"encoding_layer.5.net.1.running_var\", \"encoding_layer.5.net.3.weight\", \"encoding_layer.5.net.4.weight\", \"encoding_layer.5.net.4.bias\", \"encoding_layer.5.net.4.running_mean\", \"encoding_layer.5.net.4.running_var\", \"encoding_layer.6.net.0.weight\", \"encoding_layer.6.net.1.weight\", \"encoding_layer.6.net.1.bias\", \"encoding_layer.6.net.1.running_mean\", \"encoding_layer.6.net.1.running_var\", \"encoding_layer.6.net.3.weight\", \"encoding_layer.6.net.4.weight\", \"encoding_layer.6.net.4.bias\", \"encoding_layer.6.net.4.running_mean\", \"encoding_layer.6.net.4.running_var\", \"encoding_layer.7.net.0.weight\", \"encoding_layer.7.net.1.weight\", \"encoding_layer.7.net.1.bias\", \"encoding_layer.7.net.1.running_mean\", \"encoding_layer.7.net.1.running_var\", \"encoding_layer.7.net.3.weight\", \"encoding_layer.7.net.4.weight\", \"encoding_layer.7.net.4.bias\", \"encoding_layer.7.net.4.running_mean\", \"encoding_layer.7.net.4.running_var\", \"encoding_layer.8.net.0.weight\", \"encoding_layer.8.net.1.weight\", \"encoding_layer.8.net.1.bias\", \"encoding_layer.8.net.1.running_mean\", \"encoding_layer.8.net.1.running_var\", \"encoding_layer.8.net.3.weight\", \"encoding_layer.8.net.4.weight\", \"encoding_layer.8.net.4.bias\", \"encoding_layer.8.net.4.running_mean\", \"encoding_layer.8.net.4.running_var\", \"encoding_layer.9.net.0.weight\", \"encoding_layer.9.net.1.weight\", \"encoding_layer.9.net.1.bias\", \"encoding_layer.9.net.1.running_mean\", \"encoding_layer.9.net.1.running_var\", \"encoding_layer.9.net.3.weight\", \"encoding_layer.9.net.4.weight\", \"encoding_layer.9.net.4.bias\", \"encoding_layer.9.net.4.running_mean\", \"encoding_layer.9.net.4.running_var\", \"encoding_layer.10.net.0.weight\", \"encoding_layer.10.net.1.weight\", \"encoding_layer.10.net.1.bias\", \"encoding_layer.10.net.1.running_mean\", \"encoding_layer.10.net.1.running_var\", \"encoding_layer.10.net.3.weight\", \"encoding_layer.10.net.4.weight\", \"encoding_layer.10.net.4.bias\", \"encoding_layer.10.net.4.running_mean\", \"encoding_layer.10.net.4.running_var\", \"encoding_layer.11.net.0.weight\", \"encoding_layer.11.net.1.weight\", \"encoding_layer.11.net.1.bias\", \"encoding_layer.11.net.1.running_mean\", \"encoding_layer.11.net.1.running_var\", \"encoding_layer.11.net.3.weight\", \"encoding_layer.11.net.4.weight\", \"encoding_layer.11.net.4.bias\", \"encoding_layer.11.net.4.running_mean\", \"encoding_layer.11.net.4.running_var\", \"encoding_layer.12.net.0.weight\", \"encoding_layer.12.net.1.weight\", \"encoding_layer.12.net.1.bias\", \"encoding_layer.12.net.1.running_mean\", \"encoding_layer.12.net.1.running_var\", \"encoding_layer.12.net.3.weight\", \"encoding_layer.12.net.4.weight\", \"encoding_layer.12.net.4.bias\", \"encoding_layer.12.net.4.running_mean\", \"encoding_layer.12.net.4.running_var\", \"encoding_layer.13.net.0.weight\", \"encoding_layer.13.net.1.weight\", \"encoding_layer.13.net.1.bias\", \"encoding_layer.13.net.1.running_mean\", \"encoding_layer.13.net.1.running_var\", \"encoding_layer.13.net.3.weight\", \"encoding_layer.13.net.4.weight\", \"encoding_layer.13.net.4.bias\", \"encoding_layer.13.net.4.running_mean\", \"encoding_layer.13.net.4.running_var\", \"encoding_layer.14.net.0.weight\", \"encoding_layer.14.net.1.weight\", \"encoding_layer.14.net.1.bias\", \"encoding_layer.14.net.1.running_mean\", \"encoding_layer.14.net.1.running_var\", \"encoding_layer.14.net.3.weight\", \"encoding_layer.14.net.4.weight\", \"encoding_layer.14.net.4.bias\", \"encoding_layer.14.net.4.running_mean\", \"encoding_layer.14.net.4.running_var\", \"encoding_layer.15.net.0.weight\", \"encoding_layer.15.net.1.weight\", \"encoding_layer.15.net.1.bias\", \"encoding_layer.15.net.1.running_mean\", \"encoding_layer.15.net.1.running_var\", \"encoding_layer.15.net.3.weight\", \"encoding_layer.15.net.4.weight\", \"encoding_layer.15.net.4.bias\", \"encoding_layer.15.net.4.running_mean\", \"encoding_layer.15.net.4.running_var\", \"encoding_layer.16.net.0.weight\", \"encoding_layer.16.net.1.weight\", \"encoding_layer.16.net.1.bias\", \"encoding_layer.16.net.1.running_mean\", \"encoding_layer.16.net.1.running_var\", \"encoding_layer.16.net.3.weight\", \"encoding_layer.16.net.4.weight\", \"encoding_layer.16.net.4.bias\", \"encoding_layer.16.net.4.running_mean\", \"encoding_layer.16.net.4.running_var\", \"encoding_layer.17.net.0.weight\", \"encoding_layer.17.net.1.weight\", \"encoding_layer.17.net.1.bias\", \"encoding_layer.17.net.1.running_mean\", \"encoding_layer.17.net.1.running_var\", \"encoding_layer.17.net.3.weight\", \"encoding_layer.17.net.4.weight\", \"encoding_layer.17.net.4.bias\", \"encoding_layer.17.net.4.running_mean\", \"encoding_layer.17.net.4.running_var\", \"encoding_layer.18.net.0.weight\", \"encoding_layer.18.net.1.weight\", \"encoding_layer.18.net.1.bias\", \"encoding_layer.18.net.1.running_mean\", \"encoding_layer.18.net.1.running_var\", \"encoding_layer.18.net.3.weight\", \"encoding_layer.18.net.4.weight\", \"encoding_layer.18.net.4.bias\", \"encoding_layer.18.net.4.running_mean\", \"encoding_layer.18.net.4.running_var\", \"encoding_layer.19.net.0.weight\", \"encoding_layer.19.net.1.weight\", \"encoding_layer.19.net.1.bias\", \"encoding_layer.19.net.1.running_mean\", \"encoding_layer.19.net.1.running_var\", \"encoding_layer.19.net.3.weight\", \"encoding_layer.19.net.4.weight\", \"encoding_layer.19.net.4.bias\", \"encoding_layer.19.net.4.running_mean\", \"encoding_layer.19.net.4.running_var\", \"encoding_layer.20.net.0.weight\", \"encoding_layer.20.net.1.weight\", \"encoding_layer.20.net.1.bias\", \"encoding_layer.20.net.1.running_mean\", \"encoding_layer.20.net.1.running_var\", \"encoding_layer.20.net.3.weight\", \"encoding_layer.20.net.4.weight\", \"encoding_layer.20.net.4.bias\", \"encoding_layer.20.net.4.running_mean\", \"encoding_layer.20.net.4.running_var\", \"encoding_layer.21.net.0.weight\", \"encoding_layer.21.net.1.weight\", \"encoding_layer.21.net.1.bias\", \"encoding_layer.21.net.1.running_mean\", \"encoding_layer.21.net.1.running_var\", \"encoding_layer.21.net.3.weight\", \"encoding_layer.21.net.4.weight\", \"encoding_layer.21.net.4.bias\", \"encoding_layer.21.net.4.running_mean\", \"encoding_layer.21.net.4.running_var\", \"encoding_layer.22.net.0.weight\", \"encoding_layer.22.net.1.weight\", \"encoding_layer.22.net.1.bias\", \"encoding_layer.22.net.1.running_mean\", \"encoding_layer.22.net.1.running_var\", \"encoding_layer.22.net.3.weight\", \"encoding_layer.22.net.4.weight\", \"encoding_layer.22.net.4.bias\", \"encoding_layer.22.net.4.running_mean\", \"encoding_layer.22.net.4.running_var\", \"encoding_layer.23.net.0.weight\", \"encoding_layer.23.net.1.weight\", \"encoding_layer.23.net.1.bias\", \"encoding_layer.23.net.1.running_mean\", \"encoding_layer.23.net.1.running_var\", \"encoding_layer.23.net.3.weight\", \"encoding_layer.23.net.4.weight\", \"encoding_layer.23.net.4.bias\", \"encoding_layer.23.net.4.running_mean\", \"encoding_layer.23.net.4.running_var\", \"encoding_layer.24.net.0.weight\", \"encoding_layer.24.net.1.weight\", \"encoding_layer.24.net.1.bias\", \"encoding_layer.24.net.1.running_mean\", \"encoding_layer.24.net.1.running_var\", \"encoding_layer.24.net.3.weight\", \"encoding_layer.24.net.4.weight\", \"encoding_layer.24.net.4.bias\", \"encoding_layer.24.net.4.running_mean\", \"encoding_layer.24.net.4.running_var\", \"encoding_layer.25.net.0.weight\", \"encoding_layer.25.net.1.weight\", \"encoding_layer.25.net.1.bias\", \"encoding_layer.25.net.1.running_mean\", \"encoding_layer.25.net.1.running_var\", \"encoding_layer.25.net.3.weight\", \"encoding_layer.25.net.4.weight\", \"encoding_layer.25.net.4.bias\", \"encoding_layer.25.net.4.running_mean\", \"encoding_layer.25.net.4.running_var\", \"encoding_layer.26.net.0.weight\", \"encoding_layer.26.net.1.weight\", \"encoding_layer.26.net.1.bias\", \"encoding_layer.26.net.1.running_mean\", \"encoding_layer.26.net.1.running_var\", \"encoding_layer.26.net.3.weight\", \"encoding_layer.26.net.4.weight\", \"encoding_layer.26.net.4.bias\", \"encoding_layer.26.net.4.running_mean\", \"encoding_layer.26.net.4.running_var\", \"encoding_layer.27.net.0.weight\", \"encoding_layer.27.net.1.weight\", \"encoding_layer.27.net.1.bias\", \"encoding_layer.27.net.1.running_mean\", \"encoding_layer.27.net.1.running_var\", \"encoding_layer.27.net.3.weight\", \"encoding_layer.27.net.4.weight\", \"encoding_layer.27.net.4.bias\", \"encoding_layer.27.net.4.running_mean\", \"encoding_layer.27.net.4.running_var\", \"encoding_layer.28.net.0.weight\", \"encoding_layer.28.net.1.weight\", \"encoding_layer.28.net.1.bias\", \"encoding_layer.28.net.1.running_mean\", \"encoding_layer.28.net.1.running_var\", \"encoding_layer.28.net.3.weight\", \"encoding_layer.28.net.4.weight\", \"encoding_layer.28.net.4.bias\", \"encoding_layer.28.net.4.running_mean\", \"encoding_layer.28.net.4.running_var\", \"encoding_layer.29.net.0.weight\", \"encoding_layer.29.net.1.weight\", \"encoding_layer.29.net.1.bias\", \"encoding_layer.29.net.1.running_mean\", \"encoding_layer.29.net.1.running_var\", \"encoding_layer.29.net.3.weight\", \"encoding_layer.29.net.4.weight\", \"encoding_layer.29.net.4.bias\", \"encoding_layer.29.net.4.running_mean\", \"encoding_layer.29.net.4.running_var\", \"encoding_layer.30.net.0.weight\", \"encoding_layer.30.net.1.weight\", \"encoding_layer.30.net.1.bias\", \"encoding_layer.30.net.1.running_mean\", \"encoding_layer.30.net.1.running_var\", \"encoding_layer.30.net.3.weight\", \"encoding_layer.30.net.4.weight\", \"encoding_layer.30.net.4.bias\", \"encoding_layer.30.net.4.running_mean\", \"encoding_layer.30.net.4.running_var\", \"encoding_layer.31.net.0.weight\", \"encoding_layer.31.net.1.weight\", \"encoding_layer.31.net.1.bias\", \"encoding_layer.31.net.1.running_mean\", \"encoding_layer.31.net.1.running_var\", \"encoding_layer.31.net.3.weight\", \"encoding_layer.31.net.4.weight\", \"encoding_layer.31.net.4.bias\", \"encoding_layer.31.net.4.running_mean\", \"encoding_layer.31.net.4.running_var\", \"encoding_layer.32.net.0.weight\", \"encoding_layer.32.net.1.weight\", \"encoding_layer.32.net.1.bias\", \"encoding_layer.32.net.1.running_mean\", \"encoding_layer.32.net.1.running_var\", \"encoding_layer.32.net.3.weight\", \"encoding_layer.32.net.4.weight\", \"encoding_layer.32.net.4.bias\", \"encoding_layer.32.net.4.running_mean\", \"encoding_layer.32.net.4.running_var\", \"encoding_layer.33.net.0.weight\", \"encoding_layer.33.net.1.weight\", \"encoding_layer.33.net.1.bias\", \"encoding_layer.33.net.1.running_mean\", \"encoding_layer.33.net.1.running_var\", \"encoding_layer.33.net.3.weight\", \"encoding_layer.33.net.4.weight\", \"encoding_layer.33.net.4.bias\", \"encoding_layer.33.net.4.running_mean\", \"encoding_layer.33.net.4.running_var\", \"encoding_layer.34.net.0.weight\", \"encoding_layer.34.net.1.weight\", \"encoding_layer.34.net.1.bias\", \"encoding_layer.34.net.1.running_mean\", \"encoding_layer.34.net.1.running_var\", \"encoding_layer.34.net.3.weight\", \"encoding_layer.34.net.4.weight\", \"encoding_layer.34.net.4.bias\", \"encoding_layer.34.net.4.running_mean\", \"encoding_layer.34.net.4.running_var\", \"encoding_layer.35.net.0.weight\", \"encoding_layer.35.net.1.weight\", \"encoding_layer.35.net.1.bias\", \"encoding_layer.35.net.1.running_mean\", \"encoding_layer.35.net.1.running_var\", \"encoding_layer.35.net.3.weight\", \"encoding_layer.35.net.4.weight\", \"encoding_layer.35.net.4.bias\", \"encoding_layer.35.net.4.running_mean\", \"encoding_layer.35.net.4.running_var\", \"encoding_layer.36.net.0.weight\", \"encoding_layer.36.net.1.weight\", \"encoding_layer.36.net.1.bias\", \"encoding_layer.36.net.1.running_mean\", \"encoding_layer.36.net.1.running_var\", \"encoding_layer.36.net.3.weight\", \"encoding_layer.36.net.4.weight\", \"encoding_layer.36.net.4.bias\", \"encoding_layer.36.net.4.running_mean\", \"encoding_layer.36.net.4.running_var\", \"encoding_layer.37.net.0.weight\", \"encoding_layer.37.net.1.weight\", \"encoding_layer.37.net.1.bias\", \"encoding_layer.37.net.1.running_mean\", \"encoding_layer.37.net.1.running_var\", \"encoding_layer.37.net.3.weight\", \"encoding_layer.37.net.4.weight\", \"encoding_layer.37.net.4.bias\", \"encoding_layer.37.net.4.running_mean\", \"encoding_layer.37.net.4.running_var\", \"encoding_layer.38.net.0.weight\", \"encoding_layer.38.net.1.weight\", \"encoding_layer.38.net.1.bias\", \"encoding_layer.38.net.1.running_mean\", \"encoding_layer.38.net.1.running_var\", \"encoding_layer.38.net.3.weight\", \"encoding_layer.38.net.4.weight\", \"encoding_layer.38.net.4.bias\", \"encoding_layer.38.net.4.running_mean\", \"encoding_layer.38.net.4.running_var\", \"encoding_layer.39.net.0.weight\", \"encoding_layer.39.net.1.weight\", \"encoding_layer.39.net.1.bias\", \"encoding_layer.39.net.1.running_mean\", \"encoding_layer.39.net.1.running_var\", \"encoding_layer.39.net.3.weight\", \"encoding_layer.39.net.4.weight\", \"encoding_layer.39.net.4.bias\", \"encoding_layer.39.net.4.running_mean\", \"encoding_layer.39.net.4.running_var\". \n\tUnexpected key(s) in state_dict: \"change_channels.0.weight\", \"change_channels.1.weight\", \"change_channels.1.bias\", \"change_channels.1.running_mean\", \"change_channels.1.running_var\", \"change_channels.1.num_batches_tracked\", \"change_channels.3.net.0.weight\", \"change_channels.3.net.1.weight\", \"change_channels.3.net.1.bias\", \"change_channels.3.net.1.running_mean\", \"change_channels.3.net.1.running_var\", \"change_channels.3.net.1.num_batches_tracked\", \"change_channels.3.net.3.weight\", \"change_channels.3.net.4.weight\", \"change_channels.3.net.4.bias\", \"change_channels.3.net.4.running_mean\", \"change_channels.3.net.4.running_var\", \"change_channels.3.net.4.num_batches_tracked\", \"change_channels.3.downsample.weight\", \"change_channels.3.downsample.bias\", \"change_channels.4.net.0.weight\", \"change_channels.4.net.1.weight\", \"change_channels.4.net.1.bias\", \"change_channels.4.net.1.running_mean\", \"change_channels.4.net.1.running_var\", \"change_channels.4.net.1.num_batches_tracked\", \"change_channels.4.net.3.weight\", \"change_channels.4.net.4.weight\", \"change_channels.4.net.4.bias\", \"change_channels.4.net.4.running_mean\", \"change_channels.4.net.4.running_var\", \"change_channels.4.net.4.num_batches_tracked\", \"change_channels.5.net.0.weight\", \"change_channels.5.net.1.weight\", \"change_channels.5.net.1.bias\", \"change_channels.5.net.1.running_mean\", \"change_channels.5.net.1.running_var\", \"change_channels.5.net.1.num_batches_tracked\", \"change_channels.5.net.3.weight\", \"change_channels.5.net.4.weight\", \"change_channels.5.net.4.bias\", \"change_channels.5.net.4.running_mean\", \"change_channels.5.net.4.running_var\", \"change_channels.5.net.4.num_batches_tracked\", \"change_channels.6.net.0.weight\", \"change_channels.6.net.1.weight\", \"change_channels.6.net.1.bias\", \"change_channels.6.net.1.running_mean\", \"change_channels.6.net.1.running_var\", \"change_channels.6.net.1.num_batches_tracked\", \"change_channels.6.net.3.weight\", \"change_channels.6.net.4.weight\", \"change_channels.6.net.4.bias\", \"change_channels.6.net.4.running_mean\", \"change_channels.6.net.4.running_var\", \"change_channels.6.net.4.num_batches_tracked\", \"change_channels.7.net.0.weight\", \"change_channels.7.net.1.weight\", \"change_channels.7.net.1.bias\", \"change_channels.7.net.1.running_mean\", \"change_channels.7.net.1.running_var\", \"change_channels.7.net.1.num_batches_tracked\", \"change_channels.7.net.3.weight\", \"change_channels.7.net.4.weight\", \"change_channels.7.net.4.bias\", \"change_channels.7.net.4.running_mean\", \"change_channels.7.net.4.running_var\", \"change_channels.7.net.4.num_batches_tracked\", \"change_channels.8.net.0.weight\", \"change_channels.8.net.1.weight\", \"change_channels.8.net.1.bias\", \"change_channels.8.net.1.running_mean\", \"change_channels.8.net.1.running_var\", \"change_channels.8.net.1.num_batches_tracked\", \"change_channels.8.net.3.weight\", \"change_channels.8.net.4.weight\", \"change_channels.8.net.4.bias\", \"change_channels.8.net.4.running_mean\", \"change_channels.8.net.4.running_var\", \"change_channels.8.net.4.num_batches_tracked\", \"change_channels.9.net.0.weight\", \"change_channels.9.net.1.weight\", \"change_channels.9.net.1.bias\", \"change_channels.9.net.1.running_mean\", \"change_channels.9.net.1.running_var\", \"change_channels.9.net.1.num_batches_tracked\", \"change_channels.9.net.3.weight\", \"change_channels.9.net.4.weight\", \"change_channels.9.net.4.bias\", \"change_channels.9.net.4.running_mean\", \"change_channels.9.net.4.running_var\", \"change_channels.9.net.4.num_batches_tracked\", \"change_channels.10.net.0.weight\", \"change_channels.10.net.1.weight\", \"change_channels.10.net.1.bias\", \"change_channels.10.net.1.running_mean\", \"change_channels.10.net.1.running_var\", \"change_channels.10.net.1.num_batches_tracked\", \"change_channels.10.net.3.weight\", \"change_channels.10.net.4.weight\", \"change_channels.10.net.4.bias\", \"change_channels.10.net.4.running_mean\", \"change_channels.10.net.4.running_var\", \"change_channels.10.net.4.num_batches_tracked\", \"change_channels.11.net.0.weight\", \"change_channels.11.net.1.weight\", \"change_channels.11.net.1.bias\", \"change_channels.11.net.1.running_mean\", \"change_channels.11.net.1.running_var\", \"change_channels.11.net.1.num_batches_tracked\", \"change_channels.11.net.3.weight\", \"change_channels.11.net.4.weight\", \"change_channels.11.net.4.bias\", \"change_channels.11.net.4.running_mean\", \"change_channels.11.net.4.running_var\", \"change_channels.11.net.4.num_batches_tracked\", \"change_channels.12.net.0.weight\", \"change_channels.12.net.1.weight\", \"change_channels.12.net.1.bias\", \"change_channels.12.net.1.running_mean\", \"change_channels.12.net.1.running_var\", \"change_channels.12.net.1.num_batches_tracked\", \"change_channels.12.net.3.weight\", \"change_channels.12.net.4.weight\", \"change_channels.12.net.4.bias\", \"change_channels.12.net.4.running_mean\", \"change_channels.12.net.4.running_var\", \"change_channels.12.net.4.num_batches_tracked\", \"change_channels.13.net.0.weight\", \"change_channels.13.net.1.weight\", \"change_channels.13.net.1.bias\", \"change_channels.13.net.1.running_mean\", \"change_channels.13.net.1.running_var\", \"change_channels.13.net.1.num_batches_tracked\", \"change_channels.13.net.3.weight\", \"change_channels.13.net.4.weight\", \"change_channels.13.net.4.bias\", \"change_channels.13.net.4.running_mean\", \"change_channels.13.net.4.running_var\", \"change_channels.13.net.4.num_batches_tracked\", \"change_channels.14.net.0.weight\", \"change_channels.14.net.1.weight\", \"change_channels.14.net.1.bias\", \"change_channels.14.net.1.running_mean\", \"change_channels.14.net.1.running_var\", \"change_channels.14.net.1.num_batches_tracked\", \"change_channels.14.net.3.weight\", \"change_channels.14.net.4.weight\", \"change_channels.14.net.4.bias\", \"change_channels.14.net.4.running_mean\", \"change_channels.14.net.4.running_var\", \"change_channels.14.net.4.num_batches_tracked\", \"change_channels.15.net.0.weight\", \"change_channels.15.net.1.weight\", \"change_channels.15.net.1.bias\", \"change_channels.15.net.1.running_mean\", \"change_channels.15.net.1.running_var\", \"change_channels.15.net.1.num_batches_tracked\", \"change_channels.15.net.3.weight\", \"change_channels.15.net.4.weight\", \"change_channels.15.net.4.bias\", \"change_channels.15.net.4.running_mean\", \"change_channels.15.net.4.running_var\", \"change_channels.15.net.4.num_batches_tracked\", \"change_channels.16.net.0.weight\", \"change_channels.16.net.1.weight\", \"change_channels.16.net.1.bias\", \"change_channels.16.net.1.running_mean\", \"change_channels.16.net.1.running_var\", \"change_channels.16.net.1.num_batches_tracked\", \"change_channels.16.net.3.weight\", \"change_channels.16.net.4.weight\", \"change_channels.16.net.4.bias\", \"change_channels.16.net.4.running_mean\", \"change_channels.16.net.4.running_var\", \"change_channels.16.net.4.num_batches_tracked\", \"change_channels.17.net.0.weight\", \"change_channels.17.net.1.weight\", \"change_channels.17.net.1.bias\", \"change_channels.17.net.1.running_mean\", \"change_channels.17.net.1.running_var\", \"change_channels.17.net.1.num_batches_tracked\", \"change_channels.17.net.3.weight\", \"change_channels.17.net.4.weight\", \"change_channels.17.net.4.bias\", \"change_channels.17.net.4.running_mean\", \"change_channels.17.net.4.running_var\", \"change_channels.17.net.4.num_batches_tracked\", \"change_channels.18.net.0.weight\", \"change_channels.18.net.1.weight\", \"change_channels.18.net.1.bias\", \"change_channels.18.net.1.running_mean\", \"change_channels.18.net.1.running_var\", \"change_channels.18.net.1.num_batches_tracked\", \"change_channels.18.net.3.weight\", \"change_channels.18.net.4.weight\", \"change_channels.18.net.4.bias\", \"change_channels.18.net.4.running_mean\", \"change_channels.18.net.4.running_var\", \"change_channels.18.net.4.num_batches_tracked\", \"change_channels.19.net.0.weight\", \"change_channels.19.net.1.weight\", \"change_channels.19.net.1.bias\", \"change_channels.19.net.1.running_mean\", \"change_channels.19.net.1.running_var\", \"change_channels.19.net.1.num_batches_tracked\", \"change_channels.19.net.3.weight\", \"change_channels.19.net.4.weight\", \"change_channels.19.net.4.bias\", \"change_channels.19.net.4.running_mean\", \"change_channels.19.net.4.running_var\", \"change_channels.19.net.4.num_batches_tracked\", \"change_channels.20.net.0.weight\", \"change_channels.20.net.1.weight\", \"change_channels.20.net.1.bias\", \"change_channels.20.net.1.running_mean\", \"change_channels.20.net.1.running_var\", \"change_channels.20.net.1.num_batches_tracked\", \"change_channels.20.net.3.weight\", \"change_channels.20.net.4.weight\", \"change_channels.20.net.4.bias\", \"change_channels.20.net.4.running_mean\", \"change_channels.20.net.4.running_var\", \"change_channels.20.net.4.num_batches_tracked\", \"change_channels.21.net.0.weight\", \"change_channels.21.net.1.weight\", \"change_channels.21.net.1.bias\", \"change_channels.21.net.1.running_mean\", \"change_channels.21.net.1.running_var\", \"change_channels.21.net.1.num_batches_tracked\", \"change_channels.21.net.3.weight\", \"change_channels.21.net.4.weight\", \"change_channels.21.net.4.bias\", \"change_channels.21.net.4.running_mean\", \"change_channels.21.net.4.running_var\", \"change_channels.21.net.4.num_batches_tracked\", \"change_channels.22.net.0.weight\", \"change_channels.22.net.1.weight\", \"change_channels.22.net.1.bias\", \"change_channels.22.net.1.running_mean\", \"change_channels.22.net.1.running_var\", \"change_channels.22.net.1.num_batches_tracked\", \"change_channels.22.net.3.weight\", \"change_channels.22.net.4.weight\", \"change_channels.22.net.4.bias\", \"change_channels.22.net.4.running_mean\", \"change_channels.22.net.4.running_var\", \"change_channels.22.net.4.num_batches_tracked\", \"change_channels.23.net.0.weight\", \"change_channels.23.net.1.weight\", \"change_channels.23.net.1.bias\", \"change_channels.23.net.1.running_mean\", \"change_channels.23.net.1.running_var\", \"change_channels.23.net.1.num_batches_tracked\", \"change_channels.23.net.3.weight\", \"change_channels.23.net.4.weight\", \"change_channels.23.net.4.bias\", \"change_channels.23.net.4.running_mean\", \"change_channels.23.net.4.running_var\", \"change_channels.23.net.4.num_batches_tracked\", \"change_channels.24.net.0.weight\", \"change_channels.24.net.1.weight\", \"change_channels.24.net.1.bias\", \"change_channels.24.net.1.running_mean\", \"change_channels.24.net.1.running_var\", \"change_channels.24.net.1.num_batches_tracked\", \"change_channels.24.net.3.weight\", \"change_channels.24.net.4.weight\", \"change_channels.24.net.4.bias\", \"change_channels.24.net.4.running_mean\", \"change_channels.24.net.4.running_var\", \"change_channels.24.net.4.num_batches_tracked\", \"change_channels.25.net.0.weight\", \"change_channels.25.net.1.weight\", \"change_channels.25.net.1.bias\", \"change_channels.25.net.1.running_mean\", \"change_channels.25.net.1.running_var\", \"change_channels.25.net.1.num_batches_tracked\", \"change_channels.25.net.3.weight\", \"change_channels.25.net.4.weight\", \"change_channels.25.net.4.bias\", \"change_channels.25.net.4.running_mean\", \"change_channels.25.net.4.running_var\", \"change_channels.25.net.4.num_batches_tracked\", \"change_channels.26.net.0.weight\", \"change_channels.26.net.1.weight\", \"change_channels.26.net.1.bias\", \"change_channels.26.net.1.running_mean\", \"change_channels.26.net.1.running_var\", \"change_channels.26.net.1.num_batches_tracked\", \"change_channels.26.net.3.weight\", \"change_channels.26.net.4.weight\", \"change_channels.26.net.4.bias\", \"change_channels.26.net.4.running_mean\", \"change_channels.26.net.4.running_var\", \"change_channels.26.net.4.num_batches_tracked\", \"change_channels.27.net.0.weight\", \"change_channels.27.net.1.weight\", \"change_channels.27.net.1.bias\", \"change_channels.27.net.1.running_mean\", \"change_channels.27.net.1.running_var\", \"change_channels.27.net.1.num_batches_tracked\", \"change_channels.27.net.3.weight\", \"change_channels.27.net.4.weight\", \"change_channels.27.net.4.bias\", \"change_channels.27.net.4.running_mean\", \"change_channels.27.net.4.running_var\", \"change_channels.27.net.4.num_batches_tracked\", \"change_channels.28.net.0.weight\", \"change_channels.28.net.1.weight\", \"change_channels.28.net.1.bias\", \"change_channels.28.net.1.running_mean\", \"change_channels.28.net.1.running_var\", \"change_channels.28.net.1.num_batches_tracked\", \"change_channels.28.net.3.weight\", \"change_channels.28.net.4.weight\", \"change_channels.28.net.4.bias\", \"change_channels.28.net.4.running_mean\", \"change_channels.28.net.4.running_var\", \"change_channels.28.net.4.num_batches_tracked\", \"change_channels.29.net.0.weight\", \"change_channels.29.net.1.weight\", \"change_channels.29.net.1.bias\", \"change_channels.29.net.1.running_mean\", \"change_channels.29.net.1.running_var\", \"change_channels.29.net.1.num_batches_tracked\", \"change_channels.29.net.3.weight\", \"change_channels.29.net.4.weight\", \"change_channels.29.net.4.bias\", \"change_channels.29.net.4.running_mean\", \"change_channels.29.net.4.running_var\", \"change_channels.29.net.4.num_batches_tracked\", \"change_channels.30.net.0.weight\", \"change_channels.30.net.1.weight\", \"change_channels.30.net.1.bias\", \"change_channels.30.net.1.running_mean\", \"change_channels.30.net.1.running_var\", \"change_channels.30.net.1.num_batches_tracked\", \"change_channels.30.net.3.weight\", \"change_channels.30.net.4.weight\", \"change_channels.30.net.4.bias\", \"change_channels.30.net.4.running_mean\", \"change_channels.30.net.4.running_var\", \"change_channels.30.net.4.num_batches_tracked\", \"change_channels.31.net.0.weight\", \"change_channels.31.net.1.weight\", \"change_channels.31.net.1.bias\", \"change_channels.31.net.1.running_mean\", \"change_channels.31.net.1.running_var\", \"change_channels.31.net.1.num_batches_tracked\", \"change_channels.31.net.3.weight\", \"change_channels.31.net.4.weight\", \"change_channels.31.net.4.bias\", \"change_channels.31.net.4.running_mean\", \"change_channels.31.net.4.running_var\", \"change_channels.31.net.4.num_batches_tracked\", \"change_channels.32.net.0.weight\", \"change_channels.32.net.1.weight\", \"change_channels.32.net.1.bias\", \"change_channels.32.net.1.running_mean\", \"change_channels.32.net.1.running_var\", \"change_channels.32.net.1.num_batches_tracked\", \"change_channels.32.net.3.weight\", \"change_channels.32.net.4.weight\", \"change_channels.32.net.4.bias\", \"change_channels.32.net.4.running_mean\", \"change_channels.32.net.4.running_var\", \"change_channels.32.net.4.num_batches_tracked\", \"change_channels.33.net.0.weight\", \"change_channels.33.net.1.weight\", \"change_channels.33.net.1.bias\", \"change_channels.33.net.1.running_mean\", \"change_channels.33.net.1.running_var\", \"change_channels.33.net.1.num_batches_tracked\", \"change_channels.33.net.3.weight\", \"change_channels.33.net.4.weight\", \"change_channels.33.net.4.bias\", \"change_channels.33.net.4.running_mean\", \"change_channels.33.net.4.running_var\", \"change_channels.33.net.4.num_batches_tracked\", \"change_channels.34.net.0.weight\", \"change_channels.34.net.1.weight\", \"change_channels.34.net.1.bias\", \"change_channels.34.net.1.running_mean\", \"change_channels.34.net.1.running_var\", \"change_channels.34.net.1.num_batches_tracked\", \"change_channels.34.net.3.weight\", \"change_channels.34.net.4.weight\", \"change_channels.34.net.4.bias\", \"change_channels.34.net.4.running_mean\", \"change_channels.34.net.4.running_var\", \"change_channels.34.net.4.num_batches_tracked\", \"change_channels.35.net.0.weight\", \"change_channels.35.net.1.weight\", \"change_channels.35.net.1.bias\", \"change_channels.35.net.1.running_mean\", \"change_channels.35.net.1.running_var\", \"change_channels.35.net.1.num_batches_tracked\", \"change_channels.35.net.3.weight\", \"change_channels.35.net.4.weight\", \"change_channels.35.net.4.bias\", \"change_channels.35.net.4.running_mean\", \"change_channels.35.net.4.running_var\", \"change_channels.35.net.4.num_batches_tracked\", \"change_channels.36.net.0.weight\", \"change_channels.36.net.1.weight\", \"change_channels.36.net.1.bias\", \"change_channels.36.net.1.running_mean\", \"change_channels.36.net.1.running_var\", \"change_channels.36.net.1.num_batches_tracked\", \"change_channels.36.net.3.weight\", \"change_channels.36.net.4.weight\", \"change_channels.36.net.4.bias\", \"change_channels.36.net.4.running_mean\", \"change_channels.36.net.4.running_var\", \"change_channels.36.net.4.num_batches_tracked\", \"change_channels.37.net.0.weight\", \"change_channels.37.net.1.weight\", \"change_channels.37.net.1.bias\", \"change_channels.37.net.1.running_mean\", \"change_channels.37.net.1.running_var\", \"change_channels.37.net.1.num_batches_tracked\", \"change_channels.37.net.3.weight\", \"change_channels.37.net.4.weight\", \"change_channels.37.net.4.bias\", \"change_channels.37.net.4.running_mean\", \"change_channels.37.net.4.running_var\", \"change_channels.37.net.4.num_batches_tracked\", \"change_channels.38.net.0.weight\", \"change_channels.38.net.1.weight\", \"change_channels.38.net.1.bias\", \"change_channels.38.net.1.running_mean\", \"change_channels.38.net.1.running_var\", \"change_channels.38.net.1.num_batches_tracked\", \"change_channels.38.net.3.weight\", \"change_channels.38.net.4.weight\", \"change_channels.38.net.4.bias\", \"change_channels.38.net.4.running_mean\", \"change_channels.38.net.4.running_var\", \"change_channels.38.net.4.num_batches_tracked\", \"change_channels.39.net.0.weight\", \"change_channels.39.net.1.weight\", \"change_channels.39.net.1.bias\", \"change_channels.39.net.1.running_mean\", \"change_channels.39.net.1.running_var\", \"change_channels.39.net.1.num_batches_tracked\", \"change_channels.39.net.3.weight\", \"change_channels.39.net.4.weight\", \"change_channels.39.net.4.bias\", \"change_channels.39.net.4.running_mean\", \"change_channels.39.net.4.running_var\", \"change_channels.39.net.4.num_batches_tracked\". "
     ]
    }
   ],
   "source": [
    "classes, trainloader, valloader, testloader = load_data(\n",
    "        'CIFAR-100', 128, 0\n",
    "    )\n",
    "\n",
    "trainer = pl.Trainer(\n",
    "                    gpus=1 if torch.cuda.is_available() else 0,\n",
    "                    max_epochs=1000,\n",
    "                    progress_bar_refresh_rate=1)\n",
    "\n",
    "# seed for reproducability\n",
    "pl.seed_everything(42)\n",
    "\n",
    "device = torch.device(\"cuda:0\" if torch.cuda.is_available() else \"cpu\")\n",
    "\n",
    "gan_model = initialize_model('Complex_ResNet-110', 100, 1e-3, 2)\n",
    "gan_model.load_state_dict(torch.load('./saved_models/Complex_ResNet-110_save'))\n",
    "generator = gan_model.encoder.generator\n",
    "conv = gan_model.encoder.generator.encoding_layer\n",
    "\n",
    "model = UNet(generator=generator,enc_chs=(16,64,128,256,512),  num_channels=3, lr=1e-3, encoding_layer=conv)\n",
    "\n",
    "print('Loading attacker model..')\n",
    "model.load_state_dict(torch.load('./saved_models/Complex_ResNet-110Attacker_save'))\n",
    "print('Attacker model successfully loaded')\n",
    "print('Testing attacker model..')\n",
    "out = trainer.test(model=model, test_dataloaders=testloader)\n",
    "print('Testing successfull')\n",
    "\n",
    "attackerDict['ResNet-110'] = out[0]"
   ]
  },
  {
   "cell_type": "markdown",
   "metadata": {},
   "source": [
    "### VGG-16"
   ]
  },
  {
   "cell_type": "code",
   "execution_count": null,
   "metadata": {},
   "outputs": [],
   "source": [
    "classes, trainloader, valloader, testloader = load_data(\n",
    "        'CUB-200', 128, 0\n",
    "    )\n",
    "\n",
    "trainer = pl.Trainer(\n",
    "                    gpus=1 if torch.cuda.is_available() else 0,\n",
    "                    max_epochs=1000,\n",
    "                    progress_bar_refresh_rate=1)\n",
    "\n",
    "# seed for reproducability\n",
    "pl.seed_everything(42)\n",
    "\n",
    "device = torch.device(\"cuda:0\" if torch.cuda.is_available() else \"cpu\")\n",
    "\n",
    "gan_model = initialize_model('Complex_VGG-16', num_classes, 1e-3, 2)\n",
    "gan_model.load_state_dict(torch.load('./saved_models/Complex_VGG-16_save'))\n",
    "generator = gan_model.encoder.generator\n",
    "conv = gan_model.encoder.generator.encoding_layer\n",
    "\n",
    "model = UNet(generator=generator, num_channels=3, lr=1e-3, encoding_layer=conv)\n",
    "\n",
    "print('Loading attacker model..')\n",
    "model.load_state_dict(torch.load('./saved_models/(Complex)VGG-16Attacker_save'))\n",
    "print('Attacker model successfully loaded')\n",
    "print('Testing attacker model..')\n",
    "out = trainer.test(model=model, test_dataloaders=testloader)\n",
    "print('Testing successfull')\n",
    "\n",
    "attackerDict['VGG-16'] = out[0]"
   ]
  },
  {
   "cell_type": "markdown",
   "metadata": {},
   "source": [
    "### Summary of the attacker results"
   ]
  },
  {
   "cell_type": "code",
   "execution_count": null,
   "metadata": {},
   "outputs": [],
   "source": [
    "print('Reconstruction errors')\n",
    "print('Model name \\t Original DNN \\t \\t Complex DNN')\n",
    "print('LeNet'+  '\\t'+ '\\t' + '\\t' + str(round(attackerDict['LeNet']['Non-obfuscated - reconstruction_error'],3)) + '\\t' + '\\t' + '\\t' + str(round(attackerDict['LeNet']['Obfuscated - reconstruction_error'],3)))\n",
    "print('ResNet-56'+  '\\t' + '\\t'+ str(round(attackerDict['ResNet-56']['Non-obfuscated - reconstruction_error'],3)) + '\\t' + '\\t' + '\\t' + str(round(attackerDict['ResNet-56']['Obfuscated - reconstruction_error'],3)))\n",
    "print('ResNet-110'+  '\\t' + '\\t'+ str(round(attackerDict['ResNet-110']['Non-obfuscated - reconstruction_error'],3)) + '\\t' + '\\t' + '\\t' + str(round(attackerDict['ResNet-110']['Obfuscated - reconstruction_error'],3)))\n",
    "print('VGG-16'+  '\\t' + '\\t'+ str(round(attackerDict['VGG-16']['Non-obfuscated - reconstruction_error'],3)) + '\\t' + '\\t' + '\\t' + str(round(attackerDict['ResNet-110']['Obfuscated - reconstruction_error'],3)))"
   ]
  }
 ],
 "metadata": {
  "celltoolbar": "Raw Cell Format",
  "kernelspec": {
   "display_name": "Python 3",
   "language": "python",
   "name": "python3"
  },
  "language_info": {
   "codemirror_mode": {
    "name": "ipython",
    "version": 3
   },
   "file_extension": ".py",
   "mimetype": "text/x-python",
   "name": "python",
   "nbconvert_exporter": "python",
   "pygments_lexer": "ipython3",
   "version": "3.8.6"
  }
 },
 "nbformat": 4,
 "nbformat_minor": 4
}
