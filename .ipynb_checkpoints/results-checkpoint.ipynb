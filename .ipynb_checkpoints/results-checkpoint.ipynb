{
 "cells": [
  {
   "cell_type": "markdown",
   "metadata": {},
   "source": [
    "# Result notebook of the experiments"
   ]
  },
  {
   "cell_type": "markdown",
   "metadata": {},
   "source": [
    "### Classification Results\n",
    "\n",
    "Run the below cells to load the best trained version of the models and observe their classification rate on the test set of the dataset they were trained on. "
   ]
  },
  {
   "cell_type": "code",
   "execution_count": 107,
   "metadata": {},
   "outputs": [],
   "source": [
    "### library imports\n",
    "\n",
    "import os\n",
    "from os import listdir\n",
    "from os.path import isfile, join\n",
    "\n",
    "# pytorch imports\n",
    "import torch\n",
    "import torch.nn as nn\n",
    "import torch.nn.functional as F\n",
    "import torch.optim as optim\n",
    "import pytorch_lightning as pl\n",
    "from pytorch_lightning.callbacks import ModelCheckpoint\n",
    "\n",
    "\n",
    "# import models\n",
    "from models.lenet.lenet import *\n",
    "from models.lenet.complex_lenet import *\n",
    "from models.resnet.resnet import *\n",
    "from models.resnet.complex_resnet import *\n",
    "from models.vgg16.vgg16 import *\n",
    "from models.vgg16.vgg16_complex import *"
   ]
  },
  {
   "cell_type": "code",
   "execution_count": 125,
   "metadata": {},
   "outputs": [],
   "source": [
    "### Load the Datasets\n",
    "\n",
    "# import dataloaders\n",
    "from dataloaders.cifar10_loader import load_data as load_cifar10_data\n",
    "from dataloaders.cifar100_loader import load_data as load_cifar100_data\n",
    "from dataloaders.cub2011_loader import load_data as load_cub200_data\n",
    "\n",
    "### List the models we used\n",
    "model_dict = {}\n",
    "model_dict['LeNet'] = LeNet\n",
    "model_dict['Complex_LeNet'] = ComplexLeNet\n",
    "model_dict['ResNet-110'] = ResNet\n",
    "model_dict['ResNet-56'] = ResNet\n",
    "model_dict['Complex_ResNet-56'] = ComplexResNet\n",
    "model_dict['Complex_ResNet-110'] = ComplexResNet\n",
    "model_dict['VGG-16'] = VGG16\n",
    "model_dict['Complex_VGG-16'] = Complex_VGG16\n",
    "\n",
    "# initialize our dataset dictionary\n",
    "dataset_dict = {}\n",
    "dataset_dict['CIFAR-10'] = load_cifar10_data\n",
    "dataset_dict['CIFAR-100'] = load_cifar100_data\n",
    "dataset_dict['CUB-200'] = load_cub200_data\n",
    "\n"
   ]
  },
  {
   "cell_type": "code",
   "execution_count": 109,
   "metadata": {},
   "outputs": [],
   "source": [
    "# Function for loading dataset\n",
    "\n",
    "def load_data(dataset='CIFAR-10', batch_size=256, num_workers=0):\n",
    "    \"\"\"\n",
    "    Function for loading a dataset based on the given command line arguments.\n",
    "\n",
    "    Inputs:\n",
    "        dataset - String indicating the dataset to use. Default = 'CIFAR-10'\n",
    "        batch_size - Int indicating the size of the mini batches. Default = 256\n",
    "        num_workers - Int indicating the number of workers to use in the\n",
    "            dataloader. Default = 0 (truly deterministic)\n",
    "    \"\"\"\n",
    "\n",
    "    # load the dataset if possible\n",
    "    if dataset in dataset_dict:\n",
    "        return dataset_dict[dataset](batch_size, num_workers)\n",
    "    # alert the user if the given dataset does not exist\n",
    "    else:\n",
    "        assert False, \"Unknown dataset name \\\"%s\\\". Available datasets are: %s\" % (dataset, str(dataset_dict.keys()))"
   ]
  },
  {
   "cell_type": "code",
   "execution_count": 110,
   "metadata": {},
   "outputs": [],
   "source": [
    "##Function for initializing models\n",
    "def initialize_model(model='Complex_LeNet', num_classes=10, lr=3e-4, k=2):\n",
    "    \"\"\"\n",
    "    Function for initializing a model based on the given command line arguments.\n",
    "\n",
    "    Inputs:\n",
    "        model - String indicating the model to use. Default = 'Complex_LeNet'\n",
    "        num_classes - Int indicating the number of classes. Default = 10\n",
    "        lr - Float indicating the optimizer learning rate. Default = 3e-4\n",
    "        k - Level of anonimity. k-1 fake features are generated\n",
    "            to train the discriminator. Default = 2\n",
    "    \"\"\"\n",
    "\n",
    "    # initialize the model if possible\n",
    "    if model == \"Complex_ResNet-110\" or model == \"ResNet-110\":\n",
    "        return model_dict[model](num_classes, k, lr, num_blocks = [37,36,36])\n",
    "    elif model == \"Complex_ResNet-56\" or model == \"ResNet-56\":\n",
    "        return model_dict[model](num_classes, k, lr, num_blocks = [19,18,18])\n",
    "    elif model in model_dict:\n",
    "        return model_dict[model](num_classes, k, lr)\n",
    "    # alert the user if the given model does not exist\n",
    "    else:\n",
    "        assert False, \"Unknown model name \\\"%s\\\". Available models are: %s\" % (model, str(model_dict.keys()))\n",
    "        \n",
    "#Initialize dictionairy for results per model\n",
    "resultDict = {}"
   ]
  },
  {
   "cell_type": "markdown",
   "metadata": {},
   "source": [
    "### LeNet"
   ]
  },
  {
   "cell_type": "code",
   "execution_count": 111,
   "metadata": {},
   "outputs": [
    {
     "name": "stdout",
     "output_type": "stream",
     "text": [
      "----- MODEL SUMMARY -----\n",
      "Model: LeNet\n",
      "Dataset: Cifar-10\n",
      "Epochs: 3\n",
      "K value: 2\n",
      "Learning rate: 1e3 \n",
      "Batch size: 512\n",
      "-------------------------\n",
      "Files already downloaded and verified\n",
      "Files already downloaded and verified\n"
     ]
    },
    {
     "name": "stderr",
     "output_type": "stream",
     "text": [
      "GPU available: True, used: True\n",
      "TPU available: False, using: 0 TPU cores\n",
      "LOCAL_RANK: 0 - CUDA_VISIBLE_DEVICES: [0]\n"
     ]
    },
    {
     "name": "stdout",
     "output_type": "stream",
     "text": [
      "Loading model..\n",
      "Model successfully loaded\n",
      "Testing model..\n"
     ]
    },
    {
     "data": {
      "application/vnd.jupyter.widget-view+json": {
       "model_id": "84caf7dfb79142b9bce5b06475d7ef5c",
       "version_major": 2,
       "version_minor": 0
      },
      "text/plain": [
       "HBox(children=(HTML(value='Testing'), FloatProgress(value=1.0, bar_style='info', layout=Layout(flex='2'), max=…"
      ]
     },
     "metadata": {},
     "output_type": "display_data"
    },
    {
     "name": "stdout",
     "output_type": "stream",
     "text": [
      "--------------------------------------------------------------------------------\n",
      "DATALOADER:0 TEST RESULTS\n",
      "{'test_acc': tensor(0.6360, device='cuda:0'),\n",
      " 'test_loss': tensor(1.0647, device='cuda:0')}\n",
      "--------------------------------------------------------------------------------\n",
      "\n",
      "Testing successfull\n"
     ]
    }
   ],
   "source": [
    "# print the most important arguments given by the user\n",
    "print('----- MODEL SUMMARY -----')\n",
    "print('Model: LeNet')\n",
    "print('Dataset: Cifar-10')\n",
    "print('Epochs: ' + str(3)) ## AANVULLEN\n",
    "print('K value: 2')\n",
    "print('Learning rate: 1e3 ')\n",
    "print('Batch size: 512')\n",
    "print('-------------------------')\n",
    "\n",
    "    # load the data from the dataloader\n",
    "num_classes, trainloader, valloader, testloader = load_data(\n",
    "       'CIFAR-10', 512, 0\n",
    "    )\n",
    "trainer = pl.Trainer(\n",
    "                        gpus=1 if torch.cuda.is_available() else 0,\n",
    "                        max_epochs=1000,\n",
    "                        progress_bar_refresh_rate=1)\n",
    "\n",
    "# seed for reproducability\n",
    "pl.seed_everything(42)\n",
    "\n",
    "    # initialize the model\n",
    "device = torch.device(\"cuda:0\" if torch.cuda.is_available() else \"cpu\")\n",
    "model = initialize_model('LeNet', num_classes, 1e-3, 2)\n",
    "\n",
    "   \n",
    "# load the saved model\n",
    "print('Loading model..')\n",
    "model.load_state_dict(torch.load('./saved_models/LeNet_save'))\n",
    "print('Model successfully loaded')\n",
    "print('Testing model..')\n",
    "out = trainer.test(model=model, test_dataloaders=testloader)\n",
    "print('Testing successfull')\n",
    "\n",
    "resultDict['LeNet'] = out[0]"
   ]
  },
  {
   "cell_type": "markdown",
   "metadata": {},
   "source": [
    "### Complex LeNet"
   ]
  },
  {
   "cell_type": "code",
   "execution_count": 112,
   "metadata": {},
   "outputs": [
    {
     "name": "stdout",
     "output_type": "stream",
     "text": [
      "----- MODEL SUMMARY -----\n",
      "Model: Complex LeNet\n",
      "Dataset: Cifar-10\n",
      "K value: 2\n",
      "Learning rate: 1e3 \n",
      "Batch size: 512\n",
      "-------------------------\n",
      "Files already downloaded and verified\n",
      "Files already downloaded and verified\n"
     ]
    },
    {
     "name": "stderr",
     "output_type": "stream",
     "text": [
      "GPU available: True, used: True\n",
      "TPU available: False, using: 0 TPU cores\n",
      "LOCAL_RANK: 0 - CUDA_VISIBLE_DEVICES: [0]\n"
     ]
    },
    {
     "name": "stdout",
     "output_type": "stream",
     "text": [
      "Loading model..\n",
      "Model successfully loaded\n",
      "Testing model..\n"
     ]
    },
    {
     "data": {
      "application/vnd.jupyter.widget-view+json": {
       "model_id": "c0140f24097d450a8d0415f8ac90f62c",
       "version_major": 2,
       "version_minor": 0
      },
      "text/plain": [
       "HBox(children=(HTML(value='Testing'), FloatProgress(value=1.0, bar_style='info', layout=Layout(flex='2'), max=…"
      ]
     },
     "metadata": {},
     "output_type": "display_data"
    },
    {
     "name": "stdout",
     "output_type": "stream",
     "text": [
      "--------------------------------------------------------------------------------\n",
      "DATALOADER:0 TEST RESULTS\n",
      "{'test_acc': tensor(0.4666, device='cuda:0'),\n",
      " 'test_generator_loss': tensor(0.3460, device='cuda:0'),\n",
      " 'test_model_loss': tensor(1.4748, device='cuda:0'),\n",
      " 'test_total-loss': tensor(1.8208, device='cuda:0')}\n",
      "--------------------------------------------------------------------------------\n",
      "\n",
      "Testing successfull\n"
     ]
    }
   ],
   "source": [
    "# print the most important arguments given by the user\n",
    "print('----- MODEL SUMMARY -----')\n",
    "print('Model: Complex LeNet')\n",
    "print('Dataset: Cifar-10')\n",
    "print('K value: 2')\n",
    "print('Learning rate: 1e3 ')\n",
    "print('Batch size: 512')\n",
    "print('-------------------------')\n",
    "\n",
    "    # load the data from the dataloader\n",
    "num_classes, trainloader, valloader, testloader = load_data(\n",
    "       'CIFAR-10', 512, 0\n",
    "    )\n",
    "trainer = pl.Trainer(\n",
    "                        gpus=1 if torch.cuda.is_available() else 0,\n",
    "                        max_epochs=1000,\n",
    "                        progress_bar_refresh_rate=1)\n",
    "\n",
    "# seed for reproducability\n",
    "pl.seed_everything(42)\n",
    "\n",
    "    # initialize the model\n",
    "device = torch.device(\"cuda:0\" if torch.cuda.is_available() else \"cpu\")\n",
    "model = initialize_model('Complex_LeNet', num_classes, 1e-3, 2)\n",
    "\n",
    "   \n",
    "# load the saved model\n",
    "print('Loading model..')\n",
    "model.load_state_dict(torch.load('./saved_models/Complex_LeNet_save'))\n",
    "print('Model successfully loaded')\n",
    "print('Testing model..')\n",
    "out = trainer.test(model=model, test_dataloaders=testloader)\n",
    "print('Testing successfull')\n",
    "\n",
    "resultDict['Complex_LeNet'] = out[0]"
   ]
  },
  {
   "cell_type": "markdown",
   "metadata": {},
   "source": [
    "### ResNet-56"
   ]
  },
  {
   "cell_type": "code",
   "execution_count": 139,
   "metadata": {},
   "outputs": [
    {
     "name": "stdout",
     "output_type": "stream",
     "text": [
      "----- MODEL SUMMARY -----\n",
      "Model: ResNet-56\n",
      "Dataset: Cifar-100\n",
      "K value: 2\n",
      "Learning rate: 1e3 \n",
      "Batch size: 512\n",
      "-------------------------\n",
      "Files already downloaded and verified\n",
      "Files already downloaded and verified\n"
     ]
    },
    {
     "name": "stderr",
     "output_type": "stream",
     "text": [
      "GPU available: True, used: True\n",
      "TPU available: False, using: 0 TPU cores\n",
      "LOCAL_RANK: 0 - CUDA_VISIBLE_DEVICES: [0]\n"
     ]
    },
    {
     "name": "stdout",
     "output_type": "stream",
     "text": [
      "Loading model..\n",
      "Model successfully loaded\n",
      "Testing model..\n"
     ]
    },
    {
     "data": {
      "application/vnd.jupyter.widget-view+json": {
       "model_id": "55cf04072abd41488972859a7b8c4b94",
       "version_major": 2,
       "version_minor": 0
      },
      "text/plain": [
       "HBox(children=(HTML(value='Testing'), FloatProgress(value=1.0, bar_style='info', layout=Layout(flex='2'), max=…"
      ]
     },
     "metadata": {},
     "output_type": "display_data"
    },
    {
     "name": "stdout",
     "output_type": "stream",
     "text": [
      "--------------------------------------------------------------------------------\n",
      "DATALOADER:0 TEST RESULTS\n",
      "{'test_acc': tensor(0.2874, device='cuda:0'),\n",
      " 'test_loss': tensor(3.2040, device='cuda:0')}\n",
      "--------------------------------------------------------------------------------\n",
      "\n",
      "Testing successfull\n"
     ]
    }
   ],
   "source": [
    "# print the most important arguments given by the user\n",
    "print('----- MODEL SUMMARY -----')\n",
    "print('Model: ResNet-56')\n",
    "print('Dataset: Cifar-100')\n",
    "print('K value: 2')\n",
    "print('Learning rate: 1e3 ')\n",
    "print('Batch size: 512')\n",
    "print('-------------------------')\n",
    "\n",
    "    # load the data from the dataloader\n",
    "num_classes, trainloader, valloader, testloader = load_data(\n",
    "       'CIFAR-100', 512, 0\n",
    "    )\n",
    "trainer = pl.Trainer(\n",
    "                        gpus=1 if torch.cuda.is_available() else 0,\n",
    "                        max_epochs=1000,\n",
    "                        progress_bar_refresh_rate=1)\n",
    "\n",
    "# seed for reproducability\n",
    "pl.seed_everything(42)\n",
    "\n",
    "    # initialize the model\n",
    "device = torch.device(\"cuda:0\" if torch.cuda.is_available() else \"cpu\")\n",
    "model = initialize_model('ResNet-56', num_classes, 1e-3, 2)\n",
    "\n",
    "   \n",
    "# load the saved model\n",
    "print('Loading model..')\n",
    "model.load_state_dict(torch.load('./saved_models/ResNet-56_save'))\n",
    "print('Model successfully loaded')\n",
    "print('Testing model..')\n",
    "out = trainer.test(model=model, test_dataloaders=testloader)\n",
    "print('Testing successfull')\n",
    "\n",
    "resultDict['ResNet-56'] = out[0]"
   ]
  },
  {
   "cell_type": "markdown",
   "metadata": {},
   "source": [
    "### Complex ResNet-56"
   ]
  },
  {
   "cell_type": "code",
   "execution_count": 138,
   "metadata": {},
   "outputs": [
    {
     "name": "stdout",
     "output_type": "stream",
     "text": [
      "----- MODEL SUMMARY -----\n",
      "Model: Complex ResNet-56\n",
      "Dataset: Cifar-100\n",
      "K value: 2\n",
      "Learning rate: 1e3 \n",
      "Batch size: 512\n",
      "-------------------------\n",
      "Files already downloaded and verified\n",
      "Files already downloaded and verified\n"
     ]
    },
    {
     "name": "stderr",
     "output_type": "stream",
     "text": [
      "GPU available: True, used: True\n",
      "TPU available: False, using: 0 TPU cores\n",
      "LOCAL_RANK: 0 - CUDA_VISIBLE_DEVICES: [0]\n"
     ]
    },
    {
     "name": "stdout",
     "output_type": "stream",
     "text": [
      "CLASSES 100\n",
      "Loading model..\n",
      "Model successfully loaded\n",
      "Testing model..\n"
     ]
    },
    {
     "data": {
      "application/vnd.jupyter.widget-view+json": {
       "model_id": "e8539018458b444e927d305e73e10cdf",
       "version_major": 2,
       "version_minor": 0
      },
      "text/plain": [
       "HBox(children=(HTML(value='Testing'), FloatProgress(value=1.0, bar_style='info', layout=Layout(flex='2'), max=…"
      ]
     },
     "metadata": {},
     "output_type": "display_data"
    },
    {
     "name": "stdout",
     "output_type": "stream",
     "text": [
      "--------------------------------------------------------------------------------\n",
      "DATALOADER:0 TEST RESULTS\n",
      "{'test_acc': tensor(0.1490, device='cuda:0'),\n",
      " 'test_loss': tensor(3.6830, device='cuda:0')}\n",
      "--------------------------------------------------------------------------------\n",
      "\n",
      "Testing successfull\n"
     ]
    }
   ],
   "source": [
    "# print the most important arguments given by the user\n",
    "print('----- MODEL SUMMARY -----')\n",
    "print('Model: Complex ResNet-56')\n",
    "print('Dataset: Cifar-100')\n",
    "print('K value: 2')\n",
    "print('Learning rate: 1e3 ')\n",
    "print('Batch size: 512')\n",
    "print('-------------------------')\n",
    "\n",
    "    # load the data from the dataloader\n",
    "num_classes, trainloader, valloader, testloader = load_data(\n",
    "       'CIFAR-100', 512, 0\n",
    "    )\n",
    "trainer = pl.Trainer(\n",
    "                        gpus=1 if torch.cuda.is_available() else 0,\n",
    "                        max_epochs=1000,\n",
    "                        progress_bar_refresh_rate=1)\n",
    "\n",
    "# seed for reproducability\n",
    "pl.seed_everything(42)\n",
    "\n",
    "    # initialize the model\n",
    "device = torch.device(\"cuda:0\" if torch.cuda.is_available() else \"cpu\")\n",
    "model = initialize_model('Complex_ResNet-56', num_classes, 1e-3, 2)\n",
    "\n",
    "   \n",
    "# load the saved model\n",
    "print('Loading model..')\n",
    "model.load_state_dict(torch.load('./saved_models/Complex_ResNet-56_save'))\n",
    "print('Model successfully loaded')\n",
    "print('Testing model..')\n",
    "out = trainer.test(model=model, test_dataloaders=testloader)\n",
    "print('Testing successfull')\n",
    "\n",
    "resultDict['Complex_ResNet-56'] = out[0]"
   ]
  },
  {
   "cell_type": "markdown",
   "metadata": {},
   "source": [
    "### ResNet-110"
   ]
  },
  {
   "cell_type": "code",
   "execution_count": 115,
   "metadata": {},
   "outputs": [
    {
     "name": "stdout",
     "output_type": "stream",
     "text": [
      "----- MODEL SUMMARY -----\n",
      "Model: ResNet-110\n",
      "Dataset: Cifar-100\n",
      "K value: 2\n",
      "Learning rate: 1e3 \n",
      "Batch size: 512\n",
      "-------------------------\n",
      "Files already downloaded and verified\n",
      "Files already downloaded and verified\n"
     ]
    },
    {
     "name": "stderr",
     "output_type": "stream",
     "text": [
      "GPU available: True, used: True\n",
      "TPU available: False, using: 0 TPU cores\n",
      "LOCAL_RANK: 0 - CUDA_VISIBLE_DEVICES: [0]\n"
     ]
    },
    {
     "name": "stdout",
     "output_type": "stream",
     "text": [
      "Loading model..\n",
      "Model successfully loaded\n",
      "Testing model..\n"
     ]
    },
    {
     "data": {
      "application/vnd.jupyter.widget-view+json": {
       "model_id": "a470f40f539f4eb097d912dc7108284e",
       "version_major": 2,
       "version_minor": 0
      },
      "text/plain": [
       "HBox(children=(HTML(value='Testing'), FloatProgress(value=1.0, bar_style='info', layout=Layout(flex='2'), max=…"
      ]
     },
     "metadata": {},
     "output_type": "display_data"
    },
    {
     "name": "stdout",
     "output_type": "stream",
     "text": [
      "--------------------------------------------------------------------------------\n",
      "DATALOADER:0 TEST RESULTS\n",
      "{'test_acc': tensor(0.2700, device='cuda:0'),\n",
      " 'test_loss': tensor(3.0797, device='cuda:0')}\n",
      "--------------------------------------------------------------------------------\n",
      "\n",
      "Testing successfull\n"
     ]
    }
   ],
   "source": [
    "# print the most important arguments given by the user\n",
    "print('----- MODEL SUMMARY -----')\n",
    "print('Model: ResNet-110')\n",
    "print('Dataset: Cifar-100')\n",
    "print('K value: 2')\n",
    "print('Learning rate: 1e3 ')\n",
    "print('Batch size: 512')\n",
    "print('-------------------------')\n",
    "\n",
    "    # load the data from the dataloader\n",
    "num_classes, trainloader, valloader, testloader = load_data(\n",
    "       'CIFAR-100', 512, 0\n",
    "    )\n",
    "trainer = pl.Trainer(\n",
    "                        gpus=1 if torch.cuda.is_available() else 0,\n",
    "                        max_epochs=1000,\n",
    "                        progress_bar_refresh_rate=1)\n",
    "\n",
    "# seed for reproducability\n",
    "pl.seed_everything(42)\n",
    "\n",
    "    # initialize the model\n",
    "device = torch.device(\"cuda:0\" if torch.cuda.is_available() else \"cpu\")\n",
    "model = initialize_model('ResNet-110', num_classes, 1e-3, 2)\n",
    "\n",
    "   \n",
    "# load the saved model\n",
    "print('Loading model..')\n",
    "model.load_state_dict(torch.load('./saved_models/ResNet-110_save'))\n",
    "print('Model successfully loaded')\n",
    "print('Testing model..')\n",
    "out = trainer.test(model=model, test_dataloaders=testloader)\n",
    "print('Testing successfull')\n",
    "\n",
    "resultDict['ResNet-110'] = out[0]"
   ]
  },
  {
   "cell_type": "markdown",
   "metadata": {},
   "source": [
    "### Complex ResNet-110"
   ]
  },
  {
   "cell_type": "code",
   "execution_count": 116,
   "metadata": {},
   "outputs": [
    {
     "name": "stdout",
     "output_type": "stream",
     "text": [
      "----- MODEL SUMMARY -----\n",
      "Model: Complex ResNet-110\n",
      "Dataset: Cifar-100\n",
      "K value: 2\n",
      "Learning rate: 1e3 \n",
      "Batch size: 512\n",
      "-------------------------\n",
      "Files already downloaded and verified\n",
      "Files already downloaded and verified\n"
     ]
    },
    {
     "name": "stderr",
     "output_type": "stream",
     "text": [
      "GPU available: True, used: True\n",
      "TPU available: False, using: 0 TPU cores\n",
      "LOCAL_RANK: 0 - CUDA_VISIBLE_DEVICES: [0]\n"
     ]
    },
    {
     "name": "stdout",
     "output_type": "stream",
     "text": [
      "CLASSES 100\n",
      "Loading model..\n",
      "Model successfully loaded\n",
      "Testing model..\n"
     ]
    },
    {
     "data": {
      "application/vnd.jupyter.widget-view+json": {
       "model_id": "8c9734458b56443ca2cb429c00ee98af",
       "version_major": 2,
       "version_minor": 0
      },
      "text/plain": [
       "HBox(children=(HTML(value='Testing'), FloatProgress(value=1.0, bar_style='info', layout=Layout(flex='2'), max=…"
      ]
     },
     "metadata": {},
     "output_type": "display_data"
    },
    {
     "name": "stdout",
     "output_type": "stream",
     "text": [
      "--------------------------------------------------------------------------------\n",
      "DATALOADER:0 TEST RESULTS\n",
      "{'test_acc': tensor(0.1112, device='cuda:0'),\n",
      " 'test_loss': tensor(3.9579, device='cuda:0')}\n",
      "--------------------------------------------------------------------------------\n",
      "\n",
      "Testing successfull\n"
     ]
    }
   ],
   "source": [
    "# print the most important arguments given by the user\n",
    "print('----- MODEL SUMMARY -----')\n",
    "print('Model: Complex ResNet-110')\n",
    "print('Dataset: Cifar-100')\n",
    "print('K value: 2')\n",
    "print('Learning rate: 1e3 ')\n",
    "print('Batch size: 512')\n",
    "print('-------------------------')\n",
    "\n",
    "    # load the data from the dataloader\n",
    "num_classes, trainloader, valloader, testloader = load_data(\n",
    "       'CIFAR-100', 512, 0\n",
    "    )\n",
    "trainer = pl.Trainer(\n",
    "                        gpus=1 if torch.cuda.is_available() else 0,\n",
    "                        max_epochs=1000,\n",
    "                        progress_bar_refresh_rate=1)\n",
    "\n",
    "# seed for reproducability\n",
    "pl.seed_everything(42)\n",
    "\n",
    "    # initialize the model\n",
    "device = torch.device(\"cuda:0\" if torch.cuda.is_available() else \"cpu\")\n",
    "model = initialize_model('Complex_ResNet-110', num_classes, 1e-3, 2)\n",
    "\n",
    "   \n",
    "# load the saved model\n",
    "print('Loading model..')\n",
    "model.load_state_dict(torch.load('./saved_models/Complex_ResNet-110_save'))\n",
    "print('Model successfully loaded')\n",
    "print('Testing model..')\n",
    "out = trainer.test(model=model, test_dataloaders=testloader)\n",
    "print('Testing successfull')\n",
    "\n",
    "resultDict['Complex_ResNet-110'] = out[0]"
   ]
  },
  {
   "cell_type": "markdown",
   "metadata": {},
   "source": [
    "### VGG-16"
   ]
  },
  {
   "cell_type": "code",
   "execution_count": 145,
   "metadata": {},
   "outputs": [
    {
     "name": "stdout",
     "output_type": "stream",
     "text": [
      "----- MODEL SUMMARY -----\n",
      "Model: VGG-16\n",
      "Dataset: CUB-200\n",
      "K value: 2\n",
      "Learning rate: 1e3 \n",
      "Batch size: 256\n",
      "-------------------------\n"
     ]
    },
    {
     "name": "stderr",
     "output_type": "stream",
     "text": [
      "GPU available: True, used: True\n",
      "TPU available: False, using: 0 TPU cores\n",
      "LOCAL_RANK: 0 - CUDA_VISIBLE_DEVICES: [0]\n"
     ]
    },
    {
     "name": "stdout",
     "output_type": "stream",
     "text": [
      "Loading model..\n",
      "Model successfully loaded\n",
      "Testing model..\n"
     ]
    },
    {
     "ename": "RuntimeError",
     "evalue": "CUDA out of memory. Tried to allocate 20.00 MiB (GPU 0; 4.00 GiB total capacity; 1.21 GiB already allocated; 0 bytes free; 1.23 GiB reserved in total by PyTorch)",
     "output_type": "error",
     "traceback": [
      "\u001b[1;31m---------------------------------------------------------------------------\u001b[0m",
      "\u001b[1;31mRuntimeError\u001b[0m                              Traceback (most recent call last)",
      "\u001b[1;32m<ipython-input-145-0ffde34564d2>\u001b[0m in \u001b[0;36m<module>\u001b[1;34m\u001b[0m\n\u001b[0;32m     31\u001b[0m \u001b[0mprint\u001b[0m\u001b[1;33m(\u001b[0m\u001b[1;34m'Model successfully loaded'\u001b[0m\u001b[1;33m)\u001b[0m\u001b[1;33m\u001b[0m\u001b[1;33m\u001b[0m\u001b[0m\n\u001b[0;32m     32\u001b[0m \u001b[0mprint\u001b[0m\u001b[1;33m(\u001b[0m\u001b[1;34m'Testing model..'\u001b[0m\u001b[1;33m)\u001b[0m\u001b[1;33m\u001b[0m\u001b[1;33m\u001b[0m\u001b[0m\n\u001b[1;32m---> 33\u001b[1;33m \u001b[0mout\u001b[0m \u001b[1;33m=\u001b[0m \u001b[0mtrainer\u001b[0m\u001b[1;33m.\u001b[0m\u001b[0mtest\u001b[0m\u001b[1;33m(\u001b[0m\u001b[0mmodel\u001b[0m\u001b[1;33m=\u001b[0m\u001b[0mmodel\u001b[0m\u001b[1;33m,\u001b[0m \u001b[0mtest_dataloaders\u001b[0m\u001b[1;33m=\u001b[0m\u001b[0mtestloader\u001b[0m\u001b[1;33m)\u001b[0m\u001b[1;33m\u001b[0m\u001b[1;33m\u001b[0m\u001b[0m\n\u001b[0m\u001b[0;32m     34\u001b[0m \u001b[0mprint\u001b[0m\u001b[1;33m(\u001b[0m\u001b[1;34m'Testing successfull'\u001b[0m\u001b[1;33m)\u001b[0m\u001b[1;33m\u001b[0m\u001b[1;33m\u001b[0m\u001b[0m\n\u001b[0;32m     35\u001b[0m \u001b[1;33m\u001b[0m\u001b[0m\n",
      "\u001b[1;32m~\\Anaconda3\\envs\\FACT_AI\\lib\\site-packages\\pytorch_lightning\\trainer\\trainer.py\u001b[0m in \u001b[0;36mtest\u001b[1;34m(self, model, test_dataloaders, ckpt_path, verbose, datamodule)\u001b[0m\n\u001b[0;32m    705\u001b[0m \u001b[1;33m\u001b[0m\u001b[0m\n\u001b[0;32m    706\u001b[0m         \u001b[1;32mif\u001b[0m \u001b[0mmodel\u001b[0m \u001b[1;32mis\u001b[0m \u001b[1;32mnot\u001b[0m \u001b[1;32mNone\u001b[0m\u001b[1;33m:\u001b[0m\u001b[1;33m\u001b[0m\u001b[1;33m\u001b[0m\u001b[0m\n\u001b[1;32m--> 707\u001b[1;33m             \u001b[0mresults\u001b[0m \u001b[1;33m=\u001b[0m \u001b[0mself\u001b[0m\u001b[1;33m.\u001b[0m\u001b[0m__test_given_model\u001b[0m\u001b[1;33m(\u001b[0m\u001b[0mmodel\u001b[0m\u001b[1;33m,\u001b[0m \u001b[0mtest_dataloaders\u001b[0m\u001b[1;33m)\u001b[0m\u001b[1;33m\u001b[0m\u001b[1;33m\u001b[0m\u001b[0m\n\u001b[0m\u001b[0;32m    708\u001b[0m         \u001b[1;32melse\u001b[0m\u001b[1;33m:\u001b[0m\u001b[1;33m\u001b[0m\u001b[1;33m\u001b[0m\u001b[0m\n\u001b[0;32m    709\u001b[0m             \u001b[0mresults\u001b[0m \u001b[1;33m=\u001b[0m \u001b[0mself\u001b[0m\u001b[1;33m.\u001b[0m\u001b[0m__test_using_best_weights\u001b[0m\u001b[1;33m(\u001b[0m\u001b[0mckpt_path\u001b[0m\u001b[1;33m,\u001b[0m \u001b[0mtest_dataloaders\u001b[0m\u001b[1;33m)\u001b[0m\u001b[1;33m\u001b[0m\u001b[1;33m\u001b[0m\u001b[0m\n",
      "\u001b[1;32m~\\Anaconda3\\envs\\FACT_AI\\lib\\site-packages\\pytorch_lightning\\trainer\\trainer.py\u001b[0m in \u001b[0;36m__test_given_model\u001b[1;34m(self, model, test_dataloaders)\u001b[0m\n\u001b[0;32m    770\u001b[0m         \u001b[0mself\u001b[0m\u001b[1;33m.\u001b[0m\u001b[0mtesting\u001b[0m \u001b[1;33m=\u001b[0m \u001b[1;32mTrue\u001b[0m\u001b[1;33m\u001b[0m\u001b[1;33m\u001b[0m\u001b[0m\n\u001b[0;32m    771\u001b[0m         \u001b[0mself\u001b[0m\u001b[1;33m.\u001b[0m\u001b[0mmodel\u001b[0m \u001b[1;33m=\u001b[0m \u001b[0mmodel\u001b[0m\u001b[1;33m\u001b[0m\u001b[1;33m\u001b[0m\u001b[0m\n\u001b[1;32m--> 772\u001b[1;33m         \u001b[0mresults\u001b[0m \u001b[1;33m=\u001b[0m \u001b[0mself\u001b[0m\u001b[1;33m.\u001b[0m\u001b[0mfit\u001b[0m\u001b[1;33m(\u001b[0m\u001b[0mmodel\u001b[0m\u001b[1;33m)\u001b[0m\u001b[1;33m\u001b[0m\u001b[1;33m\u001b[0m\u001b[0m\n\u001b[0m\u001b[0;32m    773\u001b[0m         \u001b[0mself\u001b[0m\u001b[1;33m.\u001b[0m\u001b[0mtesting\u001b[0m \u001b[1;33m=\u001b[0m \u001b[1;32mFalse\u001b[0m\u001b[1;33m\u001b[0m\u001b[1;33m\u001b[0m\u001b[0m\n\u001b[0;32m    774\u001b[0m \u001b[1;33m\u001b[0m\u001b[0m\n",
      "\u001b[1;32m~\\Anaconda3\\envs\\FACT_AI\\lib\\site-packages\\pytorch_lightning\\trainer\\trainer.py\u001b[0m in \u001b[0;36mfit\u001b[1;34m(self, model, train_dataloader, val_dataloaders, datamodule)\u001b[0m\n\u001b[0;32m    421\u001b[0m         \u001b[1;31m# ----------------------------\u001b[0m\u001b[1;33m\u001b[0m\u001b[1;33m\u001b[0m\u001b[1;33m\u001b[0m\u001b[0m\n\u001b[0;32m    422\u001b[0m         \u001b[0mself\u001b[0m\u001b[1;33m.\u001b[0m\u001b[0maccelerator_backend\u001b[0m \u001b[1;33m=\u001b[0m \u001b[0mself\u001b[0m\u001b[1;33m.\u001b[0m\u001b[0maccelerator_connector\u001b[0m\u001b[1;33m.\u001b[0m\u001b[0mselect_accelerator\u001b[0m\u001b[1;33m(\u001b[0m\u001b[1;33m)\u001b[0m\u001b[1;33m\u001b[0m\u001b[1;33m\u001b[0m\u001b[0m\n\u001b[1;32m--> 423\u001b[1;33m         \u001b[0mself\u001b[0m\u001b[1;33m.\u001b[0m\u001b[0maccelerator_backend\u001b[0m\u001b[1;33m.\u001b[0m\u001b[0msetup\u001b[0m\u001b[1;33m(\u001b[0m\u001b[0mmodel\u001b[0m\u001b[1;33m)\u001b[0m\u001b[1;33m\u001b[0m\u001b[1;33m\u001b[0m\u001b[0m\n\u001b[0m\u001b[0;32m    424\u001b[0m \u001b[1;33m\u001b[0m\u001b[0m\n\u001b[0;32m    425\u001b[0m         \u001b[1;31m# ----------------------------\u001b[0m\u001b[1;33m\u001b[0m\u001b[1;33m\u001b[0m\u001b[1;33m\u001b[0m\u001b[0m\n",
      "\u001b[1;32m~\\Anaconda3\\envs\\FACT_AI\\lib\\site-packages\\pytorch_lightning\\accelerators\\gpu_accelerator.py\u001b[0m in \u001b[0;36msetup\u001b[1;34m(self, model)\u001b[0m\n\u001b[0;32m     34\u001b[0m \u001b[1;33m\u001b[0m\u001b[0m\n\u001b[0;32m     35\u001b[0m         \u001b[0mtorch\u001b[0m\u001b[1;33m.\u001b[0m\u001b[0mcuda\u001b[0m\u001b[1;33m.\u001b[0m\u001b[0mset_device\u001b[0m\u001b[1;33m(\u001b[0m\u001b[0mself\u001b[0m\u001b[1;33m.\u001b[0m\u001b[0mtrainer\u001b[0m\u001b[1;33m.\u001b[0m\u001b[0mroot_gpu\u001b[0m\u001b[1;33m)\u001b[0m\u001b[1;33m\u001b[0m\u001b[1;33m\u001b[0m\u001b[0m\n\u001b[1;32m---> 36\u001b[1;33m         \u001b[0mmodel\u001b[0m\u001b[1;33m.\u001b[0m\u001b[0mcuda\u001b[0m\u001b[1;33m(\u001b[0m\u001b[0mself\u001b[0m\u001b[1;33m.\u001b[0m\u001b[0mtrainer\u001b[0m\u001b[1;33m.\u001b[0m\u001b[0mroot_gpu\u001b[0m\u001b[1;33m)\u001b[0m\u001b[1;33m\u001b[0m\u001b[1;33m\u001b[0m\u001b[0m\n\u001b[0m\u001b[0;32m     37\u001b[0m \u001b[1;33m\u001b[0m\u001b[0m\n\u001b[0;32m     38\u001b[0m         \u001b[1;31m# CHOOSE OPTIMIZER\u001b[0m\u001b[1;33m\u001b[0m\u001b[1;33m\u001b[0m\u001b[1;33m\u001b[0m\u001b[0m\n",
      "\u001b[1;32m~\\Anaconda3\\envs\\FACT_AI\\lib\\site-packages\\pytorch_lightning\\utilities\\device_dtype_mixin.py\u001b[0m in \u001b[0;36mcuda\u001b[1;34m(self, device)\u001b[0m\n\u001b[0;32m    122\u001b[0m         \"\"\"\n\u001b[0;32m    123\u001b[0m         \u001b[0mself\u001b[0m\u001b[1;33m.\u001b[0m\u001b[0m__update_properties\u001b[0m\u001b[1;33m(\u001b[0m\u001b[0mdevice\u001b[0m\u001b[1;33m=\u001b[0m\u001b[0mtorch\u001b[0m\u001b[1;33m.\u001b[0m\u001b[0mdevice\u001b[0m\u001b[1;33m(\u001b[0m\u001b[1;34m'cuda'\u001b[0m\u001b[1;33m,\u001b[0m \u001b[0mindex\u001b[0m\u001b[1;33m=\u001b[0m\u001b[0mdevice\u001b[0m\u001b[1;33m)\u001b[0m\u001b[1;33m)\u001b[0m\u001b[1;33m\u001b[0m\u001b[1;33m\u001b[0m\u001b[0m\n\u001b[1;32m--> 124\u001b[1;33m         \u001b[1;32mreturn\u001b[0m \u001b[0msuper\u001b[0m\u001b[1;33m(\u001b[0m\u001b[1;33m)\u001b[0m\u001b[1;33m.\u001b[0m\u001b[0mcuda\u001b[0m\u001b[1;33m(\u001b[0m\u001b[0mdevice\u001b[0m\u001b[1;33m=\u001b[0m\u001b[0mdevice\u001b[0m\u001b[1;33m)\u001b[0m\u001b[1;33m\u001b[0m\u001b[1;33m\u001b[0m\u001b[0m\n\u001b[0m\u001b[0;32m    125\u001b[0m \u001b[1;33m\u001b[0m\u001b[0m\n\u001b[0;32m    126\u001b[0m     \u001b[1;32mdef\u001b[0m \u001b[0mcpu\u001b[0m\u001b[1;33m(\u001b[0m\u001b[0mself\u001b[0m\u001b[1;33m)\u001b[0m \u001b[1;33m->\u001b[0m \u001b[0mModule\u001b[0m\u001b[1;33m:\u001b[0m\u001b[1;33m\u001b[0m\u001b[1;33m\u001b[0m\u001b[0m\n",
      "\u001b[1;32m~\\Anaconda3\\envs\\FACT_AI\\lib\\site-packages\\torch\\nn\\modules\\module.py\u001b[0m in \u001b[0;36mcuda\u001b[1;34m(self, device)\u001b[0m\n\u001b[0;32m    461\u001b[0m             \u001b[0mModule\u001b[0m\u001b[1;33m:\u001b[0m \u001b[0mself\u001b[0m\u001b[1;33m\u001b[0m\u001b[1;33m\u001b[0m\u001b[0m\n\u001b[0;32m    462\u001b[0m         \"\"\"\n\u001b[1;32m--> 463\u001b[1;33m         \u001b[1;32mreturn\u001b[0m \u001b[0mself\u001b[0m\u001b[1;33m.\u001b[0m\u001b[0m_apply\u001b[0m\u001b[1;33m(\u001b[0m\u001b[1;32mlambda\u001b[0m \u001b[0mt\u001b[0m\u001b[1;33m:\u001b[0m \u001b[0mt\u001b[0m\u001b[1;33m.\u001b[0m\u001b[0mcuda\u001b[0m\u001b[1;33m(\u001b[0m\u001b[0mdevice\u001b[0m\u001b[1;33m)\u001b[0m\u001b[1;33m)\u001b[0m\u001b[1;33m\u001b[0m\u001b[1;33m\u001b[0m\u001b[0m\n\u001b[0m\u001b[0;32m    464\u001b[0m \u001b[1;33m\u001b[0m\u001b[0m\n\u001b[0;32m    465\u001b[0m     \u001b[1;32mdef\u001b[0m \u001b[0mcpu\u001b[0m\u001b[1;33m(\u001b[0m\u001b[0mself\u001b[0m\u001b[1;33m:\u001b[0m \u001b[0mT\u001b[0m\u001b[1;33m)\u001b[0m \u001b[1;33m->\u001b[0m \u001b[0mT\u001b[0m\u001b[1;33m:\u001b[0m\u001b[1;33m\u001b[0m\u001b[1;33m\u001b[0m\u001b[0m\n",
      "\u001b[1;32m~\\Anaconda3\\envs\\FACT_AI\\lib\\site-packages\\torch\\nn\\modules\\module.py\u001b[0m in \u001b[0;36m_apply\u001b[1;34m(self, fn)\u001b[0m\n\u001b[0;32m    357\u001b[0m     \u001b[1;32mdef\u001b[0m \u001b[0m_apply\u001b[0m\u001b[1;33m(\u001b[0m\u001b[0mself\u001b[0m\u001b[1;33m,\u001b[0m \u001b[0mfn\u001b[0m\u001b[1;33m)\u001b[0m\u001b[1;33m:\u001b[0m\u001b[1;33m\u001b[0m\u001b[1;33m\u001b[0m\u001b[0m\n\u001b[0;32m    358\u001b[0m         \u001b[1;32mfor\u001b[0m \u001b[0mmodule\u001b[0m \u001b[1;32min\u001b[0m \u001b[0mself\u001b[0m\u001b[1;33m.\u001b[0m\u001b[0mchildren\u001b[0m\u001b[1;33m(\u001b[0m\u001b[1;33m)\u001b[0m\u001b[1;33m:\u001b[0m\u001b[1;33m\u001b[0m\u001b[1;33m\u001b[0m\u001b[0m\n\u001b[1;32m--> 359\u001b[1;33m             \u001b[0mmodule\u001b[0m\u001b[1;33m.\u001b[0m\u001b[0m_apply\u001b[0m\u001b[1;33m(\u001b[0m\u001b[0mfn\u001b[0m\u001b[1;33m)\u001b[0m\u001b[1;33m\u001b[0m\u001b[1;33m\u001b[0m\u001b[0m\n\u001b[0m\u001b[0;32m    360\u001b[0m \u001b[1;33m\u001b[0m\u001b[0m\n\u001b[0;32m    361\u001b[0m         \u001b[1;32mdef\u001b[0m \u001b[0mcompute_should_use_set_data\u001b[0m\u001b[1;33m(\u001b[0m\u001b[0mtensor\u001b[0m\u001b[1;33m,\u001b[0m \u001b[0mtensor_applied\u001b[0m\u001b[1;33m)\u001b[0m\u001b[1;33m:\u001b[0m\u001b[1;33m\u001b[0m\u001b[1;33m\u001b[0m\u001b[0m\n",
      "\u001b[1;32m~\\Anaconda3\\envs\\FACT_AI\\lib\\site-packages\\torch\\nn\\modules\\module.py\u001b[0m in \u001b[0;36m_apply\u001b[1;34m(self, fn)\u001b[0m\n\u001b[0;32m    357\u001b[0m     \u001b[1;32mdef\u001b[0m \u001b[0m_apply\u001b[0m\u001b[1;33m(\u001b[0m\u001b[0mself\u001b[0m\u001b[1;33m,\u001b[0m \u001b[0mfn\u001b[0m\u001b[1;33m)\u001b[0m\u001b[1;33m:\u001b[0m\u001b[1;33m\u001b[0m\u001b[1;33m\u001b[0m\u001b[0m\n\u001b[0;32m    358\u001b[0m         \u001b[1;32mfor\u001b[0m \u001b[0mmodule\u001b[0m \u001b[1;32min\u001b[0m \u001b[0mself\u001b[0m\u001b[1;33m.\u001b[0m\u001b[0mchildren\u001b[0m\u001b[1;33m(\u001b[0m\u001b[1;33m)\u001b[0m\u001b[1;33m:\u001b[0m\u001b[1;33m\u001b[0m\u001b[1;33m\u001b[0m\u001b[0m\n\u001b[1;32m--> 359\u001b[1;33m             \u001b[0mmodule\u001b[0m\u001b[1;33m.\u001b[0m\u001b[0m_apply\u001b[0m\u001b[1;33m(\u001b[0m\u001b[0mfn\u001b[0m\u001b[1;33m)\u001b[0m\u001b[1;33m\u001b[0m\u001b[1;33m\u001b[0m\u001b[0m\n\u001b[0m\u001b[0;32m    360\u001b[0m \u001b[1;33m\u001b[0m\u001b[0m\n\u001b[0;32m    361\u001b[0m         \u001b[1;32mdef\u001b[0m \u001b[0mcompute_should_use_set_data\u001b[0m\u001b[1;33m(\u001b[0m\u001b[0mtensor\u001b[0m\u001b[1;33m,\u001b[0m \u001b[0mtensor_applied\u001b[0m\u001b[1;33m)\u001b[0m\u001b[1;33m:\u001b[0m\u001b[1;33m\u001b[0m\u001b[1;33m\u001b[0m\u001b[0m\n",
      "\u001b[1;32m~\\Anaconda3\\envs\\FACT_AI\\lib\\site-packages\\torch\\nn\\modules\\module.py\u001b[0m in \u001b[0;36m_apply\u001b[1;34m(self, fn)\u001b[0m\n\u001b[0;32m    379\u001b[0m                 \u001b[1;31m# `with torch.no_grad():`\u001b[0m\u001b[1;33m\u001b[0m\u001b[1;33m\u001b[0m\u001b[1;33m\u001b[0m\u001b[0m\n\u001b[0;32m    380\u001b[0m                 \u001b[1;32mwith\u001b[0m \u001b[0mtorch\u001b[0m\u001b[1;33m.\u001b[0m\u001b[0mno_grad\u001b[0m\u001b[1;33m(\u001b[0m\u001b[1;33m)\u001b[0m\u001b[1;33m:\u001b[0m\u001b[1;33m\u001b[0m\u001b[1;33m\u001b[0m\u001b[0m\n\u001b[1;32m--> 381\u001b[1;33m                     \u001b[0mparam_applied\u001b[0m \u001b[1;33m=\u001b[0m \u001b[0mfn\u001b[0m\u001b[1;33m(\u001b[0m\u001b[0mparam\u001b[0m\u001b[1;33m)\u001b[0m\u001b[1;33m\u001b[0m\u001b[1;33m\u001b[0m\u001b[0m\n\u001b[0m\u001b[0;32m    382\u001b[0m                 \u001b[0mshould_use_set_data\u001b[0m \u001b[1;33m=\u001b[0m \u001b[0mcompute_should_use_set_data\u001b[0m\u001b[1;33m(\u001b[0m\u001b[0mparam\u001b[0m\u001b[1;33m,\u001b[0m \u001b[0mparam_applied\u001b[0m\u001b[1;33m)\u001b[0m\u001b[1;33m\u001b[0m\u001b[1;33m\u001b[0m\u001b[0m\n\u001b[0;32m    383\u001b[0m                 \u001b[1;32mif\u001b[0m \u001b[0mshould_use_set_data\u001b[0m\u001b[1;33m:\u001b[0m\u001b[1;33m\u001b[0m\u001b[1;33m\u001b[0m\u001b[0m\n",
      "\u001b[1;32m~\\Anaconda3\\envs\\FACT_AI\\lib\\site-packages\\torch\\nn\\modules\\module.py\u001b[0m in \u001b[0;36m<lambda>\u001b[1;34m(t)\u001b[0m\n\u001b[0;32m    461\u001b[0m             \u001b[0mModule\u001b[0m\u001b[1;33m:\u001b[0m \u001b[0mself\u001b[0m\u001b[1;33m\u001b[0m\u001b[1;33m\u001b[0m\u001b[0m\n\u001b[0;32m    462\u001b[0m         \"\"\"\n\u001b[1;32m--> 463\u001b[1;33m         \u001b[1;32mreturn\u001b[0m \u001b[0mself\u001b[0m\u001b[1;33m.\u001b[0m\u001b[0m_apply\u001b[0m\u001b[1;33m(\u001b[0m\u001b[1;32mlambda\u001b[0m \u001b[0mt\u001b[0m\u001b[1;33m:\u001b[0m \u001b[0mt\u001b[0m\u001b[1;33m.\u001b[0m\u001b[0mcuda\u001b[0m\u001b[1;33m(\u001b[0m\u001b[0mdevice\u001b[0m\u001b[1;33m)\u001b[0m\u001b[1;33m)\u001b[0m\u001b[1;33m\u001b[0m\u001b[1;33m\u001b[0m\u001b[0m\n\u001b[0m\u001b[0;32m    464\u001b[0m \u001b[1;33m\u001b[0m\u001b[0m\n\u001b[0;32m    465\u001b[0m     \u001b[1;32mdef\u001b[0m \u001b[0mcpu\u001b[0m\u001b[1;33m(\u001b[0m\u001b[0mself\u001b[0m\u001b[1;33m:\u001b[0m \u001b[0mT\u001b[0m\u001b[1;33m)\u001b[0m \u001b[1;33m->\u001b[0m \u001b[0mT\u001b[0m\u001b[1;33m:\u001b[0m\u001b[1;33m\u001b[0m\u001b[1;33m\u001b[0m\u001b[0m\n",
      "\u001b[1;31mRuntimeError\u001b[0m: CUDA out of memory. Tried to allocate 20.00 MiB (GPU 0; 4.00 GiB total capacity; 1.21 GiB already allocated; 0 bytes free; 1.23 GiB reserved in total by PyTorch)"
     ]
    }
   ],
   "source": [
    "# print the most important arguments given by the user\n",
    "print('----- MODEL SUMMARY -----')\n",
    "print('Model: VGG-16')\n",
    "print('Dataset: CUB-200')\n",
    "print('K value: 2')\n",
    "print('Learning rate: 1e3 ')\n",
    "print('Batch size: 256')\n",
    "print('-------------------------')\n",
    "\n",
    "    # load the data from the dataloader\n",
    "num_classes, trainloader, valloader, testloader = load_data(\n",
    "       'CUB-200', 64, 0\n",
    "    )\n",
    "\n",
    "trainer = pl.Trainer(\n",
    "                        gpus=1 if torch.cuda.is_available() else 0,\n",
    "                        max_epochs=1000,\n",
    "                        progress_bar_refresh_rate=1)\n",
    "\n",
    "# seed for reproducability\n",
    "pl.seed_everything(42)\n",
    "\n",
    "    # initialize the model\n",
    "device = torch.device(\"cuda:0\" if torch.cuda.is_available() else \"cpu\")\n",
    "model = initialize_model('VGG-16', num_classes, 1e-3, 2)\n",
    "\n",
    "   \n",
    "# load the saved model\n",
    "print('Loading model..')\n",
    "model.load_state_dict(torch.load('./saved_models/VGG-16_save'))\n",
    "print('Model successfully loaded')\n",
    "print('Testing model..')\n",
    "out = trainer.test(model=model, test_dataloaders=testloader)\n",
    "print('Testing successfull')\n",
    "\n",
    "resultDict['VGG-16'] = out[0]"
   ]
  },
  {
   "cell_type": "markdown",
   "metadata": {},
   "source": [
    "### Complex VGG-16"
   ]
  },
  {
   "cell_type": "code",
   "execution_count": null,
   "metadata": {},
   "outputs": [],
   "source": [
    "# print the most important arguments given by the user\n",
    "print('----- MODEL SUMMARY -----')\n",
    "print('Model: Complex VGG-16')\n",
    "print('Dataset: CUB-200')\n",
    "print('K value: 2')\n",
    "print('Learning rate: 1e3 ')\n",
    "print('Batch size: 256')\n",
    "print('-------------------------')\n",
    "\n",
    "    # load the data from the dataloader\n",
    "num_classes, trainloader, valloader, testloader = load_data(\n",
    "       'CUB-200', 256, 0\n",
    "    )\n",
    "trainer = pl.Trainer(\n",
    "                        gpus=1 if torch.cuda.is_available() else 0,\n",
    "                        max_epochs=1000,\n",
    "                        progress_bar_refresh_rate=1)\n",
    "\n",
    "# seed for reproducability\n",
    "pl.seed_everything(42)\n",
    "\n",
    "    # initialize the model\n",
    "device = torch.device(\"cuda:0\" if torch.cuda.is_available() else \"cpu\")\n",
    "model = initialize_model('Complex_VGG-16', num_classes, 1e-3, 2)\n",
    "\n",
    "   \n",
    "# load the saved model\n",
    "print('Loading model..')\n",
    "model.load_state_dict(torch.load('./saved_models/Complex_VGG-16_save'))\n",
    "print('Model successfully loaded')\n",
    "print('Testing model..')\n",
    "out = trainer.test(model=model, test_dataloaders=testloader)\n",
    "print('Testing successfull')\n",
    "\n",
    "resultDict['Complex_VGG-16'] = out[0]"
   ]
  },
  {
   "cell_type": "markdown",
   "metadata": {},
   "source": [
    "### Summary of the classification errors"
   ]
  },
  {
   "cell_type": "code",
   "execution_count": null,
   "metadata": {},
   "outputs": [],
   "source": [
    "print('Classification errors')\n",
    "print('Model name \\t Original DNN \\t \\t Complex DNN')\n",
    "print('LeNet'+  '\\t'+ '\\t' + '\\t' + str(round(1-resultDict['LeNet']['test_acc'],3)) + '\\t' + '\\t' + '\\t' + str(round(1-resultDict['Complex_LeNet']['test_acc'],3)))\n",
    "print('ResNet-56'+  '\\t' + '\\t'+ str(round(1-resultDict['ResNet-56']['test_acc'],3)) + '\\t' + '\\t' + '\\t' + str(round(1-resultDict['Complex_ResNet-56']['test_acc'],3)))\n",
    "print('ResNet-110'+  '\\t' + '\\t'+ str(round(1-resultDict['ResNet-110']['test_acc'],3)) + '\\t' + '\\t' + '\\t' + str(round(1-resultDict['Complex_ResNet-110']['test_acc'],3)))\n",
    "print('VGG-16'+  '\\t' + '\\t'+ str(round(1-resultDict['VGG-16']['test_acc'],3)) + '\\t' + '\\t' + '\\t' + str(round(1-resultDict['Complex_VGG-16']['test_acc'],3)))"
   ]
  },
  {
   "cell_type": "markdown",
   "metadata": {},
   "source": [
    "# Atacker results"
   ]
  },
  {
   "cell_type": "markdown",
   "metadata": {},
   "source": [
    "Run the below cells to observe the reconstruction errors for the respective models when data is intercepted by the attacker, both for the original models and for the model with obfuscated features."
   ]
  },
  {
   "cell_type": "code",
   "execution_count": 124,
   "metadata": {},
   "outputs": [],
   "source": [
    "#Import for attacker\n",
    "\n",
    "from models.attackers.inversion_attacker_1 import *\n",
    "\n",
    "\n",
    "# Initialize a dictionary for the attacker results\n",
    "attackerDict = {}\n",
    "\n"
   ]
  },
  {
   "cell_type": "markdown",
   "metadata": {},
   "source": [
    "### LeNet"
   ]
  },
  {
   "cell_type": "code",
   "execution_count": 128,
   "metadata": {},
   "outputs": [
    {
     "name": "stdout",
     "output_type": "stream",
     "text": [
      "Files already downloaded and verified\n",
      "Files already downloaded and verified\n"
     ]
    },
    {
     "name": "stderr",
     "output_type": "stream",
     "text": [
      "GPU available: True, used: True\n",
      "TPU available: False, using: 0 TPU cores\n",
      "LOCAL_RANK: 0 - CUDA_VISIBLE_DEVICES: [0]\n"
     ]
    },
    {
     "name": "stdout",
     "output_type": "stream",
     "text": [
      "Loading attacker model..\n",
      "Attacker model successfully loaded\n",
      "Testing attacker model..\n"
     ]
    },
    {
     "data": {
      "application/vnd.jupyter.widget-view+json": {
       "model_id": "b38bbe8ea5464f63ba9ccf1a674256e8",
       "version_major": 2,
       "version_minor": 0
      },
      "text/plain": [
       "HBox(children=(HTML(value='Testing'), FloatProgress(value=1.0, bar_style='info', layout=Layout(flex='2'), max=…"
      ]
     },
     "metadata": {},
     "output_type": "display_data"
    },
    {
     "name": "stdout",
     "output_type": "stream",
     "text": [
      "--------------------------------------------------------------------------------\n",
      "DATALOADER:0 TEST RESULTS\n",
      "{'Non-obfuscated - reconstruction_error': tensor(0.2404, device='cuda:0'),\n",
      " 'Obfuscated - reconstruction_error': tensor(0.5974, device='cuda:0')}\n",
      "--------------------------------------------------------------------------------\n",
      "\n",
      "Testing successfull\n"
     ]
    }
   ],
   "source": [
    "classes, trainloader, valloader, testloader = load_data(\n",
    "        'CIFAR-10', 128, 0\n",
    "    )\n",
    "\n",
    "trainer = pl.Trainer(\n",
    "                    gpus=1 if torch.cuda.is_available() else 0,\n",
    "                    max_epochs=1000,\n",
    "                    progress_bar_refresh_rate=1)\n",
    "\n",
    "# seed for reproducability\n",
    "pl.seed_everything(42)\n",
    "\n",
    "device = torch.device(\"cuda:0\" if torch.cuda.is_available() else \"cpu\")\n",
    "\n",
    "gan_model = initialize_model('Complex_LeNet', 10, 1e-3, 2)\n",
    "gan_model.load_state_dict(torch.load('./saved_models/Complex_LeNet_save'))\n",
    "generator = gan_model.encoder.generator\n",
    "conv = gan_model.encoder.generator.encoding_layer\n",
    "\n",
    "model = UNet(generator=generator, num_classes=3, lr=1e-3, encoding_layer=conv)\n",
    "\n",
    "print('Loading attacker model..')\n",
    "model.load_state_dict(torch.load('./saved_models/(Complex)LeNetAttacker_save'))\n",
    "print('Attacker model successfully loaded')\n",
    "print('Testing attacker model..')\n",
    "out = trainer.test(model=model, test_dataloaders=testloader)\n",
    "print('Testing successfull')\n",
    "\n",
    "attackerDict['LeNet'] = out[0]"
   ]
  },
  {
   "cell_type": "markdown",
   "metadata": {},
   "source": [
    "### ResNet-56"
   ]
  },
  {
   "cell_type": "code",
   "execution_count": null,
   "metadata": {},
   "outputs": [],
   "source": [
    "classes, trainloader, valloader, testloader = load_data(\n",
    "        'CIFAR-100', 128, 0\n",
    "    )\n",
    "\n",
    "trainer = pl.Trainer(\n",
    "                    gpus=1 if torch.cuda.is_available() else 0,\n",
    "                    max_epochs=1000,\n",
    "                    progress_bar_refresh_rate=1)\n",
    "\n",
    "# seed for reproducability\n",
    "pl.seed_everything(42)\n",
    "\n",
    "device = torch.device(\"cuda:0\" if torch.cuda.is_available() else \"cpu\")\n",
    "\n",
    "gan_model = initialize_model('Complex_ResNet-56', 100, 1e-3, 2)\n",
    "gan_model.load_state_dict(torch.load('./saved_models/Complex_ResNet-56_save'))\n",
    "generator = gan_model.encoder.generator\n",
    "conv = gan_model.encoder.generator.encoding_layer\n",
    "\n",
    "model = UNet(generator=generator, num_classes=3, lr=1e-3, encoding_layer=conv)\n",
    "\n",
    "print('Loading attacker model..')\n",
    "model.load_state_dict(torch.load('./saved_models/(Complex)ResNet-56Attacker_save'))\n",
    "print('Attacker model successfully loaded')\n",
    "print('Testing attacker model..')\n",
    "out = trainer.test(model=model, test_dataloaders=testloader)\n",
    "print('Testing successfull')\n",
    "\n",
    "attackerDict['ResNet-56'] = out[0]"
   ]
  },
  {
   "cell_type": "markdown",
   "metadata": {},
   "source": [
    "### ResNet-110"
   ]
  },
  {
   "cell_type": "code",
   "execution_count": null,
   "metadata": {},
   "outputs": [],
   "source": [
    "classes, trainloader, valloader, testloader = load_data(\n",
    "        'CIFAR-100', 128, 0\n",
    "    )\n",
    "\n",
    "trainer = pl.Trainer(\n",
    "                    gpus=1 if torch.cuda.is_available() else 0,\n",
    "                    max_epochs=1000,\n",
    "                    progress_bar_refresh_rate=1)\n",
    "\n",
    "# seed for reproducability\n",
    "pl.seed_everything(42)\n",
    "\n",
    "device = torch.device(\"cuda:0\" if torch.cuda.is_available() else \"cpu\")\n",
    "\n",
    "gan_model = initialize_model('Complex_ResNet-110', 100, 1e-3, 2)\n",
    "gan_model.load_state_dict(torch.load('./saved_models/Complex_ResNet-110_save'))\n",
    "generator = gan_model.encoder.generator\n",
    "conv = gan_model.encoder.generator.encoding_layer\n",
    "\n",
    "model = UNet(generator=generator, num_classes=3, lr=1e-3, encoding_layer=conv)\n",
    "\n",
    "print('Loading attacker model..')\n",
    "model.load_state_dict(torch.load('./saved_models/(Complex)ResNet-110Attacker_save'))\n",
    "print('Attacker model successfully loaded')\n",
    "print('Testing attacker model..')\n",
    "out = trainer.test(model=model, test_dataloaders=testloader)\n",
    "print('Testing successfull')\n",
    "\n",
    "attackerDict['ResNet-110'] = out[0]"
   ]
  },
  {
   "cell_type": "markdown",
   "metadata": {},
   "source": [
    "### VGG-16"
   ]
  },
  {
   "cell_type": "code",
   "execution_count": 143,
   "metadata": {},
   "outputs": [
    {
     "name": "stderr",
     "output_type": "stream",
     "text": [
      "GPU available: True, used: True\n",
      "TPU available: False, using: 0 TPU cores\n",
      "LOCAL_RANK: 0 - CUDA_VISIBLE_DEVICES: [0]\n"
     ]
    },
    {
     "ename": "RuntimeError",
     "evalue": "Error(s) in loading state_dict for Complex_VGG16:\n\tMissing key(s) in state_dict: \"input_net.0.weight\", \"input_net.0.bias\", \"input_net.1.weight\", \"input_net.1.bias\", \"input_net.1.running_mean\", \"input_net.1.running_var\", \"input_net.3.weight\", \"input_net.3.bias\", \"input_net.4.weight\", \"input_net.4.bias\", \"input_net.6.weight\", \"input_net.6.bias\", \"input_net.6.running_mean\", \"input_net.6.running_var\", \"input_net.8.weight\", \"input_net.8.bias\", \"input_net.9.weight\", \"input_net.9.bias\", \"input_net.9.running_mean\", \"input_net.9.running_var\", \"input_net.11.weight\", \"input_net.11.bias\", \"input_net.12.weight\", \"input_net.12.bias\", \"input_net.14.weight\", \"input_net.14.bias\", \"input_net.14.running_mean\", \"input_net.14.running_var\", \"input_net.16.weight\", \"input_net.16.bias\", \"input_net.17.weight\", \"input_net.17.bias\", \"input_net.17.running_mean\", \"input_net.17.running_var\", \"input_net.19.weight\", \"input_net.19.bias\". \n\tsize mismatch for decoder.fc3.weight: copying a param with shape torch.Size([200, 4096]) from checkpoint, the shape in current model is torch.Size([100, 4096]).\n\tsize mismatch for decoder.fc3.bias: copying a param with shape torch.Size([200]) from checkpoint, the shape in current model is torch.Size([100]).",
     "output_type": "error",
     "traceback": [
      "\u001b[1;31m---------------------------------------------------------------------------\u001b[0m",
      "\u001b[1;31mRuntimeError\u001b[0m                              Traceback (most recent call last)",
      "\u001b[1;32m<ipython-input-143-695502009205>\u001b[0m in \u001b[0;36m<module>\u001b[1;34m\u001b[0m\n\u001b[0;32m     14\u001b[0m \u001b[1;33m\u001b[0m\u001b[0m\n\u001b[0;32m     15\u001b[0m \u001b[0mgan_model\u001b[0m \u001b[1;33m=\u001b[0m \u001b[0minitialize_model\u001b[0m\u001b[1;33m(\u001b[0m\u001b[1;34m'Complex_VGG-16'\u001b[0m\u001b[1;33m,\u001b[0m \u001b[0mnum_classes\u001b[0m\u001b[1;33m,\u001b[0m \u001b[1;36m1e-3\u001b[0m\u001b[1;33m,\u001b[0m \u001b[1;36m2\u001b[0m\u001b[1;33m)\u001b[0m\u001b[1;33m\u001b[0m\u001b[1;33m\u001b[0m\u001b[0m\n\u001b[1;32m---> 16\u001b[1;33m \u001b[0mgan_model\u001b[0m\u001b[1;33m.\u001b[0m\u001b[0mload_state_dict\u001b[0m\u001b[1;33m(\u001b[0m\u001b[0mtorch\u001b[0m\u001b[1;33m.\u001b[0m\u001b[0mload\u001b[0m\u001b[1;33m(\u001b[0m\u001b[1;34m'./saved_models/Complex_VGG-16_save'\u001b[0m\u001b[1;33m)\u001b[0m\u001b[1;33m)\u001b[0m\u001b[1;33m\u001b[0m\u001b[1;33m\u001b[0m\u001b[0m\n\u001b[0m\u001b[0;32m     17\u001b[0m \u001b[0mgenerator\u001b[0m \u001b[1;33m=\u001b[0m \u001b[0mgan_model\u001b[0m\u001b[1;33m.\u001b[0m\u001b[0mencoder\u001b[0m\u001b[1;33m.\u001b[0m\u001b[0mgenerator\u001b[0m\u001b[1;33m\u001b[0m\u001b[1;33m\u001b[0m\u001b[0m\n\u001b[0;32m     18\u001b[0m \u001b[0mconv\u001b[0m \u001b[1;33m=\u001b[0m \u001b[0mgan_model\u001b[0m\u001b[1;33m.\u001b[0m\u001b[0mencoder\u001b[0m\u001b[1;33m.\u001b[0m\u001b[0mgenerator\u001b[0m\u001b[1;33m.\u001b[0m\u001b[0mencoding_layer\u001b[0m\u001b[1;33m\u001b[0m\u001b[1;33m\u001b[0m\u001b[0m\n",
      "\u001b[1;32m~\\Anaconda3\\envs\\FACT_AI\\lib\\site-packages\\torch\\nn\\modules\\module.py\u001b[0m in \u001b[0;36mload_state_dict\u001b[1;34m(self, state_dict, strict)\u001b[0m\n\u001b[0;32m   1049\u001b[0m \u001b[1;33m\u001b[0m\u001b[0m\n\u001b[0;32m   1050\u001b[0m         \u001b[1;32mif\u001b[0m \u001b[0mlen\u001b[0m\u001b[1;33m(\u001b[0m\u001b[0merror_msgs\u001b[0m\u001b[1;33m)\u001b[0m \u001b[1;33m>\u001b[0m \u001b[1;36m0\u001b[0m\u001b[1;33m:\u001b[0m\u001b[1;33m\u001b[0m\u001b[1;33m\u001b[0m\u001b[0m\n\u001b[1;32m-> 1051\u001b[1;33m             raise RuntimeError('Error(s) in loading state_dict for {}:\\n\\t{}'.format(\n\u001b[0m\u001b[0;32m   1052\u001b[0m                                self.__class__.__name__, \"\\n\\t\".join(error_msgs)))\n\u001b[0;32m   1053\u001b[0m         \u001b[1;32mreturn\u001b[0m \u001b[0m_IncompatibleKeys\u001b[0m\u001b[1;33m(\u001b[0m\u001b[0mmissing_keys\u001b[0m\u001b[1;33m,\u001b[0m \u001b[0munexpected_keys\u001b[0m\u001b[1;33m)\u001b[0m\u001b[1;33m\u001b[0m\u001b[1;33m\u001b[0m\u001b[0m\n",
      "\u001b[1;31mRuntimeError\u001b[0m: Error(s) in loading state_dict for Complex_VGG16:\n\tMissing key(s) in state_dict: \"input_net.0.weight\", \"input_net.0.bias\", \"input_net.1.weight\", \"input_net.1.bias\", \"input_net.1.running_mean\", \"input_net.1.running_var\", \"input_net.3.weight\", \"input_net.3.bias\", \"input_net.4.weight\", \"input_net.4.bias\", \"input_net.6.weight\", \"input_net.6.bias\", \"input_net.6.running_mean\", \"input_net.6.running_var\", \"input_net.8.weight\", \"input_net.8.bias\", \"input_net.9.weight\", \"input_net.9.bias\", \"input_net.9.running_mean\", \"input_net.9.running_var\", \"input_net.11.weight\", \"input_net.11.bias\", \"input_net.12.weight\", \"input_net.12.bias\", \"input_net.14.weight\", \"input_net.14.bias\", \"input_net.14.running_mean\", \"input_net.14.running_var\", \"input_net.16.weight\", \"input_net.16.bias\", \"input_net.17.weight\", \"input_net.17.bias\", \"input_net.17.running_mean\", \"input_net.17.running_var\", \"input_net.19.weight\", \"input_net.19.bias\". \n\tsize mismatch for decoder.fc3.weight: copying a param with shape torch.Size([200, 4096]) from checkpoint, the shape in current model is torch.Size([100, 4096]).\n\tsize mismatch for decoder.fc3.bias: copying a param with shape torch.Size([200]) from checkpoint, the shape in current model is torch.Size([100])."
     ]
    }
   ],
   "source": [
    "classes, trainloader, valloader, testloader = load_data(\n",
    "        'CUB-200', 128, 0\n",
    "    )\n",
    "\n",
    "trainer = pl.Trainer(\n",
    "                    gpus=1 if torch.cuda.is_available() else 0,\n",
    "                    max_epochs=1000,\n",
    "                    progress_bar_refresh_rate=1)\n",
    "\n",
    "# seed for reproducability\n",
    "pl.seed_everything(42)\n",
    "\n",
    "device = torch.device(\"cuda:0\" if torch.cuda.is_available() else \"cpu\")\n",
    "\n",
    "gan_model = initialize_model('Complex_VGG-16', num_classes, 1e-3, 2)\n",
    "gan_model.load_state_dict(torch.load('./saved_models/Complex_VGG-16_save'))\n",
    "generator = gan_model.encoder.generator\n",
    "conv = gan_model.encoder.generator.encoding_layer\n",
    "\n",
    "model = UNet(generator=generator, num_classes=3, lr=1e-3, encoding_layer=conv)\n",
    "\n",
    "print('Loading attacker model..')\n",
    "model.load_state_dict(torch.load('./saved_models/(Complex)VGG-16Attacker_save'))\n",
    "print('Attacker model successfully loaded')\n",
    "print('Testing attacker model..')\n",
    "out = trainer.test(model=model, test_dataloaders=testloader)\n",
    "print('Testing successfull')\n",
    "\n",
    "attackerDict['VGG-16'] = out[0]"
   ]
  },
  {
   "cell_type": "markdown",
   "metadata": {},
   "source": [
    "### Summary of the attacker results"
   ]
  },
  {
   "cell_type": "code",
   "execution_count": null,
   "metadata": {},
   "outputs": [],
   "source": [
    "print('Reconstruction errors')\n",
    "print('Model name \\t Original DNN \\t \\t Complex DNN')\n",
    "print('LeNet'+  '\\t'+ '\\t' + '\\t' + str(round(attackerDict['LeNet']['Non-obfuscated - reconstruction_error'],3)) + '\\t' + '\\t' + '\\t' + str(round(attackerDict['LeNet']['Obfuscated - reconstruction_error'],3)))\n",
    "print('ResNet-56'+  '\\t' + '\\t'+ str(round(attackerDict['ResNet-56']['Non-obfuscated - reconstruction_error'],3)) + '\\t' + '\\t' + '\\t' + str(round(attackerDict['ResNet-56']['Obfuscated - reconstruction_error'],3)))\n",
    "print('ResNet-110'+  '\\t' + '\\t'+ str(round(attackerDict['ResNet-110']['Non-obfuscated - reconstruction_error'],3)) + '\\t' + '\\t' + '\\t' + str(round(attackerDict['ResNet-110']['Obfuscated - reconstruction_error'],3)))\n",
    "print('VGG-16'+  '\\t' + '\\t'+ str(round(attackerDict['VGG-16']['Non-obfuscated - reconstruction_error'],3)) + '\\t' + '\\t' + '\\t' + str(round(attackerDict['ResNet-110']['Obfuscated - reconstruction_error'],3)))"
   ]
  }
 ],
 "metadata": {
  "celltoolbar": "Raw Cell Format",
  "kernelspec": {
   "display_name": "Python 3",
   "language": "python",
   "name": "python3"
  },
  "language_info": {
   "codemirror_mode": {
    "name": "ipython",
    "version": 3
   },
   "file_extension": ".py",
   "mimetype": "text/x-python",
   "name": "python",
   "nbconvert_exporter": "python",
   "pygments_lexer": "ipython3",
   "version": "3.8.6"
  }
 },
 "nbformat": 4,
 "nbformat_minor": 4
}
