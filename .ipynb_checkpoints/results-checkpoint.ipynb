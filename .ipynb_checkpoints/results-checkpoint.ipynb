{
 "cells": [
  {
   "cell_type": "markdown",
   "metadata": {},
   "source": [
    "# Result notebook of the experiments"
   ]
  },
  {
   "cell_type": "markdown",
   "metadata": {},
   "source": [
    "### Classification Results\n",
    "\n",
    "Run the below cells to load the best trained version of the models and observe their classification rate on the test set of the dataset they were trained on. "
   ]
  },
  {
   "cell_type": "code",
   "execution_count": 4,
   "metadata": {},
   "outputs": [],
   "source": [
    "### library imports\n",
    "\n",
    "import os\n",
    "from os import listdir\n",
    "from os.path import isfile, join\n",
    "\n",
    "# pytorch imports\n",
    "import torch\n",
    "import torch.nn as nn\n",
    "import torch.nn.functional as F\n",
    "import torch.optim as optim\n",
    "import pytorch_lightning as pl\n",
    "from pytorch_lightning.callbacks import ModelCheckpoint\n",
    "\n",
    "\n",
    "# import models\n",
    "from models.lenet.lenet import *\n",
    "from models.lenet.complex_lenet import *\n",
    "from models.resnet.resnet import *\n",
    "from models.resnet.complex_resnet import *\n",
    "from models.vgg16.vgg16 import *\n",
    "from models.vgg16.vgg16_complex import *"
   ]
  },
  {
   "cell_type": "code",
   "execution_count": 15,
   "metadata": {},
   "outputs": [],
   "source": [
    "### Load the Datasets\n",
    "\n",
    "# import dataloaders\n",
    "from dataloaders.cifar10_loader import load_data as load_cifar10_data\n",
    "from dataloaders.cifar100_loader import load_data as load_cifar100_data\n",
    "from dataloaders.cub2011_loader import load_data as load_cub200_data\n",
    "\n",
    "### List the models we used\n",
    "model_dict = {}\n",
    "model_dict['LeNet'] = LeNet\n",
    "model_dict['Complex_LeNet'] = ComplexLeNet\n",
    "model_dict['ResNet-110'] = ResNet\n",
    "model_dict['ResNet-56'] = ResNet\n",
    "model_dict['Complex_ResNet-56'] = ComplexResNet\n",
    "model_dict['Complex_ResNet-110'] = ComplexResNet\n",
    "model_dict['VGG-16'] = VGG16\n",
    "model_dict['Complex_VGG-16'] = Complex_VGG16\n",
    "\n",
    "# initialize our dataset dictionary\n",
    "dataset_dict = {}\n",
    "dataset_dict['CIFAR-10'] = load_cifar10_data\n",
    "dataset_dict['CIFAR-100'] = load_cifar100_data\n",
    "dataset_dict['CUB-200'] = load_cub200_data\n",
    "\n"
   ]
  },
  {
   "cell_type": "code",
   "execution_count": 16,
   "metadata": {},
   "outputs": [],
   "source": [
    "# Function for loading dataset\n",
    "\n",
    "def load_data(dataset='CIFAR-10', batch_size=256, num_workers=0):\n",
    "    \"\"\"\n",
    "    Function for loading a dataset based on the given command line arguments.\n",
    "\n",
    "    Inputs:\n",
    "        dataset - String indicating the dataset to use. Default = 'CIFAR-10'\n",
    "        batch_size - Int indicating the size of the mini batches. Default = 256\n",
    "        num_workers - Int indicating the number of workers to use in the\n",
    "            dataloader. Default = 0 (truly deterministic)\n",
    "    \"\"\"\n",
    "\n",
    "    # load the dataset if possible\n",
    "    if dataset in dataset_dict:\n",
    "        return dataset_dict[dataset](batch_size, num_workers)\n",
    "    # alert the user if the given dataset does not exist\n",
    "    else:\n",
    "        assert False, \"Unknown dataset name \\\"%s\\\". Available datasets are: %s\" % (dataset, str(dataset_dict.keys()))"
   ]
  },
  {
   "cell_type": "code",
   "execution_count": 39,
   "metadata": {},
   "outputs": [],
   "source": [
    "##Function for initializing models\n",
    "def initialize_model(model='Complex_LeNet', num_classes=10, lr=3e-4, k=2):\n",
    "    \"\"\"\n",
    "    Function for initializing a model based on the given command line arguments.\n",
    "\n",
    "    Inputs:\n",
    "        model - String indicating the model to use. Default = 'Complex_LeNet'\n",
    "        num_classes - Int indicating the number of classes. Default = 10\n",
    "        lr - Float indicating the optimizer learning rate. Default = 3e-4\n",
    "        k - Level of anonimity. k-1 fake features are generated\n",
    "            to train the discriminator. Default = 2\n",
    "    \"\"\"\n",
    "\n",
    "    # initialize the model if possible\n",
    "    if model == \"Complex_ResNet-110\" or model == \"ResNet-110\":\n",
    "        return model_dict[model](num_classes, k, lr, num_blocks = [37,36,36])\n",
    "    elif model == \"Complex_ResNet-56\" or model == \"ResNet-56\":\n",
    "        return model_dict[model](num_classes, k, lr, num_blocks = [19,18,18])\n",
    "    elif model in model_dict:\n",
    "        return model_dict[model](num_classes, k, lr)\n",
    "    # alert the user if the given model does not exist\n",
    "    else:\n",
    "        assert False, \"Unknown model name \\\"%s\\\". Available models are: %s\" % (model, str(model_dict.keys()))\n",
    "        \n",
    "#Initialize dictionairy for results per model\n",
    "resultDict = {}"
   ]
  },
  {
   "cell_type": "markdown",
   "metadata": {},
   "source": [
    "## LeNet"
   ]
  },
  {
   "cell_type": "code",
   "execution_count": 43,
   "metadata": {},
   "outputs": [
    {
     "name": "stdout",
     "output_type": "stream",
     "text": [
      "----- MODEL SUMMARY -----\n",
      "Model: LeNet\n",
      "Dataset: Cifar-10\n",
      "Epochs: 3\n",
      "K value: 2\n",
      "Learning rate: 1e3 \n",
      "Batch size: 512\n",
      "-------------------------\n",
      "Files already downloaded and verified\n",
      "Files already downloaded and verified\n"
     ]
    },
    {
     "name": "stderr",
     "output_type": "stream",
     "text": [
      "GPU available: True, used: True\n",
      "TPU available: False, using: 0 TPU cores\n",
      "LOCAL_RANK: 0 - CUDA_VISIBLE_DEVICES: [0]\n"
     ]
    },
    {
     "name": "stdout",
     "output_type": "stream",
     "text": [
      "Loading model..\n",
      "Model successfully loaded\n",
      "Testing model..\n"
     ]
    },
    {
     "data": {
      "application/vnd.jupyter.widget-view+json": {
       "model_id": "17cbe7beb36c4797afe72e2164306fba",
       "version_major": 2,
       "version_minor": 0
      },
      "text/plain": [
       "HBox(children=(HTML(value='Testing'), FloatProgress(value=1.0, bar_style='info', layout=Layout(flex='2'), max=…"
      ]
     },
     "metadata": {},
     "output_type": "display_data"
    },
    {
     "name": "stdout",
     "output_type": "stream",
     "text": [
      "--------------------------------------------------------------------------------\n",
      "DATALOADER:0 TEST RESULTS\n",
      "{'test_acc': tensor(0.6204, device='cuda:0'),\n",
      " 'test_loss': tensor(1.0782, device='cuda:0')}\n",
      "--------------------------------------------------------------------------------\n",
      "\n",
      "Testing successfull\n"
     ]
    }
   ],
   "source": [
    "# print the most important arguments given by the user\n",
    "print('----- MODEL SUMMARY -----')\n",
    "print('Model: LeNet')\n",
    "print('Dataset: Cifar-10')\n",
    "print('Epochs: ' + str(3)) ## AANVULLEN\n",
    "print('K value: 2')\n",
    "print('Learning rate: 1e3 ')\n",
    "print('Batch size: 512')\n",
    "print('-------------------------')\n",
    "\n",
    "    # load the data from the dataloader\n",
    "num_classes, trainloader, valloader, testloader = load_data(\n",
    "       'CIFAR-10', 512, 0\n",
    "    )\n",
    "trainer = pl.Trainer(\n",
    "                        gpus=1 if torch.cuda.is_available() else 0,\n",
    "                        max_epochs=1000,\n",
    "                        progress_bar_refresh_rate=1)\n",
    "\n",
    "# seed for reproducability\n",
    "pl.seed_everything(42)\n",
    "\n",
    "    # initialize the model\n",
    "device = torch.device(\"cuda:0\" if torch.cuda.is_available() else \"cpu\")\n",
    "model = initialize_model('LeNet', num_classes, 1e-3, 2)\n",
    "\n",
    "   \n",
    "# load the saved model\n",
    "print('Loading model..')\n",
    "model.load_state_dict(torch.load('./saved_models/LeNet_save'))\n",
    "print('Model successfully loaded')\n",
    "print('Testing model..')\n",
    "out = trainer.test(model=model, test_dataloaders=testloader)\n",
    "print('Testing successfull')\n",
    "\n",
    "resultDict['LeNet'] = out[0]"
   ]
  },
  {
   "cell_type": "markdown",
   "metadata": {},
   "source": [
    "## Complex LeNet"
   ]
  },
  {
   "cell_type": "code",
   "execution_count": 44,
   "metadata": {},
   "outputs": [
    {
     "name": "stdout",
     "output_type": "stream",
     "text": [
      "----- MODEL SUMMARY -----\n",
      "Model: Complex LeNet\n",
      "Dataset: Cifar-10\n",
      "Epochs: 3\n",
      "K value: 2\n",
      "Learning rate: 1e3 \n",
      "Batch size: 512\n",
      "-------------------------\n",
      "Files already downloaded and verified\n",
      "Files already downloaded and verified\n"
     ]
    },
    {
     "name": "stderr",
     "output_type": "stream",
     "text": [
      "GPU available: True, used: True\n",
      "TPU available: False, using: 0 TPU cores\n",
      "LOCAL_RANK: 0 - CUDA_VISIBLE_DEVICES: [0]\n"
     ]
    },
    {
     "name": "stdout",
     "output_type": "stream",
     "text": [
      "Loading model..\n",
      "Model successfully loaded\n",
      "Testing model..\n"
     ]
    },
    {
     "data": {
      "application/vnd.jupyter.widget-view+json": {
       "model_id": "ec5fcf918a50438085cd917f7cb0c551",
       "version_major": 2,
       "version_minor": 0
      },
      "text/plain": [
       "HBox(children=(HTML(value='Testing'), FloatProgress(value=1.0, bar_style='info', layout=Layout(flex='2'), max=…"
      ]
     },
     "metadata": {},
     "output_type": "display_data"
    },
    {
     "name": "stdout",
     "output_type": "stream",
     "text": [
      "--------------------------------------------------------------------------------\n",
      "DATALOADER:0 TEST RESULTS\n",
      "{'test_acc': tensor(0.4666, device='cuda:0'),\n",
      " 'test_generator_loss': tensor(0.3460, device='cuda:0'),\n",
      " 'test_model_loss': tensor(1.4748, device='cuda:0'),\n",
      " 'test_total-loss': tensor(1.8208, device='cuda:0')}\n",
      "--------------------------------------------------------------------------------\n",
      "\n",
      "Testing successfull\n"
     ]
    }
   ],
   "source": [
    "# print the most important arguments given by the user\n",
    "print('----- MODEL SUMMARY -----')\n",
    "print('Model: Complex LeNet')\n",
    "print('Dataset: Cifar-10')\n",
    "print('K value: 2')\n",
    "print('Learning rate: 1e3 ')\n",
    "print('Batch size: 512')\n",
    "print('-------------------------')\n",
    "\n",
    "    # load the data from the dataloader\n",
    "num_classes, trainloader, valloader, testloader = load_data(\n",
    "       'CIFAR-10', 512, 0\n",
    "    )\n",
    "trainer = pl.Trainer(\n",
    "                        gpus=1 if torch.cuda.is_available() else 0,\n",
    "                        max_epochs=1000,\n",
    "                        progress_bar_refresh_rate=1)\n",
    "\n",
    "# seed for reproducability\n",
    "pl.seed_everything(42)\n",
    "\n",
    "    # initialize the model\n",
    "device = torch.device(\"cuda:0\" if torch.cuda.is_available() else \"cpu\")\n",
    "model = initialize_model('Complex_LeNet', num_classes, 1e-3, 2)\n",
    "\n",
    "   \n",
    "# load the saved model\n",
    "print('Loading model..')\n",
    "model.load_state_dict(torch.load('./saved_models/Complex_LeNet_save'))\n",
    "print('Model successfully loaded')\n",
    "print('Testing model..')\n",
    "out = trainer.test(model=model, test_dataloaders=testloader)\n",
    "print('Testing successfull')\n",
    "\n",
    "resultDict['Complex_LeNet'] = out[0]"
   ]
  },
  {
   "cell_type": "markdown",
   "metadata": {},
   "source": [
    "## ResNet-56"
   ]
  },
  {
   "cell_type": "code",
   "execution_count": 49,
   "metadata": {},
   "outputs": [
    {
     "name": "stdout",
     "output_type": "stream",
     "text": [
      "----- MODEL SUMMARY -----\n",
      "Model: ResNet\n",
      "Dataset: Cifar-100\n",
      "K value: 2\n",
      "Learning rate: 1e3 \n",
      "Batch size: 512\n",
      "-------------------------\n",
      "Files already downloaded and verified\n",
      "Files already downloaded and verified\n"
     ]
    },
    {
     "name": "stderr",
     "output_type": "stream",
     "text": [
      "GPU available: True, used: True\n",
      "TPU available: False, using: 0 TPU cores\n",
      "LOCAL_RANK: 0 - CUDA_VISIBLE_DEVICES: [0]\n"
     ]
    },
    {
     "name": "stdout",
     "output_type": "stream",
     "text": [
      "Loading model..\n",
      "Model successfully loaded\n",
      "Testing model..\n"
     ]
    },
    {
     "data": {
      "application/vnd.jupyter.widget-view+json": {
       "model_id": "1f28ad7cfe8a439ba99b4643c974f1bd",
       "version_major": 2,
       "version_minor": 0
      },
      "text/plain": [
       "HBox(children=(HTML(value='Testing'), FloatProgress(value=1.0, bar_style='info', layout=Layout(flex='2'), max=…"
      ]
     },
     "metadata": {},
     "output_type": "display_data"
    },
    {
     "name": "stdout",
     "output_type": "stream",
     "text": [
      "--------------------------------------------------------------------------------\n",
      "DATALOADER:0 TEST RESULTS\n",
      "{'test_acc': tensor(0.2880, device='cuda:0'),\n",
      " 'test_loss': tensor(3.2084, device='cuda:0')}\n",
      "--------------------------------------------------------------------------------\n",
      "\n",
      "Testing successfull\n"
     ]
    }
   ],
   "source": [
    "# print the most important arguments given by the user\n",
    "print('----- MODEL SUMMARY -----')\n",
    "print('Model: ResNet-56')\n",
    "print('Dataset: Cifar-100')\n",
    "print('K value: 2')\n",
    "print('Learning rate: 1e3 ')\n",
    "print('Batch size: 512')\n",
    "print('-------------------------')\n",
    "\n",
    "    # load the data from the dataloader\n",
    "num_classes, trainloader, valloader, testloader = load_data(\n",
    "       'CIFAR-100', 512, 0\n",
    "    )\n",
    "trainer = pl.Trainer(\n",
    "                        gpus=1 if torch.cuda.is_available() else 0,\n",
    "                        max_epochs=1000,\n",
    "                        progress_bar_refresh_rate=1)\n",
    "\n",
    "# seed for reproducability\n",
    "pl.seed_everything(42)\n",
    "\n",
    "    # initialize the model\n",
    "device = torch.device(\"cuda:0\" if torch.cuda.is_available() else \"cpu\")\n",
    "model = initialize_model('ResNet-56', num_classes, 1e-3, 2)\n",
    "\n",
    "   \n",
    "# load the saved model\n",
    "print('Loading model..')\n",
    "model.load_state_dict(torch.load('./saved_models/ResNet-56_save'))\n",
    "print('Model successfully loaded')\n",
    "print('Testing model..')\n",
    "out = trainer.test(model=model, test_dataloaders=testloader)\n",
    "print('Testing successfull')\n",
    "\n",
    "resultDict['ResNet-56'] = out[0]"
   ]
  },
  {
   "cell_type": "markdown",
   "metadata": {},
   "source": [
    "## Complex ResNet-56"
   ]
  },
  {
   "cell_type": "code",
   "execution_count": 51,
   "metadata": {},
   "outputs": [
    {
     "name": "stdout",
     "output_type": "stream",
     "text": [
      "----- MODEL SUMMARY -----\n",
      "Model: Complex ResNet\n",
      "Dataset: Cifar-100\n",
      "K value: 2\n",
      "Learning rate: 1e3 \n",
      "Batch size: 512\n",
      "-------------------------\n",
      "Files already downloaded and verified\n",
      "Files already downloaded and verified\n"
     ]
    },
    {
     "name": "stderr",
     "output_type": "stream",
     "text": [
      "GPU available: True, used: True\n",
      "TPU available: False, using: 0 TPU cores\n",
      "LOCAL_RANK: 0 - CUDA_VISIBLE_DEVICES: [0]\n"
     ]
    },
    {
     "name": "stdout",
     "output_type": "stream",
     "text": [
      "CLASSES 100\n",
      "Loading model..\n",
      "Model successfully loaded\n",
      "Testing model..\n"
     ]
    },
    {
     "data": {
      "application/vnd.jupyter.widget-view+json": {
       "model_id": "5ff85a1318054712bf57d9492ec9bcbf",
       "version_major": 2,
       "version_minor": 0
      },
      "text/plain": [
       "HBox(children=(HTML(value='Testing'), FloatProgress(value=1.0, bar_style='info', layout=Layout(flex='2'), max=…"
      ]
     },
     "metadata": {},
     "output_type": "display_data"
    },
    {
     "name": "stdout",
     "output_type": "stream",
     "text": [
      "--------------------------------------------------------------------------------\n",
      "DATALOADER:0 TEST RESULTS\n",
      "{'test_acc': tensor(0.1490, device='cuda:0'),\n",
      " 'test_loss': tensor(3.6830, device='cuda:0')}\n",
      "--------------------------------------------------------------------------------\n",
      "\n",
      "Testing successfull\n"
     ]
    }
   ],
   "source": [
    "# print the most important arguments given by the user\n",
    "print('----- MODEL SUMMARY -----')\n",
    "print('Model: Complex ResNet-56')\n",
    "print('Dataset: Cifar-100')\n",
    "print('K value: 2')\n",
    "print('Learning rate: 1e3 ')\n",
    "print('Batch size: 512')\n",
    "print('-------------------------')\n",
    "\n",
    "    # load the data from the dataloader\n",
    "num_classes, trainloader, valloader, testloader = load_data(\n",
    "       'CIFAR-100', 512, 0\n",
    "    )\n",
    "trainer = pl.Trainer(\n",
    "                        gpus=1 if torch.cuda.is_available() else 0,\n",
    "                        max_epochs=1000,\n",
    "                        progress_bar_refresh_rate=1)\n",
    "\n",
    "# seed for reproducability\n",
    "pl.seed_everything(42)\n",
    "\n",
    "    # initialize the model\n",
    "device = torch.device(\"cuda:0\" if torch.cuda.is_available() else \"cpu\")\n",
    "model = initialize_model('Complex_ResNet-56', num_classes, 1e-3, 2)\n",
    "\n",
    "   \n",
    "# load the saved model\n",
    "print('Loading model..')\n",
    "model.load_state_dict(torch.load('./saved_models/Complex_ResNet-56_save'))\n",
    "print('Model successfully loaded')\n",
    "print('Testing model..')\n",
    "out = trainer.test(model=model, test_dataloaders=testloader)\n",
    "print('Testing successfull')\n",
    "\n",
    "resultDict['Complex_ResNet-56'] = out[0]"
   ]
  },
  {
   "cell_type": "markdown",
   "metadata": {},
   "source": [
    "## ResNet-110"
   ]
  },
  {
   "cell_type": "code",
   "execution_count": null,
   "metadata": {},
   "outputs": [],
   "source": [
    "# print the most important arguments given by the user\n",
    "print('----- MODEL SUMMARY -----')\n",
    "print('Model: ResNet-110')\n",
    "print('Dataset: Cifar-100')\n",
    "print('K value: 2')\n",
    "print('Learning rate: 1e3 ')\n",
    "print('Batch size: 512')\n",
    "print('-------------------------')\n",
    "\n",
    "    # load the data from the dataloader\n",
    "num_classes, trainloader, valloader, testloader = load_data(\n",
    "       'CIFAR-100', 512, 0\n",
    "    )\n",
    "trainer = pl.Trainer(\n",
    "                        gpus=1 if torch.cuda.is_available() else 0,\n",
    "                        max_epochs=1000,\n",
    "                        progress_bar_refresh_rate=1)\n",
    "\n",
    "# seed for reproducability\n",
    "pl.seed_everything(42)\n",
    "\n",
    "    # initialize the model\n",
    "device = torch.device(\"cuda:0\" if torch.cuda.is_available() else \"cpu\")\n",
    "model = initialize_model('ResNet-110', num_classes, 1e-3, 2)\n",
    "\n",
    "   \n",
    "# load the saved model\n",
    "print('Loading model..')\n",
    "model.load_state_dict(torch.load('./saved_models/ResNet-110_save'))\n",
    "print('Model successfully loaded')\n",
    "print('Testing model..')\n",
    "out = trainer.test(model=model, test_dataloaders=testloader)\n",
    "print('Testing successfull')\n",
    "\n",
    "resultDict['ResNet-110'] = out[0]"
   ]
  },
  {
   "cell_type": "markdown",
   "metadata": {},
   "source": [
    "## Complex ResNet-110"
   ]
  },
  {
   "cell_type": "code",
   "execution_count": null,
   "metadata": {},
   "outputs": [],
   "source": [
    "# print the most important arguments given by the user\n",
    "print('----- MODEL SUMMARY -----')\n",
    "print('Model: Complex ResNet-110')\n",
    "print('Dataset: Cifar-100')\n",
    "print('K value: 2')\n",
    "print('Learning rate: 1e3 ')\n",
    "print('Batch size: 512')\n",
    "print('-------------------------')\n",
    "\n",
    "    # load the data from the dataloader\n",
    "num_classes, trainloader, valloader, testloader = load_data(\n",
    "       'CIFAR-100', 512, 0\n",
    "    )\n",
    "trainer = pl.Trainer(\n",
    "                        gpus=1 if torch.cuda.is_available() else 0,\n",
    "                        max_epochs=1000,\n",
    "                        progress_bar_refresh_rate=1)\n",
    "\n",
    "# seed for reproducability\n",
    "pl.seed_everything(42)\n",
    "\n",
    "    # initialize the model\n",
    "device = torch.device(\"cuda:0\" if torch.cuda.is_available() else \"cpu\")\n",
    "model = initialize_model('Complex_ResNet-110', num_classes, 1e-3, 2)\n",
    "\n",
    "   \n",
    "# load the saved model\n",
    "print('Loading model..')\n",
    "model.load_state_dict(torch.load('./saved_models/Complex_ResNet-110_save'))\n",
    "print('Model successfully loaded')\n",
    "print('Testing model..')\n",
    "out = trainer.test(model=model, test_dataloaders=testloader)\n",
    "print('Testing successfull')\n",
    "\n",
    "resultDict['ResNet-110'] = out[0]"
   ]
  },
  {
   "cell_type": "markdown",
   "metadata": {},
   "source": [
    "## VGG-16"
   ]
  },
  {
   "cell_type": "code",
   "execution_count": null,
   "metadata": {},
   "outputs": [],
   "source": [
    "# print the most important arguments given by the user\n",
    "print('----- MODEL SUMMARY -----')\n",
    "print('Model: VGG-16')\n",
    "print('Dataset: CUB-200')\n",
    "print('K value: 2')\n",
    "print('Learning rate: 1e3 ')\n",
    "print('Batch size: 256')\n",
    "print('-------------------------')\n",
    "\n",
    "    # load the data from the dataloader\n",
    "num_classes, trainloader, valloader, testloader = load_data(\n",
    "       'CUB-200, 256, 0\n",
    "    )\n",
    "trainer = pl.Trainer(\n",
    "                        gpus=1 if torch.cuda.is_available() else 0,\n",
    "                        max_epochs=1000,\n",
    "                        progress_bar_refresh_rate=1)\n",
    "\n",
    "# seed for reproducability\n",
    "pl.seed_everything(42)\n",
    "\n",
    "    # initialize the model\n",
    "device = torch.device(\"cuda:0\" if torch.cuda.is_available() else \"cpu\")\n",
    "model = initialize_model('VGG-16', num_classes, 1e-3, 2)\n",
    "\n",
    "   \n",
    "# load the saved model\n",
    "print('Loading model..')\n",
    "model.load_state_dict(torch.load('./saved_models/VGG-16_save'))\n",
    "print('Model successfully loaded')\n",
    "print('Testing model..')\n",
    "out = trainer.test(model=model, test_dataloaders=testloader)\n",
    "print('Testing successfull')\n",
    "\n",
    "resultDict['VGG-16'] = out[0]"
   ]
  },
  {
   "cell_type": "markdown",
   "metadata": {},
   "source": [
    "## Complex VGG-16"
   ]
  },
  {
   "cell_type": "code",
   "execution_count": null,
   "metadata": {},
   "outputs": [],
   "source": [
    "# print the most important arguments given by the user\n",
    "print('----- MODEL SUMMARY -----')\n",
    "print('Model: Complex VGG-16')\n",
    "print('Dataset: CUB-200')\n",
    "print('K value: 2')\n",
    "print('Learning rate: 1e3 ')\n",
    "print('Batch size: 256')\n",
    "print('-------------------------')\n",
    "\n",
    "    # load the data from the dataloader\n",
    "num_classes, trainloader, valloader, testloader = load_data(\n",
    "       'CUB-200, 256, 0\n",
    "    )\n",
    "trainer = pl.Trainer(\n",
    "                        gpus=1 if torch.cuda.is_available() else 0,\n",
    "                        max_epochs=1000,\n",
    "                        progress_bar_refresh_rate=1)\n",
    "\n",
    "# seed for reproducability\n",
    "pl.seed_everything(42)\n",
    "\n",
    "    # initialize the model\n",
    "device = torch.device(\"cuda:0\" if torch.cuda.is_available() else \"cpu\")\n",
    "model = initialize_model('Complex VGG-16', num_classes, 1e-3, 2)\n",
    "\n",
    "   \n",
    "# load the saved model\n",
    "print('Loading model..')\n",
    "model.load_state_dict(torch.load('./saved_models/Complex_VGG-16_save'))\n",
    "print('Model successfully loaded')\n",
    "print('Testing model..')\n",
    "out = trainer.test(model=model, test_dataloaders=testloader)\n",
    "print('Testing successfull')\n",
    "\n",
    "resultDict['VGG-16'] = out[0]"
   ]
  }
 ],
 "metadata": {
  "kernelspec": {
   "display_name": "Python 3",
   "language": "python",
   "name": "python3"
  },
  "language_info": {
   "codemirror_mode": {
    "name": "ipython",
    "version": 3
   },
   "file_extension": ".py",
   "mimetype": "text/x-python",
   "name": "python",
   "nbconvert_exporter": "python",
   "pygments_lexer": "ipython3",
   "version": "3.8.6"
  }
 },
 "nbformat": 4,
 "nbformat_minor": 4
}
